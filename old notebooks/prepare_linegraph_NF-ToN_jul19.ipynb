{
 "cells": [
  {
   "cell_type": "code",
   "execution_count": 1,
   "id": "6267a742",
   "metadata": {},
   "outputs": [
    {
     "name": "stderr",
     "output_type": "stream",
     "text": [
      "/home/taznk/COMP4003/venv/lib/python3.11/site-packages/tqdm/auto.py:21: TqdmWarning: IProgress not found. Please update jupyter and ipywidgets. See https://ipywidgets.readthedocs.io/en/stable/user_install.html\n",
      "  from .autonotebook import tqdm as notebook_tqdm\n"
     ]
    }
   ],
   "source": [
    "import pandas as pd\n",
    "import numpy as np\n",
    "import dgl\n",
    "from sklearn.preprocessing import LabelEncoder, StandardScaler\n",
    "import h5py\n",
    "from EGraphSAGE import Preprocessing\n",
    "import networkx as nx \n",
    "from torch_geometric.utils.convert import from_dgl\n"
   ]
  },
  {
   "cell_type": "markdown",
   "id": "3847137d",
   "metadata": {},
   "source": [
    "### Setup"
   ]
  },
  {
   "cell_type": "code",
   "execution_count": 2,
   "id": "03e6bfe2",
   "metadata": {},
   "outputs": [],
   "source": [
    "def to_graph(data: pd.DataFrame):\n",
    "    data['h'] = data['h'].apply(lambda x: np.array(x, dtype=np.float32))\n",
    "    data['Attack'] = data['Attack'].astype(np.int64)\n",
    "    data = data.rename(columns={'h': 'x'})\n",
    "    G = nx.from_pandas_edgelist(data, source='IPV4_SRC_ADDR', \n",
    "                                target='IPV4_DST_ADDR', \n",
    "                                edge_attr=['x', 'Attack'], \n",
    "                                create_using=nx.MultiGraph())\n",
    "    G = G.to_directed()\n",
    "    g = dgl.from_networkx(G, edge_attrs=['x', 'Attack'])\n",
    "    # g = g.line_graph(shared=True)\n",
    "    return g"
   ]
  },
  {
   "cell_type": "code",
   "execution_count": 11,
   "id": "3fde2c7a",
   "metadata": {},
   "outputs": [
    {
     "name": "stderr",
     "output_type": "stream",
     "text": [
      "2753it [36:58,  1.24it/s]\n"
     ]
    }
   ],
   "source": [
    "from tqdm import tqdm\n",
    "\n",
    "# generate chunked dataset (normal flowgraphs first)\n",
    "with h5py.File('interm/NF-IoT_linegraphs.h5', 'w') as f:\n",
    "    for i, chunk in tqdm(\n",
    "        enumerate(pd.read_csv('raw/NF-ToN-IoT-v3.csv', chunksize=10_000))\n",
    "    ):\n",
    "        chunk = Preprocessing._prepare_flows(chunk)\n",
    "        G = to_graph(chunk)\n",
    "        labels = G.edata['Attack']\n",
    "        G = from_dgl(G)\n",
    "        \n",
    "        grp = f.create_group(f\"G_{i}\")\n",
    "        grp.create_dataset(\"G.x\", data=G.x, dtype=np.float32)\n",
    "        grp.create_dataset(\"G.edge_index\", data=G.edge_index, dtype=int)\n",
    "        grp.create_dataset(\"labels\", data=labels, dtype=int)"
   ]
  },
  {
   "cell_type": "code",
   "execution_count": 3,
   "id": "b86335ad",
   "metadata": {},
   "outputs": [
    {
     "data": {
      "text/plain": [
       "array(['Benign', 'scanning', 'dos', 'injection', 'ddos', 'password',\n",
       "       'xss', 'ransomware', 'Backdoor', 'mitm'], dtype=object)"
      ]
     },
     "execution_count": 3,
     "metadata": {},
     "output_type": "execute_result"
    }
   ],
   "source": [
    "from sklearn.utils import class_weight \n",
    "from torch import nn\n",
    "import torch as th\n",
    "\n",
    "classes_df = pd.read_csv('raw/NF-ToN-IoT-v3.csv', dtype='category', usecols=['Attack'])\n",
    "unique_classes = np.array(classes_df['Attack'].unique())\n",
    "\n",
    "# weighted cross entropy loss\n",
    "class_weights = class_weight.compute_class_weight(\n",
    "           class_weight= 'balanced',\n",
    "            classes=unique_classes,\n",
    "            y=classes_df['Attack'])\n",
    "\n",
    "class_weights = th.FloatTensor(class_weights)\n",
    "criterion = nn.CrossEntropyLoss(weight = class_weights)\n",
    "\n",
    "del classes_df # memory risk\n",
    "unique_classes"
   ]
  },
  {
   "cell_type": "code",
   "execution_count": null,
   "id": "69b167d7",
   "metadata": {},
   "outputs": [
    {
     "data": {
      "text/plain": [
       "(20000, 1167694)"
      ]
     },
     "execution_count": 4,
     "metadata": {},
     "output_type": "execute_result"
    }
   ],
   "source": [
    "f = 'raw/NF-ToN-IoT-v3.csv'\n",
    "\n",
    "def load_dgl_line_graph(group_name, ds='interm/NF-IoT_linegraphs.h5'):\n",
    "    with h5py.File(ds, 'r') as f:\n",
    "        grp = f[group_name]\n",
    "\n",
    "        # Load tensors\n",
    "        edge_attr = th.tensor(grp[\"G.x\"][:], dtype=th.float32) \n",
    "        edge_index = th.tensor(grp[\"G.edge_index\"][:], dtype=th.int64)\n",
    "        labels = th.tensor(grp[\"labels\"][:], dtype=th.int64) \n",
    "    \n",
    "    src, dst = edge_index[0], edge_index[1]\n",
    "    num_nodes = max(src.max(), dst.max()).item() + 1\n",
    "\n",
    "    g = dgl.graph((src, dst), num_nodes=num_nodes)\n",
    "    g.edata['x'] = edge_attr\n",
    "    g.edata['Attack'] = labels\n",
    "\n",
    "    tr = dgl.LineGraph(backtracking=False)\n",
    "    g = tr(g)\n",
    "    return g\n",
    "\n",
    "\n",
    "g0 = load_dgl_line_graph('G_0')\n",
    "g0.number_of_nodes(), g0.number_of_edges()"
   ]
  },
  {
   "cell_type": "markdown",
   "id": "db281b4c",
   "metadata": {},
   "source": [
    "### Training"
   ]
  },
  {
   "cell_type": "code",
   "execution_count": 5,
   "id": "5fa23fa1",
   "metadata": {},
   "outputs": [],
   "source": [
    "from torch.utils.data import Dataset\n",
    "from dgl.dataloading import GraphDataLoader\n",
    "import os\n",
    "\n",
    "class GraphDataset(Dataset):\n",
    "    def __init__(self, h5_ds):\n",
    "        self.h5_ds = h5_ds\n",
    "\n",
    "    def __len__(self):\n",
    "        with h5py.File(self.h5_ds, 'r') as ds:\n",
    "            l = len(ds) \n",
    "        return l\n",
    "\n",
    "    def __getitem__(self, idx):\n",
    "        return load_dgl_line_graph(f'G_{idx}')\n",
    " "
   ]
  },
  {
   "cell_type": "code",
   "execution_count": null,
   "id": "c8db51df",
   "metadata": {},
   "outputs": [
    {
     "name": "stdout",
     "output_type": "stream",
     "text": [
      "epoch 1/2\n"
     ]
    },
    {
     "name": "stderr",
     "output_type": "stream",
     "text": [
      "  0%|          | 0/28 [00:00<?, ?it/s]"
     ]
    },
    {
     "name": "stderr",
     "output_type": "stream",
     "text": [
      "  0%|          | 0/28 [00:49<?, ?it/s]\n"
     ]
    },
    {
     "ename": "KeyboardInterrupt",
     "evalue": "",
     "output_type": "error",
     "traceback": [
      "\u001b[31m---------------------------------------------------------------------------\u001b[39m",
      "\u001b[31mKeyboardInterrupt\u001b[39m                         Traceback (most recent call last)",
      "\u001b[36mCell\u001b[39m\u001b[36m \u001b[39m\u001b[32mIn[6]\u001b[39m\u001b[32m, line 44\u001b[39m\n\u001b[32m     42\u001b[39m \u001b[38;5;28;01mfor\u001b[39;00m epoch \u001b[38;5;129;01min\u001b[39;00m \u001b[38;5;28mrange\u001b[39m(\u001b[32m2\u001b[39m):\n\u001b[32m     43\u001b[39m     \u001b[38;5;28mprint\u001b[39m(\u001b[33mf\u001b[39m\u001b[33m'\u001b[39m\u001b[33mepoch \u001b[39m\u001b[38;5;132;01m{\u001b[39;00mepoch+\u001b[32m1\u001b[39m\u001b[38;5;132;01m}\u001b[39;00m\u001b[33m/2\u001b[39m\u001b[33m'\u001b[39m)\n\u001b[32m---> \u001b[39m\u001b[32m44\u001b[39m     m = \u001b[43mtrain_one_epoch\u001b[49m\u001b[43m(\u001b[49m\n\u001b[32m     45\u001b[39m \u001b[43m        \u001b[49m\u001b[43mmodel\u001b[49m\u001b[43m=\u001b[49m\u001b[43mGraphSAGE\u001b[49m\u001b[43m(\u001b[49m\n\u001b[32m     46\u001b[39m \u001b[43m            \u001b[49m\u001b[43min_channels\u001b[49m\u001b[43m=\u001b[49m\u001b[43mg0\u001b[49m\u001b[43m.\u001b[49m\u001b[43mndata\u001b[49m\u001b[43m[\u001b[49m\u001b[33;43m'\u001b[39;49m\u001b[33;43mx\u001b[39;49m\u001b[33;43m'\u001b[39;49m\u001b[43m]\u001b[49m\u001b[43m.\u001b[49m\u001b[43mshape\u001b[49m\u001b[43m[\u001b[49m\u001b[32;43m1\u001b[39;49m\u001b[43m]\u001b[49m\u001b[43m,\u001b[49m\n\u001b[32m     47\u001b[39m \u001b[43m            \u001b[49m\u001b[43mhidden_channels\u001b[49m\u001b[43m=\u001b[49m\u001b[32;43m64\u001b[39;49m\u001b[43m,\u001b[49m\u001b[43m \u001b[49m\u001b[38;5;66;43;03m# 128 in original EGraphSAGE paper\u001b[39;49;00m\n\u001b[32m     48\u001b[39m \u001b[43m            \u001b[49m\u001b[43mnum_layers\u001b[49m\u001b[43m=\u001b[49m\u001b[32;43m2\u001b[39;49m\u001b[43m,\u001b[49m\n\u001b[32m     49\u001b[39m \u001b[43m            \u001b[49m\u001b[43mout_channels\u001b[49m\u001b[43m=\u001b[49m\u001b[38;5;28;43mlen\u001b[39;49m\u001b[43m(\u001b[49m\u001b[43munique_classes\u001b[49m\u001b[43m)\u001b[49m\u001b[43m,\u001b[49m\u001b[43m \u001b[49m\u001b[38;5;66;43;03m#  assumes ordered ?\u001b[39;49;00m\n\u001b[32m     50\u001b[39m \u001b[43m            \u001b[49m\u001b[43mdropout\u001b[49m\u001b[43m=\u001b[49m\u001b[32;43m0.2\u001b[39;49m\n\u001b[32m     51\u001b[39m \u001b[43m        \u001b[49m\u001b[43m)\u001b[49m\u001b[43m,\u001b[49m\n\u001b[32m     52\u001b[39m \u001b[43m        \u001b[49m\u001b[43mloader\u001b[49m\u001b[43m=\u001b[49m\u001b[43mloader\u001b[49m\u001b[43m,\u001b[49m\n\u001b[32m     53\u001b[39m \u001b[43m        \u001b[49m\u001b[43mcriterion\u001b[49m\u001b[43m=\u001b[49m\u001b[43mcriterion\u001b[49m\n\u001b[32m     54\u001b[39m \n\u001b[32m     55\u001b[39m \u001b[43m    \u001b[49m\u001b[43m)\u001b[49m  \n\u001b[32m     56\u001b[39m     \u001b[38;5;28mprint\u001b[39m(m)\n\u001b[32m     57\u001b[39m     metrics.append(m)\n",
      "\u001b[36mCell\u001b[39m\u001b[36m \u001b[39m\u001b[32mIn[6]\u001b[39m\u001b[32m, line 14\u001b[39m, in \u001b[36mtrain_one_epoch\u001b[39m\u001b[34m(model, loader, criterion, train)\u001b[39m\n\u001b[32m     10\u001b[39m model.train()\n\u001b[32m     12\u001b[39m losses, test_losses = [], []\n\u001b[32m---> \u001b[39m\u001b[32m14\u001b[39m \u001b[43m\u001b[49m\u001b[38;5;28;43;01mfor\u001b[39;49;00m\u001b[43m \u001b[49m\u001b[43mG\u001b[49m\u001b[43m \u001b[49m\u001b[38;5;129;43;01min\u001b[39;49;00m\u001b[43m \u001b[49m\u001b[43mtqdm\u001b[49m\u001b[43m(\u001b[49m\u001b[43mloader\u001b[49m\u001b[43m)\u001b[49m\u001b[43m:\u001b[49m\n\u001b[32m     15\u001b[39m \n\u001b[32m     16\u001b[39m \u001b[43m    \u001b[49m\u001b[38;5;66;43;03m# test/train masks\u001b[39;49;00m\n\u001b[32m     17\u001b[39m \u001b[43m    \u001b[49m\u001b[43msize\u001b[49m\u001b[43m \u001b[49m\u001b[43m=\u001b[49m\u001b[43m \u001b[49m\u001b[43mG\u001b[49m\u001b[43m.\u001b[49m\u001b[43mnumber_of_nodes\u001b[49m\u001b[43m(\u001b[49m\u001b[43m)\u001b[49m\n\u001b[32m     18\u001b[39m \u001b[43m    \u001b[49m\u001b[43mtrain_mask\u001b[49m\u001b[43m \u001b[49m\u001b[43m=\u001b[49m\u001b[43m \u001b[49m\u001b[43mnp\u001b[49m\u001b[43m.\u001b[49m\u001b[43mzeros\u001b[49m\u001b[43m(\u001b[49m\u001b[43msize\u001b[49m\u001b[43m)\u001b[49m\n",
      "\u001b[36mFile \u001b[39m\u001b[32m~/NIDS-HPO/venv/lib/python3.11/site-packages/tqdm/std.py:1181\u001b[39m, in \u001b[36mtqdm.__iter__\u001b[39m\u001b[34m(self)\u001b[39m\n\u001b[32m   1178\u001b[39m time = \u001b[38;5;28mself\u001b[39m._time\n\u001b[32m   1180\u001b[39m \u001b[38;5;28;01mtry\u001b[39;00m:\n\u001b[32m-> \u001b[39m\u001b[32m1181\u001b[39m \u001b[43m    \u001b[49m\u001b[38;5;28;43;01mfor\u001b[39;49;00m\u001b[43m \u001b[49m\u001b[43mobj\u001b[49m\u001b[43m \u001b[49m\u001b[38;5;129;43;01min\u001b[39;49;00m\u001b[43m \u001b[49m\u001b[43miterable\u001b[49m\u001b[43m:\u001b[49m\n\u001b[32m   1182\u001b[39m \u001b[43m        \u001b[49m\u001b[38;5;28;43;01myield\u001b[39;49;00m\u001b[43m \u001b[49m\u001b[43mobj\u001b[49m\n\u001b[32m   1183\u001b[39m \u001b[43m        \u001b[49m\u001b[38;5;66;43;03m# Update and possibly print the progressbar.\u001b[39;49;00m\n\u001b[32m   1184\u001b[39m \u001b[43m        \u001b[49m\u001b[38;5;66;43;03m# Note: does not call self.update(1) for speed optimisation.\u001b[39;49;00m\n",
      "\u001b[36mFile \u001b[39m\u001b[32m~/NIDS-HPO/venv/lib/python3.11/site-packages/torch/utils/data/dataloader.py:630\u001b[39m, in \u001b[36m_BaseDataLoaderIter.__next__\u001b[39m\u001b[34m(self)\u001b[39m\n\u001b[32m    627\u001b[39m \u001b[38;5;28;01mif\u001b[39;00m \u001b[38;5;28mself\u001b[39m._sampler_iter \u001b[38;5;129;01mis\u001b[39;00m \u001b[38;5;28;01mNone\u001b[39;00m:\n\u001b[32m    628\u001b[39m     \u001b[38;5;66;03m# TODO(https://github.com/pytorch/pytorch/issues/76750)\u001b[39;00m\n\u001b[32m    629\u001b[39m     \u001b[38;5;28mself\u001b[39m._reset()  \u001b[38;5;66;03m# type: ignore[call-arg]\u001b[39;00m\n\u001b[32m--> \u001b[39m\u001b[32m630\u001b[39m data = \u001b[38;5;28;43mself\u001b[39;49m\u001b[43m.\u001b[49m\u001b[43m_next_data\u001b[49m\u001b[43m(\u001b[49m\u001b[43m)\u001b[49m\n\u001b[32m    631\u001b[39m \u001b[38;5;28mself\u001b[39m._num_yielded += \u001b[32m1\u001b[39m\n\u001b[32m    632\u001b[39m \u001b[38;5;28;01mif\u001b[39;00m \u001b[38;5;28mself\u001b[39m._dataset_kind == _DatasetKind.Iterable \u001b[38;5;129;01mand\u001b[39;00m \\\n\u001b[32m    633\u001b[39m         \u001b[38;5;28mself\u001b[39m._IterableDataset_len_called \u001b[38;5;129;01mis\u001b[39;00m \u001b[38;5;129;01mnot\u001b[39;00m \u001b[38;5;28;01mNone\u001b[39;00m \u001b[38;5;129;01mand\u001b[39;00m \\\n\u001b[32m    634\u001b[39m         \u001b[38;5;28mself\u001b[39m._num_yielded > \u001b[38;5;28mself\u001b[39m._IterableDataset_len_called:\n",
      "\u001b[36mFile \u001b[39m\u001b[32m~/NIDS-HPO/venv/lib/python3.11/site-packages/torch/utils/data/dataloader.py:673\u001b[39m, in \u001b[36m_SingleProcessDataLoaderIter._next_data\u001b[39m\u001b[34m(self)\u001b[39m\n\u001b[32m    671\u001b[39m \u001b[38;5;28;01mdef\u001b[39;00m\u001b[38;5;250m \u001b[39m\u001b[34m_next_data\u001b[39m(\u001b[38;5;28mself\u001b[39m):\n\u001b[32m    672\u001b[39m     index = \u001b[38;5;28mself\u001b[39m._next_index()  \u001b[38;5;66;03m# may raise StopIteration\u001b[39;00m\n\u001b[32m--> \u001b[39m\u001b[32m673\u001b[39m     data = \u001b[38;5;28;43mself\u001b[39;49m\u001b[43m.\u001b[49m\u001b[43m_dataset_fetcher\u001b[49m\u001b[43m.\u001b[49m\u001b[43mfetch\u001b[49m\u001b[43m(\u001b[49m\u001b[43mindex\u001b[49m\u001b[43m)\u001b[49m  \u001b[38;5;66;03m# may raise StopIteration\u001b[39;00m\n\u001b[32m    674\u001b[39m     \u001b[38;5;28;01mif\u001b[39;00m \u001b[38;5;28mself\u001b[39m._pin_memory:\n\u001b[32m    675\u001b[39m         data = _utils.pin_memory.pin_memory(data, \u001b[38;5;28mself\u001b[39m._pin_memory_device)\n",
      "\u001b[36mFile \u001b[39m\u001b[32m~/NIDS-HPO/venv/lib/python3.11/site-packages/torch/utils/data/_utils/fetch.py:52\u001b[39m, in \u001b[36m_MapDatasetFetcher.fetch\u001b[39m\u001b[34m(self, possibly_batched_index)\u001b[39m\n\u001b[32m     50\u001b[39m         data = \u001b[38;5;28mself\u001b[39m.dataset.__getitems__(possibly_batched_index)\n\u001b[32m     51\u001b[39m     \u001b[38;5;28;01melse\u001b[39;00m:\n\u001b[32m---> \u001b[39m\u001b[32m52\u001b[39m         data = \u001b[43m[\u001b[49m\u001b[38;5;28;43mself\u001b[39;49m\u001b[43m.\u001b[49m\u001b[43mdataset\u001b[49m\u001b[43m[\u001b[49m\u001b[43midx\u001b[49m\u001b[43m]\u001b[49m\u001b[43m \u001b[49m\u001b[38;5;28;43;01mfor\u001b[39;49;00m\u001b[43m \u001b[49m\u001b[43midx\u001b[49m\u001b[43m \u001b[49m\u001b[38;5;129;43;01min\u001b[39;49;00m\u001b[43m \u001b[49m\u001b[43mpossibly_batched_index\u001b[49m\u001b[43m]\u001b[49m\n\u001b[32m     53\u001b[39m \u001b[38;5;28;01melse\u001b[39;00m:\n\u001b[32m     54\u001b[39m     data = \u001b[38;5;28mself\u001b[39m.dataset[possibly_batched_index]\n",
      "\u001b[36mFile \u001b[39m\u001b[32m~/NIDS-HPO/venv/lib/python3.11/site-packages/torch/utils/data/_utils/fetch.py:52\u001b[39m, in \u001b[36m<listcomp>\u001b[39m\u001b[34m(.0)\u001b[39m\n\u001b[32m     50\u001b[39m         data = \u001b[38;5;28mself\u001b[39m.dataset.__getitems__(possibly_batched_index)\n\u001b[32m     51\u001b[39m     \u001b[38;5;28;01melse\u001b[39;00m:\n\u001b[32m---> \u001b[39m\u001b[32m52\u001b[39m         data = [\u001b[38;5;28;43mself\u001b[39;49m\u001b[43m.\u001b[49m\u001b[43mdataset\u001b[49m\u001b[43m[\u001b[49m\u001b[43midx\u001b[49m\u001b[43m]\u001b[49m \u001b[38;5;28;01mfor\u001b[39;00m idx \u001b[38;5;129;01min\u001b[39;00m possibly_batched_index]\n\u001b[32m     53\u001b[39m \u001b[38;5;28;01melse\u001b[39;00m:\n\u001b[32m     54\u001b[39m     data = \u001b[38;5;28mself\u001b[39m.dataset[possibly_batched_index]\n",
      "\u001b[36mCell\u001b[39m\u001b[36m \u001b[39m\u001b[32mIn[5]\u001b[39m\u001b[32m, line 15\u001b[39m, in \u001b[36mGraphDataset.__getitem__\u001b[39m\u001b[34m(self, idx)\u001b[39m\n\u001b[32m     14\u001b[39m \u001b[38;5;28;01mdef\u001b[39;00m\u001b[38;5;250m \u001b[39m\u001b[34m__getitem__\u001b[39m(\u001b[38;5;28mself\u001b[39m, idx):\n\u001b[32m---> \u001b[39m\u001b[32m15\u001b[39m     \u001b[38;5;28;01mreturn\u001b[39;00m \u001b[43mload_dgl_line_graph\u001b[49m\u001b[43m(\u001b[49m\u001b[33;43mf\u001b[39;49m\u001b[33;43m'\u001b[39;49m\u001b[33;43mG_\u001b[39;49m\u001b[38;5;132;43;01m{\u001b[39;49;00m\u001b[43midx\u001b[49m\u001b[38;5;132;43;01m}\u001b[39;49;00m\u001b[33;43m'\u001b[39;49m\u001b[43m)\u001b[49m\n",
      "\u001b[36mCell\u001b[39m\u001b[36m \u001b[39m\u001b[32mIn[4]\u001b[39m\u001b[32m, line 20\u001b[39m, in \u001b[36mload_dgl_line_graph\u001b[39m\u001b[34m(group_name, ds)\u001b[39m\n\u001b[32m     17\u001b[39m g.edata[\u001b[33m'\u001b[39m\u001b[33mAttack\u001b[39m\u001b[33m'\u001b[39m] = labels\n\u001b[32m     19\u001b[39m tr = dgl.LineGraph(backtracking=\u001b[38;5;28;01mFalse\u001b[39;00m)\n\u001b[32m---> \u001b[39m\u001b[32m20\u001b[39m g = \u001b[43mtr\u001b[49m\u001b[43m(\u001b[49m\u001b[43mg\u001b[49m\u001b[43m)\u001b[49m\n\u001b[32m     21\u001b[39m \u001b[38;5;28;01mreturn\u001b[39;00m g\n",
      "\u001b[36mFile \u001b[39m\u001b[32m~/NIDS-HPO/venv/lib/python3.11/site-packages/dgl/transforms/module.py:980\u001b[39m, in \u001b[36mLineGraph.__call__\u001b[39m\u001b[34m(self, g)\u001b[39m\n\u001b[32m    979\u001b[39m \u001b[38;5;28;01mdef\u001b[39;00m\u001b[38;5;250m \u001b[39m\u001b[34m__call__\u001b[39m(\u001b[38;5;28mself\u001b[39m, g):\n\u001b[32m--> \u001b[39m\u001b[32m980\u001b[39m     \u001b[38;5;28;01mreturn\u001b[39;00m \u001b[43mfunctional\u001b[49m\u001b[43m.\u001b[49m\u001b[43mline_graph\u001b[49m\u001b[43m(\u001b[49m\n\u001b[32m    981\u001b[39m \u001b[43m        \u001b[49m\u001b[43mg\u001b[49m\u001b[43m,\u001b[49m\u001b[43m \u001b[49m\u001b[43mbacktracking\u001b[49m\u001b[43m=\u001b[49m\u001b[38;5;28;43mself\u001b[39;49m\u001b[43m.\u001b[49m\u001b[43mbacktracking\u001b[49m\u001b[43m,\u001b[49m\u001b[43m \u001b[49m\u001b[43mshared\u001b[49m\u001b[43m=\u001b[49m\u001b[38;5;28;43;01mTrue\u001b[39;49;00m\n\u001b[32m    982\u001b[39m \u001b[43m    \u001b[49m\u001b[43m)\u001b[49m\n",
      "\u001b[36mFile \u001b[39m\u001b[32m~/NIDS-HPO/venv/lib/python3.11/site-packages/dgl/transforms/functional.py:1122\u001b[39m, in \u001b[36mline_graph\u001b[39m\u001b[34m(g, backtracking, shared)\u001b[39m\n\u001b[32m   1118\u001b[39m \u001b[38;5;28;01massert\u001b[39;00m g.is_homogeneous, \u001b[33m\"\u001b[39m\u001b[33monly homogeneous graph is supported\u001b[39m\u001b[33m\"\u001b[39m\n\u001b[32m   1120\u001b[39m dev = g.device\n\u001b[32m   1121\u001b[39m lg = DGLGraph(\n\u001b[32m-> \u001b[39m\u001b[32m1122\u001b[39m     \u001b[43m_CAPI_DGLHeteroLineGraph\u001b[49m\u001b[43m(\u001b[49m\u001b[43mg\u001b[49m\u001b[43m.\u001b[49m\u001b[43m_graph\u001b[49m\u001b[43m.\u001b[49m\u001b[43mcopy_to\u001b[49m\u001b[43m(\u001b[49m\u001b[43mnd\u001b[49m\u001b[43m.\u001b[49m\u001b[43mcpu\u001b[49m\u001b[43m(\u001b[49m\u001b[43m)\u001b[49m\u001b[43m)\u001b[49m\u001b[43m,\u001b[49m\u001b[43m \u001b[49m\u001b[43mbacktracking\u001b[49m\u001b[43m)\u001b[49m\n\u001b[32m   1123\u001b[39m )\n\u001b[32m   1124\u001b[39m lg = lg.to(dev)\n\u001b[32m   1125\u001b[39m \u001b[38;5;28;01mif\u001b[39;00m shared:\n",
      "\u001b[36mFile \u001b[39m\u001b[32mdgl/_ffi/_cython/./function.pxi:296\u001b[39m, in \u001b[36mdgl._ffi._cy3.core.FunctionBase.__call__\u001b[39m\u001b[34m()\u001b[39m\n",
      "\u001b[36mFile \u001b[39m\u001b[32mdgl/_ffi/_cython/./function.pxi:172\u001b[39m, in \u001b[36mdgl._ffi._cy3.core.make_ret\u001b[39m\u001b[34m()\u001b[39m\n",
      "\u001b[36mFile \u001b[39m\u001b[32mdgl/_ffi/_cython/./object.pxi:25\u001b[39m, in \u001b[36mdgl._ffi._cy3.core.make_ret_object\u001b[39m\u001b[34m()\u001b[39m\n",
      "\u001b[36mFile \u001b[39m\u001b[32m~/NIDS-HPO/venv/lib/python3.11/site-packages/dgl/heterograph_index.py:27\u001b[39m, in \u001b[36mHeteroGraphIndex.__new__\u001b[39m\u001b[34m(cls)\u001b[39m\n\u001b[32m     18\u001b[39m \u001b[38;5;129m@register_object\u001b[39m(\u001b[33m\"\u001b[39m\u001b[33mgraph.HeteroGraph\u001b[39m\u001b[33m\"\u001b[39m)\n\u001b[32m     19\u001b[39m \u001b[38;5;28;01mclass\u001b[39;00m\u001b[38;5;250m \u001b[39m\u001b[34;01mHeteroGraphIndex\u001b[39;00m(ObjectBase):\n\u001b[32m     20\u001b[39m \u001b[38;5;250m    \u001b[39m\u001b[33;03m\"\"\"HeteroGraph index object.\u001b[39;00m\n\u001b[32m     21\u001b[39m \n\u001b[32m     22\u001b[39m \u001b[33;03m    Note\u001b[39;00m\n\u001b[32m     23\u001b[39m \u001b[33;03m    ----\u001b[39;00m\n\u001b[32m     24\u001b[39m \u001b[33;03m    Do not create GraphIndex directly.\u001b[39;00m\n\u001b[32m     25\u001b[39m \u001b[33;03m    \"\"\"\u001b[39;00m\n\u001b[32m---> \u001b[39m\u001b[32m27\u001b[39m     \u001b[38;5;28;01mdef\u001b[39;00m\u001b[38;5;250m \u001b[39m\u001b[34m__new__\u001b[39m(\u001b[38;5;28mcls\u001b[39m):\n\u001b[32m     28\u001b[39m         obj = ObjectBase.\u001b[34m__new__\u001b[39m(\u001b[38;5;28mcls\u001b[39m)\n\u001b[32m     29\u001b[39m         obj._cache = {}\n",
      "\u001b[31mKeyboardInterrupt\u001b[39m: "
     ]
    }
   ],
   "source": [
    "import torch as th\n",
    "from tqdm import tqdm\n",
    "from EGraphSAGE import Model\n",
    "import torch.nn.functional as F\n",
    "from torch_geometric.nn import GraphSAGE\n",
    "\n",
    "         \n",
    "def train_one_epoch(model, loader, criterion, train=0.8):\n",
    "    optimizer = th.optim.Adam(model.parameters())\n",
    "    model.train()\n",
    "    losses, test_losses = [], []\n",
    "    \n",
    "    for G in tqdm(loader):\n",
    "        \n",
    "        # test/train masks\n",
    "        size = G.number_of_nodes()\n",
    "        train_mask = np.zeros(size)\n",
    "        train_mask[:int(size*train)] = 1\n",
    "        test_mask = ~np.array(train_mask, dtype=bool)\n",
    "        optimizer.zero_grad()\n",
    "        labels =  G.ndata['Attack']\n",
    "        G = from_dgl(G)\n",
    "        pred = model(G.x, G.edge_index)\n",
    "        loss = criterion(pred[train_mask, :], labels[train_mask])\n",
    "        test_loss = criterion(pred[test_mask, :], labels[test_mask])\n",
    "        losses.append(loss)\n",
    "        test_losses.append(test_loss)\n",
    "        del G\n",
    "\n",
    "    return losses, test_losses\n",
    "\n",
    "metrics = []\n",
    "dataset = GraphDataset('interm/NF-IoT_linegraphs.h5')  \n",
    "loader = GraphDataLoader(dataset, batch_size=100, shuffle=False)   \n",
    "for epoch in range(2):\n",
    "    print(f'epoch {epoch+1}/2')\n",
    "    m = train_one_epoch(\n",
    "        model=GraphSAGE(\n",
    "            in_channels=g0.ndata['x'].shape[1],\n",
    "            hidden_channels=64, # 128 in original EGraphSAGE paper\n",
    "            num_layers=2,\n",
    "            out_channels=len(unique_classes), #  assumes ordered ?\n",
    "            dropout=0.2\n",
    "        ),\n",
    "        loader=loader,\n",
    "        criterion=criterion6\n",
    "        \n",
    "    )  \n",
    "    print(m)\n",
    "    metrics.append(m)\n",
    "    \n",
    "    # !! what should be the chunked sizes??\n",
    "    "
   ]
  },
  {
   "cell_type": "code",
   "execution_count": 49,
   "id": "306fe3fe",
   "metadata": {},
   "outputs": [
    {
     "data": {
      "text/plain": [
       "1190494"
      ]
     },
     "execution_count": 49,
     "metadata": {},
     "output_type": "execute_result"
    }
   ],
   "source": [
    "G0.number_of_edges()"
   ]
  }
 ],
 "metadata": {
  "kernelspec": {
   "display_name": "venv",
   "language": "python",
   "name": "python3"
  },
  "language_info": {
   "codemirror_mode": {
    "name": "ipython",
    "version": 3
   },
   "file_extension": ".py",
   "mimetype": "text/x-python",
   "name": "python",
   "nbconvert_exporter": "python",
   "pygments_lexer": "ipython3",
   "version": "3.11.2"
  }
 },
 "nbformat": 4,
 "nbformat_minor": 5
}
