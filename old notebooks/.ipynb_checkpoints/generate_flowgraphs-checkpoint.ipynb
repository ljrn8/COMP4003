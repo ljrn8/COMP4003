{
 "cells": [
  {
   "cell_type": "code",
   "execution_count": null,
   "id": "9e09700f-d0a5-4217-9f0d-81b44bc89ada",
   "metadata": {},
   "outputs": [],
   "source": [
    "import pandas as pd\n",
    "import numpy as np\n",
    "import dgl\n",
    "import networkx as nx\n",
    "import matplotlib.pyplot as plt\n",
    "from pathlib import Path\n",
    "import sklearn"
   ]
  },
  {
   "cell_type": "code",
   "execution_count": null,
   "id": "d9ab6e80-88b5-4d40-ba53-67c9ffc40287",
   "metadata": {},
   "outputs": [],
   "source": [
    "from sklearn.preprocessing import LabelEncoder, StandardScaler\n",
    "\n",
    "def _prepare_flows(df):\n",
    "    data = df\n",
    "    pk_cols = (\n",
    "        'IPV4_SRC_ADDR', 'L4_SRC_PORT', 'IPV4_DST_ADDR', 'L4_DST_PORT'\n",
    "    )\n",
    "    for k in pk_cols:\n",
    "        assert k in data.columns, f'{k} not in columns {data.columns}'\n",
    "        data[k] = data[k].apply(str)\n",
    "        \n",
    "    data['IPV4_SRC_ADDR'] = data['IPV4_SRC_ADDR'] + ':' + data['L4_SRC_PORT']\n",
    "    data['IPV4_DST_ADDR'] = data['IPV4_DST_ADDR'] + ':' + data['L4_DST_PORT']\n",
    "    data.drop(columns=['L4_SRC_PORT','L4_DST_PORT'],inplace=True)\n",
    "\n",
    "    data = data.drop(\"Label\") # binary \n",
    "\n",
    "    df = data \n",
    "    categorical = ['TCP_FLAGS','L7_PROTO','PROTOCOL', \n",
    "                        'ICMP_IPV4_TYPE', 'FTP_COMMAND_RET_CODE', 'Attack']\n",
    "    pk = ['IPV4_SRC_ADDR','IPV4_DST_ADDR']\n",
    "    numerical = [c for c in df.columns if (c not in categorical) and (c not in pk)]\n",
    "\n",
    "    # mean impute infinite/nan\n",
    "    def _check(df):\n",
    "        for c in numerical:\n",
    "            n = (~np.isfinite(df[c])).sum()\n",
    "            if n > 0:\n",
    "                print(n, c)\n",
    "    _check(df)\n",
    "    df[numerical] = df[numerical].replace([np.inf, -np.inf], np.nan)\n",
    "    df[numerical] = df[numerical].fillna(df[numerical].mean())\n",
    "    _check(df)\n",
    "\n",
    "    # paper used labelencoding for all categories\n",
    "    le = LabelEncoder()\n",
    "    for c in categorical:\n",
    "        df[c] = le.fit_transform(df[c])\n",
    "    \n",
    "    # and standradization for the rest\n",
    "    scaler = StandardScaler()\n",
    "    df[numerical] = scaler.fit_transform(df[numerical])\n",
    "\n",
    "    attrs = [c for c in data.columns if c not in (\"IPV4_SRC_ADDR\", \"IPV4_DST_ADDR\")]\n",
    "    data['h'] = data[attrs].values.tolist()\n",
    "    return df\n",
    "\n",
    "def flowgraph_encode(df):\n",
    "    df = _prepare_flows(df)\n",
    "    G = nx.from_pandas_edgelist(\n",
    "            df, \n",
    "            \"IPV4_SRC_ADDR\", \"IPV4_DST_ADDR\", ['h','Attack'],\n",
    "            create_using=nx.MultiGraph())\n",
    "    return G\n"
   ]
  },
  {
   "cell_type": "code",
   "execution_count": null,
   "id": "229b4b65-a18d-4f72-9fd6-2bb895fb6aed",
   "metadata": {},
   "outputs": [],
   "source": [
    "import os\n",
    "\n",
    "d = Path('../raw/') / 'NetFlow_v3_Features.csv'\n",
    "features_df = pd.read_csv(d)\n",
    "flow_features = list(features_df['Feature'])"
   ]
  },
  {
   "cell_type": "code",
   "execution_count": null,
   "id": "64034bb2-33ab-44d1-a0c7-33ec9c6e79b0",
   "metadata": {},
   "outputs": [],
   "source": [
    "os.listdir(d)"
   ]
  },
  {
   "cell_type": "code",
   "execution_count": null,
   "id": "1615e476-55ec-4995-9cf4-56a33f221f88",
   "metadata": {},
   "outputs": [],
   "source": [
    "# only unsw nb15 for now\n",
    "df = pd.read_csv(d / 'NF-UNSW-NB15-v3.csv')\n",
    "G = flowgraph_encode(df)\n",
    "assert G    \n",
    "with open(f\"../../interm/flowgraph_NF-UNSW-NB15-v3.pkl\", \"wb\") as g:\n",
    "    pickle.dump(G, g)"
   ]
  },
  {
   "cell_type": "code",
   "execution_count": null,
   "id": "7a284e7b-06ff-49ca-bedb-931bef804812",
   "metadata": {},
   "outputs": [],
   "source": [
    "del df"
   ]
  },
  {
   "cell_type": "markdown",
   "id": "e859f5e5-2873-410e-9d54-d5d6dc7e0e80",
   "metadata": {},
   "source": [
    "### Memory errors - consider cloud"
   ]
  },
  {
   "cell_type": "code",
   "execution_count": null,
   "id": "d91de8b3-8b2f-4820-b7d8-c7ba8742dcb6",
   "metadata": {},
   "outputs": [
    {
     "name": "stdout",
     "output_type": "stream",
     "text": [
      "['NF-UNSW-NB15-v3.csv', 'NF-BoT-IoT-v3.csv', 'NF-ToN-IoT-v3.csv', 'NF-CICIDS2018-v3.csv']\n",
      "NF-UNSW-NB15-v3.csv\n",
      "loaded\n",
      "NF-BoT-IoT-v3.csv\n"
     ]
    }
   ],
   "source": [
    "\n",
    "d = Path('../raw/')\n",
    "files = os.listdir(d)\n",
    "\n",
    "# smallest first\n",
    "files[1], temp = files[0], files[1]; files[0] = temp\n",
    "files = files[:-1]# features file\n",
    "print(files)\n",
    "\n",
    "\n",
    "columns = {}\n",
    "for f in files:\n",
    "    print(f)\n",
    "    df = pd.read_csv(d / f)\n",
    "    print('loaded')\n",
    "    columns[f] = sorted(list(df.columns))\n",
    "\n",
    "columns"
   ]
  },
  {
   "cell_type": "code",
   "execution_count": 15,
   "id": "c9633742-4cf2-4eab-82eb-8ebd388bbc53",
   "metadata": {},
   "outputs": [
    {
     "name": "stdout",
     "output_type": "stream",
     "text": [
      "['NF-UNSW-NB15-v3.csv', 'NF-BoT-IoT-v3.csv', 'NF-ToN-IoT-v3.csv', 'NF-CICIDS2018-v3.csv', 'NetFlow_v3_Features.csv']\n",
      "NF-UNSW-NB15-v3.csv\n",
      "loaded\n"
     ]
    },
    {
     "ename": "KeyError",
     "evalue": "\"['Label'] not found in axis\"",
     "output_type": "error",
     "traceback": [
      "\u001b[31m---------------------------------------------------------------------------\u001b[39m",
      "\u001b[31mKeyError\u001b[39m                                  Traceback (most recent call last)",
      "\u001b[36mCell\u001b[39m\u001b[36m \u001b[39m\u001b[32mIn[15]\u001b[39m\u001b[32m, line 23\u001b[39m\n\u001b[32m     18\u001b[39m \u001b[38;5;28mprint\u001b[39m(\u001b[33m'\u001b[39m\u001b[33mloaded\u001b[39m\u001b[33m'\u001b[39m)\n\u001b[32m     20\u001b[39m \u001b[38;5;66;03m# NOTE\u001b[39;00m\n\u001b[32m     21\u001b[39m \u001b[38;5;66;03m# assert set(list(df.columns)) == set(flow_features), f\"! {list(df.columns)} != {flow_features}\"\u001b[39;00m\n\u001b[32m---> \u001b[39m\u001b[32m23\u001b[39m G = \u001b[43mflowgraph_encode\u001b[49m\u001b[43m(\u001b[49m\u001b[43mdf\u001b[49m\u001b[43m)\u001b[49m\n\u001b[32m     24\u001b[39m \u001b[38;5;28;01massert\u001b[39;00m G    \n\u001b[32m     25\u001b[39m \u001b[38;5;28;01mwith\u001b[39;00m \u001b[38;5;28mopen\u001b[39m(\u001b[33mf\u001b[39m\u001b[33m\"\u001b[39m\u001b[33m../../interm/flowgraph_\u001b[39m\u001b[38;5;132;01m{\u001b[39;00mf\u001b[38;5;132;01m}\u001b[39;00m\u001b[33m.pkl\u001b[39m\u001b[33m\"\u001b[39m, \u001b[33m\"\u001b[39m\u001b[33mwb\u001b[39m\u001b[33m\"\u001b[39m) \u001b[38;5;28;01mas\u001b[39;00m g:\n",
      "\u001b[36mCell\u001b[39m\u001b[36m \u001b[39m\u001b[32mIn[6]\u001b[39m\u001b[32m, line 49\u001b[39m, in \u001b[36mflowgraph_encode\u001b[39m\u001b[34m(df)\u001b[39m\n\u001b[32m     48\u001b[39m \u001b[38;5;28;01mdef\u001b[39;00m\u001b[38;5;250m \u001b[39m\u001b[34mflowgraph_encode\u001b[39m(df):\n\u001b[32m---> \u001b[39m\u001b[32m49\u001b[39m     df = \u001b[43m_prepare_flows\u001b[49m\u001b[43m(\u001b[49m\u001b[43mdf\u001b[49m\u001b[43m)\u001b[49m\n\u001b[32m     50\u001b[39m     G = nx.from_pandas_edgelist(\n\u001b[32m     51\u001b[39m             df, \n\u001b[32m     52\u001b[39m             \u001b[33m\"\u001b[39m\u001b[33mIPV4_SRC_ADDR\u001b[39m\u001b[33m\"\u001b[39m, \u001b[33m\"\u001b[39m\u001b[33mIPV4_DST_ADDR\u001b[39m\u001b[33m\"\u001b[39m, [\u001b[33m'\u001b[39m\u001b[33mh\u001b[39m\u001b[33m'\u001b[39m,\u001b[33m'\u001b[39m\u001b[33mAttack\u001b[39m\u001b[33m'\u001b[39m],\n\u001b[32m     53\u001b[39m             create_using=nx.MultiGraph())\n\u001b[32m     54\u001b[39m     \u001b[38;5;28;01mreturn\u001b[39;00m G\n",
      "\u001b[36mCell\u001b[39m\u001b[36m \u001b[39m\u001b[32mIn[6]\u001b[39m\u001b[32m, line 16\u001b[39m, in \u001b[36m_prepare_flows\u001b[39m\u001b[34m(df)\u001b[39m\n\u001b[32m     13\u001b[39m data[\u001b[33m'\u001b[39m\u001b[33mIPV4_DST_ADDR\u001b[39m\u001b[33m'\u001b[39m] = data[\u001b[33m'\u001b[39m\u001b[33mIPV4_DST_ADDR\u001b[39m\u001b[33m'\u001b[39m] + \u001b[33m'\u001b[39m\u001b[33m:\u001b[39m\u001b[33m'\u001b[39m + data[\u001b[33m'\u001b[39m\u001b[33mL4_DST_PORT\u001b[39m\u001b[33m'\u001b[39m]\n\u001b[32m     14\u001b[39m data.drop(columns=[\u001b[33m'\u001b[39m\u001b[33mL4_SRC_PORT\u001b[39m\u001b[33m'\u001b[39m,\u001b[33m'\u001b[39m\u001b[33mL4_DST_PORT\u001b[39m\u001b[33m'\u001b[39m],inplace=\u001b[38;5;28;01mTrue\u001b[39;00m)\n\u001b[32m---> \u001b[39m\u001b[32m16\u001b[39m data = \u001b[43mdata\u001b[49m\u001b[43m.\u001b[49m\u001b[43mdrop\u001b[49m\u001b[43m(\u001b[49m\u001b[33;43m\"\u001b[39;49m\u001b[33;43mLabel\u001b[39;49m\u001b[33;43m\"\u001b[39;49m\u001b[43m)\u001b[49m \u001b[38;5;66;03m# binary \u001b[39;00m\n\u001b[32m     18\u001b[39m df = data \n\u001b[32m     19\u001b[39m categorical = [\u001b[33m'\u001b[39m\u001b[33mTCP_FLAGS\u001b[39m\u001b[33m'\u001b[39m,\u001b[33m'\u001b[39m\u001b[33mL7_PROTO\u001b[39m\u001b[33m'\u001b[39m,\u001b[33m'\u001b[39m\u001b[33mPROTOCOL\u001b[39m\u001b[33m'\u001b[39m, \n\u001b[32m     20\u001b[39m                     \u001b[33m'\u001b[39m\u001b[33mICMP_IPV4_TYPE\u001b[39m\u001b[33m'\u001b[39m, \u001b[33m'\u001b[39m\u001b[33mFTP_COMMAND_RET_CODE\u001b[39m\u001b[33m'\u001b[39m, \u001b[33m'\u001b[39m\u001b[33mAttack\u001b[39m\u001b[33m'\u001b[39m]\n",
      "\u001b[36mFile \u001b[39m\u001b[32m~/working/NIDS-HPO/venv/lib/python3.12/site-packages/pandas/core/frame.py:5588\u001b[39m, in \u001b[36mDataFrame.drop\u001b[39m\u001b[34m(self, labels, axis, index, columns, level, inplace, errors)\u001b[39m\n\u001b[32m   5440\u001b[39m \u001b[38;5;28;01mdef\u001b[39;00m\u001b[38;5;250m \u001b[39m\u001b[34mdrop\u001b[39m(\n\u001b[32m   5441\u001b[39m     \u001b[38;5;28mself\u001b[39m,\n\u001b[32m   5442\u001b[39m     labels: IndexLabel | \u001b[38;5;28;01mNone\u001b[39;00m = \u001b[38;5;28;01mNone\u001b[39;00m,\n\u001b[32m   (...)\u001b[39m\u001b[32m   5449\u001b[39m     errors: IgnoreRaise = \u001b[33m\"\u001b[39m\u001b[33mraise\u001b[39m\u001b[33m\"\u001b[39m,\n\u001b[32m   5450\u001b[39m ) -> DataFrame | \u001b[38;5;28;01mNone\u001b[39;00m:\n\u001b[32m   5451\u001b[39m \u001b[38;5;250m    \u001b[39m\u001b[33;03m\"\"\"\u001b[39;00m\n\u001b[32m   5452\u001b[39m \u001b[33;03m    Drop specified labels from rows or columns.\u001b[39;00m\n\u001b[32m   5453\u001b[39m \n\u001b[32m   (...)\u001b[39m\u001b[32m   5586\u001b[39m \u001b[33;03m            weight  1.0     0.8\u001b[39;00m\n\u001b[32m   5587\u001b[39m \u001b[33;03m    \"\"\"\u001b[39;00m\n\u001b[32m-> \u001b[39m\u001b[32m5588\u001b[39m     \u001b[38;5;28;01mreturn\u001b[39;00m \u001b[38;5;28;43msuper\u001b[39;49m\u001b[43m(\u001b[49m\u001b[43m)\u001b[49m\u001b[43m.\u001b[49m\u001b[43mdrop\u001b[49m\u001b[43m(\u001b[49m\n\u001b[32m   5589\u001b[39m \u001b[43m        \u001b[49m\u001b[43mlabels\u001b[49m\u001b[43m=\u001b[49m\u001b[43mlabels\u001b[49m\u001b[43m,\u001b[49m\n\u001b[32m   5590\u001b[39m \u001b[43m        \u001b[49m\u001b[43maxis\u001b[49m\u001b[43m=\u001b[49m\u001b[43maxis\u001b[49m\u001b[43m,\u001b[49m\n\u001b[32m   5591\u001b[39m \u001b[43m        \u001b[49m\u001b[43mindex\u001b[49m\u001b[43m=\u001b[49m\u001b[43mindex\u001b[49m\u001b[43m,\u001b[49m\n\u001b[32m   5592\u001b[39m \u001b[43m        \u001b[49m\u001b[43mcolumns\u001b[49m\u001b[43m=\u001b[49m\u001b[43mcolumns\u001b[49m\u001b[43m,\u001b[49m\n\u001b[32m   5593\u001b[39m \u001b[43m        \u001b[49m\u001b[43mlevel\u001b[49m\u001b[43m=\u001b[49m\u001b[43mlevel\u001b[49m\u001b[43m,\u001b[49m\n\u001b[32m   5594\u001b[39m \u001b[43m        \u001b[49m\u001b[43minplace\u001b[49m\u001b[43m=\u001b[49m\u001b[43minplace\u001b[49m\u001b[43m,\u001b[49m\n\u001b[32m   5595\u001b[39m \u001b[43m        \u001b[49m\u001b[43merrors\u001b[49m\u001b[43m=\u001b[49m\u001b[43merrors\u001b[49m\u001b[43m,\u001b[49m\n\u001b[32m   5596\u001b[39m \u001b[43m    \u001b[49m\u001b[43m)\u001b[49m\n",
      "\u001b[36mFile \u001b[39m\u001b[32m~/working/NIDS-HPO/venv/lib/python3.12/site-packages/pandas/core/generic.py:4807\u001b[39m, in \u001b[36mNDFrame.drop\u001b[39m\u001b[34m(self, labels, axis, index, columns, level, inplace, errors)\u001b[39m\n\u001b[32m   4805\u001b[39m \u001b[38;5;28;01mfor\u001b[39;00m axis, labels \u001b[38;5;129;01min\u001b[39;00m axes.items():\n\u001b[32m   4806\u001b[39m     \u001b[38;5;28;01mif\u001b[39;00m labels \u001b[38;5;129;01mis\u001b[39;00m \u001b[38;5;129;01mnot\u001b[39;00m \u001b[38;5;28;01mNone\u001b[39;00m:\n\u001b[32m-> \u001b[39m\u001b[32m4807\u001b[39m         obj = \u001b[43mobj\u001b[49m\u001b[43m.\u001b[49m\u001b[43m_drop_axis\u001b[49m\u001b[43m(\u001b[49m\u001b[43mlabels\u001b[49m\u001b[43m,\u001b[49m\u001b[43m \u001b[49m\u001b[43maxis\u001b[49m\u001b[43m,\u001b[49m\u001b[43m \u001b[49m\u001b[43mlevel\u001b[49m\u001b[43m=\u001b[49m\u001b[43mlevel\u001b[49m\u001b[43m,\u001b[49m\u001b[43m \u001b[49m\u001b[43merrors\u001b[49m\u001b[43m=\u001b[49m\u001b[43merrors\u001b[49m\u001b[43m)\u001b[49m\n\u001b[32m   4809\u001b[39m \u001b[38;5;28;01mif\u001b[39;00m inplace:\n\u001b[32m   4810\u001b[39m     \u001b[38;5;28mself\u001b[39m._update_inplace(obj)\n",
      "\u001b[36mFile \u001b[39m\u001b[32m~/working/NIDS-HPO/venv/lib/python3.12/site-packages/pandas/core/generic.py:4849\u001b[39m, in \u001b[36mNDFrame._drop_axis\u001b[39m\u001b[34m(self, labels, axis, level, errors, only_slice)\u001b[39m\n\u001b[32m   4847\u001b[39m         new_axis = axis.drop(labels, level=level, errors=errors)\n\u001b[32m   4848\u001b[39m     \u001b[38;5;28;01melse\u001b[39;00m:\n\u001b[32m-> \u001b[39m\u001b[32m4849\u001b[39m         new_axis = \u001b[43maxis\u001b[49m\u001b[43m.\u001b[49m\u001b[43mdrop\u001b[49m\u001b[43m(\u001b[49m\u001b[43mlabels\u001b[49m\u001b[43m,\u001b[49m\u001b[43m \u001b[49m\u001b[43merrors\u001b[49m\u001b[43m=\u001b[49m\u001b[43merrors\u001b[49m\u001b[43m)\u001b[49m\n\u001b[32m   4850\u001b[39m     indexer = axis.get_indexer(new_axis)\n\u001b[32m   4852\u001b[39m \u001b[38;5;66;03m# Case for non-unique axis\u001b[39;00m\n\u001b[32m   4853\u001b[39m \u001b[38;5;28;01melse\u001b[39;00m:\n",
      "\u001b[36mFile \u001b[39m\u001b[32m~/working/NIDS-HPO/venv/lib/python3.12/site-packages/pandas/core/indexes/base.py:7098\u001b[39m, in \u001b[36mIndex.drop\u001b[39m\u001b[34m(self, labels, errors)\u001b[39m\n\u001b[32m   7096\u001b[39m \u001b[38;5;28;01mif\u001b[39;00m mask.any():\n\u001b[32m   7097\u001b[39m     \u001b[38;5;28;01mif\u001b[39;00m errors != \u001b[33m\"\u001b[39m\u001b[33mignore\u001b[39m\u001b[33m\"\u001b[39m:\n\u001b[32m-> \u001b[39m\u001b[32m7098\u001b[39m         \u001b[38;5;28;01mraise\u001b[39;00m \u001b[38;5;167;01mKeyError\u001b[39;00m(\u001b[33mf\u001b[39m\u001b[33m\"\u001b[39m\u001b[38;5;132;01m{\u001b[39;00mlabels[mask].tolist()\u001b[38;5;132;01m}\u001b[39;00m\u001b[33m not found in axis\u001b[39m\u001b[33m\"\u001b[39m)\n\u001b[32m   7099\u001b[39m     indexer = indexer[~mask]\n\u001b[32m   7100\u001b[39m \u001b[38;5;28;01mreturn\u001b[39;00m \u001b[38;5;28mself\u001b[39m.delete(indexer)\n",
      "\u001b[31mKeyError\u001b[39m: \"['Label'] not found in axis\""
     ]
    }
   ],
   "source": [
    "from tqdm import tqdm\n",
    "import pickle \n",
    "\n",
    "for f in files:\n",
    "    print(f)\n",
    "    df = pd.read_csv(d / f)\n",
    "    print('loaded')\n",
    "    \n",
    "    # NOTE\n",
    "    # assert set(list(df.columns)) == set(flow_features), f\"! {list(df.columns)} != {flow_features}\"\n",
    "    \n",
    "    G = flowgraph_encode(df)\n",
    "    assert G    \n",
    "    with open(f\"../../interm/flowgraph_{f}.pkl\", \"wb\") as g:\n",
    "        pickle.dump(G, g)"
   ]
  },
  {
   "cell_type": "code",
   "execution_count": null,
   "id": "c39ceb1f-bdad-47f1-b8f1-230cdcf58657",
   "metadata": {},
   "outputs": [],
   "source": []
  }
 ],
 "metadata": {
  "kernelspec": {
   "display_name": "Python 3 (ipykernel)",
   "language": "python",
   "name": "python3"
  },
  "language_info": {
   "codemirror_mode": {
    "name": "ipython",
    "version": 3
   },
   "file_extension": ".py",
   "mimetype": "text/x-python",
   "name": "python",
   "nbconvert_exporter": "python",
   "pygments_lexer": "ipython3",
   "version": "3.12.3"
  }
 },
 "nbformat": 4,
 "nbformat_minor": 5
}
