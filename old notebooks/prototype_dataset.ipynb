{
 "cells": [
  {
   "cell_type": "code",
   "execution_count": 22,
   "id": "d3d0fb83-4347-4879-8a9f-78586cc277e6",
   "metadata": {},
   "outputs": [],
   "source": [
    "import pandas as pd\n",
    "import numpy as np\n",
    "from EGraphSAGE import Preprocessing, train, Model"
   ]
  },
  {
   "cell_type": "code",
   "execution_count": 23,
   "id": "9b2914b5-6f64-4a56-882f-82336541fd18",
   "metadata": {},
   "outputs": [
    {
     "data": {
      "text/plain": [
       "2365424"
      ]
     },
     "execution_count": 23,
     "metadata": {},
     "output_type": "execute_result"
    }
   ],
   "source": [
    "df = pd.read_csv('../../raw/NF-UNSW-NB15-v3.csv')\n",
    "len(df)"
   ]
  },
  {
   "cell_type": "code",
   "execution_count": 24,
   "id": "fc85e9ec-300f-4d95-bec3-8d638cac7256",
   "metadata": {},
   "outputs": [],
   "source": [
    "minimized_df = df.loc[:len(df) // 20] # 5%\n",
    "del df\n",
    "df = minimized_df"
   ]
  },
  {
   "cell_type": "code",
   "execution_count": 25,
   "id": "87b37602-219a-4909-bd83-f98e033067dc",
   "metadata": {},
   "outputs": [
    {
     "data": {
      "text/plain": [
       "118272"
      ]
     },
     "execution_count": 25,
     "metadata": {},
     "output_type": "execute_result"
    }
   ],
   "source": [
    "len(df)"
   ]
  },
  {
   "cell_type": "code",
   "execution_count": 26,
   "id": "9c28fa82-41e8-40db-b258-341f25cef17c",
   "metadata": {},
   "outputs": [],
   "source": [
    "df.to_csv('../../raw/proto_UNSW.csv')"
   ]
  },
  {
   "cell_type": "code",
   "execution_count": 27,
   "id": "a827a853-21ad-489a-a31b-00c939905c82",
   "metadata": {},
   "outputs": [
    {
     "name": "stdout",
     "output_type": "stream",
     "text": [
      "8911 SRC_TO_DST_SECOND_BYTES\n",
      "8911 DST_TO_SRC_SECOND_BYTES\n"
     ]
    },
    {
     "data": {
      "text/plain": [
       "48"
      ]
     },
     "execution_count": 27,
     "metadata": {},
     "output_type": "execute_result"
    }
   ],
   "source": [
    "import sys\n",
    "\n",
    "G = Preprocessing.flowgraph_encode(df.copy())\n",
    "sys.getsizeof(G)"
   ]
  },
  {
   "cell_type": "code",
   "execution_count": 28,
   "id": "93c85c50-cf76-44e4-8b47-7a80d956d69d",
   "metadata": {
    "collapsed": true,
    "jupyter": {
     "outputs_hidden": true
    }
   },
   "outputs": [
    {
     "ename": "ValueError",
     "evalue": "too many values to unpack (expected 2)",
     "output_type": "error",
     "traceback": [
      "\u001b[31m---------------------------------------------------------------------------\u001b[39m",
      "\u001b[31mValueError\u001b[39m                                Traceback (most recent call last)",
      "\u001b[36mCell\u001b[39m\u001b[36m \u001b[39m\u001b[32mIn[28]\u001b[39m\u001b[32m, line 1\u001b[39m\n\u001b[32m----> \u001b[39m\u001b[32m1\u001b[39m src, dst = G.edges()\n\u001b[32m      2\u001b[39m \u001b[38;5;28mprint\u001b[39m(\u001b[33m\"\u001b[39m\u001b[33mEdges (source -> destination):\u001b[39m\u001b[33m\"\u001b[39m)\n\u001b[32m      3\u001b[39m \u001b[38;5;28;01mfor\u001b[39;00m i, s, d \u001b[38;5;129;01min\u001b[39;00m \u001b[38;5;28menumerate\u001b[39m(\u001b[38;5;28mzip\u001b[39m(src.tolist(), dst.tolist())):\n",
      "\u001b[31mValueError\u001b[39m: too many values to unpack (expected 2)"
     ]
    }
   ],
   "source": [
    "src, dst = G.edges()\n",
    "print(\"Edges (source -> destination):\")\n",
    "for i, s, d in enumerate(zip(src.tolist(), dst.tolist())):\n",
    "    print(f\"  {s} -> {d}\")\n",
    "    if i > 100:\n",
    "        break"
   ]
  },
  {
   "cell_type": "code",
   "execution_count": 34,
   "id": "03ca4ffe-707e-4c1c-99c9-8976a7668e37",
   "metadata": {},
   "outputs": [],
   "source": [
    "import pickle\n",
    "\n",
    "with open('../../interm/proto_graph.pkl', 'wb') as f:\n",
    "    pickle.dump(G, f)"
   ]
  }
 ],
 "metadata": {
  "kernelspec": {
   "display_name": "Python 3 (ipykernel)",
   "language": "python",
   "name": "python3"
  },
  "language_info": {
   "codemirror_mode": {
    "name": "ipython",
    "version": 3
   },
   "file_extension": ".py",
   "mimetype": "text/x-python",
   "name": "python",
   "nbconvert_exporter": "python",
   "pygments_lexer": "ipython3",
   "version": "3.12.3"
  }
 },
 "nbformat": 4,
 "nbformat_minor": 5
}
