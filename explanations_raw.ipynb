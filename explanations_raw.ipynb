{
 "cells": [
  {
   "cell_type": "code",
   "execution_count": 2,
   "id": "fa50379d",
   "metadata": {},
   "outputs": [
    {
     "data": {
      "text/plain": [
       "device(type='cpu')"
      ]
     },
     "execution_count": 2,
     "metadata": {},
     "output_type": "execute_result"
    }
   ],
   "source": [
    "%load_ext autoreload\n",
    "%autoreload 2\n",
    "\n",
    "import pickle \n",
    "import torch as th\n",
    "from torch_geometric.explain import Explainer, CaptumExplainer, DummyExplainer, GNNExplainer\n",
    "import torch.nn.functional as F\n",
    "import torch\n",
    "from torch_geometric.nn.models.basic_gnn import GraphSAGE\n",
    "from torch_geometric.utils import from_dgl\n",
    "import networkx as nx\n",
    "import pandas as pd\n",
    "import numpy as np\n",
    "\n",
    "device = torch.device('cuda' if torch.cuda.is_available() else 'cpu')\n",
    "device"
   ]
  },
  {
   "cell_type": "code",
   "execution_count": 7,
   "id": "985e227e",
   "metadata": {},
   "outputs": [
    {
     "name": "stderr",
     "output_type": "stream",
     "text": [
      "/home/taznk/COMP4003/venv/lib/python3.11/site-packages/tqdm/auto.py:21: TqdmWarning: IProgress not found. Please update jupyter and ipywidgets. See https://ipywidgets.readthedocs.io/en/stable/user_install.html\n",
      "  from .autonotebook import tqdm as notebook_tqdm\n"
     ]
    }
   ],
   "source": [
    "import dgl\n",
    "import numpy as np\n",
    "\n",
    "def get_batch(data):\n",
    "    all_data = data.copy()\n",
    "    while len(all_data) > 0:\n",
    "        if len(all_data) >= 5000:\n",
    "            batch = all_data.sample(5000)\n",
    "            all_data = all_data.drop(batch.index)\n",
    "            yield batch\n",
    "        else:\n",
    "            batch = all_data.copy()\n",
    "            all_data = all_data.drop(batch.index)\n",
    "            yield batch\n",
    "            \n",
    "def to_graph(data):\n",
    "    G = nx.from_pandas_edgelist(data, source='src', \n",
    "                                target='dst', \n",
    "                                edge_attr=['x', 'Attack'], \n",
    "                                create_using=nx.MultiGraph())\n",
    "    \n",
    "    G = G.to_directed()\n",
    "    # NOTE paper also uses 'i' index for each node as an identifier\n",
    "    g = dgl.from_networkx(G, edge_attrs=[ 'x', 'Attack'])\n",
    "    g = g.line_graph(shared=True)\n",
    "    return from_dgl(g) \n",
    "\n",
    "def fidelity(pred_orig, pred_masked, y):\n",
    "    return  (\n",
    "        np.array(pred_orig == y, dtype=int) - np.array(pred_masked == y, dtype=int)\n",
    "    ).mean()"
   ]
  },
  {
   "cell_type": "code",
   "execution_count": null,
   "id": "c0efd0f4",
   "metadata": {},
   "outputs": [
    {
     "data": {
      "text/plain": [
       "49"
      ]
     },
     "execution_count": 4,
     "metadata": {},
     "output_type": "execute_result"
    }
   ],
   "source": [
    "test = pd.read_csv('interm/BoT_test.csv')\n",
    "attrs = [c for c in test.columns if c not in (\"src\", \"dst\", \"Attack\", \"x\")]\n",
    "test['x'] = test[attrs].values.tolist()\n",
    "len(test['x'][0])\n"
   ]
  },
  {
   "cell_type": "code",
   "execution_count": 5,
   "id": "36835a3c",
   "metadata": {},
   "outputs": [
    {
     "name": "stderr",
     "output_type": "stream",
     "text": [
      "/tmp/ipykernel_1108839/2503322102.py:8: FutureWarning: You are using `torch.load` with `weights_only=False` (the current default value), which uses the default pickle module implicitly. It is possible to construct malicious pickle data which will execute arbitrary code during unpickling (See https://github.com/pytorch/pytorch/blob/main/SECURITY.md#untrusted-models for more details). In a future release, the default value for `weights_only` will be flipped to `True`. This limits the functions that could be executed during unpickling. Arbitrary objects will no longer be allowed to be loaded via this mode unless they are explicitly allowlisted by the user via `torch.serialization.add_safe_globals`. We recommend you start setting `weights_only=True` for any use case where you don't have full control of the loaded file. Please open an issue on GitHub for any issues related to this experimental feature.\n",
      "  model.load_state_dict(th.load('interm/GraphSAGE_BoTIoT.pth'))\n"
     ]
    },
    {
     "data": {
      "text/plain": [
       "GraphSAGE(49, 5, num_layers=3)"
      ]
     },
     "execution_count": 5,
     "metadata": {},
     "output_type": "execute_result"
    }
   ],
   "source": [
    "model = GraphSAGE(\n",
    "    49,\n",
    "    hidden_channels=256,\n",
    "    out_channels=5,\n",
    "    num_layers=3,\n",
    ").to(device)\n",
    "\n",
    "model.load_state_dict(th.load('interm/GraphSAGE_BoTIoT.pth'))\n",
    "model.eval()"
   ]
  },
  {
   "cell_type": "markdown",
   "id": "d1a7f589",
   "metadata": {},
   "source": [
    "### GNNEx, DE"
   ]
  },
  {
   "cell_type": "code",
   "execution_count": 8,
   "id": "25b7c070",
   "metadata": {},
   "outputs": [
    {
     "name": "stdout",
     "output_type": "stream",
     "text": [
      "DE\n"
     ]
    },
    {
     "name": "stderr",
     "output_type": "stream",
     "text": [
      "  0%|          | 0/3.0 [00:00<?, ?it/s]"
     ]
    },
    {
     "name": "stderr",
     "output_type": "stream",
     "text": [
      "100%|██████████| 3/3.0 [00:03<00:00,  1.15s/it]\n"
     ]
    },
    {
     "name": "stdout",
     "output_type": "stream",
     "text": [
      "GNNE\n"
     ]
    },
    {
     "name": "stderr",
     "output_type": "stream",
     "text": [
      "100%|██████████| 3/3.0 [02:33<00:00, 51.23s/it]\n"
     ]
    }
   ],
   "source": [
    "import copy\n",
    "from tqdm import tqdm\n",
    "from torch_geometric.data import Batch\n",
    "from torch_geometric.utils import k_hop_subgraph\n",
    "from torch_geometric.explain.algorithm import DummyExplainer\n",
    "from torch_geometric.explain import Explainer, ModelConfig\n",
    "from torch_geometric.explain.algorithm import CaptumExplainer, GNNExplainer, GraphMaskExplainer\n",
    "\n",
    "def expl(explainer, data):\n",
    "    explanations = []\n",
    "    for batch in tqdm(get_batch(data), total=np.ceil(len(data) / 5_000)):\n",
    "        batch_graph = to_graph(batch)\n",
    "        explanations.append(\n",
    "            explainer(\n",
    "                x=batch_graph.x.to(device),\n",
    "                edge_index=batch_graph.edge_index.to(device),\n",
    "            )\n",
    "        )\n",
    "        \n",
    "    return explanations \n",
    "\n",
    "explanations = {}\n",
    "\n",
    "for name, explainer_object in {\n",
    "    'DE': DummyExplainer(),\n",
    "    'GNNE': GNNExplainer(100),\n",
    "    # 'GM': GraphMaskExplainer(2, epochs=5),\n",
    "    # 'IG': CaptumExplainer( 'IntegratedGradients'),\n",
    "    # 'SA': CaptumExplainer('Saliency')\n",
    "}.items():\n",
    "\n",
    "    print(name)\n",
    "    explanations[name] = expl(\n",
    "        data=test,\n",
    "        explainer=Explainer(\n",
    "            model=model,\n",
    "            algorithm=explainer_object,\n",
    "            explanation_type='model',\n",
    "            node_mask_type='attributes',\n",
    "            edge_mask_type=None,\n",
    "            model_config=ModelConfig(\n",
    "                mode='multiclass_classification',\n",
    "                task_level='node',\n",
    "                return_type='raw',\n",
    "            ),\n",
    "        )\n",
    "    )\n",
    "    "
   ]
  },
  {
   "cell_type": "markdown",
   "id": "1ec4f6f5",
   "metadata": {},
   "source": [
    "### IG"
   ]
  },
  {
   "cell_type": "code",
   "execution_count": 9,
   "id": "9b0923a3",
   "metadata": {},
   "outputs": [
    {
     "name": "stderr",
     "output_type": "stream",
     "text": [
      "0it [00:00, ?it/s]"
     ]
    },
    {
     "name": "stderr",
     "output_type": "stream",
     "text": [
      "3it [02:35, 51.83s/it]\n"
     ]
    }
   ],
   "source": [
    "import torch\n",
    "from tqdm import tqdm\n",
    "\n",
    "def integrated_gradients(x, edge_index, model, baseline, steps):\n",
    "    device = x.device\n",
    "    if baseline is None:\n",
    "        baseline = torch.zeros_like(x, device=device)\n",
    "\n",
    "    diff = x - baseline\n",
    "    total_grads = torch.zeros_like(x, device=device)\n",
    "\n",
    "    for alpha in torch.linspace(0.0, 1.0, steps, device=device):\n",
    "        x_scaled = baseline + alpha * diff\n",
    "        x_scaled.requires_grad_(True)\n",
    "\n",
    "        # forward pass\n",
    "        out = model(x_scaled, edge_index)\n",
    "        \n",
    "        # pick the logit for each root node & assume root nodes are first B rows\n",
    "        # batch_size = targets.size(0)\n",
    "        # sel = out[:batch_size, :] \n",
    "        # chosen = sel[torch.arange(batch_size), targets]\n",
    "\n",
    "        # sum to get a scalar and backprop\n",
    "        model.zero_grad()\n",
    "        torch.autograd.backward(out.sum(), retain_graph=True)\n",
    "        grads = x_scaled.grad\n",
    "\n",
    "        total_grads += grads\n",
    "        x_scaled.grad.zero_()\n",
    "\n",
    "    # average gradient then scale by input delta\n",
    "    avg_grads = total_grads / steps\n",
    "    attributions = diff * avg_grads \n",
    "\n",
    "    return attributions\n",
    "\n",
    "\n",
    "model.eval()\n",
    "all_attr, all_delta = [], []\n",
    "explanations['IG'] = []\n",
    "\n",
    "for G in tqdm(get_batch(test)):\n",
    "    G = to_graph(G)\n",
    "    G = G.to(device)\n",
    "    x = G.x\n",
    "    edge_index = G.edge_index\n",
    "\n",
    "    # compute attributions\n",
    "    ig_attr = integrated_gradients(\n",
    "        x=x,\n",
    "        edge_index=edge_index,\n",
    "        # targets=targets,\n",
    "        model=model,\n",
    "        baseline=torch.zeros_like(x),\n",
    "        steps=100\n",
    "    )\n",
    "\n",
    "    explanations['IG'].append(ig_attr)\n"
   ]
  },
  {
   "cell_type": "markdown",
   "id": "6911117a",
   "metadata": {},
   "source": [
    "### Eval"
   ]
  },
  {
   "cell_type": "code",
   "execution_count": null,
   "id": "046c2e4f",
   "metadata": {},
   "outputs": [
    {
     "name": "stderr",
     "output_type": "stream",
     "text": [
      "0it [00:00, ?it/s]"
     ]
    },
    {
     "name": "stderr",
     "output_type": "stream",
     "text": [
      "/tmp/ipykernel_1108839/952155181.py:30: DeprecationWarning: __array__ implementation doesn't accept a copy keyword, so passing copy=False failed. __array__ must implement 'dtype' and 'copy' keyword arguments. To learn more, see the migration guide https://numpy.org/devdocs/numpy_2_0_migration_guide.html#adapting-to-changes-in-the-copy-keyword\n",
      "  np.array(pred_orig == y, dtype=int) - np.array(pred_masked == y, dtype=int)\n",
      "2it [04:08, 123.81s/it]"
     ]
    }
   ],
   "source": [
    "import numpy as np\n",
    "\n",
    "fidelity_plus, fidelity_minus = {}, {}\n",
    "\n",
    "for batch, attr in tqdm(zip(get_batch(test), explanations['IG'])):\n",
    "    G = to_graph(batch)\n",
    "    \n",
    "    G = G.to(device)\n",
    "    x = G.x.clone()\n",
    "    y = G.Attack.clone()\n",
    "    edge_index = G.edge_index\n",
    "    targets = G.Attack\n",
    "\n",
    "    # pred\n",
    "    with torch.no_grad():\n",
    "        out_orig = model(x, edge_index)\n",
    "        pred_orig = out_orig.argmax(dim=1)\n",
    "        \n",
    "    for sparsity_percent in np.arange(0, 0.2, 5e-4):\n",
    "        abs_attr = attr.abs()\n",
    "        k = int(sparsity_percent * x.size(1))\n",
    "        topk_idx = abs_attr.topk(k, dim=1).indices\n",
    "\n",
    "        mask = torch.zeros_like(attr, device=device) \n",
    "        mask.scatter_(1, topk_idx, 1) \n",
    "\n",
    "        # Mask input features\n",
    "        x_masked = x.clone()\n",
    "        x_masked *= mask \n",
    "\n",
    "        # Prediction after masking\n",
    "        with torch.no_grad():\n",
    "            out_masked = model(x_masked, edge_index)\n",
    "            pred_masked = out_masked.argmax(dim=1)\n",
    "            \n",
    "        # TODO also do fid+\n",
    "        fidelity_minus[sparsity_percent] = fidelity(pred_orig, pred_masked, G.Attack)\n",
    "        "
   ]
  },
  {
   "cell_type": "code",
   "execution_count": null,
   "id": "3951180d",
   "metadata": {},
   "outputs": [
    {
     "data": {
      "text/plain": [
       "[<matplotlib.lines.Line2D at 0x7fd87515c910>]"
      ]
     },
     "execution_count": 24,
     "metadata": {},
     "output_type": "execute_result"
    },
    {
     "data": {
      "image/png": "[encoded data removed]",
      "text/plain": [
       "<Figure size 640x480 with 1 Axes>"
      ]
     },
     "metadata": {},
     "output_type": "display_data"
    }
   ],
   "source": [
    "import matplotlib.pyplot as plt\n",
    "\n",
    "plt.plot(*zip(*fidelity_minus.items()))"
   ]
  },
  {
   "cell_type": "markdown",
   "id": "a2964f8d",
   "metadata": {},
   "source": [
    "! sparsity can be inferred from attribution lists - can likely also be computed from sp. percent "
   ]
  },
  {
   "cell_type": "markdown",
   "id": "73ed688d",
   "metadata": {},
   "source": []
  }
 ],
 "metadata": {
  "kernelspec": {
   "display_name": "venv",
   "language": "python",
   "name": "python3"
  },
  "language_info": {
   "codemirror_mode": {
    "name": "ipython",
    "version": 3
   },
   "file_extension": ".py",
   "mimetype": "text/x-python",
   "name": "python",
   "nbconvert_exporter": "python",
   "pygments_lexer": "ipython3",
   "version": "3.11.2"
  }
 },
 "nbformat": 4,
 "nbformat_minor": 5
}
