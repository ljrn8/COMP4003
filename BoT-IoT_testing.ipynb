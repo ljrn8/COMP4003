{
 "cells": [
  {
   "cell_type": "code",
   "execution_count": 1,
   "id": "d366e91f",
   "metadata": {},
   "outputs": [
    {
     "name": "stderr",
     "output_type": "stream",
     "text": [
      "/home/taznk/COMP4003/venv/lib/python3.11/site-packages/tqdm/auto.py:21: TqdmWarning: IProgress not found. Please update jupyter and ipywidgets. See https://ipywidgets.readthedocs.io/en/stable/user_install.html\n",
      "  from .autonotebook import tqdm as notebook_tqdm\n"
     ]
    }
   ],
   "source": [
    "%load_ext autoreload\n",
    "%autoreload 2\n",
    "\n",
    "import pandas as pd\n",
    "import numpy as np\n",
    "import dgl\n",
    "from sklearn.preprocessing import LabelEncoder, StandardScaler\n",
    "import h5py\n",
    "import networkx as nx \n",
    "from torch_geometric.utils.convert import from_dgl\n",
    "import dask.dataframe as dd\n"
   ]
  },
  {
   "cell_type": "markdown",
   "id": "030a8d1c",
   "metadata": {},
   "source": [
    "### Setup"
   ]
  },
  {
   "cell_type": "code",
   "execution_count": 2,
   "id": "3e748897",
   "metadata": {},
   "outputs": [],
   "source": [
    "dtypes = {\n",
    "    'IPV4_SRC_ADDR': 'object',\t                # IPv4 source address\n",
    "    'IPV4_DST_ADDR': 'object',\t                # IPv4 destination address\n",
    "    'L4_SRC_PORT': 'object',\t                # IPv4 source port number\n",
    "    'L4_DST_PORT': 'object',\t                # IPv4 destination port number\n",
    "\n",
    "    'PROTOCOL': 'int32',\t                # IP protocol identifier byte\n",
    "    'L7_PROTO': 'category',\t                # Layer 7 protocol (numeric)\n",
    "    'IN_BYTES': 'int32',\t                # Incoming number of bytes\n",
    "    'OUT_BYTES': 'int32',\t                # Outgoing number of bytes\n",
    "    'IN_PKTS': 'int32',\t                # Incoming number of packets\n",
    "    'OUT_PKTS': 'int32',\t                # Outgoing number of packets\n",
    "    'FLOW_DURATION_MILLISECONDS': 'float32',\t                # Flow duration in milliseconds\n",
    "    'TCP_FLAGS': 'int32',\t                # Cumulative of all TCP flags\n",
    "    'CLIENT_TCP_FLAGS': 'int32',\t                # Cumulative of all client TCP flags\n",
    "    'SERVER_TCP_FLAGS': 'int32',\t                # Cumulative of all server TCP flags\n",
    "    'DURATION_IN': 'float32',\t                # Client to Server stream duration (msec)\n",
    "    'DURATION_OUT': 'float32',\t                # Client to Server stream duration (msec)\n",
    "    'MIN_TTL': 'float32',\t                # Min flow TTL\n",
    "    'MAX_TTL': 'float32',\t                # Max flow TTL\n",
    "    'LONGEST_FLOW_PKT': 'int32',\t            # Longest packet (bytes) of the flow\n",
    "    'SHORTEST_FLOW_PKT': 'int32',\t            # Shortest packet (bytes) of the flow\n",
    "    'MIN_IP_PKT_LEN': 'int32',\t            # Len of the smallest flow IP packet observed\n",
    "    'MAX_IP_PKT_LEN': 'int32',\t            # Len of the largest flow IP packet observed\n",
    "    'SRC_TO_DST_SECOND_BYTES': 'float32',\t            # Src to dst Bytes/sec\n",
    "    'DST_TO_SRC_SECOND_BYTES': 'float32',\t            # Dst to src Bytes/sec\n",
    "    'RETRANSMITTED_IN_BYTES': 'int32',\t            # Number of retransmitted TCP flow bytes (src->dst)\n",
    "    'RETRANSMITTED_IN_PKTS': 'int32',\t            # Number of retransmitted TCP flow packets (src-...\n",
    "    'RETRANSMITTED_OUT_BYTES': 'int32',         # \tNumber of retransmitted TCP flow bytes (dst->src)\n",
    "    'RETRANSMITTED_OUT_PKTS': 'int32',\t            # Number of retransmitted TCP flow packets (dst-...\n",
    "    'SRC_TO_DST_AVG_THROUGHPUT': 'float32',\t            # Src to dst average thpt (bps)\n",
    "    'DST_TO_SRC_AVG_THROUGHPUT': 'float32',         # \tDst to src average thpt (bps)\n",
    "    'NUM_PKTS_UP_TO_128_BYTES': 'int32',\t            # Packets whose IP size <= 128\n",
    "    'NUM_PKTS_128_TO_256_BYTES': 'int32',\t            # Packets whose IP size > 128 and <= 256\n",
    "    'NUM_PKTS_256_TO_512_BYTES': 'int32',\t            # Packets whose IP size > 256 and <= 512\n",
    "    'NUM_PKTS_512_TO_1024_BYTES': 'int32',\t            # Packets whose IP size > 512 and <= 1024\n",
    "    'NUM_PKTS_1024_TO_1514_BYTES': 'int32',\t            # Packets whose IP size >��1024 and <= 1514\n",
    "    'TCP_WIN_MAX_IN': 'int32',\t            # Max TCP Window (src->dst)\n",
    "    'TCP_WIN_MAX_OUT': 'int32',         # \tMax TCP Window (dst->src)\n",
    "\n",
    "    # ?\n",
    "    'ICMP_TYPE': 'category',\t            # ICMP Type * 256 + ICMP code\n",
    "    'ICMP_IPV4_TYPE': 'category',\t            # ICMP Type\n",
    "\n",
    "    'DNS_QUERY_ID': 'float32',\t            #    DNS query transaction Id\n",
    "    'DNS_QUERY_TYPE': 'category',\t        #            DNS query type (e.g. 1=A, 2=NS..)\n",
    "    'DNS_TTL_ANSWER': 'float32',\t        #    TTL of the first A record (if any)\n",
    "    'FTP_COMMAND_RET_CODE': 'category',\t    #    FTP client command return code\n",
    "    'FLOW_START_MILLISECONDS': 'float32',\t#        Flow start timestamp in milliseconds\n",
    "    'FLOW_END_MILLISECONDS': 'float32',\t    #        Flow end timestamp in milliseconds\n",
    "    'SRC_TO_DST_IAT_MIN': 'float32',\t    #    Minimum Inter-Packet Arrval Time (src->dst)\n",
    "    'SRC_TO_DST_IAT_MAX': 'float32',\t    #        Maximum Inter-Packet Arrval Time (src->dst)\n",
    "    'SRC_TO_DST_IAT_AVG': 'float32',\t    #        Average Inter-Packet Arrval Time (src->dst)\n",
    "    'SRC_TO_DST_IAT_STDDEV': 'float32',\t    #        Sandard Deviaion Inter-Packet Arrval Time (src...\n",
    "    'DST_TO_SRC_IAT_MIN': 'float32',\t    #        Minimum Inter-Packet Arrval Time (dst > src)\n",
    "    'DST_TO_SRC_IAT_MAX': 'float32',\t    #        Minimum Inter-Packet Arrval Time (dst > src)\n",
    "    'DST_TO_SRC_IAT_AVG': 'float32',\t    #        Minimum Inter-Packet Arrval Time (dst > src)\n",
    "    'DST_TO_SRC_IAT_STDDEV': 'float32',\t    #        Minimum Inter-Packet Arrval Time (dst > src)\n",
    "    \n",
    "}"
   ]
  },
  {
   "cell_type": "code",
   "execution_count": 3,
   "id": "e5de6e15",
   "metadata": {},
   "outputs": [
    {
     "data": {
      "text/html": [
       "<div>\n",
       "<style scoped>\n",
       "    .dataframe tbody tr th:only-of-type {\n",
       "        vertical-align: middle;\n",
       "    }\n",
       "\n",
       "    .dataframe tbody tr th {\n",
       "        vertical-align: top;\n",
       "    }\n",
       "\n",
       "    .dataframe thead th {\n",
       "        text-align: right;\n",
       "    }\n",
       "</style>\n",
       "<table border=\"1\" class=\"dataframe\">\n",
       "  <thead>\n",
       "    <tr style=\"text-align: right;\">\n",
       "      <th></th>\n",
       "      <th>FLOW_START_MILLISECONDS</th>\n",
       "      <th>FLOW_END_MILLISECONDS</th>\n",
       "      <th>IPV4_SRC_ADDR</th>\n",
       "      <th>L4_SRC_PORT</th>\n",
       "      <th>IPV4_DST_ADDR</th>\n",
       "      <th>L4_DST_PORT</th>\n",
       "      <th>PROTOCOL</th>\n",
       "      <th>L7_PROTO</th>\n",
       "      <th>IN_BYTES</th>\n",
       "      <th>IN_PKTS</th>\n",
       "      <th>...</th>\n",
       "      <th>SRC_TO_DST_IAT_MIN</th>\n",
       "      <th>SRC_TO_DST_IAT_MAX</th>\n",
       "      <th>SRC_TO_DST_IAT_AVG</th>\n",
       "      <th>SRC_TO_DST_IAT_STDDEV</th>\n",
       "      <th>DST_TO_SRC_IAT_MIN</th>\n",
       "      <th>DST_TO_SRC_IAT_MAX</th>\n",
       "      <th>DST_TO_SRC_IAT_AVG</th>\n",
       "      <th>DST_TO_SRC_IAT_STDDEV</th>\n",
       "      <th>Label</th>\n",
       "      <th>Attack</th>\n",
       "    </tr>\n",
       "  </thead>\n",
       "  <tbody>\n",
       "    <tr>\n",
       "      <th>0</th>\n",
       "      <td>1.528104e+12</td>\n",
       "      <td>1.528104e+12</td>\n",
       "      <td>192.168.100.7</td>\n",
       "      <td>365</td>\n",
       "      <td>192.168.100.3</td>\n",
       "      <td>565</td>\n",
       "      <td>17</td>\n",
       "      <td>0.0</td>\n",
       "      <td>238142</td>\n",
       "      <td>5177</td>\n",
       "      <td>...</td>\n",
       "      <td>1.0</td>\n",
       "      <td>30.0</td>\n",
       "      <td>22.0</td>\n",
       "      <td>4.0</td>\n",
       "      <td>0.0</td>\n",
       "      <td>0.0</td>\n",
       "      <td>0.0</td>\n",
       "      <td>0.0</td>\n",
       "      <td>0</td>\n",
       "      <td>Benign</td>\n",
       "    </tr>\n",
       "    <tr>\n",
       "      <th>1</th>\n",
       "      <td>1.528104e+12</td>\n",
       "      <td>1.528104e+12</td>\n",
       "      <td>192.168.100.46</td>\n",
       "      <td>3456</td>\n",
       "      <td>192.168.100.5</td>\n",
       "      <td>80</td>\n",
       "      <td>17</td>\n",
       "      <td>0.0</td>\n",
       "      <td>9015892</td>\n",
       "      <td>9630</td>\n",
       "      <td>...</td>\n",
       "      <td>1.0</td>\n",
       "      <td>28.0</td>\n",
       "      <td>12.0</td>\n",
       "      <td>1.0</td>\n",
       "      <td>1.0</td>\n",
       "      <td>30.0</td>\n",
       "      <td>12.0</td>\n",
       "      <td>2.0</td>\n",
       "      <td>0</td>\n",
       "      <td>Benign</td>\n",
       "    </tr>\n",
       "  </tbody>\n",
       "</table>\n",
       "<p>2 rows × 55 columns</p>\n",
       "</div>"
      ],
      "text/plain": [
       "   FLOW_START_MILLISECONDS  FLOW_END_MILLISECONDS   IPV4_SRC_ADDR L4_SRC_PORT  \\\n",
       "0             1.528104e+12           1.528104e+12   192.168.100.7         365   \n",
       "1             1.528104e+12           1.528104e+12  192.168.100.46        3456   \n",
       "\n",
       "   IPV4_DST_ADDR L4_DST_PORT  PROTOCOL L7_PROTO  IN_BYTES  IN_PKTS  ...  \\\n",
       "0  192.168.100.3         565        17      0.0    238142     5177  ...   \n",
       "1  192.168.100.5          80        17      0.0   9015892     9630  ...   \n",
       "\n",
       "   SRC_TO_DST_IAT_MIN  SRC_TO_DST_IAT_MAX  SRC_TO_DST_IAT_AVG  \\\n",
       "0                 1.0                30.0                22.0   \n",
       "1                 1.0                28.0                12.0   \n",
       "\n",
       "   SRC_TO_DST_IAT_STDDEV  DST_TO_SRC_IAT_MIN  DST_TO_SRC_IAT_MAX  \\\n",
       "0                    4.0                 0.0                 0.0   \n",
       "1                    1.0                 1.0                30.0   \n",
       "\n",
       "   DST_TO_SRC_IAT_AVG  DST_TO_SRC_IAT_STDDEV  Label  Attack  \n",
       "0                 0.0                    0.0      0  Benign  \n",
       "1                12.0                    2.0      0  Benign  \n",
       "\n",
       "[2 rows x 55 columns]"
      ]
     },
     "execution_count": 3,
     "metadata": {},
     "output_type": "execute_result"
    }
   ],
   "source": [
    "df = pd.read_csv('raw/NF-BoT-IoT-v3.csv', dtype=dtypes)\n",
    "df[:2]"
   ]
  },
  {
   "cell_type": "code",
   "execution_count": 4,
   "id": "80496370",
   "metadata": {},
   "outputs": [],
   "source": [
    "data = df\n",
    "data = data.drop(\"Label\", axis=1)  # for binary only"
   ]
  },
  {
   "cell_type": "code",
   "execution_count": 5,
   "id": "1a835aa2",
   "metadata": {},
   "outputs": [
    {
     "data": {
      "text/plain": [
       "array(['Benign', 'DDoS', 'DoS', 'Reconnaissance', 'Theft'], dtype=object)"
      ]
     },
     "execution_count": 5,
     "metadata": {},
     "output_type": "execute_result"
    }
   ],
   "source": [
    "data.Attack.unique()"
   ]
  },
  {
   "cell_type": "code",
   "execution_count": 6,
   "id": "1f29f1c5",
   "metadata": {},
   "outputs": [
    {
     "data": {
      "text/plain": [
       "51989"
      ]
     },
     "execution_count": 6,
     "metadata": {},
     "output_type": "execute_result"
    }
   ],
   "source": [
    "benign = len(data[data.Attack == 'Benign'])\n",
    "benign"
   ]
  },
  {
   "cell_type": "code",
   "execution_count": 7,
   "id": "7c5fd059",
   "metadata": {},
   "outputs": [
    {
     "name": "stdout",
     "output_type": "stream",
     "text": [
      "Benign 51989 5198\n",
      "DDoS 7150882 5198\n",
      "DoS 8034190 5198\n",
      "Reconnaissance 1695132 5198\n",
      "Theft 1615 1615\n"
     ]
    }
   ],
   "source": [
    "# 1:10 mal:benign ratio\n",
    "\n",
    "target = benign // 10\n",
    "df_reduced = pd.DataFrame()\n",
    "\n",
    "for a, group in data.groupby('Attack'):\n",
    "    l = len(group)\n",
    "    group.reset_index()\n",
    "    print(a, l, len(group.iloc[:target])) \n",
    "    df_reduced = pd.concat((df_reduced, group.iloc[:target]))\n",
    "    if a == 'Benign':\n",
    "        df_reduced = pd.concat((df_reduced, group))\n",
    "    "
   ]
  },
  {
   "cell_type": "code",
   "execution_count": 8,
   "id": "03e59e8d",
   "metadata": {},
   "outputs": [
    {
     "data": {
      "text/plain": [
       "(74396, 16933808)"
      ]
     },
     "execution_count": 8,
     "metadata": {},
     "output_type": "execute_result"
    }
   ],
   "source": [
    "len(df_reduced), len(data)"
   ]
  },
  {
   "cell_type": "code",
   "execution_count": 9,
   "id": "e5ae8208",
   "metadata": {},
   "outputs": [],
   "source": [
    "del data"
   ]
  },
  {
   "cell_type": "code",
   "execution_count": 10,
   "id": "cb614530",
   "metadata": {},
   "outputs": [],
   "source": [
    "df_reduced.to_csv('interm/BoT-IoT_reduced.csv', index=False)"
   ]
  },
  {
   "cell_type": "code",
   "execution_count": 11,
   "id": "c2fbb45d",
   "metadata": {},
   "outputs": [],
   "source": [
    "# paper used labelencoding for all categories\n",
    "pk = ['IPV4_SRC_ADDR','IPV4_DST_ADDR']\n",
    "categorical = [\n",
    "    c for c, dtype in dtypes.items() \n",
    "    if dtype=='category' and dtype not in pk\n",
    "] + ['Attack']\n",
    "\n",
    "encoders = {}\n",
    "for c in categorical:\n",
    "    le = LabelEncoder()\n",
    "    df_reduced[c] = le.fit_transform(df_reduced[c].astype(str))\n",
    "    encoders[c] = le"
   ]
  },
  {
   "cell_type": "code",
   "execution_count": 18,
   "id": "d648f683",
   "metadata": {},
   "outputs": [],
   "source": [
    "\n",
    "from sklearn.preprocessing import StandardScaler\n",
    "\n",
    "# and standradization for the rest\n",
    "pk = ['IPV4_DST_ADDR', 'IPV4_SRC_ADDR']\n",
    "numerical = [c for c in df_reduced.columns if (c not in categorical + pk)]\n",
    "df_reduced[numerical] = df_reduced[numerical].astype('float32')\n",
    "df_reduced[numerical] = df_reduced[numerical].replace([np.inf, -np.inf], np.nan)\n",
    "df_reduced[numerical] = df_reduced[numerical].fillna(df_reduced[numerical].mean())\n",
    "    \n",
    "scaler = StandardScaler()\n",
    "df_reduced[numerical] = scaler.fit_transform(df_reduced[numerical])"
   ]
  },
  {
   "cell_type": "code",
   "execution_count": 19,
   "id": "e81b2534",
   "metadata": {},
   "outputs": [
    {
     "data": {
      "text/html": [
       "<div>\n",
       "<style scoped>\n",
       "    .dataframe tbody tr th:only-of-type {\n",
       "        vertical-align: middle;\n",
       "    }\n",
       "\n",
       "    .dataframe tbody tr th {\n",
       "        vertical-align: top;\n",
       "    }\n",
       "\n",
       "    .dataframe thead th {\n",
       "        text-align: right;\n",
       "    }\n",
       "</style>\n",
       "<table border=\"1\" class=\"dataframe\">\n",
       "  <thead>\n",
       "    <tr style=\"text-align: right;\">\n",
       "      <th></th>\n",
       "      <th>FLOW_START_MILLISECONDS</th>\n",
       "      <th>FLOW_END_MILLISECONDS</th>\n",
       "      <th>IPV4_SRC_ADDR</th>\n",
       "      <th>L4_SRC_PORT</th>\n",
       "      <th>IPV4_DST_ADDR</th>\n",
       "      <th>L4_DST_PORT</th>\n",
       "      <th>PROTOCOL</th>\n",
       "      <th>L7_PROTO</th>\n",
       "      <th>IN_BYTES</th>\n",
       "      <th>IN_PKTS</th>\n",
       "      <th>...</th>\n",
       "      <th>SRC_TO_DST_IAT_MAX</th>\n",
       "      <th>SRC_TO_DST_IAT_AVG</th>\n",
       "      <th>SRC_TO_DST_IAT_STDDEV</th>\n",
       "      <th>DST_TO_SRC_IAT_MIN</th>\n",
       "      <th>DST_TO_SRC_IAT_MAX</th>\n",
       "      <th>DST_TO_SRC_IAT_AVG</th>\n",
       "      <th>DST_TO_SRC_IAT_STDDEV</th>\n",
       "      <th>Attack</th>\n",
       "      <th>src</th>\n",
       "      <th>dst</th>\n",
       "    </tr>\n",
       "  </thead>\n",
       "  <tbody>\n",
       "    <tr>\n",
       "      <th>0</th>\n",
       "      <td>1.380989</td>\n",
       "      <td>1.38113</td>\n",
       "      <td>192.168.100.7</td>\n",
       "      <td>-1.045265</td>\n",
       "      <td>192.168.100.3</td>\n",
       "      <td>-0.441081</td>\n",
       "      <td>1.715256</td>\n",
       "      <td>0</td>\n",
       "      <td>-0.019245</td>\n",
       "      <td>4.235564</td>\n",
       "      <td>...</td>\n",
       "      <td>-0.336749</td>\n",
       "      <td>-0.37095</td>\n",
       "      <td>-0.309771</td>\n",
       "      <td>-0.222788</td>\n",
       "      <td>-0.29177</td>\n",
       "      <td>-0.232264</td>\n",
       "      <td>-0.311674</td>\n",
       "      <td>0</td>\n",
       "      <td>192.168.100.7:-1.0452653</td>\n",
       "      <td>192.168.100.3:-0.4410811</td>\n",
       "    </tr>\n",
       "  </tbody>\n",
       "</table>\n",
       "<p>1 rows × 56 columns</p>\n",
       "</div>"
      ],
      "text/plain": [
       "   FLOW_START_MILLISECONDS  FLOW_END_MILLISECONDS  IPV4_SRC_ADDR  L4_SRC_PORT  \\\n",
       "0                 1.380989                1.38113  192.168.100.7    -1.045265   \n",
       "\n",
       "   IPV4_DST_ADDR  L4_DST_PORT  PROTOCOL  L7_PROTO  IN_BYTES   IN_PKTS  ...  \\\n",
       "0  192.168.100.3    -0.441081  1.715256         0 -0.019245  4.235564  ...   \n",
       "\n",
       "   SRC_TO_DST_IAT_MAX  SRC_TO_DST_IAT_AVG  SRC_TO_DST_IAT_STDDEV  \\\n",
       "0           -0.336749            -0.37095              -0.309771   \n",
       "\n",
       "   DST_TO_SRC_IAT_MIN  DST_TO_SRC_IAT_MAX  DST_TO_SRC_IAT_AVG  \\\n",
       "0           -0.222788            -0.29177           -0.232264   \n",
       "\n",
       "   DST_TO_SRC_IAT_STDDEV  Attack                       src  \\\n",
       "0              -0.311674       0  192.168.100.7:-1.0452653   \n",
       "\n",
       "                        dst  \n",
       "0  192.168.100.3:-0.4410811  \n",
       "\n",
       "[1 rows x 56 columns]"
      ]
     },
     "execution_count": 19,
     "metadata": {},
     "output_type": "execute_result"
    }
   ],
   "source": [
    "data = df_reduced\n",
    "\n",
    "data['src'] = data['IPV4_SRC_ADDR'].astype(str) + ':' + data['L4_SRC_PORT'].astype(str)\n",
    "data['dst'] = data['IPV4_DST_ADDR'].astype(str) + ':' + data['L4_DST_PORT'].astype(str)\n",
    "data[:1]"
   ]
  },
  {
   "cell_type": "code",
   "execution_count": 20,
   "id": "92342b0f",
   "metadata": {},
   "outputs": [
    {
     "data": {
      "text/html": [
       "<div>\n",
       "<style scoped>\n",
       "    .dataframe tbody tr th:only-of-type {\n",
       "        vertical-align: middle;\n",
       "    }\n",
       "\n",
       "    .dataframe tbody tr th {\n",
       "        vertical-align: top;\n",
       "    }\n",
       "\n",
       "    .dataframe thead th {\n",
       "        text-align: right;\n",
       "    }\n",
       "</style>\n",
       "<table border=\"1\" class=\"dataframe\">\n",
       "  <thead>\n",
       "    <tr style=\"text-align: right;\">\n",
       "      <th></th>\n",
       "      <th>FLOW_START_MILLISECONDS</th>\n",
       "      <th>FLOW_END_MILLISECONDS</th>\n",
       "      <th>PROTOCOL</th>\n",
       "      <th>L7_PROTO</th>\n",
       "      <th>IN_BYTES</th>\n",
       "      <th>IN_PKTS</th>\n",
       "      <th>OUT_BYTES</th>\n",
       "      <th>OUT_PKTS</th>\n",
       "      <th>TCP_FLAGS</th>\n",
       "      <th>CLIENT_TCP_FLAGS</th>\n",
       "      <th>...</th>\n",
       "      <th>SRC_TO_DST_IAT_MAX</th>\n",
       "      <th>SRC_TO_DST_IAT_AVG</th>\n",
       "      <th>SRC_TO_DST_IAT_STDDEV</th>\n",
       "      <th>DST_TO_SRC_IAT_MIN</th>\n",
       "      <th>DST_TO_SRC_IAT_MAX</th>\n",
       "      <th>DST_TO_SRC_IAT_AVG</th>\n",
       "      <th>DST_TO_SRC_IAT_STDDEV</th>\n",
       "      <th>Attack</th>\n",
       "      <th>src</th>\n",
       "      <th>dst</th>\n",
       "    </tr>\n",
       "  </thead>\n",
       "  <tbody>\n",
       "    <tr>\n",
       "      <th>0</th>\n",
       "      <td>1.380989</td>\n",
       "      <td>1.38113</td>\n",
       "      <td>1.715256</td>\n",
       "      <td>0</td>\n",
       "      <td>-0.019245</td>\n",
       "      <td>4.235564</td>\n",
       "      <td>-0.071896</td>\n",
       "      <td>-0.156309</td>\n",
       "      <td>-1.470286</td>\n",
       "      <td>-0.676841</td>\n",
       "      <td>...</td>\n",
       "      <td>-0.336749</td>\n",
       "      <td>-0.37095</td>\n",
       "      <td>-0.309771</td>\n",
       "      <td>-0.222788</td>\n",
       "      <td>-0.29177</td>\n",
       "      <td>-0.232264</td>\n",
       "      <td>-0.311674</td>\n",
       "      <td>0</td>\n",
       "      <td>192.168.100.7:-1.0452653</td>\n",
       "      <td>192.168.100.3:-0.4410811</td>\n",
       "    </tr>\n",
       "  </tbody>\n",
       "</table>\n",
       "<p>1 rows × 52 columns</p>\n",
       "</div>"
      ],
      "text/plain": [
       "   FLOW_START_MILLISECONDS  FLOW_END_MILLISECONDS  PROTOCOL  L7_PROTO  \\\n",
       "0                 1.380989                1.38113  1.715256         0   \n",
       "\n",
       "   IN_BYTES   IN_PKTS  OUT_BYTES  OUT_PKTS  TCP_FLAGS  CLIENT_TCP_FLAGS  ...  \\\n",
       "0 -0.019245  4.235564  -0.071896 -0.156309  -1.470286         -0.676841  ...   \n",
       "\n",
       "   SRC_TO_DST_IAT_MAX  SRC_TO_DST_IAT_AVG  SRC_TO_DST_IAT_STDDEV  \\\n",
       "0           -0.336749            -0.37095              -0.309771   \n",
       "\n",
       "   DST_TO_SRC_IAT_MIN  DST_TO_SRC_IAT_MAX  DST_TO_SRC_IAT_AVG  \\\n",
       "0           -0.222788            -0.29177           -0.232264   \n",
       "\n",
       "   DST_TO_SRC_IAT_STDDEV  Attack                       src  \\\n",
       "0              -0.311674       0  192.168.100.7:-1.0452653   \n",
       "\n",
       "                        dst  \n",
       "0  192.168.100.3:-0.4410811  \n",
       "\n",
       "[1 rows x 52 columns]"
      ]
     },
     "execution_count": 20,
     "metadata": {},
     "output_type": "execute_result"
    }
   ],
   "source": [
    "data.drop(['IPV4_SRC_ADDR', 'IPV4_DST_ADDR', 'L4_SRC_PORT', 'L4_DST_PORT'], axis=1, inplace=True)\n",
    "data[:1]"
   ]
  },
  {
   "cell_type": "code",
   "execution_count": 21,
   "id": "0695e4ee",
   "metadata": {},
   "outputs": [
    {
     "data": {
      "text/plain": [
       "0           [1.3809889554977417, 1.3811296224594116, 1.715...\n",
       "1           [1.3809889554977417, 1.3811296224594116, 1.715...\n",
       "2           [1.3809889554977417, 1.3811296224594116, -0.50...\n",
       "3           [1.3809889554977417, 1.3811296224594116, 1.715...\n",
       "4           [1.3809889554977417, 1.3811296224594116, -0.50...\n",
       "                                  ...                        \n",
       "16933803    [3.1985068321228027, 3.1984338760375977, -0.50...\n",
       "16933804    [3.1985068321228027, 3.1984338760375977, -0.50...\n",
       "16933805    [3.1985068321228027, 3.1984338760375977, -0.50...\n",
       "16933806    [3.1985068321228027, 3.1984338760375977, -0.50...\n",
       "16933807    [3.1985068321228027, 3.1984338760375977, -0.50...\n",
       "Name: x, Length: 74396, dtype: object"
      ]
     },
     "execution_count": 21,
     "metadata": {},
     "output_type": "execute_result"
    }
   ],
   "source": [
    "attrs = [c for c in df_reduced.columns if c not in (\"src\", \"dst\", \"Attack\")]\n",
    "data['x'] = data[attrs].values.tolist()\n",
    "data['x']"
   ]
  },
  {
   "cell_type": "markdown",
   "id": "02cbdbe5",
   "metadata": {},
   "source": [
    "### Graph encode"
   ]
  },
  {
   "cell_type": "code",
   "execution_count": 22,
   "id": "f3c3f92d",
   "metadata": {},
   "outputs": [
    {
     "data": {
      "text/plain": [
       "(148792, 55473)"
      ]
     },
     "execution_count": 22,
     "metadata": {},
     "output_type": "execute_result"
    }
   ],
   "source": [
    "\n",
    "# edge features, will be node features (x)\n",
    "data['x'] = data['x'].apply(lambda x: np.array(x, dtype=np.float32))\n",
    "\n",
    "G = nx.from_pandas_edgelist(data, source='src', \n",
    "                            target='dst', \n",
    "                            edge_attr=['x', 'Attack'], \n",
    "                            create_using=nx.MultiGraph())\n",
    "\n",
    "G = G.to_directed()\n",
    "G.number_of_edges(), G.number_of_nodes()\n",
    "      "
   ]
  },
  {
   "cell_type": "code",
   "execution_count": 23,
   "id": "f7be59bf",
   "metadata": {},
   "outputs": [
    {
     "data": {
      "text/plain": [
       "74396"
      ]
     },
     "execution_count": 23,
     "metadata": {},
     "output_type": "execute_result"
    }
   ],
   "source": [
    "len(data)"
   ]
  },
  {
   "cell_type": "code",
   "execution_count": 24,
   "id": "5735e3db",
   "metadata": {},
   "outputs": [
    {
     "data": {
      "text/plain": [
       "(134710628, 148792)"
      ]
     },
     "execution_count": 24,
     "metadata": {},
     "output_type": "execute_result"
    }
   ],
   "source": [
    "G = dgl.from_networkx(G, edge_attrs=['x', 'Attack'])\n",
    "G = G.line_graph(shared=True)\n",
    "G.number_of_edges(), G.number_of_nodes()"
   ]
  },
  {
   "cell_type": "code",
   "execution_count": 25,
   "id": "19a307f3",
   "metadata": {},
   "outputs": [],
   "source": [
    "import pickle \n",
    "\n",
    "with open('interm/BoT-IoT_reduced_linegraph.pkl', 'wb') as f:\n",
    "    pickle.dump(G, f)"
   ]
  },
  {
   "cell_type": "markdown",
   "id": "a46b98da",
   "metadata": {},
   "source": [
    "### Train"
   ]
  },
  {
   "cell_type": "code",
   "execution_count": null,
   "id": "77f9f1c8",
   "metadata": {},
   "outputs": [
    {
     "name": "stderr",
     "output_type": "stream",
     "text": [
      "/home/taznk/COMP4003/venv/lib/python3.11/site-packages/torch/storage.py:414: FutureWarning: You are using `torch.load` with `weights_only=False` (the current default value), which uses the default pickle module implicitly. It is possible to construct malicious pickle data which will execute arbitrary code during unpickling (See https://github.com/pytorch/pytorch/blob/main/SECURITY.md#untrusted-models for more details). In a future release, the default value for `weights_only` will be flipped to `True`. This limits the functions that could be executed during unpickling. Arbitrary objects will no longer be allowed to be loaded via this mode unless they are explicitly allowlisted by the user via `torch.serialization.add_safe_globals`. We recommend you start setting `weights_only=True` for any use case where you don't have full control of the loaded file. Please open an issue on GitHub for any issues related to this experimental feature.\n",
      "  return torch.load(io.BytesIO(b))\n"
     ]
    },
    {
     "ename": "",
     "evalue": "",
     "output_type": "error",
     "traceback": [
      "\u001b[1;31mThe Kernel crashed while executing code in the current cell or a previous cell. \n",
      "\u001b[1;31mPlease review the code in the cell(s) to identify a possible cause of the failure. \n",
      "\u001b[1;31mClick <a href='https://aka.ms/vscodeJupyterKernelCrash'>here</a> for more info. \n",
      "\u001b[1;31mView Jupyter <a href='command:jupyter.viewOutput'>log</a> for further details."
     ]
    }
   ],
   "source": [
    "import pickle \n",
    "\n",
    "with open('interm/BoT-IoT_reduced_linegraph.pkl', 'rb') as f:\n",
    "    G = pickle.load(f)"
   ]
  },
  {
   "cell_type": "code",
   "execution_count": null,
   "id": "aa5ab75e",
   "metadata": {},
   "outputs": [],
   "source": [
    "from GraphSAGE_utils import train_one_graph, get_weighted_criterion\n",
    "from torch_geometric.nn.models import GraphSAGE \n",
    "\n",
    "model = GraphSAGE(\n",
    "    in_channels=-1,\n",
    "    hidden_channels=128,\n",
    "    num_layers=3,\n",
    "    out_channels=5\n",
    ")\n",
    "\n",
    "loss, test_loss = train_one_graph(\n",
    "    model=model,\n",
    "    dgl_linegraph=G,\n",
    "    criterion=get_weighted_criterion('raw/NF-BoT-IoT-v3.csv')\n",
    ")"
   ]
  },
  {
   "cell_type": "code",
   "execution_count": null,
   "id": "b89ac7b0",
   "metadata": {},
   "outputs": [],
   "source": [
    "loss, test_loss"
   ]
  }
 ],
 "metadata": {
  "kernelspec": {
   "display_name": "venv",
   "language": "python",
   "name": "python3"
  },
  "language_info": {
   "codemirror_mode": {
    "name": "ipython",
    "version": 3
   },
   "file_extension": ".py",
   "mimetype": "text/x-python",
   "name": "python",
   "nbconvert_exporter": "python",
   "pygments_lexer": "ipython3",
   "version": "3.11.2"
  }
 },
 "nbformat": 4,
 "nbformat_minor": 5
}
