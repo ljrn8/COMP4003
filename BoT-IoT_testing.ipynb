{
 "cells": [
  {
   "cell_type": "code",
   "execution_count": 1,
   "id": "d366e91f",
   "metadata": {},
   "outputs": [
    {
     "name": "stderr",
     "output_type": "stream",
     "text": [
      "/home/taznk/COMP4003/venv/lib/python3.11/site-packages/tqdm/auto.py:21: TqdmWarning: IProgress not found. Please update jupyter and ipywidgets. See https://ipywidgets.readthedocs.io/en/stable/user_install.html\n",
      "  from .autonotebook import tqdm as notebook_tqdm\n"
     ]
    }
   ],
   "source": [
    "%load_ext autoreload\n",
    "%autoreload 2\n",
    "\n",
    "import pandas as pd\n",
    "import numpy as np\n",
    "import dgl\n",
    "from sklearn.preprocessing import LabelEncoder, StandardScaler\n",
    "import h5py\n",
    "import networkx as nx \n",
    "from torch_geometric.utils.convert import from_dgl\n",
    "import dask.dataframe as dd\n"
   ]
  },
  {
   "cell_type": "markdown",
   "id": "030a8d1c",
   "metadata": {},
   "source": [
    "### Setup"
   ]
  },
  {
   "cell_type": "code",
   "execution_count": 2,
   "id": "3e748897",
   "metadata": {},
   "outputs": [],
   "source": [
    "dtypes = {\n",
    "    'IPV4_SRC_ADDR': 'object',\t                # IPv4 source address\n",
    "    'IPV4_DST_ADDR': 'object',\t                # IPv4 destination address\n",
    "    'L4_SRC_PORT': 'object',\t                # IPv4 source port number\n",
    "    'L4_DST_PORT': 'object',\t                # IPv4 destination port number\n",
    "\n",
    "    'PROTOCOL': 'int32',\t                # IP protocol identifier byte\n",
    "    'L7_PROTO': 'category',\t                # Layer 7 protocol (numeric)\n",
    "    'IN_BYTES': 'int32',\t                # Incoming number of bytes\n",
    "    'OUT_BYTES': 'int32',\t                # Outgoing number of bytes\n",
    "    'IN_PKTS': 'int32',\t                # Incoming number of packets\n",
    "    'OUT_PKTS': 'int32',\t                # Outgoing number of packets\n",
    "    'FLOW_DURATION_MILLISECONDS': 'float32',\t                # Flow duration in milliseconds\n",
    "    'TCP_FLAGS': 'int32',\t                # Cumulative of all TCP flags\n",
    "    'CLIENT_TCP_FLAGS': 'int32',\t                # Cumulative of all client TCP flags\n",
    "    'SERVER_TCP_FLAGS': 'int32',\t                # Cumulative of all server TCP flags\n",
    "    'DURATION_IN': 'float32',\t                # Client to Server stream duration (msec)\n",
    "    'DURATION_OUT': 'float32',\t                # Client to Server stream duration (msec)\n",
    "    'MIN_TTL': 'float32',\t                # Min flow TTL\n",
    "    'MAX_TTL': 'float32',\t                # Max flow TTL\n",
    "    'LONGEST_FLOW_PKT': 'int32',\t            # Longest packet (bytes) of the flow\n",
    "    'SHORTEST_FLOW_PKT': 'int32',\t            # Shortest packet (bytes) of the flow\n",
    "    'MIN_IP_PKT_LEN': 'int32',\t            # Len of the smallest flow IP packet observed\n",
    "    'MAX_IP_PKT_LEN': 'int32',\t            # Len of the largest flow IP packet observed\n",
    "    'SRC_TO_DST_SECOND_BYTES': 'float32',\t            # Src to dst Bytes/sec\n",
    "    'DST_TO_SRC_SECOND_BYTES': 'float32',\t            # Dst to src Bytes/sec\n",
    "    'RETRANSMITTED_IN_BYTES': 'int32',\t            # Number of retransmitted TCP flow bytes (src->dst)\n",
    "    'RETRANSMITTED_IN_PKTS': 'int32',\t            # Number of retransmitted TCP flow packets (src-...\n",
    "    'RETRANSMITTED_OUT_BYTES': 'int32',         # \tNumber of retransmitted TCP flow bytes (dst->src)\n",
    "    'RETRANSMITTED_OUT_PKTS': 'int32',\t            # Number of retransmitted TCP flow packets (dst-...\n",
    "    'SRC_TO_DST_AVG_THROUGHPUT': 'float32',\t            # Src to dst average thpt (bps)\n",
    "    'DST_TO_SRC_AVG_THROUGHPUT': 'float32',         # \tDst to src average thpt (bps)\n",
    "    'NUM_PKTS_UP_TO_128_BYTES': 'int32',\t            # Packets whose IP size <= 128\n",
    "    'NUM_PKTS_128_TO_256_BYTES': 'int32',\t            # Packets whose IP size > 128 and <= 256\n",
    "    'NUM_PKTS_256_TO_512_BYTES': 'int32',\t            # Packets whose IP size > 256 and <= 512\n",
    "    'NUM_PKTS_512_TO_1024_BYTES': 'int32',\t            # Packets whose IP size > 512 and <= 1024\n",
    "    'NUM_PKTS_1024_TO_1514_BYTES': 'int32',\t            # Packets whose IP size >��1024 and <= 1514\n",
    "    'TCP_WIN_MAX_IN': 'int32',\t            # Max TCP Window (src->dst)\n",
    "    'TCP_WIN_MAX_OUT': 'int32',         # \tMax TCP Window (dst->src)\n",
    "\n",
    "    # ?\n",
    "    'ICMP_TYPE': 'category',\t            # ICMP Type * 256 + ICMP code\n",
    "    'ICMP_IPV4_TYPE': 'category',\t            # ICMP Type\n",
    "\n",
    "    'DNS_QUERY_ID': 'float32',\t            #    DNS query transaction Id\n",
    "    'DNS_QUERY_TYPE': 'category',\t        #            DNS query type (e.g. 1=A, 2=NS..)\n",
    "    'DNS_TTL_ANSWER': 'float32',\t        #    TTL of the first A record (if any)\n",
    "    'FTP_COMMAND_RET_CODE': 'category',\t    #    FTP client command return code\n",
    "    'FLOW_START_MILLISECONDS': 'float32',\t#        Flow start timestamp in milliseconds\n",
    "    'FLOW_END_MILLISECONDS': 'float32',\t    #        Flow end timestamp in milliseconds\n",
    "    'SRC_TO_DST_IAT_MIN': 'float32',\t    #    Minimum Inter-Packet Arrval Time (src->dst)\n",
    "    'SRC_TO_DST_IAT_MAX': 'float32',\t    #        Maximum Inter-Packet Arrval Time (src->dst)\n",
    "    'SRC_TO_DST_IAT_AVG': 'float32',\t    #        Average Inter-Packet Arrval Time (src->dst)\n",
    "    'SRC_TO_DST_IAT_STDDEV': 'float32',\t    #        Sandard Deviaion Inter-Packet Arrval Time (src...\n",
    "    'DST_TO_SRC_IAT_MIN': 'float32',\t    #        Minimum Inter-Packet Arrval Time (dst > src)\n",
    "    'DST_TO_SRC_IAT_MAX': 'float32',\t    #        Minimum Inter-Packet Arrval Time (dst > src)\n",
    "    'DST_TO_SRC_IAT_AVG': 'float32',\t    #        Minimum Inter-Packet Arrval Time (dst > src)\n",
    "    'DST_TO_SRC_IAT_STDDEV': 'float32',\t    #        Minimum Inter-Packet Arrval Time (dst > src)\n",
    "    \n",
    "}"
   ]
  },
  {
   "cell_type": "code",
   "execution_count": 3,
   "id": "e5de6e15",
   "metadata": {},
   "outputs": [
    {
     "data": {
      "text/html": [
       "<div>\n",
       "<style scoped>\n",
       "    .dataframe tbody tr th:only-of-type {\n",
       "        vertical-align: middle;\n",
       "    }\n",
       "\n",
       "    .dataframe tbody tr th {\n",
       "        vertical-align: top;\n",
       "    }\n",
       "\n",
       "    .dataframe thead th {\n",
       "        text-align: right;\n",
       "    }\n",
       "</style>\n",
       "<table border=\"1\" class=\"dataframe\">\n",
       "  <thead>\n",
       "    <tr style=\"text-align: right;\">\n",
       "      <th></th>\n",
       "      <th>FLOW_START_MILLISECONDS</th>\n",
       "      <th>FLOW_END_MILLISECONDS</th>\n",
       "      <th>IPV4_SRC_ADDR</th>\n",
       "      <th>L4_SRC_PORT</th>\n",
       "      <th>IPV4_DST_ADDR</th>\n",
       "      <th>L4_DST_PORT</th>\n",
       "      <th>PROTOCOL</th>\n",
       "      <th>L7_PROTO</th>\n",
       "      <th>IN_BYTES</th>\n",
       "      <th>IN_PKTS</th>\n",
       "      <th>...</th>\n",
       "      <th>SRC_TO_DST_IAT_MIN</th>\n",
       "      <th>SRC_TO_DST_IAT_MAX</th>\n",
       "      <th>SRC_TO_DST_IAT_AVG</th>\n",
       "      <th>SRC_TO_DST_IAT_STDDEV</th>\n",
       "      <th>DST_TO_SRC_IAT_MIN</th>\n",
       "      <th>DST_TO_SRC_IAT_MAX</th>\n",
       "      <th>DST_TO_SRC_IAT_AVG</th>\n",
       "      <th>DST_TO_SRC_IAT_STDDEV</th>\n",
       "      <th>Label</th>\n",
       "      <th>Attack</th>\n",
       "    </tr>\n",
       "  </thead>\n",
       "  <tbody>\n",
       "    <tr>\n",
       "      <th>0</th>\n",
       "      <td>1.528104e+12</td>\n",
       "      <td>1.528104e+12</td>\n",
       "      <td>192.168.100.7</td>\n",
       "      <td>365</td>\n",
       "      <td>192.168.100.3</td>\n",
       "      <td>565</td>\n",
       "      <td>17</td>\n",
       "      <td>0.0</td>\n",
       "      <td>238142</td>\n",
       "      <td>5177</td>\n",
       "      <td>...</td>\n",
       "      <td>1.0</td>\n",
       "      <td>30.0</td>\n",
       "      <td>22.0</td>\n",
       "      <td>4.0</td>\n",
       "      <td>0.0</td>\n",
       "      <td>0.0</td>\n",
       "      <td>0.0</td>\n",
       "      <td>0.0</td>\n",
       "      <td>0</td>\n",
       "      <td>Benign</td>\n",
       "    </tr>\n",
       "    <tr>\n",
       "      <th>1</th>\n",
       "      <td>1.528104e+12</td>\n",
       "      <td>1.528104e+12</td>\n",
       "      <td>192.168.100.46</td>\n",
       "      <td>3456</td>\n",
       "      <td>192.168.100.5</td>\n",
       "      <td>80</td>\n",
       "      <td>17</td>\n",
       "      <td>0.0</td>\n",
       "      <td>9015892</td>\n",
       "      <td>9630</td>\n",
       "      <td>...</td>\n",
       "      <td>1.0</td>\n",
       "      <td>28.0</td>\n",
       "      <td>12.0</td>\n",
       "      <td>1.0</td>\n",
       "      <td>1.0</td>\n",
       "      <td>30.0</td>\n",
       "      <td>12.0</td>\n",
       "      <td>2.0</td>\n",
       "      <td>0</td>\n",
       "      <td>Benign</td>\n",
       "    </tr>\n",
       "  </tbody>\n",
       "</table>\n",
       "<p>2 rows × 55 columns</p>\n",
       "</div>"
      ],
      "text/plain": [
       "   FLOW_START_MILLISECONDS  FLOW_END_MILLISECONDS   IPV4_SRC_ADDR L4_SRC_PORT  \\\n",
       "0             1.528104e+12           1.528104e+12   192.168.100.7         365   \n",
       "1             1.528104e+12           1.528104e+12  192.168.100.46        3456   \n",
       "\n",
       "   IPV4_DST_ADDR L4_DST_PORT  PROTOCOL L7_PROTO  IN_BYTES  IN_PKTS  ...  \\\n",
       "0  192.168.100.3         565        17      0.0    238142     5177  ...   \n",
       "1  192.168.100.5          80        17      0.0   9015892     9630  ...   \n",
       "\n",
       "   SRC_TO_DST_IAT_MIN  SRC_TO_DST_IAT_MAX  SRC_TO_DST_IAT_AVG  \\\n",
       "0                 1.0                30.0                22.0   \n",
       "1                 1.0                28.0                12.0   \n",
       "\n",
       "   SRC_TO_DST_IAT_STDDEV  DST_TO_SRC_IAT_MIN  DST_TO_SRC_IAT_MAX  \\\n",
       "0                    4.0                 0.0                 0.0   \n",
       "1                    1.0                 1.0                30.0   \n",
       "\n",
       "   DST_TO_SRC_IAT_AVG  DST_TO_SRC_IAT_STDDEV  Label  Attack  \n",
       "0                 0.0                    0.0      0  Benign  \n",
       "1                12.0                    2.0      0  Benign  \n",
       "\n",
       "[2 rows x 55 columns]"
      ]
     },
     "execution_count": 3,
     "metadata": {},
     "output_type": "execute_result"
    }
   ],
   "source": [
    "df = pd.read_csv('raw/NF-BoT-IoT-v3.csv', dtype=dtypes)\n",
    "df[:2]"
   ]
  },
  {
   "cell_type": "code",
   "execution_count": 4,
   "id": "80496370",
   "metadata": {},
   "outputs": [],
   "source": [
    "data = df\n",
    "data = data.drop(\"Label\", axis=1)  # for binary only"
   ]
  },
  {
   "cell_type": "code",
   "execution_count": 5,
   "id": "1a835aa2",
   "metadata": {},
   "outputs": [
    {
     "data": {
      "text/plain": [
       "array(['Benign', 'DDoS', 'DoS', 'Reconnaissance', 'Theft'], dtype=object)"
      ]
     },
     "execution_count": 5,
     "metadata": {},
     "output_type": "execute_result"
    }
   ],
   "source": [
    "data.Attack.unique()"
   ]
  },
  {
   "cell_type": "code",
   "execution_count": 6,
   "id": "1f29f1c5",
   "metadata": {},
   "outputs": [
    {
     "data": {
      "text/plain": [
       "51989"
      ]
     },
     "execution_count": 6,
     "metadata": {},
     "output_type": "execute_result"
    }
   ],
   "source": [
    "benign = len(data[data.Attack == 'Benign'])\n",
    "benign"
   ]
  },
  {
   "cell_type": "code",
   "execution_count": 7,
   "id": "7c5fd059",
   "metadata": {},
   "outputs": [
    {
     "name": "stdout",
     "output_type": "stream",
     "text": [
      "Benign 51989 5198\n",
      "DDoS 7150882 5198\n",
      "DoS 8034190 5198\n",
      "Reconnaissance 1695132 5198\n",
      "Theft 1615 1615\n"
     ]
    }
   ],
   "source": [
    "# 1:10 mal:benign ratio\n",
    "\n",
    "target = benign // 10\n",
    "df_reduced = pd.DataFrame()\n",
    "\n",
    "for a, group in data.groupby('Attack'):\n",
    "    l = len(group)\n",
    "    group.reset_index()\n",
    "    print(a, l, len(group.iloc[:target])) \n",
    "    df_reduced = pd.concat((df_reduced, group.iloc[:target]))\n",
    "    if a == 'Benign':\n",
    "        df_reduced = pd.concat((df_reduced, group))\n",
    "    "
   ]
  },
  {
   "cell_type": "code",
   "execution_count": 8,
   "id": "03e59e8d",
   "metadata": {},
   "outputs": [
    {
     "data": {
      "text/plain": [
       "(74396, 16933808)"
      ]
     },
     "execution_count": 8,
     "metadata": {},
     "output_type": "execute_result"
    }
   ],
   "source": [
    "len(df_reduced), len(data)"
   ]
  },
  {
   "cell_type": "code",
   "execution_count": 9,
   "id": "e5ae8208",
   "metadata": {},
   "outputs": [],
   "source": [
    "del data"
   ]
  },
  {
   "cell_type": "code",
   "execution_count": 10,
   "id": "cb614530",
   "metadata": {},
   "outputs": [],
   "source": [
    "df_reduced.to_csv('interm/BoT-IoT_reduced.csv', index=False)"
   ]
  },
  {
   "cell_type": "code",
   "execution_count": 11,
   "id": "79f711dc",
   "metadata": {},
   "outputs": [],
   "source": [
    "df_reduced = pd.read_csv('interm/BoT-IoT_reduced.csv')"
   ]
  },
  {
   "cell_type": "code",
   "execution_count": 12,
   "id": "c2fbb45d",
   "metadata": {},
   "outputs": [],
   "source": [
    "# paper used labelencoding for all categories\n",
    "pk = ['IPV4_SRC_ADDR','IPV4_DST_ADDR']\n",
    "categorical = [\n",
    "    c for c, dtype in dtypes.items() \n",
    "    if dtype=='category' and dtype not in pk\n",
    "] + ['Attack']\n",
    "\n",
    "encoders = {}\n",
    "for c in categorical:\n",
    "    le = LabelEncoder()\n",
    "    df_reduced[c] = le.fit_transform(df_reduced[c].astype(str))\n",
    "    encoders[c] = le"
   ]
  },
  {
   "cell_type": "code",
   "execution_count": 13,
   "id": "d648f683",
   "metadata": {},
   "outputs": [],
   "source": [
    "\n",
    "from sklearn.preprocessing import StandardScaler\n",
    "\n",
    "# and standradization for the rest\n",
    "pk = ['IPV4_DST_ADDR', 'IPV4_SRC_ADDR']\n",
    "numerical = [c for c in df_reduced.columns if (c not in categorical + pk)]\n",
    "df_reduced[numerical] = df_reduced[numerical].astype('float32')\n",
    "df_reduced[numerical] = df_reduced[numerical].replace([np.inf, -np.inf], np.nan)\n",
    "df_reduced[numerical] = df_reduced[numerical].fillna(df_reduced[numerical].mean())\n",
    "    \n",
    "scaler = StandardScaler()\n",
    "df_reduced[numerical] = scaler.fit_transform(df_reduced[numerical])"
   ]
  },
  {
   "cell_type": "code",
   "execution_count": 14,
   "id": "e81b2534",
   "metadata": {},
   "outputs": [
    {
     "data": {
      "text/html": [
       "<div>\n",
       "<style scoped>\n",
       "    .dataframe tbody tr th:only-of-type {\n",
       "        vertical-align: middle;\n",
       "    }\n",
       "\n",
       "    .dataframe tbody tr th {\n",
       "        vertical-align: top;\n",
       "    }\n",
       "\n",
       "    .dataframe thead th {\n",
       "        text-align: right;\n",
       "    }\n",
       "</style>\n",
       "<table border=\"1\" class=\"dataframe\">\n",
       "  <thead>\n",
       "    <tr style=\"text-align: right;\">\n",
       "      <th></th>\n",
       "      <th>FLOW_START_MILLISECONDS</th>\n",
       "      <th>FLOW_END_MILLISECONDS</th>\n",
       "      <th>IPV4_SRC_ADDR</th>\n",
       "      <th>L4_SRC_PORT</th>\n",
       "      <th>IPV4_DST_ADDR</th>\n",
       "      <th>L4_DST_PORT</th>\n",
       "      <th>PROTOCOL</th>\n",
       "      <th>L7_PROTO</th>\n",
       "      <th>IN_BYTES</th>\n",
       "      <th>IN_PKTS</th>\n",
       "      <th>...</th>\n",
       "      <th>SRC_TO_DST_IAT_MAX</th>\n",
       "      <th>SRC_TO_DST_IAT_AVG</th>\n",
       "      <th>SRC_TO_DST_IAT_STDDEV</th>\n",
       "      <th>DST_TO_SRC_IAT_MIN</th>\n",
       "      <th>DST_TO_SRC_IAT_MAX</th>\n",
       "      <th>DST_TO_SRC_IAT_AVG</th>\n",
       "      <th>DST_TO_SRC_IAT_STDDEV</th>\n",
       "      <th>Attack</th>\n",
       "      <th>src</th>\n",
       "      <th>dst</th>\n",
       "    </tr>\n",
       "  </thead>\n",
       "  <tbody>\n",
       "    <tr>\n",
       "      <th>0</th>\n",
       "      <td>1.380989</td>\n",
       "      <td>1.38113</td>\n",
       "      <td>192.168.100.7</td>\n",
       "      <td>-1.045265</td>\n",
       "      <td>192.168.100.3</td>\n",
       "      <td>-0.441081</td>\n",
       "      <td>1.715256</td>\n",
       "      <td>0</td>\n",
       "      <td>-0.019245</td>\n",
       "      <td>4.235564</td>\n",
       "      <td>...</td>\n",
       "      <td>-0.336749</td>\n",
       "      <td>-0.37095</td>\n",
       "      <td>-0.309771</td>\n",
       "      <td>-0.222788</td>\n",
       "      <td>-0.29177</td>\n",
       "      <td>-0.232264</td>\n",
       "      <td>-0.311674</td>\n",
       "      <td>0</td>\n",
       "      <td>192.168.100.7:-1.0452653</td>\n",
       "      <td>192.168.100.3:-0.4410811</td>\n",
       "    </tr>\n",
       "  </tbody>\n",
       "</table>\n",
       "<p>1 rows × 56 columns</p>\n",
       "</div>"
      ],
      "text/plain": [
       "   FLOW_START_MILLISECONDS  FLOW_END_MILLISECONDS  IPV4_SRC_ADDR  L4_SRC_PORT  \\\n",
       "0                 1.380989                1.38113  192.168.100.7    -1.045265   \n",
       "\n",
       "   IPV4_DST_ADDR  L4_DST_PORT  PROTOCOL  L7_PROTO  IN_BYTES   IN_PKTS  ...  \\\n",
       "0  192.168.100.3    -0.441081  1.715256         0 -0.019245  4.235564  ...   \n",
       "\n",
       "   SRC_TO_DST_IAT_MAX  SRC_TO_DST_IAT_AVG  SRC_TO_DST_IAT_STDDEV  \\\n",
       "0           -0.336749            -0.37095              -0.309771   \n",
       "\n",
       "   DST_TO_SRC_IAT_MIN  DST_TO_SRC_IAT_MAX  DST_TO_SRC_IAT_AVG  \\\n",
       "0           -0.222788            -0.29177           -0.232264   \n",
       "\n",
       "   DST_TO_SRC_IAT_STDDEV  Attack                       src  \\\n",
       "0              -0.311674       0  192.168.100.7:-1.0452653   \n",
       "\n",
       "                        dst  \n",
       "0  192.168.100.3:-0.4410811  \n",
       "\n",
       "[1 rows x 56 columns]"
      ]
     },
     "execution_count": 14,
     "metadata": {},
     "output_type": "execute_result"
    }
   ],
   "source": [
    "data = df_reduced\n",
    "\n",
    "data['src'] = data['IPV4_SRC_ADDR'].astype(str) + ':' + data['L4_SRC_PORT'].astype(str)\n",
    "data['dst'] = data['IPV4_DST_ADDR'].astype(str) + ':' + data['L4_DST_PORT'].astype(str)\n",
    "data[:1]"
   ]
  },
  {
   "cell_type": "code",
   "execution_count": 15,
   "id": "92342b0f",
   "metadata": {},
   "outputs": [
    {
     "data": {
      "text/html": [
       "<div>\n",
       "<style scoped>\n",
       "    .dataframe tbody tr th:only-of-type {\n",
       "        vertical-align: middle;\n",
       "    }\n",
       "\n",
       "    .dataframe tbody tr th {\n",
       "        vertical-align: top;\n",
       "    }\n",
       "\n",
       "    .dataframe thead th {\n",
       "        text-align: right;\n",
       "    }\n",
       "</style>\n",
       "<table border=\"1\" class=\"dataframe\">\n",
       "  <thead>\n",
       "    <tr style=\"text-align: right;\">\n",
       "      <th></th>\n",
       "      <th>FLOW_START_MILLISECONDS</th>\n",
       "      <th>FLOW_END_MILLISECONDS</th>\n",
       "      <th>PROTOCOL</th>\n",
       "      <th>L7_PROTO</th>\n",
       "      <th>IN_BYTES</th>\n",
       "      <th>IN_PKTS</th>\n",
       "      <th>OUT_BYTES</th>\n",
       "      <th>OUT_PKTS</th>\n",
       "      <th>TCP_FLAGS</th>\n",
       "      <th>CLIENT_TCP_FLAGS</th>\n",
       "      <th>...</th>\n",
       "      <th>SRC_TO_DST_IAT_MAX</th>\n",
       "      <th>SRC_TO_DST_IAT_AVG</th>\n",
       "      <th>SRC_TO_DST_IAT_STDDEV</th>\n",
       "      <th>DST_TO_SRC_IAT_MIN</th>\n",
       "      <th>DST_TO_SRC_IAT_MAX</th>\n",
       "      <th>DST_TO_SRC_IAT_AVG</th>\n",
       "      <th>DST_TO_SRC_IAT_STDDEV</th>\n",
       "      <th>Attack</th>\n",
       "      <th>src</th>\n",
       "      <th>dst</th>\n",
       "    </tr>\n",
       "  </thead>\n",
       "  <tbody>\n",
       "    <tr>\n",
       "      <th>0</th>\n",
       "      <td>1.380989</td>\n",
       "      <td>1.38113</td>\n",
       "      <td>1.715256</td>\n",
       "      <td>0</td>\n",
       "      <td>-0.019245</td>\n",
       "      <td>4.235564</td>\n",
       "      <td>-0.071896</td>\n",
       "      <td>-0.156309</td>\n",
       "      <td>-1.470286</td>\n",
       "      <td>-0.676841</td>\n",
       "      <td>...</td>\n",
       "      <td>-0.336749</td>\n",
       "      <td>-0.37095</td>\n",
       "      <td>-0.309771</td>\n",
       "      <td>-0.222788</td>\n",
       "      <td>-0.29177</td>\n",
       "      <td>-0.232264</td>\n",
       "      <td>-0.311674</td>\n",
       "      <td>0</td>\n",
       "      <td>192.168.100.7:-1.0452653</td>\n",
       "      <td>192.168.100.3:-0.4410811</td>\n",
       "    </tr>\n",
       "  </tbody>\n",
       "</table>\n",
       "<p>1 rows × 52 columns</p>\n",
       "</div>"
      ],
      "text/plain": [
       "   FLOW_START_MILLISECONDS  FLOW_END_MILLISECONDS  PROTOCOL  L7_PROTO  \\\n",
       "0                 1.380989                1.38113  1.715256         0   \n",
       "\n",
       "   IN_BYTES   IN_PKTS  OUT_BYTES  OUT_PKTS  TCP_FLAGS  CLIENT_TCP_FLAGS  ...  \\\n",
       "0 -0.019245  4.235564  -0.071896 -0.156309  -1.470286         -0.676841  ...   \n",
       "\n",
       "   SRC_TO_DST_IAT_MAX  SRC_TO_DST_IAT_AVG  SRC_TO_DST_IAT_STDDEV  \\\n",
       "0           -0.336749            -0.37095              -0.309771   \n",
       "\n",
       "   DST_TO_SRC_IAT_MIN  DST_TO_SRC_IAT_MAX  DST_TO_SRC_IAT_AVG  \\\n",
       "0           -0.222788            -0.29177           -0.232264   \n",
       "\n",
       "   DST_TO_SRC_IAT_STDDEV  Attack                       src  \\\n",
       "0              -0.311674       0  192.168.100.7:-1.0452653   \n",
       "\n",
       "                        dst  \n",
       "0  192.168.100.3:-0.4410811  \n",
       "\n",
       "[1 rows x 52 columns]"
      ]
     },
     "execution_count": 15,
     "metadata": {},
     "output_type": "execute_result"
    }
   ],
   "source": [
    "data.drop(['IPV4_SRC_ADDR', 'IPV4_DST_ADDR', 'L4_SRC_PORT', 'L4_DST_PORT'], axis=1, inplace=True)\n",
    "data[:1]"
   ]
  },
  {
   "cell_type": "code",
   "execution_count": 16,
   "id": "0695e4ee",
   "metadata": {},
   "outputs": [
    {
     "data": {
      "text/plain": [
       "0        [1.3809889554977417, 1.3811296224594116, 1.715...\n",
       "1        [1.3809889554977417, 1.3811296224594116, 1.715...\n",
       "2        [1.3809889554977417, 1.3811296224594116, -0.50...\n",
       "3        [1.3809889554977417, 1.3811296224594116, 1.715...\n",
       "4        [1.3809889554977417, 1.3811296224594116, -0.50...\n",
       "                               ...                        \n",
       "74391    [3.1985068321228027, 3.1984338760375977, -0.50...\n",
       "74392    [3.1985068321228027, 3.1984338760375977, -0.50...\n",
       "74393    [3.1985068321228027, 3.1984338760375977, -0.50...\n",
       "74394    [3.1985068321228027, 3.1984338760375977, -0.50...\n",
       "74395    [3.1985068321228027, 3.1984338760375977, -0.50...\n",
       "Name: x, Length: 74396, dtype: object"
      ]
     },
     "execution_count": 16,
     "metadata": {},
     "output_type": "execute_result"
    }
   ],
   "source": [
    "attrs = [c for c in df_reduced.columns if c not in (\"src\", \"dst\", \"Attack\")]\n",
    "data['x'] = data[attrs].values.tolist()\n",
    "data['x']"
   ]
  },
  {
   "cell_type": "code",
   "execution_count": 17,
   "id": "20fc5ccf",
   "metadata": {},
   "outputs": [],
   "source": [
    "data.to_csv('interm/BoT-processed_flows.csv')"
   ]
  },
  {
   "cell_type": "code",
   "execution_count": 18,
   "id": "c830f001",
   "metadata": {},
   "outputs": [
    {
     "data": {
      "text/html": [
       "<div>\n",
       "<style scoped>\n",
       "    .dataframe tbody tr th:only-of-type {\n",
       "        vertical-align: middle;\n",
       "    }\n",
       "\n",
       "    .dataframe tbody tr th {\n",
       "        vertical-align: top;\n",
       "    }\n",
       "\n",
       "    .dataframe thead th {\n",
       "        text-align: right;\n",
       "    }\n",
       "</style>\n",
       "<table border=\"1\" class=\"dataframe\">\n",
       "  <thead>\n",
       "    <tr style=\"text-align: right;\">\n",
       "      <th></th>\n",
       "      <th>FLOW_START_MILLISECONDS</th>\n",
       "      <th>FLOW_END_MILLISECONDS</th>\n",
       "      <th>PROTOCOL</th>\n",
       "      <th>L7_PROTO</th>\n",
       "      <th>IN_BYTES</th>\n",
       "      <th>IN_PKTS</th>\n",
       "      <th>OUT_BYTES</th>\n",
       "      <th>OUT_PKTS</th>\n",
       "      <th>TCP_FLAGS</th>\n",
       "      <th>CLIENT_TCP_FLAGS</th>\n",
       "      <th>...</th>\n",
       "      <th>SRC_TO_DST_IAT_AVG</th>\n",
       "      <th>SRC_TO_DST_IAT_STDDEV</th>\n",
       "      <th>DST_TO_SRC_IAT_MIN</th>\n",
       "      <th>DST_TO_SRC_IAT_MAX</th>\n",
       "      <th>DST_TO_SRC_IAT_AVG</th>\n",
       "      <th>DST_TO_SRC_IAT_STDDEV</th>\n",
       "      <th>Attack</th>\n",
       "      <th>src</th>\n",
       "      <th>dst</th>\n",
       "      <th>x</th>\n",
       "    </tr>\n",
       "  </thead>\n",
       "  <tbody>\n",
       "    <tr>\n",
       "      <th>0</th>\n",
       "      <td>1.380989</td>\n",
       "      <td>1.38113</td>\n",
       "      <td>1.715256</td>\n",
       "      <td>0</td>\n",
       "      <td>-0.019245</td>\n",
       "      <td>4.235564</td>\n",
       "      <td>-0.071896</td>\n",
       "      <td>-0.156309</td>\n",
       "      <td>-1.470286</td>\n",
       "      <td>-0.676841</td>\n",
       "      <td>...</td>\n",
       "      <td>-0.370950</td>\n",
       "      <td>-0.309771</td>\n",
       "      <td>-0.222788</td>\n",
       "      <td>-0.291770</td>\n",
       "      <td>-0.232264</td>\n",
       "      <td>-0.311674</td>\n",
       "      <td>0</td>\n",
       "      <td>192.168.100.7:-1.0452653</td>\n",
       "      <td>192.168.100.3:-0.4410811</td>\n",
       "      <td>[1.3809889554977417, 1.3811296224594116, 1.715...</td>\n",
       "    </tr>\n",
       "    <tr>\n",
       "      <th>1</th>\n",
       "      <td>1.380989</td>\n",
       "      <td>1.38113</td>\n",
       "      <td>1.715256</td>\n",
       "      <td>0</td>\n",
       "      <td>5.566535</td>\n",
       "      <td>8.122976</td>\n",
       "      <td>4.968892</td>\n",
       "      <td>12.298654</td>\n",
       "      <td>-1.470286</td>\n",
       "      <td>-0.676841</td>\n",
       "      <td>...</td>\n",
       "      <td>-0.374864</td>\n",
       "      <td>-0.310795</td>\n",
       "      <td>-0.222544</td>\n",
       "      <td>-0.286391</td>\n",
       "      <td>-0.229212</td>\n",
       "      <td>-0.310615</td>\n",
       "      <td>0</td>\n",
       "      <td>192.168.100.46:-0.90004206</td>\n",
       "      <td>192.168.100.5:-0.48469415</td>\n",
       "      <td>[1.3809889554977417, 1.3811296224594116, 1.715...</td>\n",
       "    </tr>\n",
       "  </tbody>\n",
       "</table>\n",
       "<p>2 rows × 53 columns</p>\n",
       "</div>"
      ],
      "text/plain": [
       "   FLOW_START_MILLISECONDS  FLOW_END_MILLISECONDS  PROTOCOL  L7_PROTO  \\\n",
       "0                 1.380989                1.38113  1.715256         0   \n",
       "1                 1.380989                1.38113  1.715256         0   \n",
       "\n",
       "   IN_BYTES   IN_PKTS  OUT_BYTES   OUT_PKTS  TCP_FLAGS  CLIENT_TCP_FLAGS  ...  \\\n",
       "0 -0.019245  4.235564  -0.071896  -0.156309  -1.470286         -0.676841  ...   \n",
       "1  5.566535  8.122976   4.968892  12.298654  -1.470286         -0.676841  ...   \n",
       "\n",
       "   SRC_TO_DST_IAT_AVG  SRC_TO_DST_IAT_STDDEV  DST_TO_SRC_IAT_MIN  \\\n",
       "0           -0.370950              -0.309771           -0.222788   \n",
       "1           -0.374864              -0.310795           -0.222544   \n",
       "\n",
       "   DST_TO_SRC_IAT_MAX  DST_TO_SRC_IAT_AVG  DST_TO_SRC_IAT_STDDEV  Attack  \\\n",
       "0           -0.291770           -0.232264              -0.311674       0   \n",
       "1           -0.286391           -0.229212              -0.310615       0   \n",
       "\n",
       "                          src                        dst  \\\n",
       "0    192.168.100.7:-1.0452653   192.168.100.3:-0.4410811   \n",
       "1  192.168.100.46:-0.90004206  192.168.100.5:-0.48469415   \n",
       "\n",
       "                                                   x  \n",
       "0  [1.3809889554977417, 1.3811296224594116, 1.715...  \n",
       "1  [1.3809889554977417, 1.3811296224594116, 1.715...  \n",
       "\n",
       "[2 rows x 53 columns]"
      ]
     },
     "execution_count": 18,
     "metadata": {},
     "output_type": "execute_result"
    }
   ],
   "source": [
    "data[:2]"
   ]
  },
  {
   "cell_type": "markdown",
   "id": "02cbdbe5",
   "metadata": {},
   "source": [
    "### Graph encode"
   ]
  },
  {
   "cell_type": "code",
   "execution_count": 19,
   "id": "f3c3f92d",
   "metadata": {},
   "outputs": [
    {
     "data": {
      "text/plain": [
       "(148792, 55473)"
      ]
     },
     "execution_count": 19,
     "metadata": {},
     "output_type": "execute_result"
    }
   ],
   "source": [
    "\n",
    "# edge features, will be node features (x)\n",
    "data['x'] = data['x'].apply(lambda x: np.array(x, dtype=np.float32))\n",
    "\n",
    "G = nx.from_pandas_edgelist(data, source='src', \n",
    "                            target='dst', \n",
    "                            edge_attr=['x', 'Attack'], \n",
    "                            create_using=nx.MultiGraph())\n",
    "\n",
    "G = G.to_directed()\n",
    "G.number_of_edges(), G.number_of_nodes()\n",
    "      "
   ]
  },
  {
   "cell_type": "code",
   "execution_count": 20,
   "id": "f7be59bf",
   "metadata": {},
   "outputs": [
    {
     "data": {
      "text/plain": [
       "74396"
      ]
     },
     "execution_count": 20,
     "metadata": {},
     "output_type": "execute_result"
    }
   ],
   "source": [
    "len(data)"
   ]
  },
  {
   "cell_type": "code",
   "execution_count": 21,
   "id": "5735e3db",
   "metadata": {},
   "outputs": [
    {
     "data": {
      "text/plain": [
       "(148792, 55473)"
      ]
     },
     "execution_count": 21,
     "metadata": {},
     "output_type": "execute_result"
    }
   ],
   "source": [
    "G = dgl.from_networkx(G, edge_attrs=['x', 'Attack'])\n",
    "# G = G.line_graph(shared=True)\n",
    "G.number_of_edges(), G.number_of_nodes()"
   ]
  },
  {
   "cell_type": "code",
   "execution_count": 22,
   "id": "19a307f3",
   "metadata": {},
   "outputs": [],
   "source": [
    "import pickle \n",
    "\n",
    "with open('interm/BoT-IoT_reduced_graph.pkl', 'wb') as f:\n",
    "    pickle.dump(G, f)"
   ]
  },
  {
   "cell_type": "markdown",
   "id": "a46b98da",
   "metadata": {},
   "source": [
    "### Train"
   ]
  },
  {
   "cell_type": "code",
   "execution_count": 46,
   "id": "77f9f1c8",
   "metadata": {},
   "outputs": [
    {
     "name": "stderr",
     "output_type": "stream",
     "text": [
      "/home/taznk/COMP4003/venv/lib/python3.11/site-packages/torch/storage.py:414: FutureWarning: You are using `torch.load` with `weights_only=False` (the current default value), which uses the default pickle module implicitly. It is possible to construct malicious pickle data which will execute arbitrary code during unpickling (See https://github.com/pytorch/pytorch/blob/main/SECURITY.md#untrusted-models for more details). In a future release, the default value for `weights_only` will be flipped to `True`. This limits the functions that could be executed during unpickling. Arbitrary objects will no longer be allowed to be loaded via this mode unless they are explicitly allowlisted by the user via `torch.serialization.add_safe_globals`. We recommend you start setting `weights_only=True` for any use case where you don't have full control of the loaded file. Please open an issue on GitHub for any issues related to this experimental feature.\n",
      "  return torch.load(io.BytesIO(b))\n"
     ]
    }
   ],
   "source": [
    "import pickle \n",
    "\n",
    "with open('interm/BoT-IoT_reduced_graph.pkl', 'rb') as f:\n",
    "    G = pickle.load(f)"
   ]
  },
  {
   "cell_type": "code",
   "execution_count": 9,
   "id": "6ef6aced",
   "metadata": {},
   "outputs": [],
   "source": [
    "import torch as th\n",
    "\n",
    "G.ndata['x'] = th.ones(G.number_of_nodes(), 49)\n",
    "\n",
    "# Egraphsage paper code requirements\n",
    "G.ndata['h'] = G.ndata['x']\n",
    "G.edata['h'] = G.edata['x']\n",
    "G.ndata['h'] = th.reshape(G.ndata['h'], (G.ndata['h'].shape[0], 1,G.ndata['h'].shape[1]))\n",
    "G.edata['h'] = th.reshape(G.edata['h'], (G.edata['h'].shape[0], 1,G.edata['h'].shape[1]))"
   ]
  },
  {
   "cell_type": "code",
   "execution_count": 20,
   "id": "aaec63ff",
   "metadata": {},
   "outputs": [
    {
     "ename": "NameError",
     "evalue": "name 'G' is not defined",
     "output_type": "error",
     "traceback": [
      "\u001b[31m---------------------------------------------------------------------------\u001b[39m",
      "\u001b[31mNameError\u001b[39m                                 Traceback (most recent call last)",
      "\u001b[36mCell\u001b[39m\u001b[36m \u001b[39m\u001b[32mIn[20]\u001b[39m\u001b[32m, line 20\u001b[39m\n\u001b[32m     17\u001b[39m cr = nn.CrossEntropyLoss()\n\u001b[32m     19\u001b[39m \u001b[38;5;66;03m# test/train masks\u001b[39;00m\n\u001b[32m---> \u001b[39m\u001b[32m20\u001b[39m size = \u001b[43mG\u001b[49m.num_edges()\n\u001b[32m     21\u001b[39m indices = np.arange(size)\n\u001b[32m     22\u001b[39m np.random.shuffle(indices)\n",
      "\u001b[31mNameError\u001b[39m: name 'G' is not defined"
     ]
    }
   ],
   "source": [
    "from EGraphSAGE_papercode import Model\n",
    "from torch.functional import F\n",
    "\n",
    "from tqdm import tqdm\n",
    "import matplotlib.pyplot as plt\n",
    "from torch import nn\n",
    "\n",
    "model = Model(\n",
    "    ndim_in=49,\n",
    "    ndim_out=128, \n",
    "    edim=49,    \n",
    "    activation=F.relu,\n",
    "    dropout=0.2,\n",
    "    classes=5\n",
    ")\n",
    "\n",
    "cr = nn.CrossEntropyLoss()\n",
    "\n",
    "# test/train masks\n",
    "size = G.num_edges()\n",
    "indices = np.arange(size)\n",
    "np.random.shuffle(indices)\n",
    "train_cutoff = int(size * 0.8)\n",
    "train_idx = th.tensor(indices[:train_cutoff], dtype=th.long)\n",
    "test_idx = th.tensor(indices[train_cutoff:], dtype=th.long)\n",
    "\n",
    "\n",
    "losses, test_losses = [], []\n",
    "for epoch in tqdm(range(1000)):\n",
    "    \n",
    "    optimizer = th.optim.Adam(model.parameters())\n",
    "    model.train()\n",
    "\n",
    "    labels =  G.edata['Attack']\n",
    "    # G = from_dgl(G)\n",
    "\n",
    "    optimizer.zero_grad()\n",
    "    pred = model(G, G.ndata['h'], G.edata['h'])\n",
    "\n",
    "    loss = cr(pred[train_idx, :], labels[train_idx])\n",
    "    loss.backward()\n",
    "    \n",
    "    optimizer.step()\n",
    "    test_loss = cr(pred[test_idx, :], labels[test_idx])\n",
    "\n",
    "    losses.append(loss.item())\n",
    "    test_losses.append(test_loss.item())\n",
    "    \n",
    "    \n",
    "plt.plot(losses)\n",
    "plt.plot(test_losses)"
   ]
  },
  {
   "cell_type": "code",
   "execution_count": 44,
   "id": "872d4abb",
   "metadata": {},
   "outputs": [
    {
     "name": "stdout",
     "output_type": "stream",
     "text": [
      "              precision    recall  f1-score   support\n",
      "\n",
      "     Class 0     0.9922    0.9997    0.9959     22799\n",
      "     Class 1     0.6368    0.9073    0.7484      2103\n",
      "     Class 2     0.8418    0.4841    0.6147      2111\n",
      "     Class 3     0.9958    0.9169    0.9547      2081\n",
      "     Class 4     0.9985    0.9940    0.9962       665\n",
      "\n",
      "    accuracy                         0.9507     29759\n",
      "   macro avg     0.8930    0.8604    0.8620     29759\n",
      "weighted avg     0.9568    0.9507    0.9485     29759\n",
      "\n"
     ]
    }
   ],
   "source": [
    "from sklearn.metrics import classification_report\n",
    "import torch.nn.functional as F\n",
    "\n",
    "model.eval()\n",
    "\n",
    "with th.no_grad():\n",
    "    pred_logits = model(G, G.ndata['h'], G.edata['h']) \n",
    "    y_pred = pred_logits[test_idx].argmax(dim=1).cpu().numpy()\n",
    "    y_true = labels[test_idx].cpu().numpy()\n",
    "\n",
    "\n",
    "report = classification_report(\n",
    "    y_true, y_pred,\n",
    "    labels=[0, 1, 2, 3, 4],\n",
    "    target_names=[f'Class {i}' for i in range(5)],\n",
    "    digits=4\n",
    ")\n",
    "\n",
    "print(report)"
   ]
  },
  {
   "cell_type": "code",
   "execution_count": 50,
   "id": "f0700744",
   "metadata": {},
   "outputs": [],
   "source": [
    "th.save(model.state_dict(), 'interm/EGraphSAGE_BoTIoT.pth')"
   ]
  },
  {
   "cell_type": "markdown",
   "id": "8c845d4b",
   "metadata": {},
   "source": [
    "### Explain"
   ]
  },
  {
   "cell_type": "code",
   "execution_count": 57,
   "id": "df04ba96",
   "metadata": {},
   "outputs": [
    {
     "name": "stderr",
     "output_type": "stream",
     "text": [
      "/home/taznk/COMP4003/venv/lib/python3.11/site-packages/torch/storage.py:414: FutureWarning: You are using `torch.load` with `weights_only=False` (the current default value), which uses the default pickle module implicitly. It is possible to construct malicious pickle data which will execute arbitrary code during unpickling (See https://github.com/pytorch/pytorch/blob/main/SECURITY.md#untrusted-models for more details). In a future release, the default value for `weights_only` will be flipped to `True`. This limits the functions that could be executed during unpickling. Arbitrary objects will no longer be allowed to be loaded via this mode unless they are explicitly allowlisted by the user via `torch.serialization.add_safe_globals`. We recommend you start setting `weights_only=True` for any use case where you don't have full control of the loaded file. Please open an issue on GitHub for any issues related to this experimental feature.\n",
      "  return torch.load(io.BytesIO(b))\n"
     ]
    }
   ],
   "source": [
    "import pickle \n",
    "import torch as th\n",
    "\n",
    "with open('interm/BoT-IoT_reduced_graph.pkl', 'rb') as f:\n",
    "    G = pickle.load(f)\n",
    "    \n",
    "G.ndata['x'] = th.ones(G.number_of_nodes(), 49)\n",
    "\n",
    "# Egraphsage paper code requirements\n",
    "G.ndata['h'] = G.ndata['x']\n",
    "G.edata['h'] = G.edata['x']\n",
    "G.ndata['h'] = th.reshape(G.ndata['h'], (G.ndata['h'].shape[0], 1,G.ndata['h'].shape[1]))\n",
    "G.edata['h'] = th.reshape(G.edata['h'], (G.edata['h'].shape[0], 1,G.edata['h'].shape[1]))"
   ]
  },
  {
   "cell_type": "code",
   "execution_count": 81,
   "id": "b6d63edb",
   "metadata": {},
   "outputs": [
    {
     "name": "stderr",
     "output_type": "stream",
     "text": [
      "/tmp/ipykernel_2812/3951618465.py:7: FutureWarning: You are using `torch.load` with `weights_only=False` (the current default value), which uses the default pickle module implicitly. It is possible to construct malicious pickle data which will execute arbitrary code during unpickling (See https://github.com/pytorch/pytorch/blob/main/SECURITY.md#untrusted-models for more details). In a future release, the default value for `weights_only` will be flipped to `True`. This limits the functions that could be executed during unpickling. Arbitrary objects will no longer be allowed to be loaded via this mode unless they are explicitly allowlisted by the user via `torch.serialization.add_safe_globals`. We recommend you start setting `weights_only=True` for any use case where you don't have full control of the loaded file. Please open an issue on GitHub for any issues related to this experimental feature.\n",
      "  model.load_state_dict(th.load('interm/EGraphSAGE_BoTIoT.pth'))\n"
     ]
    }
   ],
   "source": [
    "from torch_geometric.explain import Explainer, CaptumExplainer\n",
    "from EGraphSAGE_papercode import Model, PyGWrapper\n",
    "import torch.nn.functional as F\n",
    "\n",
    "model = Model(ndim_in=49, ndim_out=128,  edim=49,     \n",
    "              activation=F.relu, dropout=0.2, classes=5)\n",
    "model.load_state_dict(th.load('interm/EGraphSAGE_BoTIoT.pth'))\n",
    "\n",
    "PyGModel = PyGWrapper(model)\n",
    "PyGModel.eval()\n",
    "\n",
    "G_PyG = from_dgl(G)\n",
    "edge_attr = G.edata['h']\n",
    "node_attr = G.ndata['h']\n",
    "node_index = int(G_PyG.edge_index[0, 0])\n"
   ]
  },
  {
   "cell_type": "code",
   "execution_count": 82,
   "id": "63220af2",
   "metadata": {},
   "outputs": [],
   "source": [
    "pyG = from_dgl(G)"
   ]
  },
  {
   "cell_type": "code",
   "execution_count": 86,
   "id": "ab402470",
   "metadata": {},
   "outputs": [
    {
     "name": "stdout",
     "output_type": "stream",
     "text": [
      "1\n",
      "2\n"
     ]
    },
    {
     "ename": "KeyError",
     "evalue": "'h'",
     "output_type": "error",
     "traceback": [
      "\u001b[31m---------------------------------------------------------------------------\u001b[39m",
      "\u001b[31mKeyError\u001b[39m                                  Traceback (most recent call last)",
      "\u001b[36mCell\u001b[39m\u001b[36m \u001b[39m\u001b[32mIn[86]\u001b[39m\u001b[32m, line 15\u001b[39m\n\u001b[32m      1\u001b[39m explainer = Explainer(\n\u001b[32m      2\u001b[39m     model=PyGModel,\n\u001b[32m      3\u001b[39m     algorithm=CaptumExplainer(\u001b[33m'\u001b[39m\u001b[33mIntegratedGradients\u001b[39m\u001b[33m'\u001b[39m),\n\u001b[32m   (...)\u001b[39m\u001b[32m     11\u001b[39m     ),\n\u001b[32m     12\u001b[39m )\n\u001b[32m---> \u001b[39m\u001b[32m15\u001b[39m explanation = \u001b[43mexplainer\u001b[49m\u001b[43m(\u001b[49m\u001b[43mpyG\u001b[49m\u001b[43m.\u001b[49m\u001b[43mh\u001b[49m\u001b[43m,\u001b[49m\u001b[43m \u001b[49m\u001b[43mpyG\u001b[49m\u001b[43m.\u001b[49m\u001b[43medge_index\u001b[49m\u001b[43m,\u001b[49m\u001b[43m \u001b[49m\u001b[43mindex\u001b[49m\u001b[43m=\u001b[49m\u001b[32;43m10\u001b[39;49m\u001b[43m)\u001b[49m\n\u001b[32m     16\u001b[39m \u001b[38;5;28mprint\u001b[39m(explanation.edge_mask)\n\u001b[32m     17\u001b[39m \u001b[38;5;28mprint\u001b[39m(explanation.node_mask)\n",
      "\u001b[36mFile \u001b[39m\u001b[32m~/COMP4003/venv/lib/python3.11/site-packages/torch_geometric/explain/explainer.py:196\u001b[39m, in \u001b[36mExplainer.__call__\u001b[39m\u001b[34m(self, x, edge_index, target, index, **kwargs)\u001b[39m\n\u001b[32m    192\u001b[39m     \u001b[38;5;28;01mif\u001b[39;00m target \u001b[38;5;129;01mis\u001b[39;00m \u001b[38;5;129;01mnot\u001b[39;00m \u001b[38;5;28;01mNone\u001b[39;00m:\n\u001b[32m    193\u001b[39m         warnings.warn(\n\u001b[32m    194\u001b[39m             \u001b[33mf\u001b[39m\u001b[33m\"\u001b[39m\u001b[33mThe \u001b[39m\u001b[33m'\u001b[39m\u001b[33mtarget\u001b[39m\u001b[33m'\u001b[39m\u001b[33m should not be provided for the explanation \u001b[39m\u001b[33m\"\u001b[39m\n\u001b[32m    195\u001b[39m             \u001b[33mf\u001b[39m\u001b[33m\"\u001b[39m\u001b[33mtype \u001b[39m\u001b[33m'\u001b[39m\u001b[38;5;132;01m{\u001b[39;00m\u001b[38;5;28mself\u001b[39m.explanation_type.value\u001b[38;5;132;01m}\u001b[39;00m\u001b[33m'\u001b[39m\u001b[33m\"\u001b[39m)\n\u001b[32m--> \u001b[39m\u001b[32m196\u001b[39m     prediction = \u001b[38;5;28;43mself\u001b[39;49m\u001b[43m.\u001b[49m\u001b[43mget_prediction\u001b[49m\u001b[43m(\u001b[49m\u001b[43mx\u001b[49m\u001b[43m,\u001b[49m\u001b[43m \u001b[49m\u001b[43medge_index\u001b[49m\u001b[43m,\u001b[49m\u001b[43m \u001b[49m\u001b[43m*\u001b[49m\u001b[43m*\u001b[49m\u001b[43mkwargs\u001b[49m\u001b[43m)\u001b[49m\n\u001b[32m    197\u001b[39m     target = \u001b[38;5;28mself\u001b[39m.get_target(prediction)\n\u001b[32m    199\u001b[39m \u001b[38;5;28;01mif\u001b[39;00m \u001b[38;5;28misinstance\u001b[39m(index, \u001b[38;5;28mint\u001b[39m):\n",
      "\u001b[36mFile \u001b[39m\u001b[32m~/COMP4003/venv/lib/python3.11/site-packages/torch/utils/_contextlib.py:116\u001b[39m, in \u001b[36mcontext_decorator.<locals>.decorate_context\u001b[39m\u001b[34m(*args, **kwargs)\u001b[39m\n\u001b[32m    113\u001b[39m \u001b[38;5;129m@functools\u001b[39m.wraps(func)\n\u001b[32m    114\u001b[39m \u001b[38;5;28;01mdef\u001b[39;00m\u001b[38;5;250m \u001b[39m\u001b[34mdecorate_context\u001b[39m(*args, **kwargs):\n\u001b[32m    115\u001b[39m     \u001b[38;5;28;01mwith\u001b[39;00m ctx_factory():\n\u001b[32m--> \u001b[39m\u001b[32m116\u001b[39m         \u001b[38;5;28;01mreturn\u001b[39;00m \u001b[43mfunc\u001b[49m\u001b[43m(\u001b[49m\u001b[43m*\u001b[49m\u001b[43margs\u001b[49m\u001b[43m,\u001b[49m\u001b[43m \u001b[49m\u001b[43m*\u001b[49m\u001b[43m*\u001b[49m\u001b[43mkwargs\u001b[49m\u001b[43m)\u001b[49m\n",
      "\u001b[36mFile \u001b[39m\u001b[32m~/COMP4003/venv/lib/python3.11/site-packages/torch_geometric/explain/explainer.py:115\u001b[39m, in \u001b[36mExplainer.get_prediction\u001b[39m\u001b[34m(self, *args, **kwargs)\u001b[39m\n\u001b[32m    112\u001b[39m \u001b[38;5;28mself\u001b[39m.model.eval()\n\u001b[32m    114\u001b[39m \u001b[38;5;28;01mwith\u001b[39;00m torch.no_grad():\n\u001b[32m--> \u001b[39m\u001b[32m115\u001b[39m     out = \u001b[38;5;28;43mself\u001b[39;49m\u001b[43m.\u001b[49m\u001b[43mmodel\u001b[49m\u001b[43m(\u001b[49m\u001b[43m*\u001b[49m\u001b[43margs\u001b[49m\u001b[43m,\u001b[49m\u001b[43m \u001b[49m\u001b[43m*\u001b[49m\u001b[43m*\u001b[49m\u001b[43mkwargs\u001b[49m\u001b[43m)\u001b[49m\n\u001b[32m    117\u001b[39m \u001b[38;5;28mself\u001b[39m.model.train(training)\n\u001b[32m    119\u001b[39m \u001b[38;5;28;01mreturn\u001b[39;00m out\n",
      "\u001b[36mFile \u001b[39m\u001b[32m~/COMP4003/venv/lib/python3.11/site-packages/torch/nn/modules/module.py:1553\u001b[39m, in \u001b[36mModule._wrapped_call_impl\u001b[39m\u001b[34m(self, *args, **kwargs)\u001b[39m\n\u001b[32m   1551\u001b[39m     \u001b[38;5;28;01mreturn\u001b[39;00m \u001b[38;5;28mself\u001b[39m._compiled_call_impl(*args, **kwargs)  \u001b[38;5;66;03m# type: ignore[misc]\u001b[39;00m\n\u001b[32m   1552\u001b[39m \u001b[38;5;28;01melse\u001b[39;00m:\n\u001b[32m-> \u001b[39m\u001b[32m1553\u001b[39m     \u001b[38;5;28;01mreturn\u001b[39;00m \u001b[38;5;28;43mself\u001b[39;49m\u001b[43m.\u001b[49m\u001b[43m_call_impl\u001b[49m\u001b[43m(\u001b[49m\u001b[43m*\u001b[49m\u001b[43margs\u001b[49m\u001b[43m,\u001b[49m\u001b[43m \u001b[49m\u001b[43m*\u001b[49m\u001b[43m*\u001b[49m\u001b[43mkwargs\u001b[49m\u001b[43m)\u001b[49m\n",
      "\u001b[36mFile \u001b[39m\u001b[32m~/COMP4003/venv/lib/python3.11/site-packages/torch/nn/modules/module.py:1562\u001b[39m, in \u001b[36mModule._call_impl\u001b[39m\u001b[34m(self, *args, **kwargs)\u001b[39m\n\u001b[32m   1557\u001b[39m \u001b[38;5;66;03m# If we don't have any hooks, we want to skip the rest of the logic in\u001b[39;00m\n\u001b[32m   1558\u001b[39m \u001b[38;5;66;03m# this function, and just call forward.\u001b[39;00m\n\u001b[32m   1559\u001b[39m \u001b[38;5;28;01mif\u001b[39;00m \u001b[38;5;129;01mnot\u001b[39;00m (\u001b[38;5;28mself\u001b[39m._backward_hooks \u001b[38;5;129;01mor\u001b[39;00m \u001b[38;5;28mself\u001b[39m._backward_pre_hooks \u001b[38;5;129;01mor\u001b[39;00m \u001b[38;5;28mself\u001b[39m._forward_hooks \u001b[38;5;129;01mor\u001b[39;00m \u001b[38;5;28mself\u001b[39m._forward_pre_hooks\n\u001b[32m   1560\u001b[39m         \u001b[38;5;129;01mor\u001b[39;00m _global_backward_pre_hooks \u001b[38;5;129;01mor\u001b[39;00m _global_backward_hooks\n\u001b[32m   1561\u001b[39m         \u001b[38;5;129;01mor\u001b[39;00m _global_forward_hooks \u001b[38;5;129;01mor\u001b[39;00m _global_forward_pre_hooks):\n\u001b[32m-> \u001b[39m\u001b[32m1562\u001b[39m     \u001b[38;5;28;01mreturn\u001b[39;00m \u001b[43mforward_call\u001b[49m\u001b[43m(\u001b[49m\u001b[43m*\u001b[49m\u001b[43margs\u001b[49m\u001b[43m,\u001b[49m\u001b[43m \u001b[49m\u001b[43m*\u001b[49m\u001b[43m*\u001b[49m\u001b[43mkwargs\u001b[49m\u001b[43m)\u001b[49m\n\u001b[32m   1564\u001b[39m \u001b[38;5;28;01mtry\u001b[39;00m:\n\u001b[32m   1565\u001b[39m     result = \u001b[38;5;28;01mNone\u001b[39;00m\n",
      "\u001b[36mFile \u001b[39m\u001b[32m<string>:3\u001b[39m, in \u001b[36mforward\u001b[39m\u001b[34m(self, h, edge_index)\u001b[39m\n",
      "\u001b[36mFile \u001b[39m\u001b[32m<string>:14\u001b[39m, in \u001b[36mto_dgl_graph\u001b[39m\u001b[34m(self, edge_index, edge_attr, node_attr)\u001b[39m\n",
      "\u001b[36mFile \u001b[39m\u001b[32m~/COMP4003/venv/lib/python3.11/site-packages/dgl/view.py:80\u001b[39m, in \u001b[36mHeteroNodeDataView.__getitem__\u001b[39m\u001b[34m(self, key)\u001b[39m\n\u001b[32m     78\u001b[39m     \u001b[38;5;28;01mreturn\u001b[39;00m ret\n\u001b[32m     79\u001b[39m \u001b[38;5;28;01melse\u001b[39;00m:\n\u001b[32m---> \u001b[39m\u001b[32m80\u001b[39m     \u001b[38;5;28;01mreturn\u001b[39;00m \u001b[38;5;28;43mself\u001b[39;49m\u001b[43m.\u001b[49m\u001b[43m_graph\u001b[49m\u001b[43m.\u001b[49m\u001b[43m_get_n_repr\u001b[49m\u001b[43m(\u001b[49m\u001b[38;5;28;43mself\u001b[39;49m\u001b[43m.\u001b[49m\u001b[43m_ntid\u001b[49m\u001b[43m,\u001b[49m\u001b[43m \u001b[49m\u001b[38;5;28;43mself\u001b[39;49m\u001b[43m.\u001b[49m\u001b[43m_nodes\u001b[49m\u001b[43m)\u001b[49m\u001b[43m[\u001b[49m\u001b[43mkey\u001b[49m\u001b[43m]\u001b[49m\n",
      "\u001b[36mFile \u001b[39m\u001b[32m~/COMP4003/venv/lib/python3.11/site-packages/dgl/frame.py:688\u001b[39m, in \u001b[36mFrame.__getitem__\u001b[39m\u001b[34m(self, name)\u001b[39m\n\u001b[32m    675\u001b[39m \u001b[38;5;28;01mdef\u001b[39;00m\u001b[38;5;250m \u001b[39m\u001b[34m__getitem__\u001b[39m(\u001b[38;5;28mself\u001b[39m, name):\n\u001b[32m    676\u001b[39m \u001b[38;5;250m    \u001b[39m\u001b[33;03m\"\"\"Return the column of the given name.\u001b[39;00m\n\u001b[32m    677\u001b[39m \n\u001b[32m    678\u001b[39m \u001b[33;03m    Parameters\u001b[39;00m\n\u001b[32m   (...)\u001b[39m\u001b[32m    686\u001b[39m \u001b[33;03m        Column data.\u001b[39;00m\n\u001b[32m    687\u001b[39m \u001b[33;03m    \"\"\"\u001b[39;00m\n\u001b[32m--> \u001b[39m\u001b[32m688\u001b[39m     \u001b[38;5;28;01mreturn\u001b[39;00m \u001b[38;5;28;43mself\u001b[39;49m\u001b[43m.\u001b[49m\u001b[43m_columns\u001b[49m\u001b[43m[\u001b[49m\u001b[43mname\u001b[49m\u001b[43m]\u001b[49m.data\n",
      "\u001b[31mKeyError\u001b[39m: 'h'"
     ]
    }
   ],
   "source": [
    "explainer = Explainer(\n",
    "    model=PyGModel,\n",
    "    algorithm=CaptumExplainer('IntegratedGradients'),\n",
    "    explanation_type='model',\n",
    "    node_mask_type='attributes',\n",
    "    edge_mask_type='object',\n",
    "    model_config=dict(\n",
    "        mode='multiclass_classification',\n",
    "        task_level='node',\n",
    "        return_type='log_probs',\n",
    "    ),\n",
    ")\n",
    "\n",
    "\n",
    "explanation = explainer(pyG.h, pyG.edge_index, index=10)\n",
    "print(explanation.edge_mask)\n",
    "print(explanation.node_mask)"
   ]
  },
  {
   "cell_type": "code",
   "execution_count": null,
   "id": "5bc9c3c5",
   "metadata": {},
   "outputs": [
    {
     "ename": "TypeError",
     "evalue": "Model.forward() got an unexpected keyword argument 'x'",
     "output_type": "error",
     "traceback": [
      "\u001b[31m---------------------------------------------------------------------------\u001b[39m",
      "\u001b[31mTypeError\u001b[39m                                 Traceback (most recent call last)",
      "\u001b[36mCell\u001b[39m\u001b[36m \u001b[39m\u001b[32mIn[65]\u001b[39m\u001b[32m, line 10\u001b[39m\n\u001b[32m      3\u001b[39m expl = GNNExplainer(\n\u001b[32m      4\u001b[39m     model=model,\n\u001b[32m      5\u001b[39m     epochs=\u001b[32m100\u001b[39m,\n\u001b[32m      6\u001b[39m )\n\u001b[32m      9\u001b[39m pyG = from_dgl(G)\n\u001b[32m---> \u001b[39m\u001b[32m10\u001b[39m \u001b[43mexpl\u001b[49m\u001b[43m(\u001b[49m\u001b[43mpyG\u001b[49m\u001b[43m.\u001b[49m\u001b[43mx\u001b[49m\u001b[43m,\u001b[49m\u001b[43m \u001b[49m\u001b[43mpyG\u001b[49m\u001b[43m.\u001b[49m\u001b[43medge_index\u001b[49m\u001b[43m,\u001b[49m\u001b[43m \u001b[49m\u001b[43mnode_idx\u001b[49m\u001b[43m=\u001b[49m\u001b[32;43m0\u001b[39;49m\u001b[43m,\u001b[49m\u001b[43m \u001b[49m\u001b[43mnum_classes\u001b[49m\u001b[43m=\u001b[49m\u001b[32;43m5\u001b[39;49m\u001b[43m)\u001b[49m\n",
      "\u001b[36mFile \u001b[39m\u001b[32m~/COMP4003/venv/lib/python3.11/site-packages/torch/nn/modules/module.py:1553\u001b[39m, in \u001b[36mModule._wrapped_call_impl\u001b[39m\u001b[34m(self, *args, **kwargs)\u001b[39m\n\u001b[32m   1551\u001b[39m     \u001b[38;5;28;01mreturn\u001b[39;00m \u001b[38;5;28mself\u001b[39m._compiled_call_impl(*args, **kwargs)  \u001b[38;5;66;03m# type: ignore[misc]\u001b[39;00m\n\u001b[32m   1552\u001b[39m \u001b[38;5;28;01melse\u001b[39;00m:\n\u001b[32m-> \u001b[39m\u001b[32m1553\u001b[39m     \u001b[38;5;28;01mreturn\u001b[39;00m \u001b[38;5;28;43mself\u001b[39;49m\u001b[43m.\u001b[49m\u001b[43m_call_impl\u001b[49m\u001b[43m(\u001b[49m\u001b[43m*\u001b[49m\u001b[43margs\u001b[49m\u001b[43m,\u001b[49m\u001b[43m \u001b[49m\u001b[43m*\u001b[49m\u001b[43m*\u001b[49m\u001b[43mkwargs\u001b[49m\u001b[43m)\u001b[49m\n",
      "\u001b[36mFile \u001b[39m\u001b[32m~/COMP4003/venv/lib/python3.11/site-packages/torch/nn/modules/module.py:1562\u001b[39m, in \u001b[36mModule._call_impl\u001b[39m\u001b[34m(self, *args, **kwargs)\u001b[39m\n\u001b[32m   1557\u001b[39m \u001b[38;5;66;03m# If we don't have any hooks, we want to skip the rest of the logic in\u001b[39;00m\n\u001b[32m   1558\u001b[39m \u001b[38;5;66;03m# this function, and just call forward.\u001b[39;00m\n\u001b[32m   1559\u001b[39m \u001b[38;5;28;01mif\u001b[39;00m \u001b[38;5;129;01mnot\u001b[39;00m (\u001b[38;5;28mself\u001b[39m._backward_hooks \u001b[38;5;129;01mor\u001b[39;00m \u001b[38;5;28mself\u001b[39m._backward_pre_hooks \u001b[38;5;129;01mor\u001b[39;00m \u001b[38;5;28mself\u001b[39m._forward_hooks \u001b[38;5;129;01mor\u001b[39;00m \u001b[38;5;28mself\u001b[39m._forward_pre_hooks\n\u001b[32m   1560\u001b[39m         \u001b[38;5;129;01mor\u001b[39;00m _global_backward_pre_hooks \u001b[38;5;129;01mor\u001b[39;00m _global_backward_hooks\n\u001b[32m   1561\u001b[39m         \u001b[38;5;129;01mor\u001b[39;00m _global_forward_hooks \u001b[38;5;129;01mor\u001b[39;00m _global_forward_pre_hooks):\n\u001b[32m-> \u001b[39m\u001b[32m1562\u001b[39m     \u001b[38;5;28;01mreturn\u001b[39;00m \u001b[43mforward_call\u001b[49m\u001b[43m(\u001b[49m\u001b[43m*\u001b[49m\u001b[43margs\u001b[49m\u001b[43m,\u001b[49m\u001b[43m \u001b[49m\u001b[43m*\u001b[49m\u001b[43m*\u001b[49m\u001b[43mkwargs\u001b[49m\u001b[43m)\u001b[49m\n\u001b[32m   1564\u001b[39m \u001b[38;5;28;01mtry\u001b[39;00m:\n\u001b[32m   1565\u001b[39m     result = \u001b[38;5;28;01mNone\u001b[39;00m\n",
      "\u001b[36mFile \u001b[39m\u001b[32m~/COMP4003/venv/lib/python3.11/site-packages/dig/xgraph/method/gnnexplainer.py:166\u001b[39m, in \u001b[36mGNNExplainer.forward\u001b[39m\u001b[34m(self, x, edge_index, mask_features, target_label, **kwargs)\u001b[39m\n\u001b[32m    164\u001b[39m \u001b[38;5;28mself\u001b[39m.__clear_masks__()\n\u001b[32m    165\u001b[39m \u001b[38;5;28mself\u001b[39m.__set_masks__(x, self_loop_edge_index)\n\u001b[32m--> \u001b[39m\u001b[32m166\u001b[39m edge_mask = \u001b[38;5;28;43mself\u001b[39;49m\u001b[43m.\u001b[49m\u001b[43mgnn_explainer_alg\u001b[49m\u001b[43m(\u001b[49m\u001b[43mx\u001b[49m\u001b[43m,\u001b[49m\u001b[43m \u001b[49m\u001b[43medge_index\u001b[49m\u001b[43m,\u001b[49m\u001b[43m \u001b[49m\u001b[43mex_label\u001b[49m\u001b[43m)\u001b[49m.sigmoid()\n\u001b[32m    168\u001b[39m \u001b[38;5;28;01mif\u001b[39;00m \u001b[38;5;28mself\u001b[39m._symmetric_edge_mask_indirect_graph:\n\u001b[32m    169\u001b[39m     edge_mask = symmetric_edge_mask_indirect_graph(self_loop_edge_index, edge_mask)\n",
      "\u001b[36mFile \u001b[39m\u001b[32m~/COMP4003/venv/lib/python3.11/site-packages/dig/xgraph/method/gnnexplainer.py:95\u001b[39m, in \u001b[36mGNNExplainer.gnn_explainer_alg\u001b[39m\u001b[34m(self, x, edge_index, ex_label, mask_features, **kwargs)\u001b[39m\n\u001b[32m     93\u001b[39m \u001b[38;5;28;01melse\u001b[39;00m:\n\u001b[32m     94\u001b[39m     h = x\n\u001b[32m---> \u001b[39m\u001b[32m95\u001b[39m raw_preds = \u001b[38;5;28;43mself\u001b[39;49m\u001b[43m.\u001b[49m\u001b[43mmodel\u001b[49m\u001b[43m(\u001b[49m\u001b[43mx\u001b[49m\u001b[43m=\u001b[49m\u001b[43mh\u001b[49m\u001b[43m,\u001b[49m\u001b[43m \u001b[49m\u001b[43medge_index\u001b[49m\u001b[43m=\u001b[49m\u001b[43medge_index\u001b[49m\u001b[43m,\u001b[49m\u001b[43m \u001b[49m\u001b[43m*\u001b[49m\u001b[43m*\u001b[49m\u001b[43mkwargs\u001b[49m\u001b[43m)\u001b[49m\n\u001b[32m     96\u001b[39m loss = \u001b[38;5;28mself\u001b[39m.__loss__(raw_preds, ex_label)\n\u001b[32m     97\u001b[39m \u001b[38;5;28;01mif\u001b[39;00m epoch % \u001b[32m20\u001b[39m == \u001b[32m0\u001b[39m \u001b[38;5;129;01mand\u001b[39;00m debug:\n",
      "\u001b[36mFile \u001b[39m\u001b[32m~/COMP4003/venv/lib/python3.11/site-packages/torch/nn/modules/module.py:1553\u001b[39m, in \u001b[36mModule._wrapped_call_impl\u001b[39m\u001b[34m(self, *args, **kwargs)\u001b[39m\n\u001b[32m   1551\u001b[39m     \u001b[38;5;28;01mreturn\u001b[39;00m \u001b[38;5;28mself\u001b[39m._compiled_call_impl(*args, **kwargs)  \u001b[38;5;66;03m# type: ignore[misc]\u001b[39;00m\n\u001b[32m   1552\u001b[39m \u001b[38;5;28;01melse\u001b[39;00m:\n\u001b[32m-> \u001b[39m\u001b[32m1553\u001b[39m     \u001b[38;5;28;01mreturn\u001b[39;00m \u001b[38;5;28;43mself\u001b[39;49m\u001b[43m.\u001b[49m\u001b[43m_call_impl\u001b[49m\u001b[43m(\u001b[49m\u001b[43m*\u001b[49m\u001b[43margs\u001b[49m\u001b[43m,\u001b[49m\u001b[43m \u001b[49m\u001b[43m*\u001b[49m\u001b[43m*\u001b[49m\u001b[43mkwargs\u001b[49m\u001b[43m)\u001b[49m\n",
      "\u001b[36mFile \u001b[39m\u001b[32m~/COMP4003/venv/lib/python3.11/site-packages/torch/nn/modules/module.py:1562\u001b[39m, in \u001b[36mModule._call_impl\u001b[39m\u001b[34m(self, *args, **kwargs)\u001b[39m\n\u001b[32m   1557\u001b[39m \u001b[38;5;66;03m# If we don't have any hooks, we want to skip the rest of the logic in\u001b[39;00m\n\u001b[32m   1558\u001b[39m \u001b[38;5;66;03m# this function, and just call forward.\u001b[39;00m\n\u001b[32m   1559\u001b[39m \u001b[38;5;28;01mif\u001b[39;00m \u001b[38;5;129;01mnot\u001b[39;00m (\u001b[38;5;28mself\u001b[39m._backward_hooks \u001b[38;5;129;01mor\u001b[39;00m \u001b[38;5;28mself\u001b[39m._backward_pre_hooks \u001b[38;5;129;01mor\u001b[39;00m \u001b[38;5;28mself\u001b[39m._forward_hooks \u001b[38;5;129;01mor\u001b[39;00m \u001b[38;5;28mself\u001b[39m._forward_pre_hooks\n\u001b[32m   1560\u001b[39m         \u001b[38;5;129;01mor\u001b[39;00m _global_backward_pre_hooks \u001b[38;5;129;01mor\u001b[39;00m _global_backward_hooks\n\u001b[32m   1561\u001b[39m         \u001b[38;5;129;01mor\u001b[39;00m _global_forward_hooks \u001b[38;5;129;01mor\u001b[39;00m _global_forward_pre_hooks):\n\u001b[32m-> \u001b[39m\u001b[32m1562\u001b[39m     \u001b[38;5;28;01mreturn\u001b[39;00m \u001b[43mforward_call\u001b[49m\u001b[43m(\u001b[49m\u001b[43m*\u001b[49m\u001b[43margs\u001b[49m\u001b[43m,\u001b[49m\u001b[43m \u001b[49m\u001b[43m*\u001b[49m\u001b[43m*\u001b[49m\u001b[43mkwargs\u001b[49m\u001b[43m)\u001b[49m\n\u001b[32m   1564\u001b[39m \u001b[38;5;28;01mtry\u001b[39;00m:\n\u001b[32m   1565\u001b[39m     result = \u001b[38;5;28;01mNone\u001b[39;00m\n",
      "\u001b[31mTypeError\u001b[39m: Model.forward() got an unexpected keyword argument 'x'"
     ]
    }
   ],
   "source": [
    "from dig.xgraph.method import GNNExplainer\n",
    "\n",
    "expl = GNNExplainer(\n",
    "    model=model,\n",
    "    epochs=100,\n",
    ")\n",
    "\n",
    "\n",
    "expl(pyG.x, pyG.edge_index, node_idx=0, num_classes=5)"
   ]
  },
  {
   "cell_type": "code",
   "execution_count": 66,
   "id": "c5016940",
   "metadata": {},
   "outputs": [
    {
     "data": {
      "text/plain": [
       "tensor([[[ 1.3810,  1.3811,  1.7153,  ..., -0.2918, -0.2323, -0.3117]],\n",
       "\n",
       "        [[ 1.3825,  1.3826,  1.7153,  ..., -0.2918, -0.2323, -0.3117]],\n",
       "\n",
       "        [[ 1.3827,  1.3828,  1.7153,  ..., -0.2918, -0.2323, -0.3117]],\n",
       "\n",
       "        ...,\n",
       "\n",
       "        [[ 3.1985,  3.1984, -0.5038,  ..., -0.2918, -0.2323, -0.3117]],\n",
       "\n",
       "        [[ 3.1985,  3.1984, -0.5038,  ..., -0.2918, -0.2323, -0.3117]],\n",
       "\n",
       "        [[ 3.1985,  3.1984, -0.5038,  ..., -0.2918, -0.2323, -0.3117]]])"
      ]
     },
     "execution_count": 66,
     "metadata": {},
     "output_type": "execute_result"
    }
   ],
   "source": [
    "pyG.h"
   ]
  },
  {
   "cell_type": "code",
   "execution_count": null,
   "id": "65cb95af",
   "metadata": {},
   "outputs": [],
   "source": []
  }
 ],
 "metadata": {
  "kernelspec": {
   "display_name": "venv",
   "language": "python",
   "name": "python3"
  },
  "language_info": {
   "codemirror_mode": {
    "name": "ipython",
    "version": 3
   },
   "file_extension": ".py",
   "mimetype": "text/x-python",
   "name": "python",
   "nbconvert_exporter": "python",
   "pygments_lexer": "ipython3",
   "version": "3.11.2"
  }
 },
 "nbformat": 4,
 "nbformat_minor": 5
}
