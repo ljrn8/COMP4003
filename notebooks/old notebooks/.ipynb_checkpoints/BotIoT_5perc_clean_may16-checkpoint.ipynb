{
 "cells": [
  {
   "cell_type": "markdown",
   "id": "8499e89d-59a2-43d8-9215-e4d8751340ab",
   "metadata": {},
   "source": [
    "# BoTIoT Cleaning (%5 ver.)"
   ]
  },
  {
   "cell_type": "code",
   "execution_count": 16,
   "id": "8db5b282-4029-4e5e-bcbd-61d42c721179",
   "metadata": {},
   "outputs": [],
   "source": [
    "import pandas as pd\n",
    "import numpy as np\n",
    "import pandas as pd\n",
    "from pathlib import Path\n",
    "import config"
   ]
  },
  {
   "cell_type": "code",
   "execution_count": 17,
   "id": "47d0ec49-628b-4830-902f-0de3cc402ccf",
   "metadata": {},
   "outputs": [
    {
     "ename": "AttributeError",
     "evalue": "module 'config' has no attribute 'DATA_ROOT'",
     "output_type": "error",
     "traceback": [
      "\u001b[31m---------------------------------------------------------------------------\u001b[39m",
      "\u001b[31mAttributeError\u001b[39m                            Traceback (most recent call last)",
      "\u001b[36mCell\u001b[39m\u001b[36m \u001b[39m\u001b[32mIn[17]\u001b[39m\u001b[32m, line 1\u001b[39m\n\u001b[32m----> \u001b[39m\u001b[32m1\u001b[39m df1 = pd.read_csv(\u001b[43mconfig\u001b[49m\u001b[43m.\u001b[49m\u001b[43mDATA_ROOT\u001b[49m)\n\u001b[32m      2\u001b[39m df1.head()\n",
      "\u001b[31mAttributeError\u001b[39m: module 'config' has no attribute 'DATA_ROOT'"
     ]
    }
   ],
   "source": [
    "df1 = pd.read_csv(config.DATA_ROOT) # kys\n",
    "df1.head()"
   ]
  },
  {
   "cell_type": "code",
   "execution_count": null,
   "id": "7f032d4a-4dae-4a08-9491-df343f7f94a7",
   "metadata": {},
   "outputs": [],
   "source": []
  }
 ],
 "metadata": {
  "kernelspec": {
   "display_name": "Python 3 (ipykernel)",
   "language": "python",
   "name": "python3"
  },
  "language_info": {
   "codemirror_mode": {
    "name": "ipython",
    "version": 3
   },
   "file_extension": ".py",
   "mimetype": "text/x-python",
   "name": "python",
   "nbconvert_exporter": "python",
   "pygments_lexer": "ipython3",
   "version": "3.12.0"
  }
 },
 "nbformat": 4,
 "nbformat_minor": 5
}
