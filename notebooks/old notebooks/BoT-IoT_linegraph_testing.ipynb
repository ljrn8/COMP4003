{
 "cells": [
  {
   "cell_type": "code",
   "execution_count": 18,
   "id": "57c304f5",
   "metadata": {},
   "outputs": [
    {
     "data": {
      "text/plain": [
       "device(type='cpu')"
      ]
     },
     "execution_count": 18,
     "metadata": {},
     "output_type": "execute_result"
    }
   ],
   "source": [
    "import pickle \n",
    "import torch as th\n",
    "from torch_geometric.explain import Explainer, CaptumExplainer\n",
    "import torch.nn.functional as F\n",
    "import torch\n",
    "\n",
    "device = torch.device('cuda' if torch.cuda.is_available() else 'cpu')\n",
    "device"
   ]
  },
  {
   "cell_type": "code",
   "execution_count": 19,
   "id": "fa87dc4b",
   "metadata": {},
   "outputs": [
    {
     "name": "stderr",
     "output_type": "stream",
     "text": [
      "/home/taznk/COMP4003/venv/lib/python3.11/site-packages/torch/storage.py:414: FutureWarning: You are using `torch.load` with `weights_only=False` (the current default value), which uses the default pickle module implicitly. It is possible to construct malicious pickle data which will execute arbitrary code during unpickling (See https://github.com/pytorch/pytorch/blob/main/SECURITY.md#untrusted-models for more details). In a future release, the default value for `weights_only` will be flipped to `True`. This limits the functions that could be executed during unpickling. Arbitrary objects will no longer be allowed to be loaded via this mode unless they are explicitly allowlisted by the user via `torch.serialization.add_safe_globals`. We recommend you start setting `weights_only=True` for any use case where you don't have full control of the loaded file. Please open an issue on GitHub for any issues related to this experimental feature.\n",
      "  return torch.load(io.BytesIO(b))\n"
     ]
    }
   ],
   "source": [
    "with open('interm/BoT-IoT_reduced_graph.pkl', 'rb') as f:\n",
    "    G = pickle.load(f)"
   ]
  },
  {
   "cell_type": "code",
   "execution_count": 20,
   "id": "315749be",
   "metadata": {},
   "outputs": [],
   "source": [
    "G_line = G.line_graph(shared=True)"
   ]
  },
  {
   "cell_type": "code",
   "execution_count": 21,
   "id": "5cb64495",
   "metadata": {},
   "outputs": [
    {
     "data": {
      "text/plain": [
       "(148792, 134710628)"
      ]
     },
     "execution_count": 21,
     "metadata": {},
     "output_type": "execute_result"
    }
   ],
   "source": [
    "G_line.number_of_nodes(), G_line.number_of_edges()"
   ]
  },
  {
   "cell_type": "code",
   "execution_count": 22,
   "id": "c02619e5",
   "metadata": {},
   "outputs": [],
   "source": [
    "from torch_geometric.utils import from_dgl\n",
    "\n",
    "# train mask\n",
    "pyG_line = from_dgl(G_line)\n",
    "nodes = G_line.number_of_nodes()\n",
    "\n",
    "train_amount = int(0.8*nodes)\n",
    "perm = torch.randperm(nodes)\n",
    "train_idx = perm[:train_amount]\n",
    "test_idx = perm[train_amount:]\n",
    "\n",
    "pyG_line.train_mask = torch.zeros(nodes, dtype=torch.bool)\n",
    "pyG_line.train_mask[train_idx] = True\n",
    "pyG_line.test_mask = ~pyG_line.train_mask"
   ]
  },
  {
   "cell_type": "code",
   "execution_count": 23,
   "id": "4b3ab016",
   "metadata": {},
   "outputs": [],
   "source": [
    "import pandas as pd \n",
    "\n",
    "with open('interm/BoT-IoT_reduced_linegraph_jul29.pkl', 'wb') as f:\n",
    "    pickle.dump(pyG_line, f)"
   ]
  },
  {
   "cell_type": "code",
   "execution_count": 24,
   "id": "b8ce81d8",
   "metadata": {},
   "outputs": [
    {
     "name": "stderr",
     "output_type": "stream",
     "text": [
      "/home/taznk/COMP4003/venv/lib/python3.11/site-packages/torch_geometric/sampler/neighbor_sampler.py:61: UserWarning: Using 'NeighborSampler' without a 'pyg-lib' installation is deprecated and will be removed soon. Please install 'pyg-lib' for accelerated neighborhood sampling\n",
      "  warnings.warn(f\"Using '{self.__class__.__name__}' without a \"\n"
     ]
    },
    {
     "name": "stdout",
     "output_type": "stream",
     "text": [
      "930 233\n"
     ]
    }
   ],
   "source": [
    "from torch_geometric.loader import NeighborLoader\n",
    "import numpy as np \n",
    "\n",
    "loader = NeighborLoader(\n",
    "    pyG_line,\n",
    "    num_neighbors=[10] * 3,\n",
    "    batch_size=128,\n",
    "    shuffle=True,\n",
    "    num_workers=6,\n",
    "    input_nodes=pyG_line.train_mask\n",
    ")\n",
    "\n",
    "test_loader = NeighborLoader(\n",
    "    pyG_line,\n",
    "    num_neighbors=[10] * 3,\n",
    "    batch_size=128,\n",
    "    shuffle=True,\n",
    "    num_workers=6,\n",
    "    input_nodes=pyG_line.test_mask\n",
    ")\n",
    "\n",
    "print(len(loader), len(test_loader))"
   ]
  },
  {
   "cell_type": "code",
   "execution_count": 25,
   "id": "485a6f8b",
   "metadata": {},
   "outputs": [
    {
     "name": "stderr",
     "output_type": "stream",
     "text": [
      "100%|██████████| 930/930 [01:37<00:00,  9.57it/s]\n",
      "100%|██████████| 233/233 [00:12<00:00, 18.67it/s]\n"
     ]
    }
   ],
   "source": [
    "import gc\n",
    "import torch\n",
    "import torch.nn.functional as F\n",
    "from tqdm import tqdm\n",
    "from torch_geometric.nn.models.basic_gnn import GraphSAGE\n",
    "\n",
    "g = pyG_line\n",
    "\n",
    "model = GraphSAGE(\n",
    "    49,\n",
    "    hidden_channels=256,\n",
    "    out_channels=5,\n",
    "    num_layers=3,\n",
    ").to(device)\n",
    "\n",
    "optimizer = torch.optim.Adam(model.parameters(), lr=0.01)\n",
    "\n",
    "def train_epoch(model, train_loader, test_loader):\n",
    "    model.train()\n",
    "    total_loss = 0\n",
    "    for batch in tqdm(train_loader):\n",
    "        \n",
    "        optimizer.zero_grad()\n",
    "        batch = batch.to(device)   \n",
    "        out= model( batch.x.to(device), batch.edge_index.to(device))\n",
    "        out = out[:batch.batch_size]\n",
    "        y = batch.Attack[:batch.batch_size]\n",
    "\n",
    "        loss = F.cross_entropy(out, y)\n",
    "        total_loss += loss.item()\n",
    "        loss.backward()\n",
    "        optimizer.step()\n",
    "        \n",
    "        del batch\n",
    "        \n",
    "    model.eval()\n",
    "    total_test_loss = 0\n",
    "    for batch in tqdm(test_loader):\n",
    "        with torch.no_grad():\n",
    "            out = model(batch.x.to(device), batch.edge_index.to(device))\n",
    "            out = out[:batch.batch_size]\n",
    "            y = batch.Attack[:batch.batch_size]\n",
    "            total_test_loss += F.cross_entropy(out, y)\n",
    "        \n",
    "        del batch\n",
    "        \n",
    "    return total_loss / len(train_loader), total_test_loss / len(test_loader)\n",
    "\n",
    "loss, test_loss = train_epoch(model, loader, test_loader)\n"
   ]
  },
  {
   "cell_type": "code",
   "execution_count": 26,
   "id": "71500708",
   "metadata": {},
   "outputs": [
    {
     "data": {
      "text/plain": [
       "(0.2832546352258613, tensor(0.1321))"
      ]
     },
     "execution_count": 26,
     "metadata": {},
     "output_type": "execute_result"
    }
   ],
   "source": [
    "loss, test_loss"
   ]
  },
  {
   "cell_type": "code",
   "execution_count": null,
   "id": "37d15d76",
   "metadata": {},
   "outputs": [
    {
     "name": "stdout",
     "output_type": "stream",
     "text": [
      "epoch: 1/5\n"
     ]
    },
    {
     "name": "stderr",
     "output_type": "stream",
     "text": [
      "100%|██████████| 930/930 [01:37<00:00,  9.55it/s]\n",
      "100%|██████████| 233/233 [00:12<00:00, 18.72it/s]\n"
     ]
    },
    {
     "name": "stdout",
     "output_type": "stream",
     "text": [
      "0.1899357010360046 tensor(0.1272)\n",
      "epoch: 2/5\n"
     ]
    },
    {
     "name": "stderr",
     "output_type": "stream",
     "text": [
      "100%|██████████| 930/930 [01:38<00:00,  9.40it/s]\n",
      "100%|██████████| 233/233 [00:12<00:00, 18.27it/s]\n"
     ]
    },
    {
     "name": "stdout",
     "output_type": "stream",
     "text": [
      "0.12792515023060705 tensor(0.1385)\n",
      "epoch: 3/5\n"
     ]
    },
    {
     "name": "stderr",
     "output_type": "stream",
     "text": [
      "100%|██████████| 930/930 [01:40<00:00,  9.29it/s]\n",
      "100%|██████████| 233/233 [00:12<00:00, 19.34it/s]\n"
     ]
    },
    {
     "name": "stdout",
     "output_type": "stream",
     "text": [
      "0.1236182004934357 tensor(0.1130)\n"
     ]
    },
    {
     "data": {
      "image/png": "[encoded data removed]",
      "text/plain": [
       "<Figure size 640x480 with 1 Axes>"
      ]
     },
     "metadata": {},
     "output_type": "display_data"
    }
   ],
   "source": [
    "import matplotlib.pyplot as plt\n",
    "import os\n",
    "\n",
    "l, tl = [], []\n",
    "for epoch in range(3):\n",
    "    print(f'epoch: {epoch+1}/3')\n",
    "    loss, test_loss = train_epoch(model, loader, test_loader)\n",
    "    l.append(loss)\n",
    "    tl.append(test_loss)\n",
    "    print(loss, test_loss)\n",
    "    \n",
    "plt.plot(l)\n",
    "plt.plot(tl)\n",
    "plt.show()"
   ]
  },
  {
   "cell_type": "code",
   "execution_count": 28,
   "id": "274c6d9f",
   "metadata": {},
   "outputs": [
    {
     "name": "stderr",
     "output_type": "stream",
     "text": [
      "100%|██████████| 233/233 [00:12<00:00, 19.02it/s]"
     ]
    },
    {
     "name": "stdout",
     "output_type": "stream",
     "text": [
      "\n",
      "🧾 Classification Report:\n",
      "              precision    recall  f1-score   support\n",
      "\n",
      "           0     0.9915    0.9993    0.9954     22968\n",
      "           1     0.6729    0.7389    0.7044      2099\n",
      "           2     0.7160    0.6459    0.6792      2073\n",
      "           3     0.9967    0.9159    0.9546      1998\n",
      "           4     0.9983    0.9630    0.9803       621\n",
      "\n",
      "    accuracy                         0.9500     29759\n",
      "   macro avg     0.8751    0.8526    0.8628     29759\n",
      "weighted avg     0.9504    0.9500    0.9498     29759\n",
      "\n"
     ]
    },
    {
     "name": "stderr",
     "output_type": "stream",
     "text": [
      "\n"
     ]
    }
   ],
   "source": [
    "from sklearn.metrics import classification_report\n",
    "\n",
    "def evaluate(model, test_loader, digits=4):\n",
    "    model.eval()\n",
    "    total_test_loss = 0\n",
    "    y_true = []\n",
    "    y_pred = []\n",
    "\n",
    "    with torch.no_grad():\n",
    "        for batch in tqdm(test_loader):\n",
    "            batch = batch.to(device)\n",
    "            out = model(batch.x, batch.edge_index)\n",
    "            out = out[:batch.batch_size]\n",
    "            y = batch.Attack[:batch.batch_size]\n",
    "\n",
    "            preds = out.argmax(dim=1)\n",
    "            y_true.append(y.cpu())\n",
    "            y_pred.append(preds.cpu())\n",
    "            total_test_loss += F.cross_entropy(out, y).item()\n",
    "            del batch\n",
    "\n",
    "    # Flatten all batches\n",
    "    y_true = torch.cat(y_true).numpy()\n",
    "    y_pred = torch.cat(y_pred).numpy()\n",
    "\n",
    "    return classification_report(y_true, y_pred, digits=digits)\n",
    "\n",
    "\n",
    "cr = evaluate(model, test_loader)\n",
    "print(\"\\n🧾 Classification Report:\")\n",
    "print(cr)"
   ]
  },
  {
   "cell_type": "code",
   "execution_count": 30,
   "id": "de61f1de",
   "metadata": {},
   "outputs": [],
   "source": [
    "th.save(model.state_dict(), 'interm/GraphSAGE_BoTIoT.pth')"
   ]
  }
 ],
 "metadata": {
  "kernelspec": {
   "display_name": "venv",
   "language": "python",
   "name": "python3"
  },
  "language_info": {
   "codemirror_mode": {
    "name": "ipython",
    "version": 3
   },
   "file_extension": ".py",
   "mimetype": "text/x-python",
   "name": "python",
   "nbconvert_exporter": "python",
   "pygments_lexer": "ipython3",
   "version": "3.11.2"
  }
 },
 "nbformat": 4,
 "nbformat_minor": 5
}
