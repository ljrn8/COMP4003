{
 "cells": [
  {
   "cell_type": "code",
   "execution_count": 8,
   "id": "98e985f4",
   "metadata": {},
   "outputs": [
    {
     "name": "stdout",
     "output_type": "stream",
     "text": [
      "The autoreload extension is already loaded. To reload it, use:\n",
      "  %reload_ext autoreload\n"
     ]
    },
    {
     "data": {
      "text/plain": [
       "device(type='cpu')"
      ]
     },
     "execution_count": 8,
     "metadata": {},
     "output_type": "execute_result"
    }
   ],
   "source": [
    "%load_ext autoreload\n",
    "%autoreload 2\n",
    "\n",
    "import pickle \n",
    "import torch as th\n",
    "from torch_geometric.explain import Explainer, CaptumExplainer\n",
    "import torch.nn.functional as F\n",
    "import torch\n",
    "from config import UQ_dtypes\n",
    "import pandas as pd\n",
    "\n",
    "device = torch.device('cuda' if torch.cuda.is_available() else 'cpu')\n",
    "device"
   ]
  },
  {
   "cell_type": "markdown",
   "id": "9aab9335",
   "metadata": {},
   "source": [
    "### Preprocess Flows"
   ]
  },
  {
   "cell_type": "code",
   "execution_count": 9,
   "id": "67634921",
   "metadata": {},
   "outputs": [
    {
     "name": "stdout",
     "output_type": "stream",
     "text": [
      "preprocessing\n"
     ]
    },
    {
     "name": "stderr",
     "output_type": "stream",
     "text": [
      "/tmp/ipykernel_401629/1540037394.py:10: FutureWarning: Downcasting behavior in `replace` is deprecated and will be removed in a future version. To retain the old behavior, explicitly call `result.infer_objects(copy=False)`. To opt-in to the future behavior, set `pd.set_option('future.no_silent_downcasting', True)`\n",
      "  data.proto = data.proto.replace('tcp', 0)\n"
     ]
    }
   ],
   "source": [
    "import regex as re\n",
    "\n",
    "print('preprocessing')\n",
    "\n",
    "data = pd.read_csv('raw/ToN_v1_train_test_network.csv', dtype=UQ_dtypes)\n",
    "\n",
    "# data = data.drop('ts', axis=1)\n",
    "data = data[data.proto == 'tcp']\n",
    "assert len(data) > 0\n",
    "data.proto = data.proto.replace('tcp', 0)\n",
    "\n",
    "src_ip_port = data.src_ip.astype(str) + ':' + data.src_port.astype(str)\n",
    "data.insert(0, 'src_ip_port', src_ip_port)\n",
    "\n",
    "dst_ip_port = data.dst_ip.astype(str) + ':' + data.dst_port.astype(str)\n",
    "data.insert(1, 'dst_ip_port', dst_ip_port)\n",
    "\n",
    "ip_src_type = data.src_ip.apply(lambda ip: 1 if (re.search('^10[.]', ip) or re.search('^172[.][1-3][678901][.]', ip) or re.search('^192[.]168[.]', ip)) else 0)\n",
    "data.insert(2, 'ip_src_type', ip_src_type)\n",
    "data = data.drop('src_ip', axis=1)\n",
    "\n",
    "ip_dst_type = data.dst_ip.apply(lambda ip: 1 if (re.search('^10[.]', ip) or re.search('^172[.][1-3][678901][.]', ip) or re.search('^192[.]168[.]', ip)) else 0)\n",
    "data.insert(3, 'ip_dst_type', ip_dst_type)\n",
    "data = data.drop('dst_ip', axis=1)\n",
    "\n",
    "src_port = data.src_port.astype(int)\n",
    "src_port_wellknown = ((src_port >= 0) & (src_port <= 1023))\n",
    "src_port_wellknown = src_port_wellknown.astype(int)\n",
    "src_port_registered = ((src_port >= 1024) & (src_port <= 49151))\n",
    "src_port_registered = src_port_registered.astype(int)\n",
    "src_port_private = (src_port >= 49152)\n",
    "src_port_private = src_port_private.astype(int)\n",
    "data.insert(4, 'src_port_wellknown', src_port_wellknown)\n",
    "data.insert(5, 'src_port_registered', src_port_registered)\n",
    "data.insert(6, 'src_port_private', src_port_private)\n",
    "data = data.drop('src_port', axis=1)\n",
    "\n",
    "dst_port = data.dst_port.astype(int)\n",
    "dst_port_wellknown = ((dst_port >= 0) & (dst_port <= 1023))\n",
    "dst_port_wellknown = dst_port_wellknown.astype(int)\n",
    "dst_port_registered = ((dst_port >= 1024) & (dst_port <= 49151))\n",
    "dst_port_registered = dst_port_registered.astype(int)\n",
    "dst_port_private = (dst_port >= 49152)\n",
    "dst_port_private = dst_port_private.astype(int)\n",
    "data.insert(7, 'dst_port_wellknown', dst_port_wellknown)\n",
    "data.insert(8, 'dst_port_registered', dst_port_registered)\n",
    "data.insert(9, 'dst_port_private', dst_port_private)\n",
    "data = data.drop('dst_port', axis=1)\n",
    "\n",
    "data = data.drop(data[~data.service.isin(['-', 'dns', 'http', 'ssl'])].index)\n",
    "service = pd.get_dummies(data.service)\n",
    "data.insert(10, '-', service['-'].astype(int))\n",
    "data.insert(11, 'dns', service['dns'].astype(int))\n",
    "data.insert(12, 'http', service['http'].astype(int))\n",
    "data.insert(13, 'ssl', service['ssl'].astype(int))\n",
    "data = data.drop('service', axis=1)\n",
    "\n",
    "data = data.drop(data[~data.conn_state.isin(['S0', 'S1', 'SF', 'REJ', 'S2', 'S3', 'RSTO', 'RSTR', 'RSTOS0', 'RSTRH', 'SH', 'SHR', 'OTH'])].index)\n",
    "conn_state = pd.get_dummies(data.conn_state)\n",
    "data.insert(14, 'S0', conn_state['S0'].astype(int))\n",
    "data.insert(15, 'S1', conn_state['S1'].astype(int))\n",
    "data.insert(16, 'SF', conn_state['SF'].astype(int))\n",
    "data.insert(17, 'REJ', conn_state['REJ'].astype(int))\n",
    "data.insert(18, 'S2', conn_state['S2'].astype(int))\n",
    "data.insert(19, 'S3', conn_state['S3'].astype(int))\n",
    "data.insert(20, 'RSTO', conn_state['RSTO'].astype(int))\n",
    "data.insert(21, 'RSTR', conn_state['RSTR'].astype(int))\n",
    "data.insert(22, 'RSTOS0', conn_state['RSTOS0'].astype(int))\n",
    "data.insert(23, 'RSTRH', conn_state['RSTRH'].astype(int))\n",
    "data.insert(24, 'SH', conn_state['SH'].astype(int))\n",
    "data.insert(25, 'SHR', conn_state['SHR'].astype(int))\n",
    "data.insert(26, 'OTH', conn_state['OTH'].astype(int))\n",
    "data = data.drop('conn_state', axis=1)\n",
    "\n",
    "tot_bytes = data.src_bytes + data.dst_bytes\n",
    "data.insert(36, 'tot_bytes', tot_bytes)\n",
    "\n",
    "tot_pkts = data.src_pkts + data.dst_pkts\n",
    "data.insert(37, 'tot_pkts', tot_pkts)\n",
    "\n",
    "data = data.drop(['dns_query', 'dns_qclass', 'dns_qtype', 'dns_rcode', 'dns_AA', 'dns_RD', 'dns_RA', 'dns_rejected', 'ssl_version', 'ssl_cipher', 'ssl_resumed', 'ssl_established', 'ssl_subject', 'ssl_issuer', 'http_trans_depth', 'http_method', 'http_uri', 'http_version', 'http_request_body_len', 'http_response_body_len', 'http_status_code', 'http_user_agent', 'http_orig_mime_types', 'http_resp_mime_types', 'weird_name', 'weird_addl', 'weird_notice'], axis=1)\n",
    "\n",
    "ben_data = data[data.label == 0]#.drop('type', axis=1)\n",
    "mal_data = data[data.label == 1]#.drop('type', axis=1)\n",
    "\n",
    "# if len(ben_data) >= len(mal_data) * 10:\n",
    "#     ben_data = ben_data.sample(len(mal_data) * 10)\n",
    "# else:\n",
    "#     mal_data = mal_data.sample(len(ben_data) // 10)\n",
    "\n",
    "data = pd.concat([ben_data, mal_data], ignore_index=True).sample(frac=1)\n",
    "\n",
    "data.drop(\"label\", axis=1, inplace=True) # for binary classification only\n",
    "\n",
    "from sklearn.model_selection import train_test_split\n",
    "\n",
    "from sklearn.preprocessing import LabelEncoder\n",
    "y_encoder = LabelEncoder()\n",
    "data['type'] = y_encoder.fit_transform(data['type'].astype(str))\n",
    "\n",
    "train, test = train_test_split(data, test_size=0.2)\n",
    "\n",
    "train.to_csv('interm/ToN_v1_train.csv', index=False)\n",
    "test.to_csv('interm/ToN_v1_test.csv', index=False)\n"
   ]
  },
  {
   "cell_type": "code",
   "execution_count": 10,
   "id": "be85f914",
   "metadata": {},
   "outputs": [
    {
     "data": {
      "text/plain": [
       "(133788, 33448)"
      ]
     },
     "execution_count": 10,
     "metadata": {},
     "output_type": "execute_result"
    }
   ],
   "source": [
    "len(train), len(test)"
   ]
  },
  {
   "cell_type": "code",
   "execution_count": null,
   "id": "17dd7e08",
   "metadata": {},
   "outputs": [
    {
     "name": "stdout",
     "output_type": "stream",
     "text": [
      "backdoor 15831\n",
      "ddos 11878\n",
      "dos 14927\n",
      "injection 15383\n",
      "mitm 333\n",
      "normal 14445\n",
      "password 15051\n",
      "ransomware 15519\n",
      "scanning 15549\n",
      "xss 14872\n"
     ]
    },
    {
     "ename": "",
     "evalue": "",
     "output_type": "error",
     "traceback": [
      "\u001b[1;31mThe Kernel crashed while executing code in the current cell or a previous cell. \n",
      "\u001b[1;31mPlease review the code in the cell(s) to identify a possible cause of the failure. \n",
      "\u001b[1;31mClick <a href='https://aka.ms/vscodeJupyterKernelCrash'>here</a> for more info. \n",
      "\u001b[1;31mView Jupyter <a href='command:jupyter.viewOutput'>log</a> for further details."
     ]
    }
   ],
   "source": [
    "for c, df in train.groupby('type'):\n",
    "    print(y_encoder.inverse_transform([c])[0], len(df))"
   ]
  },
  {
   "cell_type": "markdown",
   "id": "6337ec8a",
   "metadata": {},
   "source": [
    "### Graph Encode"
   ]
  },
  {
   "cell_type": "code",
   "execution_count": null,
   "id": "87ba6dff",
   "metadata": {},
   "outputs": [],
   "source": [
    "import networkx as nx\n",
    "import dgl \n",
    "import numpy as np\n",
    "\n",
    "def graph_encode(data, linegraph=True):\n",
    "    \n",
    "    attrs = [c for c in data.columns if c not in (\"src_ip_port\", \"dst_ip_port\", \"type\")]\n",
    "    data['x'] = data[attrs].values.tolist()\n",
    "    data['x'] = data['x'].apply(lambda x: np.array(x, dtype=np.float32))\n",
    "\n",
    "    G = nx.from_pandas_edgelist(data, source='src_ip_port', \n",
    "                            target='dst_ip_port', \n",
    "                            edge_attr=['x', 'type'],  # !\n",
    "                            create_using=nx.MultiGraph())\n",
    "\n",
    "    G = G.to_directed()\n",
    "    G = dgl.from_networkx(G, edge_attrs=['x', 'type'])\n",
    "    \n",
    "    if linegraph:\n",
    "        G = G.line_graph(shared=True)\n",
    "        \n",
    "    print(G.number_of_nodes(), G.number_of_edges())\n",
    "    return G\n",
    "\n",
    "\n",
    "G_train = graph_encode(train, linegraph=True)\n",
    "G_test = graph_encode(test, linegraph=True)"
   ]
  },
  {
   "cell_type": "markdown",
   "id": "2f1d3e6e",
   "metadata": {},
   "source": [
    "### Train"
   ]
  },
  {
   "cell_type": "code",
   "execution_count": 6,
   "id": "ebf23fcd",
   "metadata": {},
   "outputs": [
    {
     "ename": "NameError",
     "evalue": "name 'G_train' is not defined",
     "output_type": "error",
     "traceback": [
      "\u001b[31m---------------------------------------------------------------------------\u001b[39m",
      "\u001b[31mNameError\u001b[39m                                 Traceback (most recent call last)",
      "\u001b[36mCell\u001b[39m\u001b[36m \u001b[39m\u001b[32mIn[6]\u001b[39m\u001b[32m, line 5\u001b[39m\n\u001b[32m      2\u001b[39m \u001b[38;5;28;01mfrom\u001b[39;00m\u001b[38;5;250m \u001b[39m\u001b[34;01mtorch_geometric\u001b[39;00m\u001b[34;01m.\u001b[39;00m\u001b[34;01mutils\u001b[39;00m\u001b[38;5;250m \u001b[39m\u001b[38;5;28;01mimport\u001b[39;00m from_dgl\n\u001b[32m      3\u001b[39m \u001b[38;5;28;01mimport\u001b[39;00m\u001b[38;5;250m \u001b[39m\u001b[34;01mnumpy\u001b[39;00m\u001b[38;5;250m \u001b[39m\u001b[38;5;28;01mas\u001b[39;00m\u001b[38;5;250m \u001b[39m\u001b[34;01mnp\u001b[39;00m \n\u001b[32m----> \u001b[39m\u001b[32m5\u001b[39m G_train = from_dgl(\u001b[43mG_train\u001b[49m)\n\u001b[32m      6\u001b[39m G_test = from_dgl(G_test)\n\u001b[32m      8\u001b[39m loader = NeighborLoader(\n\u001b[32m      9\u001b[39m     G_train,\n\u001b[32m     10\u001b[39m     num_neighbors=[\u001b[32m10\u001b[39m] * \u001b[32m3\u001b[39m,\n\u001b[32m   (...)\u001b[39m\u001b[32m     13\u001b[39m     num_workers=\u001b[32m6\u001b[39m,\n\u001b[32m     14\u001b[39m )\n",
      "\u001b[31mNameError\u001b[39m: name 'G_train' is not defined"
     ]
    }
   ],
   "source": [
    "\n",
    "from torch_geometric.loader import NeighborLoader\n",
    "from torch_geometric.utils import from_dgl\n",
    "import numpy as np \n",
    "\n",
    "G_train = from_dgl(G_train)\n",
    "G_test = from_dgl(G_test)\n",
    "\n",
    "loader = NeighborLoader(\n",
    "    G_train,\n",
    "    num_neighbors=[10] * 3,\n",
    "    batch_size=128,\n",
    "    shuffle=False,\n",
    "    num_workers=6,\n",
    ")\n",
    "\n",
    "test_loader = NeighborLoader(\n",
    "    G_test,\n",
    "    num_neighbors=[10] * 3,\n",
    "    batch_size=128,\n",
    "    shuffle=False,\n",
    "    num_workers=6,\n",
    ")"
   ]
  },
  {
   "cell_type": "code",
   "execution_count": null,
   "id": "a832d240",
   "metadata": {},
   "outputs": [
    {
     "data": {
      "text/plain": [
       "array([5, 0, 9, 6, 8, 3, 2, 1, 7])"
      ]
     },
     "execution_count": 42,
     "metadata": {},
     "output_type": "execute_result"
    }
   ],
   "source": [
    "test.type.unique()"
   ]
  },
  {
   "cell_type": "code",
   "execution_count": 45,
   "id": "44566bb6",
   "metadata": {},
   "outputs": [
    {
     "name": "stderr",
     "output_type": "stream",
     "text": [
      "  0%|          | 0/220 [00:00<?, ?it/s]"
     ]
    },
    {
     "name": "stderr",
     "output_type": "stream",
     "text": [
      "100%|██████████| 220/220 [00:12<00:00, 17.83it/s]\n",
      "100%|██████████| 55/55 [00:02<00:00, 24.78it/s]\n"
     ]
    },
    {
     "data": {
      "text/plain": [
       "(353.2060204114765, tensor(12.9773))"
      ]
     },
     "execution_count": 45,
     "metadata": {},
     "output_type": "execute_result"
    }
   ],
   "source": [
    "import torch\n",
    "import torch.nn.functional as F\n",
    "from tqdm import tqdm\n",
    "from torch_geometric.nn.models.basic_gnn import GraphSAGE\n",
    "\n",
    "model = GraphSAGE(\n",
    "    36,\n",
    "    hidden_channels=128,\n",
    "    out_channels=10,\n",
    "    num_layers=3,\n",
    ").to(device)\n",
    "\n",
    "optimizer = torch.optim.Adam(model.parameters(), lr=0.01)\n",
    "\n",
    "def train_epoch(model, train_loader, test_loader):\n",
    "    model.train()\n",
    "    total_loss = 0\n",
    "    for batch in tqdm(train_loader):\n",
    "        \n",
    "        optimizer.zero_grad()\n",
    "        batch = batch.to(device)   \n",
    "        out= model(batch.x.to(device), batch.edge_index.to(device))\n",
    "        out = out[:batch.batch_size]\n",
    "        y = batch.type[:batch.batch_size]\n",
    "\n",
    "        loss = F.cross_entropy(out, y)\n",
    "        total_loss += loss.item()\n",
    "        loss.backward()\n",
    "        optimizer.step()\n",
    "        \n",
    "        del batch\n",
    "        \n",
    "    model.eval()\n",
    "    total_test_loss = 0\n",
    "    for batch in tqdm(test_loader):\n",
    "        with torch.no_grad():\n",
    "            out = model(batch.x.to(device), batch.edge_index.to(device))\n",
    "            out = out[:batch.batch_size]\n",
    "            y = batch.type[:batch.batch_size]\n",
    "            total_test_loss += F.cross_entropy(out, y)\n",
    "        \n",
    "        del batch\n",
    "        \n",
    "    return total_loss / len(train_loader), total_test_loss / len(test_loader)\n",
    "\n",
    "\n",
    "train_epoch(model, loader, test_loader)"
   ]
  },
  {
   "cell_type": "code",
   "execution_count": 46,
   "id": "9b2459a5",
   "metadata": {},
   "outputs": [
    {
     "name": "stderr",
     "output_type": "stream",
     "text": [
      "100%|██████████| 220/220 [00:11<00:00, 18.55it/s]\n",
      "100%|██████████| 55/55 [00:01<00:00, 48.72it/s]\n"
     ]
    },
    {
     "name": "stdout",
     "output_type": "stream",
     "text": [
      "[137.8742707367563] [tensor(193.3638)]\n"
     ]
    },
    {
     "name": "stderr",
     "output_type": "stream",
     "text": [
      "100%|██████████| 220/220 [00:12<00:00, 17.74it/s]\n",
      "100%|██████████| 55/55 [00:01<00:00, 45.95it/s]\n"
     ]
    },
    {
     "name": "stdout",
     "output_type": "stream",
     "text": [
      "[137.8742707367563, 115.64437878023494] [tensor(193.3638), tensor(368.4099)]\n"
     ]
    },
    {
     "name": "stderr",
     "output_type": "stream",
     "text": [
      "100%|██████████| 220/220 [00:11<00:00, 18.48it/s]\n",
      "100%|██████████| 55/55 [00:01<00:00, 46.08it/s]\n"
     ]
    },
    {
     "name": "stdout",
     "output_type": "stream",
     "text": [
      "[137.8742707367563, 115.64437878023494, 230.80822511174802] [tensor(193.3638), tensor(368.4099), tensor(136.1661)]\n"
     ]
    },
    {
     "name": "stderr",
     "output_type": "stream",
     "text": [
      "100%|██████████| 220/220 [00:11<00:00, 18.36it/s]\n",
      "100%|██████████| 55/55 [00:01<00:00, 46.95it/s]\n"
     ]
    },
    {
     "name": "stdout",
     "output_type": "stream",
     "text": [
      "[137.8742707367563, 115.64437878023494, 230.80822511174802, 99.91695394165687] [tensor(193.3638), tensor(368.4099), tensor(136.1661), tensor(382.7239)]\n"
     ]
    },
    {
     "name": "stderr",
     "output_type": "stream",
     "text": [
      "100%|██████████| 220/220 [00:12<00:00, 18.18it/s]\n",
      "100%|██████████| 55/55 [00:01<00:00, 42.70it/s]\n"
     ]
    },
    {
     "name": "stdout",
     "output_type": "stream",
     "text": [
      "[137.8742707367563, 115.64437878023494, 230.80822511174802, 99.91695394165687, 105.10860936983742] [tensor(193.3638), tensor(368.4099), tensor(136.1661), tensor(382.7239), tensor(113.4081)]\n"
     ]
    },
    {
     "name": "stderr",
     "output_type": "stream",
     "text": [
      "100%|██████████| 220/220 [00:12<00:00, 17.78it/s]\n",
      "100%|██████████| 55/55 [00:01<00:00, 47.24it/s]\n"
     ]
    },
    {
     "name": "stdout",
     "output_type": "stream",
     "text": [
      "[137.8742707367563, 115.64437878023494, 230.80822511174802, 99.91695394165687, 105.10860936983742, 46.55646723158742] [tensor(193.3638), tensor(368.4099), tensor(136.1661), tensor(382.7239), tensor(113.4081), tensor(65.6878)]\n"
     ]
    },
    {
     "name": "stderr",
     "output_type": "stream",
     "text": [
      "100%|██████████| 220/220 [00:12<00:00, 18.28it/s]\n",
      "100%|██████████| 55/55 [00:01<00:00, 47.00it/s]\n"
     ]
    },
    {
     "name": "stdout",
     "output_type": "stream",
     "text": [
      "[137.8742707367563, 115.64437878023494, 230.80822511174802, 99.91695394165687, 105.10860936983742, 46.55646723158742, 14.665054005590818] [tensor(193.3638), tensor(368.4099), tensor(136.1661), tensor(382.7239), tensor(113.4081), tensor(65.6878), tensor(22.2868)]\n"
     ]
    },
    {
     "name": "stderr",
     "output_type": "stream",
     "text": [
      "100%|██████████| 220/220 [00:12<00:00, 17.99it/s]\n",
      "100%|██████████| 55/55 [00:01<00:00, 45.90it/s]\n"
     ]
    },
    {
     "name": "stdout",
     "output_type": "stream",
     "text": [
      "[137.8742707367563, 115.64437878023494, 230.80822511174802, 99.91695394165687, 105.10860936983742, 46.55646723158742, 14.665054005590818, 6.143916072874245] [tensor(193.3638), tensor(368.4099), tensor(136.1661), tensor(382.7239), tensor(113.4081), tensor(65.6878), tensor(22.2868), tensor(15.6187)]\n"
     ]
    },
    {
     "name": "stderr",
     "output_type": "stream",
     "text": [
      "100%|██████████| 220/220 [00:11<00:00, 18.44it/s]\n",
      "100%|██████████| 55/55 [00:01<00:00, 46.94it/s]\n"
     ]
    },
    {
     "name": "stdout",
     "output_type": "stream",
     "text": [
      "[137.8742707367563, 115.64437878023494, 230.80822511174802, 99.91695394165687, 105.10860936983742, 46.55646723158742, 14.665054005590818, 6.143916072874245, 4.426099306922829] [tensor(193.3638), tensor(368.4099), tensor(136.1661), tensor(382.7239), tensor(113.4081), tensor(65.6878), tensor(22.2868), tensor(15.6187), tensor(9.7362)]\n"
     ]
    },
    {
     "name": "stderr",
     "output_type": "stream",
     "text": [
      "100%|██████████| 220/220 [00:11<00:00, 18.41it/s]\n",
      "100%|██████████| 55/55 [00:01<00:00, 46.55it/s]\n"
     ]
    },
    {
     "name": "stdout",
     "output_type": "stream",
     "text": [
      "[137.8742707367563, 115.64437878023494, 230.80822511174802, 99.91695394165687, 105.10860936983742, 46.55646723158742, 14.665054005590818, 6.143916072874245, 4.426099306922829, 2.332655837467279] [tensor(193.3638), tensor(368.4099), tensor(136.1661), tensor(382.7239), tensor(113.4081), tensor(65.6878), tensor(22.2868), tensor(15.6187), tensor(9.7362), tensor(10.6420)]\n"
     ]
    },
    {
     "name": "stderr",
     "output_type": "stream",
     "text": [
      "100%|██████████| 220/220 [00:12<00:00, 17.94it/s]\n",
      "100%|██████████| 55/55 [00:01<00:00, 45.69it/s]\n"
     ]
    },
    {
     "name": "stdout",
     "output_type": "stream",
     "text": [
      "[137.8742707367563, 115.64437878023494, 230.80822511174802, 99.91695394165687, 105.10860936983742, 46.55646723158742, 14.665054005590818, 6.143916072874245, 4.426099306922829, 2.332655837467279, 2.072020026563074] [tensor(193.3638), tensor(368.4099), tensor(136.1661), tensor(382.7239), tensor(113.4081), tensor(65.6878), tensor(22.2868), tensor(15.6187), tensor(9.7362), tensor(10.6420), tensor(11.3103)]\n"
     ]
    },
    {
     "name": "stderr",
     "output_type": "stream",
     "text": [
      "100%|██████████| 220/220 [00:12<00:00, 17.89it/s]\n",
      "100%|██████████| 55/55 [00:01<00:00, 46.09it/s]\n"
     ]
    },
    {
     "name": "stdout",
     "output_type": "stream",
     "text": [
      "[137.8742707367563, 115.64437878023494, 230.80822511174802, 99.91695394165687, 105.10860936983742, 46.55646723158742, 14.665054005590818, 6.143916072874245, 4.426099306922829, 2.332655837467279, 2.072020026563074, 2.8241062566553325] [tensor(193.3638), tensor(368.4099), tensor(136.1661), tensor(382.7239), tensor(113.4081), tensor(65.6878), tensor(22.2868), tensor(15.6187), tensor(9.7362), tensor(10.6420), tensor(11.3103), tensor(7.0267)]\n"
     ]
    },
    {
     "name": "stderr",
     "output_type": "stream",
     "text": [
      "100%|██████████| 220/220 [00:12<00:00, 18.01it/s]\n",
      "100%|██████████| 55/55 [00:01<00:00, 47.75it/s]\n"
     ]
    },
    {
     "name": "stdout",
     "output_type": "stream",
     "text": [
      "[137.8742707367563, 115.64437878023494, 230.80822511174802, 99.91695394165687, 105.10860936983742, 46.55646723158742, 14.665054005590818, 6.143916072874245, 4.426099306922829, 2.332655837467279, 2.072020026563074, 2.8241062566553325, 1.3502893772949889] [tensor(193.3638), tensor(368.4099), tensor(136.1661), tensor(382.7239), tensor(113.4081), tensor(65.6878), tensor(22.2868), tensor(15.6187), tensor(9.7362), tensor(10.6420), tensor(11.3103), tensor(7.0267), tensor(6.1023)]\n"
     ]
    },
    {
     "name": "stderr",
     "output_type": "stream",
     "text": [
      "100%|██████████| 220/220 [00:12<00:00, 18.09it/s]\n",
      "100%|██████████| 55/55 [00:01<00:00, 47.19it/s]\n"
     ]
    },
    {
     "name": "stdout",
     "output_type": "stream",
     "text": [
      "[137.8742707367563, 115.64437878023494, 230.80822511174802, 99.91695394165687, 105.10860936983742, 46.55646723158742, 14.665054005590818, 6.143916072874245, 4.426099306922829, 2.332655837467279, 2.072020026563074, 2.8241062566553325, 1.3502893772949889, 292.72162609741264] [tensor(193.3638), tensor(368.4099), tensor(136.1661), tensor(382.7239), tensor(113.4081), tensor(65.6878), tensor(22.2868), tensor(15.6187), tensor(9.7362), tensor(10.6420), tensor(11.3103), tensor(7.0267), tensor(6.1023), tensor(1.1756)]\n"
     ]
    },
    {
     "name": "stderr",
     "output_type": "stream",
     "text": [
      "100%|██████████| 220/220 [00:12<00:00, 18.13it/s]\n",
      "100%|██████████| 55/55 [00:01<00:00, 44.27it/s]\n"
     ]
    },
    {
     "name": "stdout",
     "output_type": "stream",
     "text": [
      "[137.8742707367563, 115.64437878023494, 230.80822511174802, 99.91695394165687, 105.10860936983742, 46.55646723158742, 14.665054005590818, 6.143916072874245, 4.426099306922829, 2.332655837467279, 2.072020026563074, 2.8241062566553325, 1.3502893772949889, 292.72162609741264, 1.1219572326676412] [tensor(193.3638), tensor(368.4099), tensor(136.1661), tensor(382.7239), tensor(113.4081), tensor(65.6878), tensor(22.2868), tensor(15.6187), tensor(9.7362), tensor(10.6420), tensor(11.3103), tensor(7.0267), tensor(6.1023), tensor(1.1756), tensor(0.8466)]\n"
     ]
    },
    {
     "data": {
      "image/png": "[encoded data removed]",
      "text/plain": [
       "<Figure size 640x480 with 1 Axes>"
      ]
     },
     "metadata": {},
     "output_type": "display_data"
    }
   ],
   "source": [
    "import matplotlib.pyplot as plt\n",
    "import os\n",
    "\n",
    "l, tl = [], []\n",
    "for epoch in range(15):\n",
    "    loss, test_loss = train_epoch(model, loader, test_loader)\n",
    "    l.append(loss)\n",
    "    tl.append(test_loss)\n",
    "    print(l, tl)\n",
    "    \n",
    "plt.plot(l)\n",
    "plt.plot(tl)\n",
    "plt.show()"
   ]
  },
  {
   "cell_type": "code",
   "execution_count": 48,
   "id": "e54823a8",
   "metadata": {},
   "outputs": [
    {
     "name": "stderr",
     "output_type": "stream",
     "text": [
      "  0%|          | 0/55 [00:00<?, ?it/s]"
     ]
    },
    {
     "name": "stderr",
     "output_type": "stream",
     "text": [
      "100%|██████████| 55/55 [00:01<00:00, 46.46it/s]"
     ]
    },
    {
     "name": "stdout",
     "output_type": "stream",
     "text": [
      "\n",
      "🧾 Classification Report:\n",
      "              precision    recall  f1-score   support\n",
      "\n",
      "           0     0.8496    1.0000    0.9187        96\n",
      "           1     0.5410    0.6600    0.5946        50\n",
      "           2     0.9263    0.9167    0.9215        96\n",
      "           3     0.1923    0.1163    0.1449        86\n",
      "           5     0.9857    0.9934    0.9895      6365\n",
      "           6     0.5417    0.4149    0.4699        94\n",
      "           7     0.9595    0.9595    0.9595        74\n",
      "           8     0.9429    0.8049    0.8684        82\n",
      "           9     0.8101    0.7273    0.7665        88\n",
      "\n",
      "    accuracy                         0.9657      7031\n",
      "   macro avg     0.7499    0.7325    0.7370      7031\n",
      "weighted avg     0.9612    0.9657    0.9630      7031\n",
      "\n"
     ]
    },
    {
     "name": "stderr",
     "output_type": "stream",
     "text": [
      "\n"
     ]
    }
   ],
   "source": [
    "from sklearn.metrics import classification_report\n",
    "\n",
    "def evaluate(model, test_loader, digits=4):\n",
    "    model.eval()\n",
    "    total_test_loss = 0\n",
    "    y_true = []\n",
    "    y_pred = []\n",
    "\n",
    "    with torch.no_grad():\n",
    "        for batch in tqdm(test_loader):\n",
    "            batch = batch.to(device)\n",
    "            out = model(batch.x, batch.edge_index)\n",
    "            out = out[:batch.batch_size]\n",
    "            y = batch.type[:batch.batch_size]\n",
    "\n",
    "            preds = out.argmax(dim=1)\n",
    "            y_true.append(y.cpu())\n",
    "            y_pred.append(preds.cpu())\n",
    "            total_test_loss += F.cross_entropy(out, y).item()\n",
    "            del batch\n",
    "\n",
    "    # Flatten all batches\n",
    "    y_true = torch.cat(y_true).numpy()\n",
    "    y_pred = torch.cat(y_pred).numpy()\n",
    "\n",
    "    return classification_report(y_true, y_pred, digits=digits)\n",
    "\n",
    "\n",
    "cr = evaluate(model, test_loader)\n",
    "print(\"\\n🧾 Classification Report:\")\n",
    "print(cr)"
   ]
  },
  {
   "cell_type": "markdown",
   "id": "6b948c40",
   "metadata": {},
   "source": [
    "### XAI"
   ]
  },
  {
   "cell_type": "code",
   "execution_count": 49,
   "id": "f3e9d5f4",
   "metadata": {},
   "outputs": [
    {
     "name": "stdout",
     "output_type": "stream",
     "text": [
      "5 14531\n",
      "6 211\n",
      "8 207\n",
      "0 197\n",
      "2 183\n",
      "9 196\n",
      "7 177\n",
      "1 136\n",
      "3 176\n",
      "4 4\n"
     ]
    }
   ],
   "source": [
    "for c in list(train.type.unique()):\n",
    "    \n",
    "    print(\n",
    "        c, len(train[train.type == c])\n",
    "    )"
   ]
  }
 ],
 "metadata": {
  "kernelspec": {
   "display_name": "venv",
   "language": "python",
   "name": "python3"
  },
  "language_info": {
   "codemirror_mode": {
    "name": "ipython",
    "version": 3
   },
   "file_extension": ".py",
   "mimetype": "text/x-python",
   "name": "python",
   "nbconvert_exporter": "python",
   "pygments_lexer": "ipython3",
   "version": "3.11.2"
  }
 },
 "nbformat": 4,
 "nbformat_minor": 5
}
