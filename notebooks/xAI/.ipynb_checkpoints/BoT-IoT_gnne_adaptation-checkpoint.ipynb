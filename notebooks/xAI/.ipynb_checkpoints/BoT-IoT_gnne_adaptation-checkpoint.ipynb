{
 "cells": [
  {
   "cell_type": "markdown",
   "id": "c7e562a1",
   "metadata": {},
   "source": [
    "### Setup"
   ]
  },
  {
   "cell_type": "code",
   "execution_count": 1,
   "id": "c41ceb9c",
   "metadata": {},
   "outputs": [
    {
     "ename": "ModuleNotFoundError",
     "evalue": "No module named 'matplotlib'",
     "output_type": "error",
     "traceback": [
      "\u001b[31m---------------------------------------------------------------------------\u001b[39m",
      "\u001b[31mModuleNotFoundError\u001b[39m                       Traceback (most recent call last)",
      "\u001b[36mCell\u001b[39m\u001b[36m \u001b[39m\u001b[32mIn[1]\u001b[39m\u001b[32m, line 4\u001b[39m\n\u001b[32m      1\u001b[39m get_ipython().run_line_magic(\u001b[33m'\u001b[39m\u001b[33mload_ext\u001b[39m\u001b[33m'\u001b[39m, \u001b[33m'\u001b[39m\u001b[33mautoreload\u001b[39m\u001b[33m'\u001b[39m)\n\u001b[32m      2\u001b[39m get_ipython().run_line_magic(\u001b[33m'\u001b[39m\u001b[33mautoreload\u001b[39m\u001b[33m'\u001b[39m, \u001b[33m'\u001b[39m\u001b[33m2\u001b[39m\u001b[33m'\u001b[39m)\n\u001b[32m----> \u001b[39m\u001b[32m4\u001b[39m \u001b[38;5;28;01mimport\u001b[39;00m \u001b[34;01mmatplotlib\u001b[39;00m\u001b[34;01m.\u001b[39;00m\u001b[34;01mpyplot\u001b[39;00m \u001b[38;5;28;01mas\u001b[39;00m \u001b[34;01mplt\u001b[39;00m\n\u001b[32m      5\u001b[39m \u001b[38;5;28;01mimport\u001b[39;00m \u001b[34;01mpickle\u001b[39;00m \n\u001b[32m      6\u001b[39m \u001b[38;5;28;01mimport\u001b[39;00m \u001b[34;01mtorch\u001b[39;00m \u001b[38;5;28;01mas\u001b[39;00m \u001b[34;01mth\u001b[39;00m\n",
      "\u001b[31mModuleNotFoundError\u001b[39m: No module named 'matplotlib'"
     ]
    }
   ],
   "source": [
    "%load_ext autoreload\n",
    "%autoreload 2\n",
    "\n",
    "import matplotlib.pyplot as plt\n",
    "import pickle \n",
    "import torch as th\n",
    "import torch.nn.functional as F\n",
    "import torch\n",
    "import networkx as nx\n",
    "import pandas as pd\n",
    "import numpy as np\n",
    "import dgl \n",
    "\n",
    "import torch_geometric\n",
    "from torch_geometric.explain import Explainer, CaptumExplainer, DummyExplainer, GNNExplainer\n",
    "from torch_geometric.explain.metric import *\n",
    "from torch_geometric.nn.models.basic_gnn import GraphSAGE\n",
    "from torch_geometric.utils import from_dgl\n",
    "from tqdm import tqdm\n",
    "from torch_geometric.explain import ModelConfig\n",
    "\n",
    "device = torch.device('cuda' if torch.cuda.is_available() else 'cpu')"
   ]
  },
  {
   "cell_type": "code",
   "execution_count": 27,
   "id": "678b04f7",
   "metadata": {},
   "outputs": [
    {
     "name": "stderr",
     "output_type": "stream",
     "text": [
      "/tmp/ipykernel_10421/439482650.py:24: FutureWarning: You are using `torch.load` with `weights_only=False` (the current default value), which uses the default pickle module implicitly. It is possible to construct malicious pickle data which will execute arbitrary code during unpickling (See https://github.com/pytorch/pytorch/blob/main/SECURITY.md#untrusted-models for more details). In a future release, the default value for `weights_only` will be flipped to `True`. This limits the functions that could be executed during unpickling. Arbitrary objects will no longer be allowed to be loaded via this mode unless they are explicitly allowlisted by the user via `torch.serialization.add_safe_globals`. We recommend you start setting `weights_only=True` for any use case where you don't have full control of the loaded file. Please open an issue on GitHub for any issues related to this experimental feature.\n",
      "  model.load_state_dict(th.load('../../interm/GraphSAGE_BoTIoT.pth'))\n"
     ]
    },
    {
     "data": {
      "text/plain": [
       "GraphSAGE(49, 5, num_layers=3)"
      ]
     },
     "execution_count": 27,
     "metadata": {},
     "output_type": "execute_result"
    }
   ],
   "source": [
    "test = pd.read_csv('../../interm/BoT_test.csv')\n",
    "attrs = [c for c in test.columns if c not in (\"src\", \"dst\", \"Attack\", \"x\")]\n",
    "test['x'] = test[attrs].values.tolist()\n",
    "\n",
    "def to_graph(data, linegraph=True):\n",
    "    G = nx.from_pandas_edgelist(data, source='src', \n",
    "                                target='dst', \n",
    "                                edge_attr=['x', 'Attack'], \n",
    "                                create_using=nx.MultiGraph())\n",
    "    \n",
    "    G = G.to_directed()\n",
    "    g = dgl.from_networkx(G, edge_attrs=[ 'x', 'Attack'])\n",
    "    if linegraph:\n",
    "        return g.line_graph(shared=True)\n",
    "    else:\n",
    "        return g\n",
    "\n",
    "model = GraphSAGE(\n",
    "    49,\n",
    "    hidden_channels=256,\n",
    "    out_channels=5,\n",
    "    num_layers=3,\n",
    ").to(device)\n",
    "model.load_state_dict(th.load('../../interm/GraphSAGE_BoTIoT.pth'))\n",
    "model.eval()"
   ]
  },
  {
   "cell_type": "code",
   "execution_count": null,
   "id": "9406d0c4",
   "metadata": {},
   "outputs": [
    {
     "name": "stderr",
     "output_type": "stream",
     "text": [
      "100%|██████████| 29760/29760 [00:02<00:00, 13586.45it/s]\n"
     ]
    },
    {
     "data": {
      "text/plain": [
       "85"
      ]
     },
     "execution_count": 30,
     "metadata": {},
     "output_type": "execute_result"
    }
   ],
   "source": [
    "G = to_graph(test, linegraph=False)\n",
    "G = from_dgl(G)\n",
    "\n",
    "# scaning-stars\n",
    "scanning_stars = []\n",
    "for i in tqdm(range(len(G.x))):\n",
    "    mask = G.edge_index[0] == i\n",
    "    scanners = G.edge_index[1][mask]\n",
    "    if len(scanners) > 10:\n",
    "        scanning_stars.append(i)\n",
    "\n",
    "len(scanning_stars)"
   ]
  },
  {
   "cell_type": "code",
   "execution_count": 35,
   "id": "a16e53f6",
   "metadata": {},
   "outputs": [
    {
     "ename": "TypeError",
     "evalue": "expected Tensor as element 1 in argument 0, but got list",
     "output_type": "error",
     "traceback": [
      "\u001b[31m---------------------------------------------------------------------------\u001b[39m",
      "\u001b[31mTypeError\u001b[39m                                 Traceback (most recent call last)",
      "\u001b[36mCell\u001b[39m\u001b[36m \u001b[39m\u001b[32mIn[35]\u001b[39m\u001b[32m, line 8\u001b[39m\n\u001b[32m      5\u001b[39m motif_mask = torch.zeros(X.shape[\u001b[32m0\u001b[39m])\n\u001b[32m      6\u001b[39m motif_mask[scanning_stars] = \u001b[32m1\u001b[39m\n\u001b[32m----> \u001b[39m\u001b[32m8\u001b[39m X = \u001b[43mtorch\u001b[49m\u001b[43m.\u001b[49m\u001b[43mcat\u001b[49m\u001b[43m(\u001b[49m\u001b[43m(\u001b[49m\u001b[43mX\u001b[49m\u001b[43m,\u001b[49m\u001b[43m \u001b[49m\u001b[43m[\u001b[49m\u001b[43mmotif_mask\u001b[49m\u001b[43m]\u001b[49m\u001b[43m)\u001b[49m\u001b[43m)\u001b[49m\n\u001b[32m      9\u001b[39m X.shape\n",
      "\u001b[31mTypeError\u001b[39m: expected Tensor as element 1 in argument 0, but got list"
     ]
    }
   ],
   "source": [
    "import copy\n",
    "\n",
    "X = copy.deepcopy(G.x)\n",
    "\n",
    "motif_mask = torch.zeros(X.shape[0])\n",
    "motif_mask[scanning_stars] = 1\n",
    "\n",
    "X = torch.cat((X, [motif_mask]))\n",
    "X.shape"
   ]
  },
  {
   "cell_type": "code",
   "execution_count": null,
   "id": "6fab0465",
   "metadata": {},
   "outputs": [],
   "source": []
  },
  {
   "cell_type": "code",
   "execution_count": null,
   "id": "cce946e2",
   "metadata": {},
   "outputs": [],
   "source": [
    "import torch\n",
    "import torch.nn.functional as F\n",
    "from torch_geometric.nn import GNNExplainer\n",
    "\n",
    "class GNNExplainerPP(GNNExplainer):\n",
    "    def __init__(self, model, epochs=100,\n",
    "                 tv_coef=1e-2, motif_coef=1e-2, leak_coef=1e-2,\n",
    "                 leak_feat_idx=None, motif_groups=None, node_times=None, **kwargs):\n",
    "        super().__init__(model, epochs=epochs, **kwargs)\n",
    "        self.tv_coef = tv_coef\n",
    "        self.motif_coef = motif_coef\n",
    "        self.leak_coef = leak_coef\n",
    "        self.leak_feat_idx = leak_feat_idx      # LongTensor of node feature indices\n",
    "        self.motif_groups = motif_groups or []  # list of LongTensors of *node indices*\n",
    "        self.node_times = node_times            # 1D tensor aligned with nodes\n",
    "\n",
    "    def additional_loss_terms(self, node_mask, feat_mask):\n",
    "        reg = 0\n",
    "\n",
    "        # (1) Temporal smoothness on node mask\n",
    "        if self.node_times is not None:\n",
    "            order = torch.argsort(self.node_times)\n",
    "            diffs = torch.abs(node_mask[order][1:] - node_mask[order][:-1])\n",
    "            reg = reg + self.tv_coef * diffs.sum()\n",
    "\n",
    "        # (2) Motif group-lasso: encourage selecting / dropping entire node groups\n",
    "        for g in self.motif_groups:\n",
    "            reg = reg + self.motif_coef * torch.norm(node_mask[g], p=2)\n",
    "\n",
    "        # (3) Leakage penalty on identifier-type features\n",
    "        if self.leak_feat_idx is not None and feat_mask is not None:\n",
    "            reg = reg + self.leak_coef * feat_mask[self.leak_feat_idx].abs().sum()\n",
    "\n",
    "        return reg\n",
    "\n",
    "    def loss(self, pred, target, node_mask=None, feat_mask=None):\n",
    "        pred_loss = F.nll_loss(pred, target)\n",
    "        reg_loss = self.additional_loss_terms(node_mask, feat_mask)\n",
    "        return pred_loss + reg_loss\n"
   ]
  },
  {
   "cell_type": "code",
   "execution_count": null,
   "id": "938aff7d",
   "metadata": {},
   "outputs": [],
   "source": [
    "# explainer = GNNExplainerPP(\n",
    "#     model, epochs=200,\n",
    "#     tv_coef=1e-2, motif_coef=5e-3, leak_coef=1e-2,\n",
    "#     leak_feat_idx=torch.tensor([0,1,2]),   # e.g. identifier features\n",
    "#     motif_groups=[torch.tensor([0,3,7])], # toy motif groups\n",
    "#     edge_times=torch.rand(data.edge_index.size(1)) # toy edge times\n",
    "# )\n",
    "\n",
    "# node_idx = 0\n",
    "# node_feat_mask, edge_mask = explainer.explain_node(node_idx, data.x, data.edge_index)"
   ]
  }
 ],
 "metadata": {
  "kernelspec": {
   "display_name": "Python 3 (ipykernel)",
   "language": "python",
   "name": "python3"
  },
  "language_info": {
   "codemirror_mode": {
    "name": "ipython",
    "version": 3
   },
   "file_extension": ".py",
   "mimetype": "text/x-python",
   "name": "python",
   "nbconvert_exporter": "python",
   "pygments_lexer": "ipython3",
   "version": "3.11.2"
  }
 },
 "nbformat": 4,
 "nbformat_minor": 5
}
