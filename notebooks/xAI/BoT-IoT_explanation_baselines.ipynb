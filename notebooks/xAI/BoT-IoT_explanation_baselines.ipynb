{
 "cells": [
  {
   "cell_type": "markdown",
   "id": "55088a86",
   "metadata": {},
   "source": [
    "### Setup"
   ]
  },
  {
   "cell_type": "code",
   "execution_count": 1,
   "id": "fa50379d",
   "metadata": {},
   "outputs": [
    {
     "data": {
      "text/plain": [
       "device(type='cpu')"
      ]
     },
     "execution_count": 1,
     "metadata": {},
     "output_type": "execute_result"
    }
   ],
   "source": [
    "%load_ext autoreload\n",
    "%autoreload 2\n",
    "\n",
    "import matplotlib.pyplot as plt\n",
    "import pickle \n",
    "import torch as th\n",
    "import torch.nn.functional as F\n",
    "import torch\n",
    "import networkx as nx\n",
    "import pandas as pd\n",
    "import numpy as np\n",
    "\n",
    "import torch_geometric\n",
    "from torch_geometric.explain import Explainer, CaptumExplainer, DummyExplainer, GNNExplainer\n",
    "from torch_geometric.explain.metric import *\n",
    "from torch_geometric.nn.models.basic_gnn import GraphSAGE\n",
    "from torch_geometric.utils import from_dgl\n",
    "from tqdm import tqdm\n",
    "from torch_geometric.explain import ModelConfig\n",
    "from torch_geometric.data import Data\n",
    "\n",
    "device = torch.device('cuda' if torch.cuda.is_available() else 'cpu')\n",
    "device"
   ]
  },
  {
   "cell_type": "code",
   "execution_count": 2,
   "id": "45f6ef1d",
   "metadata": {},
   "outputs": [
    {
     "name": "stdout",
     "output_type": "stream",
     "text": [
      "{'L7_PROTO': LabelEncoder(), 'ICMP_TYPE': LabelEncoder(), 'ICMP_IPV4_TYPE': LabelEncoder(), 'DNS_QUERY_TYPE': LabelEncoder(), 'FTP_COMMAND_RET_CODE': LabelEncoder(), 'Attack': LabelEncoder()}\n"
     ]
    }
   ],
   "source": [
    "import pickle \n",
    "\n",
    "with open('../../interm/label_encoders.pkl', 'rb') as f:\n",
    "    le = pickle.load(f) \n",
    "    \n",
    "target_encoder = le['Attack']\n",
    "print(le)"
   ]
  },
  {
   "cell_type": "code",
   "execution_count": 35,
   "id": "985e227e",
   "metadata": {},
   "outputs": [],
   "source": [
    "import dgl\n",
    "import numpy as np\n",
    "import scienceplots\n",
    "\n",
    "def get_batch(data, batch_size=5000):\n",
    "    all_data = data.copy()\n",
    "    while len(all_data) > 0:\n",
    "        if len(all_data) >= batch_size:\n",
    "            batch = all_data.sample(batch_size)\n",
    "            all_data = all_data.drop(batch.index)\n",
    "            yield batch\n",
    "        else:\n",
    "            batch = all_data.copy()\n",
    "            all_data = all_data.drop(batch.index)\n",
    "            yield batch\n",
    "\n",
    "def yield_class_graphs(G):\n",
    "    benign_idx =  le['Attack'].transform(['Benign'])\n",
    "    for attack in le['Attack'].classes_:\n",
    "        idx = le['Attack'].transform([attack])\n",
    "\n",
    "        mask = (G.Attack == idx) | (G.Attack == benign_idx)\n",
    "        node_idx = mask.nonzero(as_tuple=True)[0]\n",
    "        edge_index, _ = torch_geometric.utils.subgraph(\n",
    "            node_idx,\n",
    "            G.edge_index,\n",
    "            relabel_nodes=True,\n",
    "        )\n",
    "        \n",
    "        subG = Data(\n",
    "            x=G.x[node_idx],\n",
    "            edge_index=edge_index,\n",
    "            Attack=G.Attack[node_idx]\n",
    "        )\n",
    "        \n",
    "        yield attack, subG\n",
    "\n",
    "def to_graph(data):\n",
    "    G = nx.from_pandas_edgelist(data, source='src', \n",
    "                                target='dst', \n",
    "                                edge_attr=['x', 'Attack'], \n",
    "                                create_using=nx.MultiGraph())\n",
    "    \n",
    "    G = G.to_directed()\n",
    "    g = dgl.from_networkx(G, edge_attrs=[ 'x', 'Attack'])\n",
    "    g = g.line_graph(shared=True)\n",
    "    return from_dgl(g) \n",
    "\n",
    "\n",
    "def masked_prediction(mask, model, G, hardmask=True):\n",
    "    if not hardmask:\n",
    "        inv_mask = 1-mask\n",
    "    else:\n",
    "        inv_mask = ~mask\n",
    "        \n",
    "    y_pred = model(G.x, G.edge_index).argmax(axis=1)\n",
    "    ym_pred = model(G.x*mask, G.edge_index).argmax(axis=1)\n",
    "    ymi_pred = model(G.x*inv_mask, G.edge_index).argmax(axis=1)\n",
    "    return y_pred, ym_pred, ymi_pred\n",
    "\n",
    "\n",
    "def fidelities(y_pred, y_mask, y_imask, y):\n",
    "    fn = ((y_pred == y).float() - (y_mask == y).float()).abs().mean()\n",
    "    fp = ((y_pred == y).float() - (y_imask == y).float()).abs().mean()\n",
    "    return fp, fn\n",
    "\n",
    "\n",
    "def evaluate_softmask(model, G, soft_mask):\n",
    "    (y_pred, ym_pred, ymi_pred), y_true = masked_prediction(\n",
    "        soft_mask, model, G, hardmask=False), G.Attack\n",
    "    \n",
    "    m = y_true != 0 # 0 = benign\n",
    "    fp, fn = fidelities(y_pred[m], ym_pred[m], ymi_pred[m], y_true[m])\n",
    "    c = characterization_score(fp, fn) if (fp * fn) != 0 else 0\n",
    "    return fp, fn, c\n",
    "   \n",
    "def evaluate_sparsity_threshholds(model, G, softmask, ticks=np.arange(0.1, 1, 0.1)) :\n",
    "    sparsity_curve = {'fid+': [], 'fid-': [], 's': [], 'c': [], 'k': []}\n",
    "    for s in tqdm(ticks):\n",
    "        flat_mask = softmask.flatten()\n",
    "        k = int(s * flat_mask.numel())\n",
    "        threshold = torch.topk(flat_mask, k).values[-1]\n",
    "        new_mask = (softmask >= threshold).float()\n",
    "        \n",
    "        (y_pred, ym_pred, ymi_pred), y_true = masked_prediction(\n",
    "            new_mask.detach().numpy().astype(bool), model, G, hardmask=True), G.Attack\n",
    "        m = y_true != 0 # 0 = benign\n",
    "        \n",
    "        fp, fn = fidelities(y_pred[m], ym_pred[m], ymi_pred[m], y_true[m])\n",
    "        sparsity_curve['fid+'].append(fp)\n",
    "        sparsity_curve['fid-'].append(fn)\n",
    "        \n",
    "        c = characterization_score(fp, fn) if (fp * fn) != 0 else 0\n",
    "        sparsity_curve['c'].append(c)\n",
    "        sparsity_curve['s'].append(s)\n",
    "        sparsity_curve['k'].append(k)\n",
    "            \n",
    "    return sparsity_curve\n",
    "        \n",
    "def plot_sparsity_curves(metrics_list, legend=None, s=3):\n",
    "    # plt.style.use(['science','no-latex'])\n",
    "    with plt.style.context('science'): \n",
    "           \n",
    "        for metrics in metrics_list:\n",
    "            plt.plot(metrics['s'], metrics['fid-'])\n",
    "            plt.scatter(metrics['s'], metrics['fid-'], s=s)\n",
    "        \n",
    "        plt.title('Sparsity Vs Fidelity-')\n",
    "        if legend: plt.legend(legend)\n",
    "        plt.show()\n",
    "        \n",
    "        for metrics in metrics_list:\n",
    "            plt.plot(metrics['s'], metrics['fid+'])\n",
    "            plt.scatter(metrics['s'], metrics['fid+'], s=s)\n",
    "        \n",
    "        plt.title('Sparsity Vs Fidelity+')\n",
    "        if legend: plt.legend(legend)\n",
    "        plt.show()\n",
    "        \n",
    "        for metrics in metrics_list:\n",
    "            plt.plot(metrics['s'], metrics['c'])\n",
    "            plt.scatter(metrics['s'], metrics['c'], s=s)\n",
    "        \n",
    "        plt.title('Sparsity Vs Characterisation Score')\n",
    "        if legend: plt.legend(legend)\n",
    "        plt.show()"
   ]
  },
  {
   "cell_type": "code",
   "execution_count": 4,
   "id": "c0efd0f4",
   "metadata": {},
   "outputs": [
    {
     "data": {
      "text/plain": [
       "49"
      ]
     },
     "execution_count": 4,
     "metadata": {},
     "output_type": "execute_result"
    }
   ],
   "source": [
    "test = pd.read_csv('../../interm/BoT_test.csv')\n",
    "test = test.drop([c for c in test.columns if c.endswith('_metadata')], axis=1)\n",
    "attrs = [c for c in test.columns if c not in (\"src\", \"dst\", \"Attack\", \"x\")]\n",
    "test['x'] = test[attrs].values.tolist()\n",
    "\n",
    "len(test['x'][0])\n"
   ]
  },
  {
   "cell_type": "code",
   "execution_count": 5,
   "id": "36835a3c",
   "metadata": {},
   "outputs": [
    {
     "name": "stderr",
     "output_type": "stream",
     "text": [
      "/tmp/ipykernel_94450/2437329591.py:8: FutureWarning: You are using `torch.load` with `weights_only=False` (the current default value), which uses the default pickle module implicitly. It is possible to construct malicious pickle data which will execute arbitrary code during unpickling (See https://github.com/pytorch/pytorch/blob/main/SECURITY.md#untrusted-models for more details). In a future release, the default value for `weights_only` will be flipped to `True`. This limits the functions that could be executed during unpickling. Arbitrary objects will no longer be allowed to be loaded via this mode unless they are explicitly allowlisted by the user via `torch.serialization.add_safe_globals`. We recommend you start setting `weights_only=True` for any use case where you don't have full control of the loaded file. Please open an issue on GitHub for any issues related to this experimental feature.\n",
      "  model.load_state_dict(th.load('../../interm/GraphSAGE_BoTIoT.pth'))\n"
     ]
    },
    {
     "data": {
      "text/plain": [
       "GraphSAGE(49, 5, num_layers=3)"
      ]
     },
     "execution_count": 5,
     "metadata": {},
     "output_type": "execute_result"
    }
   ],
   "source": [
    "model = GraphSAGE(\n",
    "    49,\n",
    "    hidden_channels=256,\n",
    "    out_channels=5,\n",
    "    num_layers=3,\n",
    ").to(device)\n",
    "\n",
    "model.load_state_dict(th.load('../../interm/GraphSAGE_BoTIoT.pth'))\n",
    "model.eval()"
   ]
  },
  {
   "cell_type": "code",
   "execution_count": 6,
   "id": "1fd1bd45",
   "metadata": {},
   "outputs": [
    {
     "name": "stdout",
     "output_type": "stream",
     "text": [
      "              precision    recall  f1-score   support\n",
      "\n",
      "           0       0.99      1.00      1.00     22668\n",
      "           1       0.72      0.79      0.75      2156\n",
      "           2       0.76      0.68      0.72      2108\n",
      "           3       0.99      0.91      0.95      2096\n",
      "           4       1.00      1.00      1.00       732\n",
      "\n",
      "    accuracy                           0.96     29760\n",
      "   macro avg       0.89      0.88      0.88     29760\n",
      "weighted avg       0.96      0.96      0.96     29760\n",
      "\n"
     ]
    }
   ],
   "source": [
    "from sklearn.metrics import classification_report\n",
    "\n",
    "G = to_graph(test)\n",
    "y_pred = model(G.x, G.edge_index)\n",
    "y_pred = y_pred = torch.argmax(y_pred, dim=1)\n",
    "y_true = G.Attack\n",
    "\n",
    "print(\n",
    "    classification_report(y_true, y_pred)\n",
    ")"
   ]
  },
  {
   "cell_type": "markdown",
   "id": "d1a7f589",
   "metadata": {},
   "source": [
    "### DummyExplainer\n",
    "\n",
    "$mask \\sim U(0, 1)$"
   ]
  },
  {
   "cell_type": "code",
   "execution_count": 36,
   "id": "b42374a5",
   "metadata": {},
   "outputs": [],
   "source": [
    "explainer = Explainer(\n",
    "    model=model,\n",
    "    algorithm=DummyExplainer(),\n",
    "    explanation_type='phenomenon',\n",
    "    node_mask_type='attributes',\n",
    "    edge_mask_type=None,\n",
    "    model_config=ModelConfig(\n",
    "        mode='multiclass_classification',\n",
    "        task_level='node',\n",
    "        return_type='raw',\n",
    "    ),\n",
    ")  \n",
    "explanation = explainer(\n",
    "        x=G.x.to(device),\n",
    "        edge_index=G.edge_index.to(device),\n",
    "        target=G.Attack,\n",
    ")"
   ]
  },
  {
   "cell_type": "code",
   "execution_count": null,
   "id": "1b1ce076",
   "metadata": {},
   "outputs": [
    {
     "name": "stderr",
     "output_type": "stream",
     "text": [
      "  0%|          | 0/9 [00:00<?, ?it/s]"
     ]
    },
    {
     "name": "stderr",
     "output_type": "stream",
     "text": [
      "100%|██████████| 9/9 [01:13<00:00,  8.15s/it]\n"
     ]
    }
   ],
   "source": [
    "import copy\n",
    "\n",
    "de_metrics = {'fid+': [], 'fid-': [], 's': [], 'c': [], 'k': []}\n",
    "\n",
    "explanation_cp = copy.deepcopy(explanation)\n",
    "\n",
    "# vary sparsity\n",
    "for s in tqdm(np.arange(0.1, 1, 0.1)):\n",
    "    flat_mask = explanation.node_mask.flatten()\n",
    "    k = int(s * flat_mask.numel())\n",
    "    threshold = torch.topk(flat_mask, k).values[-1]\n",
    "    \n",
    "    new_mask = (explanation.node_mask >= threshold).float()\n",
    "    explanation_cp.node_mask = new_mask\n",
    "    \n",
    "    fp, fn = fidelity(explainer, explanation_cp)\n",
    "    de_metrics['fid+'].append(fp)\n",
    "    de_metrics['fid-'].append(fn)\n",
    "     \n",
    "    c = characterization_score(fp, fn) if (fp * fn) != 0 else 0\n",
    "    de_metrics['c'].append(c)\n",
    "    de_metrics['s'].append(s)\n",
    "    de_metrics['k'].append(k)"
   ]
  },
  {
   "cell_type": "code",
   "execution_count": null,
   "id": "49288ef8",
   "metadata": {},
   "outputs": [],
   "source": [
    "from torch_geometric.explain.metric import fidelity, characterization_score\n",
    "\n",
    "# softmask over full graph\n",
    "de_metrics['softmask fidelity'] = fidelity(explainer, explanation)"
   ]
  },
  {
   "cell_type": "code",
   "execution_count": null,
   "id": "fc9f3fa1",
   "metadata": {},
   "outputs": [
    {
     "data": {
      "text/plain": [
       "{'fid+': [0.05645161122083664,\n",
       "  0.09002016484737396,\n",
       "  0.1328629106283188,\n",
       "  0.15567876398563385,\n",
       "  0.1683131754398346,\n",
       "  0.18040995299816132,\n",
       "  0.19176746904850006,\n",
       "  0.1965389847755432,\n",
       "  0.19264112412929535],\n",
       " 'fid-': [0.19139784574508667,\n",
       "  0.19637097418308258,\n",
       "  0.1920698881149292,\n",
       "  0.1796370893716812,\n",
       "  0.16609543561935425,\n",
       "  0.15235215425491333,\n",
       "  0.13282930850982666,\n",
       "  0.09264113008975983,\n",
       "  0.057426076382398605],\n",
       " 's': [np.float64(0.1),\n",
       "  np.float64(0.2),\n",
       "  np.float64(0.30000000000000004),\n",
       "  np.float64(0.4),\n",
       "  np.float64(0.5),\n",
       "  np.float64(0.6),\n",
       "  np.float64(0.7000000000000001),\n",
       "  np.float64(0.8),\n",
       "  np.float64(0.9)],\n",
       " 'c': [0.10553539274920122,\n",
       "  0.1619042866841241,\n",
       "  0.22819885709300317,\n",
       "  0.2616959649736005,\n",
       "  0.28009307691923224,\n",
       "  0.2975009930313378,\n",
       "  0.3140790179013196,\n",
       "  0.32309400795058807,\n",
       "  0.3199015033865889],\n",
       " 'k': [145824,\n",
       "  291648,\n",
       "  437472,\n",
       "  583296,\n",
       "  729120,\n",
       "  874944,\n",
       "  1020768,\n",
       "  1166592,\n",
       "  1312416],\n",
       " 'softmask fidelity': (0.0990927442908287, 0.09966398030519485),\n",
       " 'softmask fidelity Benign': (tensor(0.0869), tensor(0.0843), tensor(0.1108)),\n",
       " 'softmask fidelity DDoS': (tensor(0.0664), tensor(0.0652), tensor(0.4800)),\n",
       " 'softmask fidelity DoS': (tensor(0.0415), tensor(0.0403), tensor(0.3740)),\n",
       " 'softmask fidelity Reconnaissance': (tensor(0.0289),\n",
       "  tensor(0.0285),\n",
       "  tensor(0.2944))}"
      ]
     },
     "execution_count": 35,
     "metadata": {},
     "output_type": "execute_result"
    }
   ],
   "source": [
    "# softmask over each attack category \n",
    "y_pred, ym_pred, ymi_pred = masked_prediction(\n",
    "    explanation.node_mask, model, G, hardmask=False)\n",
    "\n",
    "for idx in range(y_pred.max()):\n",
    "    attack = target_encoder.inverse_transform([idx])[0]\n",
    "    fp, fn = fidelities(y_pred= y_pred == idx, \n",
    "                        y_mask= ym_pred == idx, \n",
    "                        y_imask= ymi_pred == idx,\n",
    "                        y= G.Attack==idx)\n",
    "\n",
    "    w = (G.Attack==idx).float().mean()\n",
    "    c = characterization_score(fp, fn, pos_weight=w, neg_weight=1-w) if fp*fn > 0 else 0\n",
    "    \n",
    "    de_metrics[f'softmask fidelity {attack}'] = fp, fn, c\n",
    "     \n",
    "de_metrics"
   ]
  },
  {
   "cell_type": "markdown",
   "id": "70aae026",
   "metadata": {},
   "source": [
    "### GNNExplainer\n",
    "\n",
    "- Finds $M* = argmax_M \\space MI(Y; G_M) \\quad MI(Y; G) = H(Y|G) - H(Y|G_S)$\n",
    "- By minimizing $L(M,E) = -log P(y|G_s) + \\lambda_1||M||_1$  with gradient descent on $M$"
   ]
  },
  {
   "cell_type": "code",
   "execution_count": null,
   "id": "83ea01e1",
   "metadata": {},
   "outputs": [
    {
     "name": "stdout",
     "output_type": "stream",
     "text": [
      "DDoS: g.x.shape = torch.Size([24824, 49]), g.edge_index.shape: torch.Size([2, 3203310])\n",
      "\tfp: 0.514\n",
      "\tfn: 0.277\n",
      "\tc: 0.601\n",
      "DoS: g.x.shape = torch.Size([24776, 49]), g.edge_index.shape: torch.Size([2, 3159640])\n",
      "\tfp: 0.389\n",
      "\tfn: 0.197\n",
      "\tc: 0.525\n",
      "Reconnaissance: g.x.shape = torch.Size([24764, 49]), g.edge_index.shape: torch.Size([2, 2490326])\n",
      "\tfp: 0.009\n",
      "\tfn: 0.018\n",
      "\tc: 0.018\n",
      "Theft: g.x.shape = torch.Size([23400, 49]), g.edge_index.shape: torch.Size([2, 2294726])\n",
      "\tfp: 0.082\n",
      "\tfn: 0.010\n",
      "\tc: 0.151\n"
     ]
    }
   ],
   "source": [
    "import copy\n",
    "\n",
    "gnne_explainer = Explainer(\n",
    "    model=model,\n",
    "    algorithm=GNNExplainer(100),\n",
    "    # explanation_type='model',\n",
    "    explanation_type='phenomenon',\n",
    "    node_mask_type='attributes',\n",
    "    edge_mask_type=None,\n",
    "    model_config=ModelConfig(\n",
    "        mode='multiclass_classification',\n",
    "        task_level='node',\n",
    "        return_type='raw',\n",
    "    ),\n",
    ")  \n",
    "        \n",
    "gnne_explanations = {}\n",
    "gnne_metrics = {}\n",
    "\n",
    "for attack, subG in yield_class_graphs(G):\n",
    "    if attack == 'Benign': \n",
    "        continue\n",
    "    \n",
    "    print(f'{attack}: g.x.shape = {subG.x.shape}, g.edge_index.shape: {subG.edge_index.shape:}')\n",
    "    \n",
    "    explanation = gnne_explainer(\n",
    "        x=subG.x.to(device),\n",
    "        edge_index=subG.edge_index.to(device),\n",
    "        target=subG.Attack,\n",
    "    )\n",
    "    \n",
    "    gnne_explanations[attack] = explanation\n",
    "    \n",
    "    (y_pred, ym_pred, ymi_pred), y_true = masked_prediction(\n",
    "        explanation.node_mask, model, subG, hardmask=False), subG.Attack\n",
    "    \n",
    "    m = y_true != 0 # 0 = benign\n",
    "    fp, fn = fidelities(y_pred[m], ym_pred[m], ymi_pred[m], y_true[m])\n",
    "    c = characterization_score(fp, fn) if (fp * fn) != 0 else 0\n",
    "    gnne_metrics[f'{attack} softmask metrics'] = fp, fn, c\n",
    "    print(f'\\tfp: {fp:.3f}')\n",
    "    print(f'\\tfn: {fn:.3f}')\n",
    "    print(f'\\tc: {c:.3f}')\n",
    "    \n",
    "    ## NOTE  consider keeping the softmask after the sparsity cutoff\n",
    "    "
   ]
  },
  {
   "cell_type": "code",
   "execution_count": 19,
   "id": "d9aa8b2d",
   "metadata": {},
   "outputs": [
    {
     "name": "stderr",
     "output_type": "stream",
     "text": [
      "  0%|          | 0/9 [00:00<?, ?it/s]"
     ]
    },
    {
     "name": "stdout",
     "output_type": "stream",
     "text": [
      "tensor([[0., 0., 0.,  ..., 0., 0., 0.],\n",
      "        [0., 0., 0.,  ..., 0., 0., 0.],\n",
      "        [0., 0., 0.,  ..., 0., 0., 0.],\n",
      "        ...,\n",
      "        [0., 0., 0.,  ..., 0., 0., 0.],\n",
      "        [1., 1., 0.,  ..., 0., 0., 0.],\n",
      "        [1., 1., 1.,  ..., 0., 0., 0.]])\n"
     ]
    },
    {
     "name": "stderr",
     "output_type": "stream",
     "text": [
      "/tmp/ipykernel_94450/808851204.py:57: DeprecationWarning: __array_wrap__ must accept context and return_scalar arguments (positionally) in the future. (Deprecated NumPy 2.0)\n",
      "  ym_pred = model(G.x*mask, G.edge_index).argmax(axis=1)\n",
      "/tmp/ipykernel_94450/808851204.py:58: DeprecationWarning: __array_wrap__ must accept context and return_scalar arguments (positionally) in the future. (Deprecated NumPy 2.0)\n",
      "  ymi_pred = model(G.x*inv_mask, G.edge_index).argmax(axis=1)\n",
      " 11%|█         | 1/9 [00:04<00:38,  4.76s/it]"
     ]
    },
    {
     "name": "stdout",
     "output_type": "stream",
     "text": [
      "tensor([[0., 0., 0.,  ..., 1., 0., 0.],\n",
      "        [0., 0., 0.,  ..., 0., 0., 0.],\n",
      "        [0., 0., 0.,  ..., 0., 0., 0.],\n",
      "        ...,\n",
      "        [0., 0., 0.,  ..., 0., 0., 0.],\n",
      "        [1., 1., 1.,  ..., 1., 1., 0.],\n",
      "        [1., 1., 1.,  ..., 0., 1., 0.]])\n"
     ]
    },
    {
     "name": "stderr",
     "output_type": "stream",
     "text": [
      " 22%|██▏       | 2/9 [00:09<00:33,  4.77s/it]"
     ]
    },
    {
     "name": "stdout",
     "output_type": "stream",
     "text": [
      "tensor([[0., 0., 0.,  ..., 1., 0., 0.],\n",
      "        [1., 0., 0.,  ..., 0., 0., 0.],\n",
      "        [0., 0., 0.,  ..., 0., 1., 0.],\n",
      "        ...,\n",
      "        [0., 0., 0.,  ..., 0., 0., 0.],\n",
      "        [1., 1., 1.,  ..., 1., 1., 0.],\n",
      "        [1., 1., 1.,  ..., 0., 1., 0.]])\n"
     ]
    },
    {
     "name": "stderr",
     "output_type": "stream",
     "text": [
      " 33%|███▎      | 3/9 [00:14<00:28,  4.78s/it]"
     ]
    },
    {
     "name": "stdout",
     "output_type": "stream",
     "text": [
      "tensor([[0., 1., 0.,  ..., 1., 1., 0.],\n",
      "        [1., 0., 0.,  ..., 0., 0., 0.],\n",
      "        [0., 0., 0.,  ..., 0., 1., 0.],\n",
      "        ...,\n",
      "        [0., 0., 0.,  ..., 1., 0., 0.],\n",
      "        [1., 1., 1.,  ..., 1., 1., 1.],\n",
      "        [1., 1., 1.,  ..., 0., 1., 1.]])\n"
     ]
    },
    {
     "name": "stderr",
     "output_type": "stream",
     "text": [
      " 44%|████▍     | 4/9 [00:19<00:24,  4.91s/it]"
     ]
    },
    {
     "name": "stdout",
     "output_type": "stream",
     "text": [
      "tensor([[1., 1., 0.,  ..., 1., 1., 0.],\n",
      "        [1., 0., 0.,  ..., 0., 1., 0.],\n",
      "        [0., 0., 0.,  ..., 1., 1., 0.],\n",
      "        ...,\n",
      "        [1., 1., 0.,  ..., 1., 0., 0.],\n",
      "        [1., 1., 1.,  ..., 1., 1., 1.],\n",
      "        [1., 1., 1.,  ..., 1., 1., 1.]])\n"
     ]
    },
    {
     "name": "stderr",
     "output_type": "stream",
     "text": [
      " 56%|█████▌    | 5/9 [00:24<00:20,  5.12s/it]"
     ]
    },
    {
     "name": "stdout",
     "output_type": "stream",
     "text": [
      "tensor([[1., 1., 0.,  ..., 1., 1., 1.],\n",
      "        [1., 1., 0.,  ..., 0., 1., 0.],\n",
      "        [0., 0., 0.,  ..., 1., 1., 0.],\n",
      "        ...,\n",
      "        [1., 1., 0.,  ..., 1., 0., 0.],\n",
      "        [1., 1., 1.,  ..., 1., 1., 1.],\n",
      "        [1., 1., 1.,  ..., 1., 1., 1.]])\n"
     ]
    },
    {
     "name": "stderr",
     "output_type": "stream",
     "text": [
      " 67%|██████▋   | 6/9 [00:29<00:15,  5.05s/it]"
     ]
    },
    {
     "name": "stdout",
     "output_type": "stream",
     "text": [
      "tensor([[1., 1., 0.,  ..., 1., 1., 1.],\n",
      "        [1., 1., 0.,  ..., 0., 1., 1.],\n",
      "        [0., 0., 1.,  ..., 1., 1., 0.],\n",
      "        ...,\n",
      "        [1., 1., 0.,  ..., 1., 0., 1.],\n",
      "        [1., 1., 1.,  ..., 1., 1., 1.],\n",
      "        [1., 1., 1.,  ..., 1., 1., 1.]])\n"
     ]
    },
    {
     "name": "stderr",
     "output_type": "stream",
     "text": [
      " 78%|███████▊  | 7/9 [00:34<00:09,  4.96s/it]"
     ]
    },
    {
     "name": "stdout",
     "output_type": "stream",
     "text": [
      "tensor([[1., 1., 1.,  ..., 1., 1., 1.],\n",
      "        [1., 1., 1.,  ..., 0., 1., 1.],\n",
      "        [0., 1., 1.,  ..., 1., 1., 0.],\n",
      "        ...,\n",
      "        [1., 1., 1.,  ..., 1., 0., 1.],\n",
      "        [1., 1., 1.,  ..., 1., 1., 1.],\n",
      "        [1., 1., 1.,  ..., 1., 1., 1.]])\n"
     ]
    },
    {
     "name": "stderr",
     "output_type": "stream",
     "text": [
      " 89%|████████▉ | 8/9 [00:39<00:04,  4.92s/it]"
     ]
    },
    {
     "name": "stdout",
     "output_type": "stream",
     "text": [
      "tensor([[1., 1., 1.,  ..., 1., 1., 1.],\n",
      "        [1., 1., 1.,  ..., 1., 1., 1.],\n",
      "        [1., 1., 1.,  ..., 1., 1., 1.],\n",
      "        ...,\n",
      "        [1., 1., 1.,  ..., 1., 1., 1.],\n",
      "        [1., 1., 1.,  ..., 1., 1., 1.],\n",
      "        [1., 1., 1.,  ..., 1., 1., 1.]])\n"
     ]
    },
    {
     "name": "stderr",
     "output_type": "stream",
     "text": [
      "100%|██████████| 9/9 [00:44<00:00,  4.92s/it]\n",
      "  0%|          | 0/9 [00:00<?, ?it/s]"
     ]
    },
    {
     "name": "stdout",
     "output_type": "stream",
     "text": [
      "tensor([[0., 0., 0.,  ..., 0., 0., 0.],\n",
      "        [0., 0., 0.,  ..., 0., 0., 0.],\n",
      "        [0., 0., 0.,  ..., 0., 0., 0.],\n",
      "        ...,\n",
      "        [1., 1., 0.,  ..., 0., 0., 0.],\n",
      "        [1., 1., 1.,  ..., 0., 0., 0.],\n",
      "        [0., 0., 0.,  ..., 0., 0., 0.]])\n"
     ]
    },
    {
     "name": "stderr",
     "output_type": "stream",
     "text": [
      "/tmp/ipykernel_94450/808851204.py:57: DeprecationWarning: __array_wrap__ must accept context and return_scalar arguments (positionally) in the future. (Deprecated NumPy 2.0)\n",
      "  ym_pred = model(G.x*mask, G.edge_index).argmax(axis=1)\n",
      "/tmp/ipykernel_94450/808851204.py:58: DeprecationWarning: __array_wrap__ must accept context and return_scalar arguments (positionally) in the future. (Deprecated NumPy 2.0)\n",
      "  ymi_pred = model(G.x*inv_mask, G.edge_index).argmax(axis=1)\n",
      " 11%|█         | 1/9 [00:04<00:36,  4.53s/it]"
     ]
    },
    {
     "name": "stdout",
     "output_type": "stream",
     "text": [
      "tensor([[0., 0., 0.,  ..., 0., 0., 0.],\n",
      "        [0., 0., 0.,  ..., 0., 0., 0.],\n",
      "        [0., 0., 0.,  ..., 0., 0., 0.],\n",
      "        ...,\n",
      "        [1., 1., 0.,  ..., 1., 1., 1.],\n",
      "        [1., 1., 1.,  ..., 0., 1., 0.],\n",
      "        [0., 0., 0.,  ..., 0., 0., 0.]])\n"
     ]
    },
    {
     "name": "stderr",
     "output_type": "stream",
     "text": [
      " 22%|██▏       | 2/9 [00:09<00:31,  4.55s/it]"
     ]
    },
    {
     "name": "stdout",
     "output_type": "stream",
     "text": [
      "tensor([[0., 0., 1.,  ..., 0., 0., 0.],\n",
      "        [0., 0., 0.,  ..., 0., 0., 0.],\n",
      "        [1., 1., 0.,  ..., 0., 0., 0.],\n",
      "        ...,\n",
      "        [1., 1., 0.,  ..., 1., 1., 1.],\n",
      "        [1., 1., 1.,  ..., 0., 1., 0.],\n",
      "        [0., 1., 0.,  ..., 0., 0., 0.]])\n"
     ]
    },
    {
     "name": "stderr",
     "output_type": "stream",
     "text": [
      " 33%|███▎      | 3/9 [00:13<00:27,  4.54s/it]"
     ]
    },
    {
     "name": "stdout",
     "output_type": "stream",
     "text": [
      "tensor([[0., 0., 1.,  ..., 0., 0., 0.],\n",
      "        [0., 0., 0.,  ..., 1., 0., 0.],\n",
      "        [1., 1., 1.,  ..., 0., 0., 0.],\n",
      "        ...,\n",
      "        [1., 1., 1.,  ..., 1., 1., 1.],\n",
      "        [1., 1., 1.,  ..., 0., 1., 0.],\n",
      "        [0., 1., 0.,  ..., 0., 0., 0.]])\n"
     ]
    },
    {
     "name": "stderr",
     "output_type": "stream",
     "text": [
      " 44%|████▍     | 4/9 [00:18<00:22,  4.54s/it]"
     ]
    },
    {
     "name": "stdout",
     "output_type": "stream",
     "text": [
      "tensor([[0., 0., 1.,  ..., 1., 1., 0.],\n",
      "        [0., 0., 0.,  ..., 1., 0., 0.],\n",
      "        [1., 1., 1.,  ..., 0., 0., 0.],\n",
      "        ...,\n",
      "        [1., 1., 1.,  ..., 1., 1., 1.],\n",
      "        [1., 1., 1.,  ..., 0., 1., 0.],\n",
      "        [0., 1., 0.,  ..., 0., 0., 1.]])\n"
     ]
    },
    {
     "name": "stderr",
     "output_type": "stream",
     "text": [
      " 56%|█████▌    | 5/9 [00:22<00:18,  4.54s/it]"
     ]
    },
    {
     "name": "stdout",
     "output_type": "stream",
     "text": [
      "tensor([[1., 0., 1.,  ..., 1., 1., 0.],\n",
      "        [0., 0., 0.,  ..., 1., 1., 0.],\n",
      "        [1., 1., 1.,  ..., 1., 0., 0.],\n",
      "        ...,\n",
      "        [1., 1., 1.,  ..., 1., 1., 1.],\n",
      "        [1., 1., 1.,  ..., 0., 1., 1.],\n",
      "        [0., 1., 1.,  ..., 0., 1., 1.]])\n"
     ]
    },
    {
     "name": "stderr",
     "output_type": "stream",
     "text": [
      " 67%|██████▋   | 6/9 [00:27<00:13,  4.56s/it]"
     ]
    },
    {
     "name": "stdout",
     "output_type": "stream",
     "text": [
      "tensor([[1., 0., 1.,  ..., 1., 1., 0.],\n",
      "        [0., 1., 0.,  ..., 1., 1., 0.],\n",
      "        [1., 1., 1.,  ..., 1., 0., 0.],\n",
      "        ...,\n",
      "        [1., 1., 1.,  ..., 1., 1., 1.],\n",
      "        [1., 1., 1.,  ..., 1., 1., 1.],\n",
      "        [0., 1., 1.,  ..., 0., 1., 1.]])\n"
     ]
    },
    {
     "name": "stderr",
     "output_type": "stream",
     "text": [
      " 78%|███████▊  | 7/9 [00:31<00:09,  4.56s/it]"
     ]
    },
    {
     "name": "stdout",
     "output_type": "stream",
     "text": [
      "tensor([[1., 0., 1.,  ..., 1., 1., 0.],\n",
      "        [0., 1., 1.,  ..., 1., 1., 0.],\n",
      "        [1., 1., 1.,  ..., 1., 1., 0.],\n",
      "        ...,\n",
      "        [1., 1., 1.,  ..., 1., 1., 1.],\n",
      "        [1., 1., 1.,  ..., 1., 1., 1.],\n",
      "        [0., 1., 1.,  ..., 1., 1., 1.]])\n"
     ]
    },
    {
     "name": "stderr",
     "output_type": "stream",
     "text": [
      " 89%|████████▉ | 8/9 [00:36<00:04,  4.58s/it]"
     ]
    },
    {
     "name": "stdout",
     "output_type": "stream",
     "text": [
      "tensor([[1., 1., 1.,  ..., 1., 1., 1.],\n",
      "        [1., 1., 1.,  ..., 1., 1., 1.],\n",
      "        [1., 1., 1.,  ..., 1., 1., 1.],\n",
      "        ...,\n",
      "        [1., 1., 1.,  ..., 1., 1., 1.],\n",
      "        [1., 1., 1.,  ..., 1., 1., 1.],\n",
      "        [1., 1., 1.,  ..., 1., 1., 1.]])\n"
     ]
    },
    {
     "name": "stderr",
     "output_type": "stream",
     "text": [
      "100%|██████████| 9/9 [00:41<00:00,  4.57s/it]\n",
      "  0%|          | 0/9 [00:00<?, ?it/s]"
     ]
    },
    {
     "name": "stdout",
     "output_type": "stream",
     "text": [
      "tensor([[0., 0., 0.,  ..., 0., 0., 0.],\n",
      "        [0., 0., 0.,  ..., 0., 0., 0.],\n",
      "        [0., 0., 0.,  ..., 0., 0., 0.],\n",
      "        ...,\n",
      "        [0., 0., 0.,  ..., 0., 0., 0.],\n",
      "        [1., 1., 1.,  ..., 0., 0., 0.],\n",
      "        [1., 1., 1.,  ..., 0., 0., 0.]])\n"
     ]
    },
    {
     "name": "stderr",
     "output_type": "stream",
     "text": [
      "/tmp/ipykernel_94450/808851204.py:57: DeprecationWarning: __array_wrap__ must accept context and return_scalar arguments (positionally) in the future. (Deprecated NumPy 2.0)\n",
      "  ym_pred = model(G.x*mask, G.edge_index).argmax(axis=1)\n",
      "/tmp/ipykernel_94450/808851204.py:58: DeprecationWarning: __array_wrap__ must accept context and return_scalar arguments (positionally) in the future. (Deprecated NumPy 2.0)\n",
      "  ymi_pred = model(G.x*inv_mask, G.edge_index).argmax(axis=1)\n",
      " 11%|█         | 1/9 [00:03<00:28,  3.60s/it]"
     ]
    },
    {
     "name": "stdout",
     "output_type": "stream",
     "text": [
      "tensor([[0., 0., 0.,  ..., 0., 0., 0.],\n",
      "        [0., 0., 0.,  ..., 0., 0., 0.],\n",
      "        [0., 0., 0.,  ..., 0., 0., 1.],\n",
      "        ...,\n",
      "        [0., 0., 1.,  ..., 0., 0., 0.],\n",
      "        [1., 1., 1.,  ..., 0., 0., 0.],\n",
      "        [1., 1., 1.,  ..., 1., 0., 0.]])\n"
     ]
    },
    {
     "name": "stderr",
     "output_type": "stream",
     "text": [
      " 22%|██▏       | 2/9 [00:07<00:25,  3.59s/it]"
     ]
    },
    {
     "name": "stdout",
     "output_type": "stream",
     "text": [
      "tensor([[0., 0., 0.,  ..., 0., 0., 1.],\n",
      "        [0., 0., 1.,  ..., 1., 0., 0.],\n",
      "        [0., 0., 1.,  ..., 0., 0., 1.],\n",
      "        ...,\n",
      "        [0., 0., 1.,  ..., 0., 0., 1.],\n",
      "        [1., 1., 1.,  ..., 0., 1., 1.],\n",
      "        [1., 1., 1.,  ..., 1., 0., 1.]])\n"
     ]
    },
    {
     "name": "stderr",
     "output_type": "stream",
     "text": [
      " 33%|███▎      | 3/9 [00:10<00:21,  3.60s/it]"
     ]
    },
    {
     "name": "stdout",
     "output_type": "stream",
     "text": [
      "tensor([[1., 0., 0.,  ..., 0., 0., 1.],\n",
      "        [0., 0., 1.,  ..., 1., 0., 0.],\n",
      "        [0., 0., 1.,  ..., 0., 0., 1.],\n",
      "        ...,\n",
      "        [0., 1., 1.,  ..., 0., 0., 1.],\n",
      "        [1., 1., 1.,  ..., 0., 1., 1.],\n",
      "        [1., 1., 1.,  ..., 1., 0., 1.]])\n"
     ]
    },
    {
     "name": "stderr",
     "output_type": "stream",
     "text": [
      " 44%|████▍     | 4/9 [00:14<00:18,  3.61s/it]"
     ]
    },
    {
     "name": "stdout",
     "output_type": "stream",
     "text": [
      "tensor([[1., 1., 0.,  ..., 1., 0., 1.],\n",
      "        [0., 0., 1.,  ..., 1., 0., 0.],\n",
      "        [0., 1., 1.,  ..., 1., 1., 1.],\n",
      "        ...,\n",
      "        [0., 1., 1.,  ..., 0., 1., 1.],\n",
      "        [1., 1., 1.,  ..., 0., 1., 1.],\n",
      "        [1., 1., 1.,  ..., 1., 0., 1.]])\n"
     ]
    },
    {
     "name": "stderr",
     "output_type": "stream",
     "text": [
      " 56%|█████▌    | 5/9 [00:18<00:14,  3.62s/it]"
     ]
    },
    {
     "name": "stdout",
     "output_type": "stream",
     "text": [
      "tensor([[1., 1., 0.,  ..., 1., 0., 1.],\n",
      "        [1., 0., 1.,  ..., 1., 0., 1.],\n",
      "        [0., 1., 1.,  ..., 1., 1., 1.],\n",
      "        ...,\n",
      "        [0., 1., 1.,  ..., 0., 1., 1.],\n",
      "        [1., 1., 1.,  ..., 0., 1., 1.],\n",
      "        [1., 1., 1.,  ..., 1., 1., 1.]])\n"
     ]
    },
    {
     "name": "stderr",
     "output_type": "stream",
     "text": [
      " 67%|██████▋   | 6/9 [00:21<00:10,  3.63s/it]"
     ]
    },
    {
     "name": "stdout",
     "output_type": "stream",
     "text": [
      "tensor([[1., 1., 0.,  ..., 1., 1., 1.],\n",
      "        [1., 0., 1.,  ..., 1., 1., 1.],\n",
      "        [0., 1., 1.,  ..., 1., 1., 1.],\n",
      "        ...,\n",
      "        [0., 1., 1.,  ..., 0., 1., 1.],\n",
      "        [1., 1., 1.,  ..., 0., 1., 1.],\n",
      "        [1., 1., 1.,  ..., 1., 1., 1.]])\n"
     ]
    },
    {
     "name": "stderr",
     "output_type": "stream",
     "text": [
      " 78%|███████▊  | 7/9 [00:25<00:07,  3.63s/it]"
     ]
    },
    {
     "name": "stdout",
     "output_type": "stream",
     "text": [
      "tensor([[1., 1., 0.,  ..., 1., 1., 1.],\n",
      "        [1., 0., 1.,  ..., 1., 1., 1.],\n",
      "        [1., 1., 1.,  ..., 1., 1., 1.],\n",
      "        ...,\n",
      "        [1., 1., 1.,  ..., 0., 1., 1.],\n",
      "        [1., 1., 1.,  ..., 0., 1., 1.],\n",
      "        [1., 1., 1.,  ..., 1., 1., 1.]])\n"
     ]
    },
    {
     "name": "stderr",
     "output_type": "stream",
     "text": [
      " 89%|████████▉ | 8/9 [00:28<00:03,  3.63s/it]"
     ]
    },
    {
     "name": "stdout",
     "output_type": "stream",
     "text": [
      "tensor([[1., 1., 1.,  ..., 1., 1., 1.],\n",
      "        [1., 1., 1.,  ..., 1., 1., 1.],\n",
      "        [1., 1., 1.,  ..., 1., 1., 1.],\n",
      "        ...,\n",
      "        [1., 1., 1.,  ..., 1., 1., 1.],\n",
      "        [1., 1., 1.,  ..., 1., 1., 1.],\n",
      "        [1., 1., 1.,  ..., 1., 1., 1.]])\n"
     ]
    },
    {
     "name": "stderr",
     "output_type": "stream",
     "text": [
      "100%|██████████| 9/9 [00:32<00:00,  3.63s/it]\n",
      "  0%|          | 0/9 [00:00<?, ?it/s]"
     ]
    },
    {
     "name": "stdout",
     "output_type": "stream",
     "text": [
      "tensor([[0., 0., 0.,  ..., 0., 0., 0.],\n",
      "        [0., 0., 0.,  ..., 0., 0., 0.],\n",
      "        [0., 0., 0.,  ..., 0., 0., 0.],\n",
      "        ...,\n",
      "        [0., 0., 0.,  ..., 0., 0., 0.],\n",
      "        [1., 1., 0.,  ..., 0., 0., 1.],\n",
      "        [1., 1., 0.,  ..., 0., 0., 0.]])\n"
     ]
    },
    {
     "name": "stderr",
     "output_type": "stream",
     "text": [
      "/tmp/ipykernel_94450/808851204.py:57: DeprecationWarning: __array_wrap__ must accept context and return_scalar arguments (positionally) in the future. (Deprecated NumPy 2.0)\n",
      "  ym_pred = model(G.x*mask, G.edge_index).argmax(axis=1)\n",
      "/tmp/ipykernel_94450/808851204.py:58: DeprecationWarning: __array_wrap__ must accept context and return_scalar arguments (positionally) in the future. (Deprecated NumPy 2.0)\n",
      "  ymi_pred = model(G.x*inv_mask, G.edge_index).argmax(axis=1)\n",
      " 11%|█         | 1/9 [00:03<00:26,  3.32s/it]"
     ]
    },
    {
     "name": "stdout",
     "output_type": "stream",
     "text": [
      "tensor([[0., 0., 0.,  ..., 0., 0., 0.],\n",
      "        [0., 0., 1.,  ..., 0., 0., 0.],\n",
      "        [0., 0., 0.,  ..., 0., 0., 0.],\n",
      "        ...,\n",
      "        [0., 0., 0.,  ..., 0., 0., 0.],\n",
      "        [1., 1., 0.,  ..., 0., 1., 1.],\n",
      "        [1., 1., 0.,  ..., 0., 1., 0.]])\n"
     ]
    },
    {
     "name": "stderr",
     "output_type": "stream",
     "text": [
      " 22%|██▏       | 2/9 [00:06<00:23,  3.32s/it]"
     ]
    },
    {
     "name": "stdout",
     "output_type": "stream",
     "text": [
      "tensor([[0., 0., 0.,  ..., 1., 0., 0.],\n",
      "        [0., 0., 1.,  ..., 0., 1., 0.],\n",
      "        [1., 0., 0.,  ..., 0., 0., 0.],\n",
      "        ...,\n",
      "        [0., 0., 0.,  ..., 0., 0., 0.],\n",
      "        [1., 1., 0.,  ..., 1., 1., 1.],\n",
      "        [1., 1., 0.,  ..., 0., 1., 1.]])\n"
     ]
    },
    {
     "name": "stderr",
     "output_type": "stream",
     "text": [
      " 33%|███▎      | 3/9 [00:10<00:20,  3.35s/it]"
     ]
    },
    {
     "name": "stdout",
     "output_type": "stream",
     "text": [
      "tensor([[0., 1., 0.,  ..., 1., 0., 0.],\n",
      "        [0., 1., 1.,  ..., 0., 1., 0.],\n",
      "        [1., 0., 1.,  ..., 0., 0., 0.],\n",
      "        ...,\n",
      "        [1., 0., 0.,  ..., 0., 0., 0.],\n",
      "        [1., 1., 0.,  ..., 1., 1., 1.],\n",
      "        [1., 1., 1.,  ..., 0., 1., 1.]])\n"
     ]
    },
    {
     "name": "stderr",
     "output_type": "stream",
     "text": [
      " 44%|████▍     | 4/9 [00:13<00:16,  3.35s/it]"
     ]
    },
    {
     "name": "stdout",
     "output_type": "stream",
     "text": [
      "tensor([[1., 1., 0.,  ..., 1., 0., 0.],\n",
      "        [0., 1., 1.,  ..., 0., 1., 0.],\n",
      "        [1., 0., 1.,  ..., 0., 0., 0.],\n",
      "        ...,\n",
      "        [1., 0., 0.,  ..., 1., 0., 0.],\n",
      "        [1., 1., 1.,  ..., 1., 1., 1.],\n",
      "        [1., 1., 1.,  ..., 1., 1., 1.]])\n"
     ]
    },
    {
     "name": "stderr",
     "output_type": "stream",
     "text": [
      " 56%|█████▌    | 5/9 [00:16<00:13,  3.35s/it]"
     ]
    },
    {
     "name": "stdout",
     "output_type": "stream",
     "text": [
      "tensor([[1., 1., 0.,  ..., 1., 0., 0.],\n",
      "        [1., 1., 1.,  ..., 0., 1., 0.],\n",
      "        [1., 0., 1.,  ..., 1., 0., 0.],\n",
      "        ...,\n",
      "        [1., 0., 1.,  ..., 1., 0., 0.],\n",
      "        [1., 1., 1.,  ..., 1., 1., 1.],\n",
      "        [1., 1., 1.,  ..., 1., 1., 1.]])\n"
     ]
    },
    {
     "name": "stderr",
     "output_type": "stream",
     "text": [
      " 67%|██████▋   | 6/9 [00:20<00:10,  3.37s/it]"
     ]
    },
    {
     "name": "stdout",
     "output_type": "stream",
     "text": [
      "tensor([[1., 1., 1.,  ..., 1., 0., 0.],\n",
      "        [1., 1., 1.,  ..., 0., 1., 1.],\n",
      "        [1., 1., 1.,  ..., 1., 1., 0.],\n",
      "        ...,\n",
      "        [1., 0., 1.,  ..., 1., 0., 1.],\n",
      "        [1., 1., 1.,  ..., 1., 1., 1.],\n",
      "        [1., 1., 1.,  ..., 1., 1., 1.]])\n"
     ]
    },
    {
     "name": "stderr",
     "output_type": "stream",
     "text": [
      " 78%|███████▊  | 7/9 [00:23<00:06,  3.37s/it]"
     ]
    },
    {
     "name": "stdout",
     "output_type": "stream",
     "text": [
      "tensor([[1., 1., 1.,  ..., 1., 0., 0.],\n",
      "        [1., 1., 1.,  ..., 0., 1., 1.],\n",
      "        [1., 1., 1.,  ..., 1., 1., 0.],\n",
      "        ...,\n",
      "        [1., 1., 1.,  ..., 1., 0., 1.],\n",
      "        [1., 1., 1.,  ..., 1., 1., 1.],\n",
      "        [1., 1., 1.,  ..., 1., 1., 1.]])\n"
     ]
    },
    {
     "name": "stderr",
     "output_type": "stream",
     "text": [
      " 89%|████████▉ | 8/9 [00:26<00:03,  3.37s/it]"
     ]
    },
    {
     "name": "stdout",
     "output_type": "stream",
     "text": [
      "tensor([[1., 1., 1.,  ..., 1., 1., 1.],\n",
      "        [1., 1., 1.,  ..., 1., 1., 1.],\n",
      "        [1., 1., 1.,  ..., 1., 1., 1.],\n",
      "        ...,\n",
      "        [1., 1., 1.,  ..., 1., 1., 1.],\n",
      "        [1., 1., 1.,  ..., 1., 1., 1.],\n",
      "        [1., 1., 1.,  ..., 1., 1., 1.]])\n"
     ]
    },
    {
     "name": "stderr",
     "output_type": "stream",
     "text": [
      "100%|██████████| 9/9 [00:30<00:00,  3.36s/it]\n"
     ]
    }
   ],
   "source": [
    "for attack, subG in yield_class_graphs(G):\n",
    "    if attack == 'Benign': \n",
    "        continue\n",
    "        \n",
    "    sparsity_curve = {'fid+': [], 'fid-': [], 's': [], 'c': [], 'k': []}\n",
    "    \n",
    "    explanation = gnne_explanations[attack]\n",
    "    explanation_cp = copy.deepcopy(explanation)\n",
    "    \n",
    "    for s in tqdm(np.arange(0.1, 1, 0.1)):\n",
    "        \n",
    "        flat_mask = explanation.node_mask.flatten()\n",
    "        k = int(s * flat_mask.numel())\n",
    "        threshold = torch.topk(flat_mask, k).values[-1]\n",
    "        new_mask = (explanation.node_mask >= threshold).float()\n",
    "        # explanation_cp.node_mask = new_mask\n",
    "        \n",
    "        \n",
    "        print(new_mask)\n",
    "        \n",
    "        # only get prediction of class labels\n",
    "        (y_pred, ym_pred, ymi_pred), y_true = masked_prediction(\n",
    "            new_mask.detach().numpy().astype(bool), model, subG, hardmask=True), subG.Attack\n",
    "        m = y_true != 0 # 0 = benign\n",
    "        \n",
    "        fp, fn = fidelities(y_pred[m], ym_pred[m], ymi_pred[m], y_true[m])\n",
    "        # fp, fn = fidelity(gnne_explainer, explanation_cp)\n",
    "        sparsity_curve['fid+'].append(fp)\n",
    "        sparsity_curve['fid-'].append(fn)\n",
    "        \n",
    "        c = characterization_score(fp, fn) if (fp * fn) != 0 else 0\n",
    "        sparsity_curve['c'].append(c)\n",
    "        sparsity_curve['s'].append(s)\n",
    "        sparsity_curve['k'].append(k)\n",
    "        \n",
    "    gnne_metrics[f'{attack} sparsity curve'] = sparsity_curve\n",
    "    del explanation_cp"
   ]
  },
  {
   "cell_type": "code",
   "execution_count": 20,
   "id": "f1ec51a9",
   "metadata": {},
   "outputs": [],
   "source": [
    "import pickle\n",
    "\n",
    "gnne_metrics['explanations'] = gnne_explanations\n",
    "with open('../../interm/gnne_metrics.pickle', 'wb') as f:\n",
    "    pickle.dump(gnne_metrics, f)"
   ]
  },
  {
   "cell_type": "code",
   "execution_count": 34,
   "id": "af46861f",
   "metadata": {},
   "outputs": [
    {
     "name": "stdout",
     "output_type": "stream",
     "text": [
      "fid-\n"
     ]
    },
    {
     "data": {
      "image/png": "[encoded data removed]",
      "text/plain": [
       "<Figure size 350x262.5 with 1 Axes>"
      ]
     },
     "metadata": {},
     "output_type": "display_data"
    },
    {
     "name": "stdout",
     "output_type": "stream",
     "text": [
      "fid+\n"
     ]
    },
    {
     "data": {
      "image/png": "[encoded data removed]",
      "text/plain": [
       "<Figure size 350x262.5 with 1 Axes>"
      ]
     },
     "metadata": {},
     "output_type": "display_data"
    },
    {
     "name": "stdout",
     "output_type": "stream",
     "text": [
      "c\n"
     ]
    },
    {
     "data": {
      "image/png": "[encoded data removed]",
      "text/plain": [
       "<Figure size 350x262.5 with 1 Axes>"
      ]
     },
     "metadata": {},
     "output_type": "display_data"
    }
   ],
   "source": [
    "with plt.style.context('science'): \n",
    "    for met in ('fid-', 'fid+', 'c'):\n",
    "        print(met)    \n",
    "        for attack in le['Attack'].classes_:\n",
    "            if attack == 'Benign': \n",
    "                continue\n",
    "\n",
    "            m = gnne_metrics[f'{attack} sparsity curve']\n",
    "            plt.plot(m['s'], m[met])\n",
    "            # plt.scatter(m['s'], m[met], s=3)\n",
    "        \n",
    "        plt.legend(le['Attack'].classes_[1:])\n",
    "        plt.show()"
   ]
  },
  {
   "cell_type": "markdown",
   "id": "1ec4f6f5",
   "metadata": {},
   "source": [
    "### IntegratedGradients\n",
    "$$\n",
    "\\mathrm{IG}(x_v) = (x_v - x'_v) \\odot \\int_{0}^{1} \\nabla_{x_v} F\\!\\big(x'_{v} + \\alpha (x_v - x'_v), \\, G\\big) \\, d\\alpha\n",
    "$$"
   ]
  },
  {
   "cell_type": "code",
   "execution_count": 14,
   "id": "9b0923a3",
   "metadata": {},
   "outputs": [
    {
     "name": "stderr",
     "output_type": "stream",
     "text": [
      "  0%|          | 0/100 [00:00<?, ?it/s]"
     ]
    },
    {
     "name": "stderr",
     "output_type": "stream",
     "text": [
      "100%|██████████| 100/100 [07:09<00:00,  4.30s/it]\n"
     ]
    }
   ],
   "source": [
    "import torch\n",
    "from tqdm import tqdm\n",
    "\n",
    "def integrated_gradients(x, edge_index, model, steps, baseline):\n",
    "    device = x.device\n",
    "    if baseline is None:\n",
    "        baseline = torch.zeros_like(x, device=device)\n",
    "\n",
    "    diff = x - baseline\n",
    "    total_grads = torch.zeros_like(x, device=device)\n",
    "\n",
    "    for alpha in tqdm(torch.linspace(0.0, 1.0, steps, device=device)):\n",
    "        x_scaled = baseline + alpha * diff\n",
    "        x_scaled.requires_grad_(True)\n",
    "\n",
    "        # forward pass\n",
    "        out = model(x_scaled, edge_index)\n",
    "        \n",
    "        # pick the logit for each root node & assume root nodes are first B rows\n",
    "        # batch_size = targets.size(0)\n",
    "        # sel = out[:batch_size, :] \n",
    "        # chosen = sel[torch.arange(batch_size), targets]\n",
    "\n",
    "        # sum to get a scalar and backprop\n",
    "        model.zero_grad()\n",
    "        torch.autograd.backward(out.sum(), retain_graph=True)\n",
    "        grads = x_scaled.grad\n",
    "\n",
    "        total_grads += grads\n",
    "        x_scaled.grad.zero_()\n",
    "\n",
    "    # average gradient then scale by input delta\n",
    "    avg_grads = total_grads / steps\n",
    "    attributions = diff * avg_grads \n",
    "\n",
    "    return attributions\n",
    "\n",
    "\n",
    "model.eval()\n",
    "ig_attr = integrated_gradients(\n",
    "    x=G.x,\n",
    "    edge_index=G.edge_index,\n",
    "    # targets=targets,\n",
    "    model=model,\n",
    "    baseline=torch.zeros_like(G.x),\n",
    "    steps=100\n",
    ")\n"
   ]
  },
  {
   "cell_type": "code",
   "execution_count": 17,
   "id": "b2b4d05f",
   "metadata": {},
   "outputs": [
    {
     "data": {
      "text/plain": [
       "(tensor(0.0101), tensor(0.3415))"
      ]
     },
     "execution_count": 17,
     "metadata": {},
     "output_type": "execute_result"
    }
   ],
   "source": [
    "import copy\n",
    "from torch_geometric.explain.metric import fidelity, characterization_score\n",
    "\n",
    "ig_metrics = {'fid+': [], 'fid-': [], 's': [], 'c': [], 'k': []}\n",
    "\n",
    "def manual_fidelities(mask, hardmask=True):\n",
    "    if not hardmask:\n",
    "        inv_mask = 1-mask\n",
    "    else:\n",
    "        inv_mask = ~mask\n",
    "        \n",
    "    y_pred = model(G.x, G.edge_index).argmax(axis=1)\n",
    "    ym_pred = model(G.x*mask, G.edge_index).argmax(axis=1)\n",
    "    ymi_pred = model(G.x*(inv_mask), G.edge_index).argmax(axis=1)\n",
    "    y = G.Attack\n",
    "    \n",
    "    # fid_plus = (np.array(y_pred == y, dtype=int) - np.array(ym_pred == y, dtype=int)).mean() \n",
    "    # fid_minus = (np.array(y_pred == y, dtype=int) - np.array(ymi_pred == y, dtype=int)).mean() \n",
    "    pos_fidelity = (\n",
    "        (y_pred == y).float() - (ymi_pred == y).float()).abs().mean()\n",
    "    neg_fidelity = (\n",
    "        (y_pred == y).float() - (ym_pred == y).float()).abs().mean()\n",
    "        \n",
    "    return pos_fidelity, neg_fidelity\n",
    "\n",
    "mx, mn = ig_attr.max(), ig_attr.min()\n",
    "ig_soft_mask = (ig_attr - mn) / (mx + mn)\n",
    "f = manual_fidelities(ig_soft_mask, hardmask=False) \n",
    "ig_metrics['softmask fidelity'] = f\n",
    "f"
   ]
  },
  {
   "cell_type": "code",
   "execution_count": null,
   "id": "e2415bcb",
   "metadata": {},
   "outputs": [
    {
     "name": "stderr",
     "output_type": "stream",
     "text": [
      "  0%|          | 0/9 [00:00<?, ?it/s]"
     ]
    },
    {
     "name": "stderr",
     "output_type": "stream",
     "text": [
      "100%|██████████| 9/9 [01:12<00:00,  8.09s/it]\n"
     ]
    }
   ],
   "source": [
    "## Top K features \n",
    "for s in tqdm(np.arange(0.1, 1, 0.1)):\n",
    "    \n",
    "    flat_mask = ig_soft_mask.flatten()\n",
    "    k = int(s * flat_mask.numel())\n",
    "    threshold = torch.topk(flat_mask, k).values[-1]\n",
    "    \n",
    "    hard_mask = (ig_soft_mask >= threshold).bool()\n",
    "    fp, fn = manual_fidelities(hard_mask)\n",
    "    \n",
    "    ig_metrics['fid+'].append(fp)\n",
    "    ig_metrics['fid-'].append(fn)\n",
    "    \n",
    "    # c = characterization_score(fp, fn) if (fp * fn) != 0 else 0\n",
    "    ig_metrics['c'].append(c)\n",
    "    ig_metrics['s'].append(s)\n",
    "    ig_metrics['k'].append(k)\n",
    "   "
   ]
  },
  {
   "cell_type": "markdown",
   "id": "39009b40",
   "metadata": {},
   "source": [
    "### GraphMask"
   ]
  },
  {
   "cell_type": "code",
   "execution_count": 36,
   "id": "da5016a6",
   "metadata": {},
   "outputs": [
    {
     "name": "stderr",
     "output_type": "stream",
     "text": [
      "0it [00:00, ?it/s]"
     ]
    },
    {
     "name": "stderr",
     "output_type": "stream",
     "text": [
      "Train explainer for node(s) None with layer 2: 100%|██████████| 5/5 [00:19<00:00,  3.96s/it]\n",
      "Train explainer for node(s) None with layer 1: 100%|██████████| 5/5 [00:26<00:00,  5.25s/it]\n",
      "Train explainer for node(s) None with layer 0: 100%|██████████| 5/5 [00:31<00:00,  6.21s/it]\n",
      "Explain: 100%|██████████| 3/3 [00:02<00:00,  1.45it/s]\n",
      "1it [01:19, 79.88s/it]"
     ]
    },
    {
     "name": "stdout",
     "output_type": "stream",
     "text": [
      "Explanation(node_mask=[10000, 49], edge_mask=[626812], target=[10000], x=[10000, 49], edge_index=[2, 626812])\n"
     ]
    },
    {
     "name": "stderr",
     "output_type": "stream",
     "text": [
      "Train explainer for node(s) None with layer 2: 100%|██████████| 5/5 [00:18<00:00,  3.71s/it]\n",
      "Train explainer for node(s) None with layer 1: 100%|██████████| 5/5 [00:25<00:00,  5.11s/it]\n",
      "Train explainer for node(s) None with layer 0: 100%|██████████| 5/5 [00:30<00:00,  6.05s/it]\n",
      "Explain: 100%|██████████| 3/3 [00:01<00:00,  1.51it/s]\n",
      "2it [02:37, 78.37s/it]"
     ]
    },
    {
     "name": "stdout",
     "output_type": "stream",
     "text": [
      "Explanation(node_mask=[10000, 49], edge_mask=[613714], target=[10000], x=[10000, 49], edge_index=[2, 613714])\n"
     ]
    },
    {
     "name": "stderr",
     "output_type": "stream",
     "text": [
      "Train explainer for node(s) None with layer 2: 100%|██████████| 5/5 [00:17<00:00,  3.50s/it]\n",
      "Train explainer for node(s) None with layer 1: 100%|██████████| 5/5 [00:24<00:00,  4.85s/it]\n",
      "Train explainer for node(s) None with layer 0: 100%|██████████| 5/5 [00:28<00:00,  5.71s/it]\n",
      "Explain: 100%|██████████| 3/3 [00:01<00:00,  1.58it/s]\n",
      "3it [03:50, 76.71s/it]"
     ]
    },
    {
     "name": "stdout",
     "output_type": "stream",
     "text": [
      "Explanation(node_mask=[9760, 49], edge_mask=[579250], target=[9760], x=[9760, 49], edge_index=[2, 579250])\n"
     ]
    },
    {
     "name": "stderr",
     "output_type": "stream",
     "text": [
      "\n"
     ]
    }
   ],
   "source": [
    "from torch_geometric.explain.algorithm import GraphMaskExplainer\n",
    "\n",
    "model_config = ModelConfig(\n",
    "    mode='multiclass_classification',\n",
    "    task_level='node',\n",
    "    return_type='raw'\n",
    ")\n",
    "\n",
    "explainer = Explainer(\n",
    "    model=model,\n",
    "    algorithm=GraphMaskExplainer(3, epochs=5),\n",
    "    explanation_type='phenomenon', \n",
    "    model_config=model_config,\n",
    "    node_mask_type='attributes',\n",
    "    edge_mask_type='object',\n",
    ")\n",
    "\n",
    "explanations = []\n",
    "for batch in tqdm(get_batch(test, batch_size=5_000)):\n",
    "    batched_G = to_graph(batch)\n",
    "    explanation = explainer(batched_G.x, \n",
    "                            batched_G.edge_index, \n",
    "                            target=batched_G.Attack)\n",
    "    \n",
    "    explanations.append(explanation)\n",
    "    print(explanation)\n"
   ]
  },
  {
   "cell_type": "code",
   "execution_count": 38,
   "id": "06ca324a",
   "metadata": {},
   "outputs": [
    {
     "name": "stderr",
     "output_type": "stream",
     "text": [
      "  0%|          | 0/9 [00:00<?, ?it/s]"
     ]
    },
    {
     "name": "stderr",
     "output_type": "stream",
     "text": [
      "100%|██████████| 9/9 [00:45<00:00,  5.01s/it]\n"
     ]
    }
   ],
   "source": [
    "from torch_geometric.explain.metric import fidelity\n",
    "\n",
    "gm_metrics = {'fid+': [], 'fid-': [], 's': [], 'c': [], 'k': []}\n",
    "\n",
    "\n",
    "def get_masked_prediction(sparsity, explanations):\n",
    "    l = {'y': [], 'yp': [], 'ypm': [], 'ypmi': []}\n",
    "    for batch, expl in zip(get_batch(test, batch_size=5_000), explanations):\n",
    "        \n",
    "        # sparsity restriction is computed per-batch\n",
    "        # due to memory limitations\n",
    "        soft_mask = expl.node_mask\n",
    "        flat_mask = soft_mask.flatten()\n",
    "        k = int(sparsity * flat_mask.numel())\n",
    "        threshold = torch.topk(flat_mask, k).values[-1]\n",
    "        mask = soft_mask > threshold\n",
    "        \n",
    "        batch_G = to_graph(batch)\n",
    "        l['y'].append(batch_G.Attack)\n",
    "        l['yp'].append(model(batch_G.x, batch_G.edge_index).argmax(axis=1))\n",
    "        l['ypm'].append(model(batch_G.x * mask, batch_G.edge_index).argmax(axis=1))\n",
    "        l['ypmi'].append(model(batch_G.x * (~mask), batch_G.edge_index).argmax(axis=1))\n",
    "\n",
    "    y, y_pred, y_mask, y_imask = [\n",
    "        np.concat(l) \n",
    "        for l in (l['y'], l['yp'], l['ypm'], l['ypmi'])\n",
    "    ]\n",
    "    fidm = np.abs(((y_pred == y).astype(float) - (y_mask == y)).astype(float)).mean()\n",
    "    fidp = np.abs(((y_pred == y).astype(float) - (y_imask == y)).astype(float)).mean()\n",
    "    return fidp, fidm\n",
    "\n",
    "        \n",
    "for s in tqdm(np.arange(0.1, 1, 0.1)):\n",
    "    fn, fp = get_masked_prediction(s, explanations=explanations)    \n",
    "    gm_metrics['fid+'].append(fp)\n",
    "    gm_metrics['fid-'].append(fn)\n",
    "    c = characterization_score(fp, fn) if (fp * fn) != 0 else 0\n",
    "    gm_metrics['c'].append(c)\n",
    "    gm_metrics['s'].append(s)"
   ]
  },
  {
   "cell_type": "code",
   "execution_count": 39,
   "id": "83f6232c",
   "metadata": {},
   "outputs": [
    {
     "ename": "RuntimeError",
     "evalue": "The size of tensor a (29760) must match the size of tensor b (9760) at non-singleton dimension 0",
     "output_type": "error",
     "traceback": [
      "\u001b[31m---------------------------------------------------------------------------\u001b[39m",
      "\u001b[31mRuntimeError\u001b[39m                              Traceback (most recent call last)",
      "\u001b[36mCell\u001b[39m\u001b[36m \u001b[39m\u001b[32mIn[39]\u001b[39m\u001b[32m, line 3\u001b[39m\n\u001b[32m      1\u001b[39m gm_metrics[\u001b[33m'\u001b[39m\u001b[33msoftmask fidelity\u001b[39m\u001b[33m'\u001b[39m] = fidelity(explainer, explanation)\n\u001b[32m----> \u001b[39m\u001b[32m3\u001b[39m y_pred, ym_pred, ymi_pred = \u001b[43mmasked_prediction\u001b[49m\u001b[43m(\u001b[49m\n\u001b[32m      4\u001b[39m \u001b[43m    \u001b[49m\u001b[43mexplanation\u001b[49m\u001b[43m.\u001b[49m\u001b[43mnode_mask\u001b[49m\u001b[43m,\u001b[49m\u001b[43m \u001b[49m\u001b[43mmodel\u001b[49m\u001b[43m,\u001b[49m\u001b[43m \u001b[49m\u001b[43mG\u001b[49m\u001b[43m,\u001b[49m\u001b[43m \u001b[49m\u001b[43mhardmask\u001b[49m\u001b[43m=\u001b[49m\u001b[38;5;28;43;01mFalse\u001b[39;49;00m\u001b[43m)\u001b[49m\n\u001b[32m      6\u001b[39m \u001b[38;5;28;01mfor\u001b[39;00m idx \u001b[38;5;129;01min\u001b[39;00m \u001b[38;5;28mrange\u001b[39m(y_pred.max()):\n\u001b[32m      7\u001b[39m     attack = target_encoder.inverse_transform([idx])[\u001b[32m0\u001b[39m]\n",
      "\u001b[36mCell\u001b[39m\u001b[36m \u001b[39m\u001b[32mIn[7]\u001b[39m\u001b[32m, line 37\u001b[39m, in \u001b[36mmasked_prediction\u001b[39m\u001b[34m(mask, model, G, hardmask)\u001b[39m\n\u001b[32m     34\u001b[39m     inv_mask = ~mask\n\u001b[32m     36\u001b[39m y_pred = model(G.x, G.edge_index).argmax(axis=\u001b[32m1\u001b[39m)\n\u001b[32m---> \u001b[39m\u001b[32m37\u001b[39m ym_pred = model(\u001b[43mG\u001b[49m\u001b[43m.\u001b[49m\u001b[43mx\u001b[49m\u001b[43m*\u001b[49m\u001b[43mmask\u001b[49m, G.edge_index).argmax(axis=\u001b[32m1\u001b[39m)\n\u001b[32m     38\u001b[39m ymi_pred = model(G.x*(inv_mask), G.edge_index).argmax(axis=\u001b[32m1\u001b[39m)\n\u001b[32m     39\u001b[39m \u001b[38;5;28;01mreturn\u001b[39;00m y_pred, ym_pred, ymi_pred\n",
      "\u001b[31mRuntimeError\u001b[39m: The size of tensor a (29760) must match the size of tensor b (9760) at non-singleton dimension 0"
     ]
    }
   ],
   "source": [
    "gm_metrics['softmask fidelity'] = fidelity(explainer, explanation)\n",
    "\n",
    "y_pred, ym_pred, ymi_pred = masked_prediction(\n",
    "    explanation.node_mask, model, G, hardmask=False)\n",
    "\n",
    "for idx in range(y_pred.max()):\n",
    "    attack = target_encoder.inverse_transform([idx])[0]\n",
    "    fp, fn = fidelities(y_pred= y_pred == idx, \n",
    "                        y_mask= ym_pred == idx, \n",
    "                        y_imask= ymi_pred == idx,\n",
    "                        y= G.Attack==idx)\n",
    "\n",
    "    w = (G.Attack==idx).float().mean()\n",
    "    c = characterization_score(fp, fn, pos_weight=w, neg_weight=1-w) if fp*fn > 0 else 0\n",
    "    \n",
    "    gm_metrics[f'softmask fidelity {attack}'] = fp, fn, c"
   ]
  },
  {
   "cell_type": "markdown",
   "id": "16715044",
   "metadata": {},
   "source": [
    "### PGExplainer"
   ]
  },
  {
   "cell_type": "code",
   "execution_count": 10,
   "id": "c0ce6d5e",
   "metadata": {},
   "outputs": [
    {
     "name": "stderr",
     "output_type": "stream",
     "text": [
      "  0%|          | 36/10000 [00:50<3:51:50,  1.40s/it]\n"
     ]
    },
    {
     "ename": "KeyboardInterrupt",
     "evalue": "",
     "output_type": "error",
     "traceback": [
      "\u001b[31m---------------------------------------------------------------------------\u001b[39m",
      "\u001b[31mKeyboardInterrupt\u001b[39m                         Traceback (most recent call last)",
      "\u001b[36mCell\u001b[39m\u001b[36m \u001b[39m\u001b[32mIn[10]\u001b[39m\u001b[32m, line 34\u001b[39m\n\u001b[32m     32\u001b[39m \u001b[38;5;66;03m# Train against a variety of node-level or graph-level predictions:\u001b[39;00m\n\u001b[32m     33\u001b[39m \u001b[38;5;28;01mfor\u001b[39;00m epoch \u001b[38;5;129;01min\u001b[39;00m \u001b[38;5;28mrange\u001b[39m(\u001b[32m30\u001b[39m):\n\u001b[32m---> \u001b[39m\u001b[32m34\u001b[39m     \u001b[43mtrain_epoch\u001b[49m\u001b[43m(\u001b[49m\u001b[43mexplainer\u001b[49m\u001b[43m.\u001b[49m\u001b[43malgorithm\u001b[49m\u001b[43m.\u001b[49m\u001b[43mtrain\u001b[49m\u001b[43m,\u001b[49m\u001b[43m \u001b[49m\u001b[43mepoch\u001b[49m\u001b[43m=\u001b[49m\u001b[43mepoch\u001b[49m\u001b[43m)\u001b[49m\n",
      "\u001b[36mCell\u001b[39m\u001b[36m \u001b[39m\u001b[32mIn[10]\u001b[39m\u001b[32m, line 26\u001b[39m, in \u001b[36mtrain_epoch\u001b[39m\u001b[34m(trainer_function, epoch)\u001b[39m\n\u001b[32m     23\u001b[39m losses = []\n\u001b[32m     24\u001b[39m \u001b[38;5;28;01mfor\u001b[39;00m i \u001b[38;5;129;01min\u001b[39;00m tqdm(\u001b[38;5;28mrange\u001b[39m(\u001b[38;5;28mlen\u001b[39m(batched_G.x))):\n\u001b[32m     25\u001b[39m     losses.append(\n\u001b[32m---> \u001b[39m\u001b[32m26\u001b[39m         \u001b[43mtrainer_function\u001b[49m\u001b[43m(\u001b[49m\u001b[43mepoch\u001b[49m\u001b[43m,\u001b[49m\u001b[43m \u001b[49m\u001b[43mmodel\u001b[49m\u001b[43m,\u001b[49m\u001b[43m \u001b[49m\u001b[43mbatched_G\u001b[49m\u001b[43m.\u001b[49m\u001b[43mx\u001b[49m\u001b[43m,\u001b[49m\u001b[43m \u001b[49m\n\u001b[32m     27\u001b[39m \u001b[43m                         \u001b[49m\u001b[43mbatched_G\u001b[49m\u001b[43m.\u001b[49m\u001b[43medge_index\u001b[49m\u001b[43m,\u001b[49m\u001b[43m \u001b[49m\u001b[43mtarget\u001b[49m\u001b[43m=\u001b[49m\u001b[43mbatched_G\u001b[49m\u001b[43m.\u001b[49m\u001b[43mAttack\u001b[49m\u001b[43m,\u001b[49m\u001b[43m \u001b[49m\u001b[43mindex\u001b[49m\u001b[43m=\u001b[49m\u001b[43mi\u001b[49m\u001b[43m)\u001b[49m)\n\u001b[32m     29\u001b[39m \u001b[38;5;28mprint\u001b[39m(\u001b[33mf\u001b[39m\u001b[33m'\u001b[39m\u001b[33mav loss: \u001b[39m\u001b[38;5;132;01m{\u001b[39;00mlosses.mean()\u001b[38;5;132;01m}\u001b[39;00m\u001b[33m'\u001b[39m)\n",
      "\u001b[36mFile \u001b[39m\u001b[32m~/COMP4003/venv/lib/python3.11/site-packages/torch_geometric/explain/algorithm/pg_explainer.py:139\u001b[39m, in \u001b[36mPGExplainer.train\u001b[39m\u001b[34m(self, epoch, model, x, edge_index, target, index, **kwargs)\u001b[39m\n\u001b[32m    135\u001b[39m     _, hard_edge_mask = \u001b[38;5;28mself\u001b[39m._get_hard_masks(model, index, edge_index,\n\u001b[32m    136\u001b[39m                                              num_nodes=x.size(\u001b[32m0\u001b[39m))\n\u001b[32m    137\u001b[39m     edge_mask = edge_mask[hard_edge_mask]\n\u001b[32m--> \u001b[39m\u001b[32m139\u001b[39m y_hat, y = \u001b[43mmodel\u001b[49m\u001b[43m(\u001b[49m\u001b[43mx\u001b[49m\u001b[43m,\u001b[49m\u001b[43m \u001b[49m\u001b[43medge_index\u001b[49m\u001b[43m,\u001b[49m\u001b[43m \u001b[49m\u001b[43m*\u001b[49m\u001b[43m*\u001b[49m\u001b[43mkwargs\u001b[49m\u001b[43m)\u001b[49m, target\n\u001b[32m    141\u001b[39m \u001b[38;5;28;01mif\u001b[39;00m index \u001b[38;5;129;01mis\u001b[39;00m \u001b[38;5;129;01mnot\u001b[39;00m \u001b[38;5;28;01mNone\u001b[39;00m:\n\u001b[32m    142\u001b[39m     y_hat, y = y_hat[index], y[index]\n",
      "\u001b[36mFile \u001b[39m\u001b[32m~/COMP4003/venv/lib/python3.11/site-packages/torch/nn/modules/module.py:1553\u001b[39m, in \u001b[36mModule._wrapped_call_impl\u001b[39m\u001b[34m(self, *args, **kwargs)\u001b[39m\n\u001b[32m   1551\u001b[39m     \u001b[38;5;28;01mreturn\u001b[39;00m \u001b[38;5;28mself\u001b[39m._compiled_call_impl(*args, **kwargs)  \u001b[38;5;66;03m# type: ignore[misc]\u001b[39;00m\n\u001b[32m   1552\u001b[39m \u001b[38;5;28;01melse\u001b[39;00m:\n\u001b[32m-> \u001b[39m\u001b[32m1553\u001b[39m     \u001b[38;5;28;01mreturn\u001b[39;00m \u001b[38;5;28;43mself\u001b[39;49m\u001b[43m.\u001b[49m\u001b[43m_call_impl\u001b[49m\u001b[43m(\u001b[49m\u001b[43m*\u001b[49m\u001b[43margs\u001b[49m\u001b[43m,\u001b[49m\u001b[43m \u001b[49m\u001b[43m*\u001b[49m\u001b[43m*\u001b[49m\u001b[43mkwargs\u001b[49m\u001b[43m)\u001b[49m\n",
      "\u001b[36mFile \u001b[39m\u001b[32m~/COMP4003/venv/lib/python3.11/site-packages/torch/nn/modules/module.py:1562\u001b[39m, in \u001b[36mModule._call_impl\u001b[39m\u001b[34m(self, *args, **kwargs)\u001b[39m\n\u001b[32m   1557\u001b[39m \u001b[38;5;66;03m# If we don't have any hooks, we want to skip the rest of the logic in\u001b[39;00m\n\u001b[32m   1558\u001b[39m \u001b[38;5;66;03m# this function, and just call forward.\u001b[39;00m\n\u001b[32m   1559\u001b[39m \u001b[38;5;28;01mif\u001b[39;00m \u001b[38;5;129;01mnot\u001b[39;00m (\u001b[38;5;28mself\u001b[39m._backward_hooks \u001b[38;5;129;01mor\u001b[39;00m \u001b[38;5;28mself\u001b[39m._backward_pre_hooks \u001b[38;5;129;01mor\u001b[39;00m \u001b[38;5;28mself\u001b[39m._forward_hooks \u001b[38;5;129;01mor\u001b[39;00m \u001b[38;5;28mself\u001b[39m._forward_pre_hooks\n\u001b[32m   1560\u001b[39m         \u001b[38;5;129;01mor\u001b[39;00m _global_backward_pre_hooks \u001b[38;5;129;01mor\u001b[39;00m _global_backward_hooks\n\u001b[32m   1561\u001b[39m         \u001b[38;5;129;01mor\u001b[39;00m _global_forward_hooks \u001b[38;5;129;01mor\u001b[39;00m _global_forward_pre_hooks):\n\u001b[32m-> \u001b[39m\u001b[32m1562\u001b[39m     \u001b[38;5;28;01mreturn\u001b[39;00m \u001b[43mforward_call\u001b[49m\u001b[43m(\u001b[49m\u001b[43m*\u001b[49m\u001b[43margs\u001b[49m\u001b[43m,\u001b[49m\u001b[43m \u001b[49m\u001b[43m*\u001b[49m\u001b[43m*\u001b[49m\u001b[43mkwargs\u001b[49m\u001b[43m)\u001b[49m\n\u001b[32m   1564\u001b[39m \u001b[38;5;28;01mtry\u001b[39;00m:\n\u001b[32m   1565\u001b[39m     result = \u001b[38;5;28;01mNone\u001b[39;00m\n",
      "\u001b[36mFile \u001b[39m\u001b[32m~/COMP4003/venv/lib/python3.11/site-packages/torch_geometric/nn/models/basic_gnn.py:256\u001b[39m, in \u001b[36mBasicGNN.forward\u001b[39m\u001b[34m(self, x, edge_index, edge_weight, edge_attr, batch, batch_size, num_sampled_nodes_per_hop, num_sampled_edges_per_hop)\u001b[39m\n\u001b[32m    254\u001b[39m     x = conv(x, edge_index, edge_attr=edge_attr)\n\u001b[32m    255\u001b[39m \u001b[38;5;28;01melse\u001b[39;00m:\n\u001b[32m--> \u001b[39m\u001b[32m256\u001b[39m     x = \u001b[43mconv\u001b[49m\u001b[43m(\u001b[49m\u001b[43mx\u001b[49m\u001b[43m,\u001b[49m\u001b[43m \u001b[49m\u001b[43medge_index\u001b[49m\u001b[43m)\u001b[49m\n\u001b[32m    258\u001b[39m \u001b[38;5;28;01mif\u001b[39;00m i < \u001b[38;5;28mself\u001b[39m.num_layers - \u001b[32m1\u001b[39m \u001b[38;5;129;01mor\u001b[39;00m \u001b[38;5;28mself\u001b[39m.jk_mode \u001b[38;5;129;01mis\u001b[39;00m \u001b[38;5;129;01mnot\u001b[39;00m \u001b[38;5;28;01mNone\u001b[39;00m:\n\u001b[32m    259\u001b[39m     \u001b[38;5;28;01mif\u001b[39;00m \u001b[38;5;28mself\u001b[39m.act \u001b[38;5;129;01mis\u001b[39;00m \u001b[38;5;129;01mnot\u001b[39;00m \u001b[38;5;28;01mNone\u001b[39;00m \u001b[38;5;129;01mand\u001b[39;00m \u001b[38;5;28mself\u001b[39m.act_first:\n",
      "\u001b[36mFile \u001b[39m\u001b[32m~/COMP4003/venv/lib/python3.11/site-packages/torch/nn/modules/module.py:1553\u001b[39m, in \u001b[36mModule._wrapped_call_impl\u001b[39m\u001b[34m(self, *args, **kwargs)\u001b[39m\n\u001b[32m   1551\u001b[39m     \u001b[38;5;28;01mreturn\u001b[39;00m \u001b[38;5;28mself\u001b[39m._compiled_call_impl(*args, **kwargs)  \u001b[38;5;66;03m# type: ignore[misc]\u001b[39;00m\n\u001b[32m   1552\u001b[39m \u001b[38;5;28;01melse\u001b[39;00m:\n\u001b[32m-> \u001b[39m\u001b[32m1553\u001b[39m     \u001b[38;5;28;01mreturn\u001b[39;00m \u001b[38;5;28;43mself\u001b[39;49m\u001b[43m.\u001b[49m\u001b[43m_call_impl\u001b[49m\u001b[43m(\u001b[49m\u001b[43m*\u001b[49m\u001b[43margs\u001b[49m\u001b[43m,\u001b[49m\u001b[43m \u001b[49m\u001b[43m*\u001b[49m\u001b[43m*\u001b[49m\u001b[43mkwargs\u001b[49m\u001b[43m)\u001b[49m\n",
      "\u001b[36mFile \u001b[39m\u001b[32m~/COMP4003/venv/lib/python3.11/site-packages/torch/nn/modules/module.py:1562\u001b[39m, in \u001b[36mModule._call_impl\u001b[39m\u001b[34m(self, *args, **kwargs)\u001b[39m\n\u001b[32m   1557\u001b[39m \u001b[38;5;66;03m# If we don't have any hooks, we want to skip the rest of the logic in\u001b[39;00m\n\u001b[32m   1558\u001b[39m \u001b[38;5;66;03m# this function, and just call forward.\u001b[39;00m\n\u001b[32m   1559\u001b[39m \u001b[38;5;28;01mif\u001b[39;00m \u001b[38;5;129;01mnot\u001b[39;00m (\u001b[38;5;28mself\u001b[39m._backward_hooks \u001b[38;5;129;01mor\u001b[39;00m \u001b[38;5;28mself\u001b[39m._backward_pre_hooks \u001b[38;5;129;01mor\u001b[39;00m \u001b[38;5;28mself\u001b[39m._forward_hooks \u001b[38;5;129;01mor\u001b[39;00m \u001b[38;5;28mself\u001b[39m._forward_pre_hooks\n\u001b[32m   1560\u001b[39m         \u001b[38;5;129;01mor\u001b[39;00m _global_backward_pre_hooks \u001b[38;5;129;01mor\u001b[39;00m _global_backward_hooks\n\u001b[32m   1561\u001b[39m         \u001b[38;5;129;01mor\u001b[39;00m _global_forward_hooks \u001b[38;5;129;01mor\u001b[39;00m _global_forward_pre_hooks):\n\u001b[32m-> \u001b[39m\u001b[32m1562\u001b[39m     \u001b[38;5;28;01mreturn\u001b[39;00m \u001b[43mforward_call\u001b[49m\u001b[43m(\u001b[49m\u001b[43m*\u001b[49m\u001b[43margs\u001b[49m\u001b[43m,\u001b[49m\u001b[43m \u001b[49m\u001b[43m*\u001b[49m\u001b[43m*\u001b[49m\u001b[43mkwargs\u001b[49m\u001b[43m)\u001b[49m\n\u001b[32m   1564\u001b[39m \u001b[38;5;28;01mtry\u001b[39;00m:\n\u001b[32m   1565\u001b[39m     result = \u001b[38;5;28;01mNone\u001b[39;00m\n",
      "\u001b[36mFile \u001b[39m\u001b[32m~/COMP4003/venv/lib/python3.11/site-packages/torch_geometric/nn/conv/sage_conv.py:134\u001b[39m, in \u001b[36mSAGEConv.forward\u001b[39m\u001b[34m(self, x, edge_index, size)\u001b[39m\n\u001b[32m    131\u001b[39m     x = (\u001b[38;5;28mself\u001b[39m.lin(x[\u001b[32m0\u001b[39m]).relu(), x[\u001b[32m1\u001b[39m])\n\u001b[32m    133\u001b[39m \u001b[38;5;66;03m# propagate_type: (x: OptPairTensor)\u001b[39;00m\n\u001b[32m--> \u001b[39m\u001b[32m134\u001b[39m out = \u001b[38;5;28;43mself\u001b[39;49m\u001b[43m.\u001b[49m\u001b[43mpropagate\u001b[49m\u001b[43m(\u001b[49m\u001b[43medge_index\u001b[49m\u001b[43m,\u001b[49m\u001b[43m \u001b[49m\u001b[43mx\u001b[49m\u001b[43m=\u001b[49m\u001b[43mx\u001b[49m\u001b[43m,\u001b[49m\u001b[43m \u001b[49m\u001b[43msize\u001b[49m\u001b[43m=\u001b[49m\u001b[43msize\u001b[49m\u001b[43m)\u001b[49m\n\u001b[32m    135\u001b[39m out = \u001b[38;5;28mself\u001b[39m.lin_l(out)\n\u001b[32m    137\u001b[39m x_r = x[\u001b[32m1\u001b[39m]\n",
      "\u001b[36mFile \u001b[39m\u001b[32m~/COMP4003/venv/lib/python3.11/site-packages/torch_geometric/nn/conv/message_passing.py:541\u001b[39m, in \u001b[36mMessagePassing.propagate\u001b[39m\u001b[34m(self, edge_index, size, **kwargs)\u001b[39m\n\u001b[32m    538\u001b[39m     \u001b[38;5;28;01mif\u001b[39;00m res \u001b[38;5;129;01mis\u001b[39;00m \u001b[38;5;129;01mnot\u001b[39;00m \u001b[38;5;28;01mNone\u001b[39;00m:\n\u001b[32m    539\u001b[39m         aggr_kwargs = res[\u001b[32m0\u001b[39m] \u001b[38;5;28;01mif\u001b[39;00m \u001b[38;5;28misinstance\u001b[39m(res, \u001b[38;5;28mtuple\u001b[39m) \u001b[38;5;28;01melse\u001b[39;00m res\n\u001b[32m--> \u001b[39m\u001b[32m541\u001b[39m out = \u001b[38;5;28;43mself\u001b[39;49m\u001b[43m.\u001b[49m\u001b[43maggregate\u001b[49m\u001b[43m(\u001b[49m\u001b[43mout\u001b[49m\u001b[43m,\u001b[49m\u001b[43m \u001b[49m\u001b[43m*\u001b[49m\u001b[43m*\u001b[49m\u001b[43maggr_kwargs\u001b[49m\u001b[43m)\u001b[49m\n\u001b[32m    543\u001b[39m \u001b[38;5;28;01mfor\u001b[39;00m hook \u001b[38;5;129;01min\u001b[39;00m \u001b[38;5;28mself\u001b[39m._aggregate_forward_hooks.values():\n\u001b[32m    544\u001b[39m     res = hook(\u001b[38;5;28mself\u001b[39m, (aggr_kwargs, ), out)\n",
      "\u001b[36mFile \u001b[39m\u001b[32m~/COMP4003/venv/lib/python3.11/site-packages/torch_geometric/nn/conv/message_passing.py:594\u001b[39m, in \u001b[36mMessagePassing.aggregate\u001b[39m\u001b[34m(self, inputs, index, ptr, dim_size)\u001b[39m\n\u001b[32m    577\u001b[39m \u001b[38;5;28;01mdef\u001b[39;00m\u001b[38;5;250m \u001b[39m\u001b[34maggregate\u001b[39m(\n\u001b[32m    578\u001b[39m     \u001b[38;5;28mself\u001b[39m,\n\u001b[32m    579\u001b[39m     inputs: Tensor,\n\u001b[32m   (...)\u001b[39m\u001b[32m    582\u001b[39m     dim_size: Optional[\u001b[38;5;28mint\u001b[39m] = \u001b[38;5;28;01mNone\u001b[39;00m,\n\u001b[32m    583\u001b[39m ) -> Tensor:\n\u001b[32m    584\u001b[39m \u001b[38;5;250m    \u001b[39m\u001b[33mr\u001b[39m\u001b[33;03m\"\"\"Aggregates messages from neighbors as\u001b[39;00m\n\u001b[32m    585\u001b[39m \u001b[33;03m    :math:`\\bigoplus_{j \\in \\mathcal{N}(i)}`.\u001b[39;00m\n\u001b[32m    586\u001b[39m \n\u001b[32m   (...)\u001b[39m\u001b[32m    592\u001b[39m \u001b[33;03m    as specified in :meth:`__init__` by the :obj:`aggr` argument.\u001b[39;00m\n\u001b[32m    593\u001b[39m \u001b[33;03m    \"\"\"\u001b[39;00m\n\u001b[32m--> \u001b[39m\u001b[32m594\u001b[39m     \u001b[38;5;28;01mreturn\u001b[39;00m \u001b[38;5;28;43mself\u001b[39;49m\u001b[43m.\u001b[49m\u001b[43maggr_module\u001b[49m\u001b[43m(\u001b[49m\u001b[43minputs\u001b[49m\u001b[43m,\u001b[49m\u001b[43m \u001b[49m\u001b[43mindex\u001b[49m\u001b[43m,\u001b[49m\u001b[43m \u001b[49m\u001b[43mptr\u001b[49m\u001b[43m=\u001b[49m\u001b[43mptr\u001b[49m\u001b[43m,\u001b[49m\u001b[43m \u001b[49m\u001b[43mdim_size\u001b[49m\u001b[43m=\u001b[49m\u001b[43mdim_size\u001b[49m\u001b[43m,\u001b[49m\n\u001b[32m    595\u001b[39m \u001b[43m                            \u001b[49m\u001b[43mdim\u001b[49m\u001b[43m=\u001b[49m\u001b[38;5;28;43mself\u001b[39;49m\u001b[43m.\u001b[49m\u001b[43mnode_dim\u001b[49m\u001b[43m)\u001b[49m\n",
      "\u001b[36mFile \u001b[39m\u001b[32m~/COMP4003/venv/lib/python3.11/site-packages/torch_geometric/experimental.py:117\u001b[39m, in \u001b[36mdisable_dynamic_shapes.<locals>.decorator.<locals>.wrapper\u001b[39m\u001b[34m(*args, **kwargs)\u001b[39m\n\u001b[32m    114\u001b[39m \u001b[38;5;129m@functools\u001b[39m.wraps(func)\n\u001b[32m    115\u001b[39m \u001b[38;5;28;01mdef\u001b[39;00m\u001b[38;5;250m \u001b[39m\u001b[34mwrapper\u001b[39m(*args: Any, **kwargs: Any) -> Any:\n\u001b[32m    116\u001b[39m     \u001b[38;5;28;01mif\u001b[39;00m \u001b[38;5;129;01mnot\u001b[39;00m is_experimental_mode_enabled(\u001b[33m'\u001b[39m\u001b[33mdisable_dynamic_shapes\u001b[39m\u001b[33m'\u001b[39m):\n\u001b[32m--> \u001b[39m\u001b[32m117\u001b[39m         \u001b[38;5;28;01mreturn\u001b[39;00m \u001b[43mfunc\u001b[49m\u001b[43m(\u001b[49m\u001b[43m*\u001b[49m\u001b[43margs\u001b[49m\u001b[43m,\u001b[49m\u001b[43m \u001b[49m\u001b[43m*\u001b[49m\u001b[43m*\u001b[49m\u001b[43mkwargs\u001b[49m\u001b[43m)\u001b[49m\n\u001b[32m    119\u001b[39m     \u001b[38;5;28;01mfor\u001b[39;00m required_arg \u001b[38;5;129;01min\u001b[39;00m required_args:\n\u001b[32m    120\u001b[39m         index = required_args_pos[required_arg]\n",
      "\u001b[36mFile \u001b[39m\u001b[32m~/COMP4003/venv/lib/python3.11/site-packages/torch_geometric/nn/aggr/base.py:131\u001b[39m, in \u001b[36mAggregation.__call__\u001b[39m\u001b[34m(self, x, index, ptr, dim_size, dim, **kwargs)\u001b[39m\n\u001b[32m    128\u001b[39m     dim_size = \u001b[38;5;28mint\u001b[39m(index.max()) + \u001b[32m1\u001b[39m \u001b[38;5;28;01mif\u001b[39;00m index.numel() > \u001b[32m0\u001b[39m \u001b[38;5;28;01melse\u001b[39;00m \u001b[32m0\u001b[39m\n\u001b[32m    130\u001b[39m \u001b[38;5;28;01mtry\u001b[39;00m:\n\u001b[32m--> \u001b[39m\u001b[32m131\u001b[39m     \u001b[38;5;28;01mreturn\u001b[39;00m \u001b[38;5;28;43msuper\u001b[39;49m\u001b[43m(\u001b[49m\u001b[43m)\u001b[49m\u001b[43m.\u001b[49m\u001b[34;43m__call__\u001b[39;49m\u001b[43m(\u001b[49m\u001b[43mx\u001b[49m\u001b[43m,\u001b[49m\u001b[43m \u001b[49m\u001b[43mindex\u001b[49m\u001b[43m=\u001b[49m\u001b[43mindex\u001b[49m\u001b[43m,\u001b[49m\u001b[43m \u001b[49m\u001b[43mptr\u001b[49m\u001b[43m=\u001b[49m\u001b[43mptr\u001b[49m\u001b[43m,\u001b[49m\u001b[43m \u001b[49m\u001b[43mdim_size\u001b[49m\u001b[43m=\u001b[49m\u001b[43mdim_size\u001b[49m\u001b[43m,\u001b[49m\n\u001b[32m    132\u001b[39m \u001b[43m                            \u001b[49m\u001b[43mdim\u001b[49m\u001b[43m=\u001b[49m\u001b[43mdim\u001b[49m\u001b[43m,\u001b[49m\u001b[43m \u001b[49m\u001b[43m*\u001b[49m\u001b[43m*\u001b[49m\u001b[43mkwargs\u001b[49m\u001b[43m)\u001b[49m\n\u001b[32m    133\u001b[39m \u001b[38;5;28;01mexcept\u001b[39;00m (\u001b[38;5;167;01mIndexError\u001b[39;00m, \u001b[38;5;167;01mRuntimeError\u001b[39;00m) \u001b[38;5;28;01mas\u001b[39;00m e:\n\u001b[32m    134\u001b[39m     \u001b[38;5;28;01mif\u001b[39;00m index \u001b[38;5;129;01mis\u001b[39;00m \u001b[38;5;129;01mnot\u001b[39;00m \u001b[38;5;28;01mNone\u001b[39;00m:\n",
      "\u001b[36mFile \u001b[39m\u001b[32m~/COMP4003/venv/lib/python3.11/site-packages/torch/nn/modules/module.py:1553\u001b[39m, in \u001b[36mModule._wrapped_call_impl\u001b[39m\u001b[34m(self, *args, **kwargs)\u001b[39m\n\u001b[32m   1551\u001b[39m     \u001b[38;5;28;01mreturn\u001b[39;00m \u001b[38;5;28mself\u001b[39m._compiled_call_impl(*args, **kwargs)  \u001b[38;5;66;03m# type: ignore[misc]\u001b[39;00m\n\u001b[32m   1552\u001b[39m \u001b[38;5;28;01melse\u001b[39;00m:\n\u001b[32m-> \u001b[39m\u001b[32m1553\u001b[39m     \u001b[38;5;28;01mreturn\u001b[39;00m \u001b[38;5;28;43mself\u001b[39;49m\u001b[43m.\u001b[49m\u001b[43m_call_impl\u001b[49m\u001b[43m(\u001b[49m\u001b[43m*\u001b[49m\u001b[43margs\u001b[49m\u001b[43m,\u001b[49m\u001b[43m \u001b[49m\u001b[43m*\u001b[49m\u001b[43m*\u001b[49m\u001b[43mkwargs\u001b[49m\u001b[43m)\u001b[49m\n",
      "\u001b[36mFile \u001b[39m\u001b[32m~/COMP4003/venv/lib/python3.11/site-packages/torch/nn/modules/module.py:1562\u001b[39m, in \u001b[36mModule._call_impl\u001b[39m\u001b[34m(self, *args, **kwargs)\u001b[39m\n\u001b[32m   1557\u001b[39m \u001b[38;5;66;03m# If we don't have any hooks, we want to skip the rest of the logic in\u001b[39;00m\n\u001b[32m   1558\u001b[39m \u001b[38;5;66;03m# this function, and just call forward.\u001b[39;00m\n\u001b[32m   1559\u001b[39m \u001b[38;5;28;01mif\u001b[39;00m \u001b[38;5;129;01mnot\u001b[39;00m (\u001b[38;5;28mself\u001b[39m._backward_hooks \u001b[38;5;129;01mor\u001b[39;00m \u001b[38;5;28mself\u001b[39m._backward_pre_hooks \u001b[38;5;129;01mor\u001b[39;00m \u001b[38;5;28mself\u001b[39m._forward_hooks \u001b[38;5;129;01mor\u001b[39;00m \u001b[38;5;28mself\u001b[39m._forward_pre_hooks\n\u001b[32m   1560\u001b[39m         \u001b[38;5;129;01mor\u001b[39;00m _global_backward_pre_hooks \u001b[38;5;129;01mor\u001b[39;00m _global_backward_hooks\n\u001b[32m   1561\u001b[39m         \u001b[38;5;129;01mor\u001b[39;00m _global_forward_hooks \u001b[38;5;129;01mor\u001b[39;00m _global_forward_pre_hooks):\n\u001b[32m-> \u001b[39m\u001b[32m1562\u001b[39m     \u001b[38;5;28;01mreturn\u001b[39;00m \u001b[43mforward_call\u001b[49m\u001b[43m(\u001b[49m\u001b[43m*\u001b[49m\u001b[43margs\u001b[49m\u001b[43m,\u001b[49m\u001b[43m \u001b[49m\u001b[43m*\u001b[49m\u001b[43m*\u001b[49m\u001b[43mkwargs\u001b[49m\u001b[43m)\u001b[49m\n\u001b[32m   1564\u001b[39m \u001b[38;5;28;01mtry\u001b[39;00m:\n\u001b[32m   1565\u001b[39m     result = \u001b[38;5;28;01mNone\u001b[39;00m\n",
      "\u001b[36mFile \u001b[39m\u001b[32m~/COMP4003/venv/lib/python3.11/site-packages/torch_geometric/nn/aggr/basic.py:36\u001b[39m, in \u001b[36mMeanAggregation.forward\u001b[39m\u001b[34m(self, x, index, ptr, dim_size, dim)\u001b[39m\n\u001b[32m     33\u001b[39m \u001b[38;5;28;01mdef\u001b[39;00m\u001b[38;5;250m \u001b[39m\u001b[34mforward\u001b[39m(\u001b[38;5;28mself\u001b[39m, x: Tensor, index: Optional[Tensor] = \u001b[38;5;28;01mNone\u001b[39;00m,\n\u001b[32m     34\u001b[39m             ptr: Optional[Tensor] = \u001b[38;5;28;01mNone\u001b[39;00m, dim_size: Optional[\u001b[38;5;28mint\u001b[39m] = \u001b[38;5;28;01mNone\u001b[39;00m,\n\u001b[32m     35\u001b[39m             dim: \u001b[38;5;28mint\u001b[39m = -\u001b[32m2\u001b[39m) -> Tensor:\n\u001b[32m---> \u001b[39m\u001b[32m36\u001b[39m     \u001b[38;5;28;01mreturn\u001b[39;00m \u001b[38;5;28;43mself\u001b[39;49m\u001b[43m.\u001b[49m\u001b[43mreduce\u001b[49m\u001b[43m(\u001b[49m\u001b[43mx\u001b[49m\u001b[43m,\u001b[49m\u001b[43m \u001b[49m\u001b[43mindex\u001b[49m\u001b[43m,\u001b[49m\u001b[43m \u001b[49m\u001b[43mptr\u001b[49m\u001b[43m,\u001b[49m\u001b[43m \u001b[49m\u001b[43mdim_size\u001b[49m\u001b[43m,\u001b[49m\u001b[43m \u001b[49m\u001b[43mdim\u001b[49m\u001b[43m,\u001b[49m\u001b[43m \u001b[49m\u001b[43mreduce\u001b[49m\u001b[43m=\u001b[49m\u001b[33;43m'\u001b[39;49m\u001b[33;43mmean\u001b[39;49m\u001b[33;43m'\u001b[39;49m\u001b[43m)\u001b[49m\n",
      "\u001b[36mFile \u001b[39m\u001b[32m~/COMP4003/venv/lib/python3.11/site-packages/torch_geometric/nn/aggr/base.py:185\u001b[39m, in \u001b[36mAggregation.reduce\u001b[39m\u001b[34m(self, x, index, ptr, dim_size, dim, reduce)\u001b[39m\n\u001b[32m    182\u001b[39m \u001b[38;5;28;01mif\u001b[39;00m index \u001b[38;5;129;01mis\u001b[39;00m \u001b[38;5;28;01mNone\u001b[39;00m:\n\u001b[32m    183\u001b[39m     \u001b[38;5;28;01mraise\u001b[39;00m \u001b[38;5;167;01mRuntimeError\u001b[39;00m(\u001b[33m\"\u001b[39m\u001b[33mAggregation requires \u001b[39m\u001b[33m'\u001b[39m\u001b[33mindex\u001b[39m\u001b[33m'\u001b[39m\u001b[33m to be specified\u001b[39m\u001b[33m\"\u001b[39m)\n\u001b[32m--> \u001b[39m\u001b[32m185\u001b[39m \u001b[38;5;28;01mreturn\u001b[39;00m \u001b[43mscatter\u001b[49m\u001b[43m(\u001b[49m\u001b[43mx\u001b[49m\u001b[43m,\u001b[49m\u001b[43m \u001b[49m\u001b[43mindex\u001b[49m\u001b[43m,\u001b[49m\u001b[43m \u001b[49m\u001b[43mdim\u001b[49m\u001b[43m,\u001b[49m\u001b[43m \u001b[49m\u001b[43mdim_size\u001b[49m\u001b[43m,\u001b[49m\u001b[43m \u001b[49m\u001b[43mreduce\u001b[49m\u001b[43m)\u001b[49m\n",
      "\u001b[36mFile \u001b[39m\u001b[32m~/COMP4003/venv/lib/python3.11/site-packages/torch_geometric/utils/_scatter.py:83\u001b[39m, in \u001b[36mscatter\u001b[39m\u001b[34m(src, index, dim, dim_size, reduce)\u001b[39m\n\u001b[32m     80\u001b[39m     count = count.clamp(\u001b[38;5;28mmin\u001b[39m=\u001b[32m1\u001b[39m)\n\u001b[32m     82\u001b[39m     index = broadcast(index, src, dim)\n\u001b[32m---> \u001b[39m\u001b[32m83\u001b[39m     out = \u001b[43msrc\u001b[49m\u001b[43m.\u001b[49m\u001b[43mnew_zeros\u001b[49m\u001b[43m(\u001b[49m\u001b[43msize\u001b[49m\u001b[43m)\u001b[49m\u001b[43m.\u001b[49m\u001b[43mscatter_add_\u001b[49m\u001b[43m(\u001b[49m\u001b[43mdim\u001b[49m\u001b[43m,\u001b[49m\u001b[43m \u001b[49m\u001b[43mindex\u001b[49m\u001b[43m,\u001b[49m\u001b[43m \u001b[49m\u001b[43msrc\u001b[49m\u001b[43m)\u001b[49m\n\u001b[32m     85\u001b[39m     \u001b[38;5;28;01mreturn\u001b[39;00m out / broadcast(count, out, dim)\n\u001b[32m     87\u001b[39m \u001b[38;5;66;03m# For \"min\" and \"max\" reduction, we prefer `scatter_reduce_` on CPU or\u001b[39;00m\n\u001b[32m     88\u001b[39m \u001b[38;5;66;03m# in case the input does not require gradients:\u001b[39;00m\n",
      "\u001b[31mKeyboardInterrupt\u001b[39m: "
     ]
    }
   ],
   "source": [
    "from torch_geometric.explain import Explainer, ModelConfig\n",
    "from torch_geometric.explain.algorithm import PGExplainer\n",
    "from torch_geometric.utils import k_hop_subgraph\n",
    "import torch, gc\n",
    "\n",
    "model_config = ModelConfig(\n",
    "    task_level='node',\n",
    "    mode='multiclass_classification',\n",
    "    return_type='probs',\n",
    ")\n",
    "\n",
    "explainer = Explainer(\n",
    "    model=model,\n",
    "    algorithm=PGExplainer(epochs=5, lr=0.01),\n",
    "    explanation_type='phenomenon',\n",
    "    edge_mask_type='object',\n",
    "    model_config=model_config,\n",
    ")\n",
    "\n",
    "def train_epoch(trainer_function, epoch):\n",
    "    for batch in get_batch(test, batch_size=5_000):\n",
    "        batched_G = to_graph(batch)\n",
    "        losses = []\n",
    "        for i in tqdm(range(len(batched_G.x))):\n",
    "            losses.append(\n",
    "                trainer_function(epoch, model, batched_G.x, \n",
    "                                 batched_G.edge_index, \n",
    "                                 target=batched_G.Attack, index=i))\n",
    "        \n",
    "        print(f'av loss: {losses.mean()}')\n",
    "\n",
    "\n",
    "# Train against a variety of node-level or graph-level predictions:\n",
    "for epoch in range(30):\n",
    "    train_epoch(explainer.algorithm.train, epoch=epoch)\n",
    "    "
   ]
  },
  {
   "cell_type": "code",
   "execution_count": null,
   "id": "5e4e540e",
   "metadata": {},
   "outputs": [],
   "source": [
    "# explanations = []\n",
    "# for batch in tqdm(get_batch(test, batch_size=5_000)):\n",
    "#     batched_G = to_graph(batch)\n",
    "#     explanation = explainer(batched_G.x, \n",
    "#                             batched_G.edge_index, \n",
    "#                             target=batched_G.Attack)\n",
    "    \n",
    "#     explanations.append(explanation)\n",
    "#     print(explanation)"
   ]
  },
  {
   "cell_type": "markdown",
   "id": "c2a630cc",
   "metadata": {},
   "source": [
    "### Results"
   ]
  },
  {
   "cell_type": "code",
   "execution_count": 38,
   "id": "0f07f8b0",
   "metadata": {},
   "outputs": [
    {
     "data": {
      "image/png": "[encoded data removed]",
      "text/plain": [
       "<Figure size 350x262.5 with 1 Axes>"
      ]
     },
     "metadata": {},
     "output_type": "display_data"
    },
    {
     "data": {
      "image/png": "[encoded data removed]",
      "text/plain": [
       "<Figure size 350x262.5 with 1 Axes>"
      ]
     },
     "metadata": {},
     "output_type": "display_data"
    },
    {
     "data": {
      "image/png": "[encoded data removed]",
      "text/plain": [
       "<Figure size 350x262.5 with 1 Axes>"
      ]
     },
     "metadata": {},
     "output_type": "display_data"
    }
   ],
   "source": [
    "plot_sparisity_curves([\n",
    "    gm_metrics, \n",
    "    de_metrics, \n",
    "    ig_metrics,\n",
    "    gnne_metrics,\n",
    "    \n",
    "], legend=('gm', '', 'de', '', 'ig', '', 'gnne', ''), s=3)"
   ]
  },
  {
   "cell_type": "code",
   "execution_count": null,
   "id": "1b9c732a",
   "metadata": {},
   "outputs": [
    {
     "name": "stdout",
     "output_type": "stream",
     "text": [
      "de softmask:\n",
      " fidelity+ 0.1016\n",
      " fidelity- 0.0997\n",
      " characterisation 0.1826\n",
      "\n",
      "gnne softmask:\n",
      " fidelity+ 0.0655\n",
      " fidelity- 0.0243\n",
      " characterisation 0.1227\n",
      "\n",
      "gm softmask:\n",
      " fidelity+ 0.0724\n",
      " fidelity- 0.0712\n",
      " characterisation 0.1344\n",
      "\n",
      "de softmask:\n",
      " fidelity+ 0.1016\n",
      " fidelity- 0.0997\n",
      " characterisation 0.1826\n",
      "\n",
      "ig softmask:\n",
      " fidelity+ 0.0101\n",
      " fidelity- 0.3415\n",
      " characterisation 0.0200\n",
      "\n"
     ]
    }
   ],
   "source": [
    "# TODO: per-class metrics\n",
    "for name, metric in zip(('de', 'gnne', 'gm', 'de', 'ig'), \n",
    "                        (de_metrics, gnne_metrics, \n",
    "                        gm_metrics, de_metrics, ig_metrics)):\n",
    "    \n",
    "    print(name + \" softmask:\")\n",
    "    fp, fn = metric['softmask fidelity']\n",
    "    c=  characterization_score(fp, fn) if fp*fn > 0 else 0\n",
    "    print(f' fidelity+ {fp:.4f}\\n fidelity- {fn:.4f}\\n characterisation {c:.4f}\\n')"
   ]
  }
 ],
 "metadata": {
  "kernelspec": {
   "display_name": "venv",
   "language": "python",
   "name": "python3"
  },
  "language_info": {
   "codemirror_mode": {
    "name": "ipython",
    "version": 3
   },
   "file_extension": ".py",
   "mimetype": "text/x-python",
   "name": "python",
   "nbconvert_exporter": "python",
   "pygments_lexer": "ipython3",
   "version": "3.11.2"
  }
 },
 "nbformat": 4,
 "nbformat_minor": 5
}
