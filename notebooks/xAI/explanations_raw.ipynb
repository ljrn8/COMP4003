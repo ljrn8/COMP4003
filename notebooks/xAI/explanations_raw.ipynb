{
 "cells": [
  {
   "cell_type": "markdown",
   "id": "55088a86",
   "metadata": {},
   "source": [
    "### Setup"
   ]
  },
  {
   "cell_type": "code",
   "execution_count": 1,
   "id": "fa50379d",
   "metadata": {},
   "outputs": [
    {
     "data": {
      "text/plain": [
       "device(type='cpu')"
      ]
     },
     "execution_count": 1,
     "metadata": {},
     "output_type": "execute_result"
    }
   ],
   "source": [
    "%load_ext autoreload\n",
    "%autoreload 2\n",
    "\n",
    "import matplotlib.pyplot as plt\n",
    "import pickle \n",
    "import torch as th\n",
    "import torch.nn.functional as F\n",
    "import torch\n",
    "import networkx as nx\n",
    "import pandas as pd\n",
    "import numpy as np\n",
    "\n",
    "import torch_geometric\n",
    "from torch_geometric.explain import Explainer, CaptumExplainer, DummyExplainer, GNNExplainer\n",
    "from torch_geometric.explain.metric import *\n",
    "from torch_geometric.nn.models.basic_gnn import GraphSAGE\n",
    "from torch_geometric.utils import from_dgl\n",
    "from tqdm import tqdm\n",
    "from torch_geometric.explain import ModelConfig\n",
    "\n",
    "device = torch.device('cuda' if torch.cuda.is_available() else 'cpu')\n",
    "device"
   ]
  },
  {
   "cell_type": "code",
   "execution_count": 2,
   "id": "985e227e",
   "metadata": {},
   "outputs": [
    {
     "name": "stderr",
     "output_type": "stream",
     "text": [
      "/home/taznk/COMP4003/venv/lib/python3.11/site-packages/tqdm/auto.py:21: TqdmWarning: IProgress not found. Please update jupyter and ipywidgets. See https://ipywidgets.readthedocs.io/en/stable/user_install.html\n",
      "  from .autonotebook import tqdm as notebook_tqdm\n"
     ]
    }
   ],
   "source": [
    "import dgl\n",
    "import numpy as np\n",
    "import scienceplots\n",
    "\n",
    "def get_batch(data, batch_size=5000):\n",
    "    all_data = data.copy()\n",
    "    while len(all_data) > 0:\n",
    "        if len(all_data) >= batch_size:\n",
    "            batch = all_data.sample(batch_size)\n",
    "            all_data = all_data.drop(batch.index)\n",
    "            yield batch\n",
    "        else:\n",
    "            batch = all_data.copy()\n",
    "            all_data = all_data.drop(batch.index)\n",
    "            yield batch\n",
    "\n",
    "def to_graph(data):\n",
    "    G = nx.from_pandas_edgelist(data, source='src', \n",
    "                                target='dst', \n",
    "                                edge_attr=['x', 'Attack'], \n",
    "                                create_using=nx.MultiGraph())\n",
    "    \n",
    "    G = G.to_directed()\n",
    "    # NOTE paper also uses 'i' index for each node as an identifier\n",
    "    g = dgl.from_networkx(G, edge_attrs=[ 'x', 'Attack'])\n",
    "    g = g.line_graph(shared=True)\n",
    "    return from_dgl(g) \n",
    "\n",
    "def fidelity(pred_orig, pred_masked, y):\n",
    "    return  (\n",
    "        np.array(pred_orig == y, dtype=int) - np.array(pred_masked == y, dtype=int)\n",
    "    ).mean()\n",
    "\n",
    "\n",
    "def plot_sparisity_curves(metrics_list, legend=None, s=3):\n",
    "    # plt.style.use(['science','no-latex'])\n",
    "    with plt.style.context('science'): \n",
    "           \n",
    "        for metrics in metrics_list:\n",
    "            plt.plot(metrics['s'], metrics['fid-'])\n",
    "            plt.scatter(metrics['s'], metrics['fid-'], s=s)\n",
    "        \n",
    "        plt.title('Sparsity Vs Fidelity-')\n",
    "        if legend: plt.legend(legend)\n",
    "        plt.show()\n",
    "        \n",
    "        for metrics in metrics_list:\n",
    "            plt.plot(metrics['s'], metrics['fid+'])\n",
    "            plt.scatter(metrics['s'], metrics['fid+'], s=s)\n",
    "        \n",
    "        plt.title('Sparsity Vs Fidelity+')\n",
    "        if legend: plt.legend(legend)\n",
    "        plt.show()\n",
    "        \n",
    "        for metrics in metrics_list:\n",
    "            plt.plot(metrics['s'], metrics['c'])\n",
    "            plt.scatter(metrics['s'], metrics['c'], s=s)\n",
    "        \n",
    "        plt.title('Sparsity Vs Characterisation Score')\n",
    "        if legend: plt.legend(legend)\n",
    "        plt.show()"
   ]
  },
  {
   "cell_type": "code",
   "execution_count": 3,
   "id": "c0efd0f4",
   "metadata": {},
   "outputs": [
    {
     "data": {
      "text/plain": [
       "49"
      ]
     },
     "execution_count": 3,
     "metadata": {},
     "output_type": "execute_result"
    }
   ],
   "source": [
    "test = pd.read_csv('../../interm/BoT_test.csv')\n",
    "attrs = [c for c in test.columns if c not in (\"src\", \"dst\", \"Attack\", \"x\")]\n",
    "test['x'] = test[attrs].values.tolist()\n",
    "len(test['x'][0])\n"
   ]
  },
  {
   "cell_type": "code",
   "execution_count": 4,
   "id": "36835a3c",
   "metadata": {},
   "outputs": [
    {
     "name": "stderr",
     "output_type": "stream",
     "text": [
      "/tmp/ipykernel_189931/2536769138.py:9: FutureWarning: You are using `torch.load` with `weights_only=False` (the current default value), which uses the default pickle module implicitly. It is possible to construct malicious pickle data which will execute arbitrary code during unpickling (See https://github.com/pytorch/pytorch/blob/main/SECURITY.md#untrusted-models for more details). In a future release, the default value for `weights_only` will be flipped to `True`. This limits the functions that could be executed during unpickling. Arbitrary objects will no longer be allowed to be loaded via this mode unless they are explicitly allowlisted by the user via `torch.serialization.add_safe_globals`. We recommend you start setting `weights_only=True` for any use case where you don't have full control of the loaded file. Please open an issue on GitHub for any issues related to this experimental feature.\n",
      "  model.load_state_dict(th.load('../../interm/GraphSAGE_BoTIoT.pth'))\n"
     ]
    }
   ],
   "source": [
    "def load_model():\n",
    "    model = GraphSAGE(\n",
    "        49,\n",
    "        hidden_channels=256,\n",
    "        out_channels=5,\n",
    "        num_layers=3,\n",
    "    ).to(device)\n",
    "\n",
    "    model.load_state_dict(th.load('../../interm/GraphSAGE_BoTIoT.pth'))\n",
    "    model.eval()\n",
    "    return model\n",
    "\n",
    "model = load_model()"
   ]
  },
  {
   "cell_type": "code",
   "execution_count": 5,
   "id": "31239a94",
   "metadata": {},
   "outputs": [],
   "source": [
    "G = to_graph(test)"
   ]
  },
  {
   "cell_type": "code",
   "execution_count": 6,
   "id": "1fd1bd45",
   "metadata": {},
   "outputs": [
    {
     "name": "stdout",
     "output_type": "stream",
     "text": [
      "              precision    recall  f1-score   support\n",
      "\n",
      "           0       0.99      1.00      1.00     22668\n",
      "           1       0.72      0.79      0.75      2156\n",
      "           2       0.76      0.68      0.72      2108\n",
      "           3       0.99      0.91      0.95      2096\n",
      "           4       1.00      1.00      1.00       732\n",
      "\n",
      "    accuracy                           0.96     29760\n",
      "   macro avg       0.89      0.88      0.88     29760\n",
      "weighted avg       0.96      0.96      0.96     29760\n",
      "\n"
     ]
    }
   ],
   "source": [
    "from sklearn.metrics import classification_report\n",
    "\n",
    "y_pred = model(G.x, G.edge_index)\n",
    "y_pred = y_pred = torch.argmax(y_pred, dim=1)\n",
    "y_true = G.Attack\n",
    "\n",
    "print(\n",
    "    classification_report(y_true, y_pred)\n",
    ")"
   ]
  },
  {
   "cell_type": "markdown",
   "id": "d1a7f589",
   "metadata": {},
   "source": [
    "### DummyExplainer"
   ]
  },
  {
   "cell_type": "code",
   "execution_count": 23,
   "id": "b42374a5",
   "metadata": {},
   "outputs": [],
   "source": [
    "\n",
    "explainer = Explainer(\n",
    "    model=model,\n",
    "    algorithm=DummyExplainer(),\n",
    "    # explanation_type='model',\n",
    "    explanation_type='phenomenon',\n",
    "    node_mask_type='attributes',\n",
    "    edge_mask_type=None,\n",
    "    model_config=ModelConfig(\n",
    "        mode='multiclass_classification',\n",
    "        task_level='node',\n",
    "        return_type='raw',\n",
    "    ),\n",
    ")  \n",
    "explanation = explainer(\n",
    "        x=G.x.to(device),\n",
    "        edge_index=G.edge_index.to(device),\n",
    "        target=G.Attack,\n",
    ")"
   ]
  },
  {
   "cell_type": "code",
   "execution_count": 24,
   "id": "ec4465c1",
   "metadata": {},
   "outputs": [
    {
     "data": {
      "text/plain": [
       "(0.10161290317773819, 0.09966398030519485)"
      ]
     },
     "execution_count": 24,
     "metadata": {},
     "output_type": "execute_result"
    }
   ],
   "source": [
    "from torch_geometric.explain.metric import fidelity\n",
    "\n",
    "f = fidelity(explainer, explanation)\n",
    "de_metrics = {'fid+': [], 'fid-': [], 's': [], 'c': [], 'k': []}\n",
    "\n",
    "de_metrics['softmask fidelity'] = f\n",
    "f"
   ]
  },
  {
   "cell_type": "code",
   "execution_count": null,
   "id": "1b1ce076",
   "metadata": {},
   "outputs": [
    {
     "name": "stderr",
     "output_type": "stream",
     "text": [
      "  0%|          | 0/9 [00:00<?, ?it/s]"
     ]
    },
    {
     "name": "stderr",
     "output_type": "stream",
     "text": [
      "100%|██████████| 9/9 [01:13<00:00,  8.16s/it]\n"
     ]
    }
   ],
   "source": [
    "import copy\n",
    "from torch_geometric.explain.metric import fidelity, characterization_score\n",
    "\n",
    "explanation_cp = copy.deepcopy(explanation)\n",
    "# de_metrics = {'fid+': [], 'fid-': [], 's': [], 'c': [], 'k': []}\n",
    "\n",
    "## Top K features \n",
    "for s in tqdm(np.arange(0.1, 1, 0.1)):\n",
    "    \n",
    "    flat_mask = explanation.node_mask.flatten()\n",
    "    k = int(s * flat_mask.numel())\n",
    "    threshold = torch.topk(flat_mask, k).values[-1]\n",
    "    \n",
    "    new_mask = (explanation.node_mask >= threshold).float()\n",
    "    explanation_cp.node_mask = new_mask\n",
    "    \n",
    "    fp, fn = fidelity(explainer, explanation_cp)\n",
    "    de_metrics['fid+'].append(fp)\n",
    "    de_metrics['fid-'].append(fn)\n",
    "     \n",
    "    c = characterization_score(fp, fn) if (fp * fn) != 0 else 0\n",
    "    de_metrics['c'].append(c)\n",
    "    de_metrics['s'].append(s)\n",
    "    de_metrics['k'].append(k)"
   ]
  },
  {
   "cell_type": "markdown",
   "id": "70aae026",
   "metadata": {},
   "source": [
    "### GNNExplainer"
   ]
  },
  {
   "cell_type": "code",
   "execution_count": 10,
   "id": "83ea01e1",
   "metadata": {},
   "outputs": [],
   "source": [
    "explainer = Explainer(\n",
    "    model=model,\n",
    "    algorithm=GNNExplainer(100),\n",
    "    # explanation_type='model',\n",
    "    explanation_type='phenomenon',\n",
    "    node_mask_type='attributes',\n",
    "    edge_mask_type=None,\n",
    "    model_config=ModelConfig(\n",
    "        mode='multiclass_classification',\n",
    "        task_level='node',\n",
    "        return_type='raw',\n",
    "    ),\n",
    ")  \n",
    "explanation = explainer(\n",
    "        x=G.x.to(device),\n",
    "        edge_index=G.edge_index.to(device),\n",
    "        target=G.Attack,\n",
    ")"
   ]
  },
  {
   "cell_type": "code",
   "execution_count": 13,
   "id": "0b615c7a",
   "metadata": {},
   "outputs": [
    {
     "data": {
      "text/plain": [
       "(0.06549058854579926, 0.0242607519030571)"
      ]
     },
     "execution_count": 13,
     "metadata": {},
     "output_type": "execute_result"
    }
   ],
   "source": [
    "from torch_geometric.explain.metric import fidelity\n",
    "\n",
    "gnne_metrics = {'fid+': [], 'fid-': [], 's': [], 'c': [], 'k': []}\n",
    "f = fidelity(explainer, explanation)\n",
    "gnne_metrics['softmask fidelities'] = f\n",
    "f"
   ]
  },
  {
   "cell_type": "code",
   "execution_count": 25,
   "id": "05fb524c",
   "metadata": {},
   "outputs": [],
   "source": [
    "gnne_metrics['softmask fidelity'] = gnne_metrics['softmask fidelities'] # whoops"
   ]
  },
  {
   "cell_type": "code",
   "execution_count": null,
   "id": "b513f605",
   "metadata": {},
   "outputs": [
    {
     "name": "stderr",
     "output_type": "stream",
     "text": [
      "  0%|          | 0/9 [00:00<?, ?it/s]"
     ]
    },
    {
     "name": "stderr",
     "output_type": "stream",
     "text": [
      "100%|██████████| 9/9 [01:11<00:00,  7.93s/it]\n"
     ]
    }
   ],
   "source": [
    "import copy\n",
    "from torch_geometric.explain.metric import fidelity, characterization_score\n",
    "\n",
    "explanation_cp = copy.deepcopy(explanation)\n",
    "\n",
    "# gnne_metrics = {'fid+': [], 'fid-': [], 's': [], 'c': [], 'k': []}\n",
    "\n",
    "## Top K features \n",
    "for s in tqdm(np.arange(0.1, 1, 0.1)):\n",
    "    \n",
    "    flat_mask = explanation.node_mask.flatten()\n",
    "    k = int(s * flat_mask.numel())\n",
    "    threshold = torch.topk(flat_mask, k).values[-1]\n",
    "    \n",
    "    new_mask = (explanation.node_mask >= threshold).float()\n",
    "    explanation_cp.node_mask = new_mask\n",
    "    \n",
    "    fp, fn = fidelity(explainer, explanation_cp)\n",
    "    gnne_metrics['fid+'].append(fp)\n",
    "    gnne_metrics['fid-'].append(fn)\n",
    "    \n",
    "    c = characterization_score(fp, fn) if (fp * fn) != 0 else 0\n",
    "    gnne_metrics['c'].append(c)\n",
    "    gnne_metrics['s'].append(s)\n",
    "    gnne_metrics['k'].append(k)\n",
    "   \n",
    "   "
   ]
  },
  {
   "cell_type": "code",
   "execution_count": 16,
   "id": "08f6bbe2",
   "metadata": {},
   "outputs": [
    {
     "data": {
      "text/plain": [
       "[0.08487903326749802,\n",
       " 0.017372312024235725,\n",
       " 0.014146504923701286,\n",
       " 0.01145833358168602,\n",
       " 0.00947580672800541,\n",
       " 0.007526881527155638,\n",
       " 0.005073924548923969,\n",
       " 0.0026209678035229445,\n",
       " 0.000806451600510627]"
      ]
     },
     "execution_count": 16,
     "metadata": {},
     "output_type": "execute_result"
    }
   ],
   "source": [
    "gnne_metrics['fid-']"
   ]
  },
  {
   "cell_type": "markdown",
   "id": "1ec4f6f5",
   "metadata": {},
   "source": [
    "### IntegratedGradients"
   ]
  },
  {
   "cell_type": "code",
   "execution_count": 14,
   "id": "9b0923a3",
   "metadata": {},
   "outputs": [
    {
     "name": "stderr",
     "output_type": "stream",
     "text": [
      "  0%|          | 0/100 [00:00<?, ?it/s]"
     ]
    },
    {
     "name": "stderr",
     "output_type": "stream",
     "text": [
      "100%|██████████| 100/100 [07:09<00:00,  4.30s/it]\n"
     ]
    }
   ],
   "source": [
    "import torch\n",
    "from tqdm import tqdm\n",
    "\n",
    "def integrated_gradients(x, edge_index, model, steps, baseline):\n",
    "    device = x.device\n",
    "    if baseline is None:\n",
    "        baseline = torch.zeros_like(x, device=device)\n",
    "\n",
    "    diff = x - baseline\n",
    "    total_grads = torch.zeros_like(x, device=device)\n",
    "\n",
    "    for alpha in tqdm(torch.linspace(0.0, 1.0, steps, device=device)):\n",
    "        x_scaled = baseline + alpha * diff\n",
    "        x_scaled.requires_grad_(True)\n",
    "\n",
    "        # forward pass\n",
    "        out = model(x_scaled, edge_index)\n",
    "        \n",
    "        # pick the logit for each root node & assume root nodes are first B rows\n",
    "        # batch_size = targets.size(0)\n",
    "        # sel = out[:batch_size, :] \n",
    "        # chosen = sel[torch.arange(batch_size), targets]\n",
    "\n",
    "        # sum to get a scalar and backprop\n",
    "        model.zero_grad()\n",
    "        torch.autograd.backward(out.sum(), retain_graph=True)\n",
    "        grads = x_scaled.grad\n",
    "\n",
    "        total_grads += grads\n",
    "        x_scaled.grad.zero_()\n",
    "\n",
    "    # average gradient then scale by input delta\n",
    "    avg_grads = total_grads / steps\n",
    "    attributions = diff * avg_grads \n",
    "\n",
    "    return attributions\n",
    "\n",
    "\n",
    "model.eval()\n",
    "ig_attr = integrated_gradients(\n",
    "    x=G.x,\n",
    "    edge_index=G.edge_index,\n",
    "    # targets=targets,\n",
    "    model=model,\n",
    "    baseline=torch.zeros_like(G.x),\n",
    "    steps=100\n",
    ")\n"
   ]
  },
  {
   "cell_type": "code",
   "execution_count": 17,
   "id": "b2b4d05f",
   "metadata": {},
   "outputs": [
    {
     "data": {
      "text/plain": [
       "(tensor(0.0101), tensor(0.3415))"
      ]
     },
     "execution_count": 17,
     "metadata": {},
     "output_type": "execute_result"
    }
   ],
   "source": [
    "import copy\n",
    "from torch_geometric.explain.metric import fidelity, characterization_score\n",
    "\n",
    "ig_metrics = {'fid+': [], 'fid-': [], 's': [], 'c': [], 'k': []}\n",
    "\n",
    "def manual_fidelities(mask, hardmask=True):\n",
    "    if not hardmask:\n",
    "        inv_mask = 1-mask\n",
    "    else:\n",
    "        inv_mask = ~mask\n",
    "        \n",
    "    y_pred = model(G.x, G.edge_index).argmax(axis=1)\n",
    "    ym_pred = model(G.x*mask, G.edge_index).argmax(axis=1)\n",
    "    ymi_pred = model(G.x*(inv_mask), G.edge_index).argmax(axis=1)\n",
    "    y = G.Attack\n",
    "    \n",
    "    # fid_plus = (np.array(y_pred == y, dtype=int) - np.array(ym_pred == y, dtype=int)).mean() \n",
    "    # fid_minus = (np.array(y_pred == y, dtype=int) - np.array(ymi_pred == y, dtype=int)).mean() \n",
    "    pos_fidelity = (\n",
    "        (y_pred == y).float() - (ymi_pred == y).float()).abs().mean()\n",
    "    neg_fidelity = (\n",
    "        (y_pred == y).float() - (ym_pred == y).float()).abs().mean()\n",
    "        \n",
    "    return pos_fidelity, neg_fidelity\n",
    "\n",
    "mx, mn = ig_attr.max(), ig_attr.min()\n",
    "ig_soft_mask = (ig_attr - mn) / (mx + mn)\n",
    "f = manual_fidelities(ig_soft_mask, hardmask=False) \n",
    "ig_metrics['softmask fidelity'] = f\n",
    "f"
   ]
  },
  {
   "cell_type": "code",
   "execution_count": null,
   "id": "e2415bcb",
   "metadata": {},
   "outputs": [
    {
     "name": "stderr",
     "output_type": "stream",
     "text": [
      "  0%|          | 0/9 [00:00<?, ?it/s]"
     ]
    },
    {
     "name": "stderr",
     "output_type": "stream",
     "text": [
      "100%|██████████| 9/9 [01:12<00:00,  8.09s/it]\n"
     ]
    }
   ],
   "source": [
    "## Top K features \n",
    "for s in tqdm(np.arange(0.1, 1, 0.1)):\n",
    "    \n",
    "    flat_mask = ig_soft_mask.flatten()\n",
    "    k = int(s * flat_mask.numel())\n",
    "    threshold = torch.topk(flat_mask, k).values[-1]\n",
    "    \n",
    "    hard_mask = (ig_soft_mask >= threshold).bool()\n",
    "    fp, fn = manual_fidelities(hard_mask)\n",
    "    \n",
    "    ig_metrics['fid+'].append(fp)\n",
    "    ig_metrics['fid-'].append(fn)\n",
    "    \n",
    "    # c = characterization_score(fp, fn) if (fp * fn) != 0 else 0\n",
    "    ig_metrics['c'].append(c)\n",
    "    ig_metrics['s'].append(s)\n",
    "    ig_metrics['k'].append(k)\n",
    "   "
   ]
  },
  {
   "cell_type": "markdown",
   "id": "39009b40",
   "metadata": {},
   "source": [
    "### GraphMask"
   ]
  },
  {
   "cell_type": "code",
   "execution_count": 18,
   "id": "da5016a6",
   "metadata": {},
   "outputs": [
    {
     "name": "stderr",
     "output_type": "stream",
     "text": [
      "0it [00:00, ?it/s]"
     ]
    },
    {
     "name": "stderr",
     "output_type": "stream",
     "text": [
      "Train explainer for node(s) None with layer 2: 100%|██████████| 5/5 [00:19<00:00,  3.98s/it]\n",
      "Train explainer for node(s) None with layer 1: 100%|██████████| 5/5 [00:28<00:00,  5.76s/it]\n",
      "Train explainer for node(s) None with layer 0: 100%|██████████| 5/5 [00:31<00:00,  6.27s/it]\n",
      "Explain: 100%|██████████| 3/3 [00:02<00:00,  1.43it/s]\n",
      "1it [01:22, 82.98s/it]"
     ]
    },
    {
     "name": "stdout",
     "output_type": "stream",
     "text": [
      "Explanation(node_mask=[10000, 49], edge_mask=[638620], target=[10000], x=[10000, 49], edge_index=[2, 638620])\n"
     ]
    },
    {
     "name": "stderr",
     "output_type": "stream",
     "text": [
      "Train explainer for node(s) None with layer 2: 100%|██████████| 5/5 [00:18<00:00,  3.75s/it]\n",
      "Train explainer for node(s) None with layer 1: 100%|██████████| 5/5 [00:25<00:00,  5.07s/it]\n",
      "Train explainer for node(s) None with layer 0: 100%|██████████| 5/5 [00:30<00:00,  6.01s/it]\n",
      "Explain: 100%|██████████| 3/3 [00:01<00:00,  1.52it/s]\n",
      "2it [02:40, 79.60s/it]"
     ]
    },
    {
     "name": "stdout",
     "output_type": "stream",
     "text": [
      "Explanation(node_mask=[10000, 49], edge_mask=[609954], target=[10000], x=[10000, 49], edge_index=[2, 609954])\n"
     ]
    },
    {
     "name": "stderr",
     "output_type": "stream",
     "text": [
      "Train explainer for node(s) None with layer 2: 100%|██████████| 5/5 [00:17<00:00,  3.49s/it]\n",
      "Train explainer for node(s) None with layer 1: 100%|██████████| 5/5 [00:24<00:00,  4.80s/it]\n",
      "Train explainer for node(s) None with layer 0: 100%|██████████| 5/5 [00:28<00:00,  5.71s/it]\n",
      "Explain: 100%|██████████| 3/3 [00:01<00:00,  1.58it/s]\n",
      "3it [03:52, 77.63s/it]"
     ]
    },
    {
     "name": "stdout",
     "output_type": "stream",
     "text": [
      "Explanation(node_mask=[9760, 49], edge_mask=[574538], target=[9760], x=[9760, 49], edge_index=[2, 574538])\n"
     ]
    },
    {
     "name": "stderr",
     "output_type": "stream",
     "text": [
      "\n"
     ]
    }
   ],
   "source": [
    "from torch_geometric.explain.algorithm import GraphMaskExplainer\n",
    "\n",
    "model_config = ModelConfig(\n",
    "    mode='multiclass_classification',\n",
    "    task_level='node',\n",
    "    return_type='raw'\n",
    ")\n",
    "\n",
    "explainer = Explainer(\n",
    "    model=model,\n",
    "    algorithm=GraphMaskExplainer(3, epochs=5),\n",
    "    explanation_type='phenomenon', \n",
    "    model_config=model_config,\n",
    "    node_mask_type='attributes',\n",
    "    edge_mask_type='object',\n",
    ")\n",
    "\n",
    "explanations = []\n",
    "for batch in tqdm(get_batch(test, batch_size=5_000)):\n",
    "    batched_G = to_graph(batch)\n",
    "    explanation = explainer(batched_G.x, \n",
    "                            batched_G.edge_index, \n",
    "                            target=batched_G.Attack)\n",
    "    \n",
    "    explanations.append(explanation)\n",
    "    print(explanation)\n"
   ]
  },
  {
   "cell_type": "code",
   "execution_count": 19,
   "id": "9f9cd860",
   "metadata": {},
   "outputs": [],
   "source": [
    "from torch_geometric.explain.metric import fidelity\n",
    "\n",
    "gm_metrics = {'fid+': [], 'fid-': [], 's': [], 'c': [], 'k': []}\n",
    "f = fidelity(explainer, explanation)\n",
    "gm_metrics['softmask fidelities'] = f"
   ]
  },
  {
   "cell_type": "code",
   "execution_count": 26,
   "id": "cd92adef",
   "metadata": {},
   "outputs": [],
   "source": [
    "gm_metrics['softmask fidelity'] = gm_metrics['softmask fidelities'] # whoops"
   ]
  },
  {
   "cell_type": "code",
   "execution_count": 35,
   "id": "e55566f1",
   "metadata": {},
   "outputs": [
    {
     "data": {
      "text/plain": [
       "tensor([[0.4841, 0.4926, 0.5022,  ..., 0.5519, 0.5199, 0.5211],\n",
       "        [0.4866, 0.5243, 0.4790,  ..., 0.4858, 0.4818, 0.4874],\n",
       "        [0.4833, 0.4725, 0.5112,  ..., 0.5160, 0.5245, 0.4986],\n",
       "        ...,\n",
       "        [0.5233, 0.5127, 0.4755,  ..., 0.5119, 0.4760, 0.5183],\n",
       "        [0.4754, 0.4683, 0.5201,  ..., 0.4633, 0.5009, 0.4674],\n",
       "        [0.5573, 0.4851, 0.4781,  ..., 0.5154, 0.5121, 0.5198]])"
      ]
     },
     "execution_count": 35,
     "metadata": {},
     "output_type": "execute_result"
    }
   ],
   "source": [
    "explanation.node_mask"
   ]
  },
  {
   "cell_type": "code",
   "execution_count": null,
   "id": "06ca324a",
   "metadata": {},
   "outputs": [
    {
     "name": "stderr",
     "output_type": "stream",
     "text": [
      "  0%|          | 0/9 [00:00<?, ?it/s]"
     ]
    },
    {
     "name": "stderr",
     "output_type": "stream",
     "text": [
      "100%|██████████| 9/9 [01:18<00:00,  8.73s/it]\n"
     ]
    }
   ],
   "source": [
    "# gm_metrics = {'fid+': [], 'fid-': [], 's': [], 'c': [], 'k': []}\n",
    " \n",
    "def get_masked_prediction(sparsity, explanations):\n",
    "    l = {'y': [], 'yp': [], 'ypm': [], 'ypmi': []}\n",
    "    for batch, expl in zip(get_batch(test, batch_size=5_000), explanations):\n",
    "        \n",
    "        # sparsity restriction is computed per-batch\n",
    "        # due to memory limitations\n",
    "        soft_mask = expl.node_mask\n",
    "        flat_mask = soft_mask.flatten()\n",
    "        k = int(sparsity * flat_mask.numel())\n",
    "        threshold = torch.topk(flat_mask, k).values[-1]\n",
    "        mask = soft_mask > threshold\n",
    "        \n",
    "        batch_G = to_graph(batch)\n",
    "        l['y'].append(batch_G.Attack)\n",
    "        l['yp'].append(model(batch_G.x, batch_G.edge_index).argmax(axis=1))\n",
    "        l['ypm'].append(model(batch_G.x * mask, batch_G.edge_index).argmax(axis=1))\n",
    "        l['ypmi'].append(model(batch_G.x * (~mask), batch_G.edge_index).argmax(axis=1))\n",
    "\n",
    "    y, y_pred, y_mask, y_imask = [\n",
    "        np.concat(l) \n",
    "        for l in (l['y'], l['yp'], l['ypm'], l['ypmi'])\n",
    "    ]\n",
    "    fidm = np.abs(((y_pred == y).astype(float) - (y_mask == y)).astype(float)).mean()\n",
    "    fidp = np.abs(((y_pred == y).astype(float) - (y_imask == y)).astype(float)).mean()\n",
    "    return fidp, fidm\n",
    "\n",
    "        \n",
    "for s in tqdm(np.arange(0.1, 1, 0.1)):\n",
    "    fn, fp = get_masked_prediction(s, explanations=explanations)    \n",
    "    gm_metrics['fid+'].append(fp)\n",
    "    gm_metrics['fid-'].append(fn)\n",
    "    c = characterization_score(fp, fn) if (fp * fn) != 0 else 0\n",
    "    gm_metrics['c'].append(c)\n",
    "    gm_metrics['s'].append(s)"
   ]
  },
  {
   "cell_type": "code",
   "execution_count": 37,
   "id": "293f08ee",
   "metadata": {},
   "outputs": [
    {
     "data": {
      "text/plain": [
       "[np.float64(0.1),\n",
       " np.float64(0.2),\n",
       " np.float64(0.30000000000000004),\n",
       " np.float64(0.4),\n",
       " np.float64(0.5),\n",
       " np.float64(0.6),\n",
       " np.float64(0.7000000000000001),\n",
       " np.float64(0.8),\n",
       " np.float64(0.9)]"
      ]
     },
     "execution_count": 37,
     "metadata": {},
     "output_type": "execute_result"
    }
   ],
   "source": [
    "gm_metrics['s']"
   ]
  },
  {
   "cell_type": "markdown",
   "id": "16715044",
   "metadata": {},
   "source": [
    "### PGExplainer"
   ]
  },
  {
   "cell_type": "code",
   "execution_count": null,
   "id": "cde38e52",
   "metadata": {},
   "outputs": [],
   "source": [
    "import psutil, os, gc\n",
    "proc = psutil.Process(os.getpid())\n",
    "\n",
    "def cpu_mem(tag=\"\"):\n",
    "    gc.collect()\n",
    "    rss = proc.memory_info().rss / 1024**2\n",
    "    print(f\"[{tag}] RSS={rss:.1f}MB\")"
   ]
  },
  {
   "cell_type": "code",
   "execution_count": null,
   "id": "c0ce6d5e",
   "metadata": {},
   "outputs": [
    {
     "name": "stdout",
     "output_type": "stream",
     "text": [
      "tensor([1.6135e-07, 1.8181e-27, 1.3879e-27,  ..., 1.6523e-12, 2.1867e-12,\n",
      "        2.1867e-12])\n"
     ]
    },
    {
     "ename": "AttributeError",
     "evalue": "'GlobalStorage' object has no attribute 'node_mask'",
     "output_type": "error",
     "traceback": [
      "\u001b[31m---------------------------------------------------------------------------\u001b[39m",
      "\u001b[31mAttributeError\u001b[39m                            Traceback (most recent call last)",
      "\u001b[36mCell\u001b[39m\u001b[36m \u001b[39m\u001b[32mIn[8]\u001b[39m\u001b[32m, line 47\u001b[39m\n\u001b[32m     44\u001b[39m explanation = explainer(x=x_sub, edge_index=sub_edge_index, \n\u001b[32m     45\u001b[39m                         target=y_sub, index=target_idx)\n\u001b[32m     46\u001b[39m \u001b[38;5;28mprint\u001b[39m(explanation.edge_mask)\n\u001b[32m---> \u001b[39m\u001b[32m47\u001b[39m \u001b[38;5;28mprint\u001b[39m(\u001b[43mexplanation\u001b[49m\u001b[43m.\u001b[49m\u001b[43mnode_mask\u001b[49m)\n",
      "\u001b[36mFile \u001b[39m\u001b[32m~/COMP4003/venv/lib/python3.11/site-packages/torch_geometric/data/data.py:561\u001b[39m, in \u001b[36mData.__getattr__\u001b[39m\u001b[34m(self, key)\u001b[39m\n\u001b[32m    555\u001b[39m \u001b[38;5;28;01mif\u001b[39;00m \u001b[33m'\u001b[39m\u001b[33m_store\u001b[39m\u001b[33m'\u001b[39m \u001b[38;5;129;01mnot\u001b[39;00m \u001b[38;5;129;01min\u001b[39;00m \u001b[38;5;28mself\u001b[39m.\u001b[34m__dict__\u001b[39m:\n\u001b[32m    556\u001b[39m     \u001b[38;5;28;01mraise\u001b[39;00m \u001b[38;5;167;01mRuntimeError\u001b[39;00m(\n\u001b[32m    557\u001b[39m         \u001b[33m\"\u001b[39m\u001b[33mThe \u001b[39m\u001b[33m'\u001b[39m\u001b[33mdata\u001b[39m\u001b[33m'\u001b[39m\u001b[33m object was created by an older version of PyG. \u001b[39m\u001b[33m\"\u001b[39m\n\u001b[32m    558\u001b[39m         \u001b[33m\"\u001b[39m\u001b[33mIf this error occurred while loading an already existing \u001b[39m\u001b[33m\"\u001b[39m\n\u001b[32m    559\u001b[39m         \u001b[33m\"\u001b[39m\u001b[33mdataset, remove the \u001b[39m\u001b[33m'\u001b[39m\u001b[33mprocessed/\u001b[39m\u001b[33m'\u001b[39m\u001b[33m directory in the dataset\u001b[39m\u001b[33m'\u001b[39m\u001b[33ms \u001b[39m\u001b[33m\"\u001b[39m\n\u001b[32m    560\u001b[39m         \u001b[33m\"\u001b[39m\u001b[33mroot folder and try again.\u001b[39m\u001b[33m\"\u001b[39m)\n\u001b[32m--> \u001b[39m\u001b[32m561\u001b[39m \u001b[38;5;28;01mreturn\u001b[39;00m \u001b[38;5;28;43mgetattr\u001b[39;49m\u001b[43m(\u001b[49m\u001b[38;5;28;43mself\u001b[39;49m\u001b[43m.\u001b[49m\u001b[43m_store\u001b[49m\u001b[43m,\u001b[49m\u001b[43m \u001b[49m\u001b[43mkey\u001b[49m\u001b[43m)\u001b[49m\n",
      "\u001b[36mFile \u001b[39m\u001b[32m~/COMP4003/venv/lib/python3.11/site-packages/torch_geometric/data/storage.py:96\u001b[39m, in \u001b[36mBaseStorage.__getattr__\u001b[39m\u001b[34m(self, key)\u001b[39m\n\u001b[32m     94\u001b[39m     \u001b[38;5;28;01mreturn\u001b[39;00m \u001b[38;5;28mself\u001b[39m[key]\n\u001b[32m     95\u001b[39m \u001b[38;5;28;01mexcept\u001b[39;00m \u001b[38;5;167;01mKeyError\u001b[39;00m:\n\u001b[32m---> \u001b[39m\u001b[32m96\u001b[39m     \u001b[38;5;28;01mraise\u001b[39;00m \u001b[38;5;167;01mAttributeError\u001b[39;00m(\n\u001b[32m     97\u001b[39m         \u001b[33mf\u001b[39m\u001b[33m\"\u001b[39m\u001b[33m'\u001b[39m\u001b[38;5;132;01m{\u001b[39;00m\u001b[38;5;28mself\u001b[39m.\u001b[34m__class__\u001b[39m.\u001b[34m__name__\u001b[39m\u001b[38;5;132;01m}\u001b[39;00m\u001b[33m'\u001b[39m\u001b[33m object has no attribute \u001b[39m\u001b[33m'\u001b[39m\u001b[38;5;132;01m{\u001b[39;00mkey\u001b[38;5;132;01m}\u001b[39;00m\u001b[33m'\u001b[39m\u001b[33m\"\u001b[39m\n\u001b[32m     98\u001b[39m     ) \u001b[38;5;28;01mfrom\u001b[39;00m\u001b[38;5;250m \u001b[39m\u001b[38;5;28;01mNone\u001b[39;00m\n",
      "\u001b[31mAttributeError\u001b[39m: 'GlobalStorage' object has no attribute 'node_mask'"
     ]
    }
   ],
   "source": [
    "from torch_geometric.explain import Explainer, ModelConfig\n",
    "from torch_geometric.explain.algorithm import PGExplainer\n",
    "from torch_geometric.utils import k_hop_subgraph\n",
    "import torch, gc\n",
    "\n",
    "model.eval()\n",
    "for p in model.parameters():\n",
    "    p.requires_grad_(False)\n",
    "\n",
    "model_config = ModelConfig(\n",
    "    task_level='node',\n",
    "    mode='multiclass_classification',\n",
    "    return_type='probs',\n",
    ")\n",
    "\n",
    "explainer = Explainer(\n",
    "    model=model,\n",
    "    algorithm=PGExplainer(epochs=30, lr=0.003),\n",
    "    explanation_type='phenomenon',\n",
    "    edge_mask_type='object',  # consider reducing subgraph radius if this is big\n",
    "    model_config=model_config,\n",
    ")\n",
    "\n",
    "target_node = 0\n",
    "subset, sub_edge_index, mapping, _ = k_hop_subgraph(\n",
    "    target_node, num_hops=2, edge_index=G.edge_index, relabel_nodes=True\n",
    ")\n",
    "x_sub = G.x[subset]\n",
    "y_sub = G.Attack[subset] if G.Attack.ndim > 0 else G.Attack\n",
    "target_idx = mapping.item()\n",
    "\n",
    "for epoch in range(30):\n",
    "    loss = explainer.algorithm.train(\n",
    "        epoch, model, x_sub, sub_edge_index, target=y_sub, index=target_idx\n",
    "    )\n",
    "    # Avoid keeping any graph around:\n",
    "    loss_value = float(loss)   # .item() equivalent, detaches and frees the graph\n",
    "    del loss\n",
    "    gc.collect()\n",
    "    if torch.cuda.is_available():\n",
    "        torch.cuda.empty_cache()\n",
    "\n",
    "# Generate explanation on the same subgraph\n",
    "explanation = explainer(x=x_sub, edge_index=sub_edge_index, \n",
    "                        target=y_sub, index=target_idx)\n",
    "\n",
    "\n"
   ]
  },
  {
   "cell_type": "markdown",
   "id": "c2a630cc",
   "metadata": {},
   "source": [
    "### Results"
   ]
  },
  {
   "cell_type": "code",
   "execution_count": 38,
   "id": "0f07f8b0",
   "metadata": {},
   "outputs": [
    {
     "data": {
      "image/png": "[encoded data removed]",
      "text/plain": [
       "<Figure size 350x262.5 with 1 Axes>"
      ]
     },
     "metadata": {},
     "output_type": "display_data"
    },
    {
     "data": {
      "image/png": "[encoded data removed]",
      "text/plain": [
       "<Figure size 350x262.5 with 1 Axes>"
      ]
     },
     "metadata": {},
     "output_type": "display_data"
    },
    {
     "data": {
      "image/png": "[encoded data removed]",
      "text/plain": [
       "<Figure size 350x262.5 with 1 Axes>"
      ]
     },
     "metadata": {},
     "output_type": "display_data"
    }
   ],
   "source": [
    "plot_sparisity_curves([\n",
    "    gm_metrics, \n",
    "    de_metrics, \n",
    "    ig_metrics,\n",
    "    gnne_metrics,\n",
    "    \n",
    "], legend=('gm', '', 'de', '', 'ig', '', 'gnne', ''), s=3)"
   ]
  },
  {
   "cell_type": "code",
   "execution_count": 31,
   "id": "1b9c732a",
   "metadata": {},
   "outputs": [
    {
     "name": "stdout",
     "output_type": "stream",
     "text": [
      "de softmask:\n",
      " fidelity+ 0.1016\n",
      " fidelity- 0.0997\n",
      " characterisation 0.1826\n",
      "\n",
      "gnne softmask:\n",
      " fidelity+ 0.0655\n",
      " fidelity- 0.0243\n",
      " characterisation 0.1227\n",
      "\n",
      "gm softmask:\n",
      " fidelity+ 0.0724\n",
      " fidelity- 0.0712\n",
      " characterisation 0.1344\n",
      "\n",
      "de softmask:\n",
      " fidelity+ 0.1016\n",
      " fidelity- 0.0997\n",
      " characterisation 0.1826\n",
      "\n",
      "ig softmask:\n",
      " fidelity+ 0.0101\n",
      " fidelity- 0.3415\n",
      " characterisation 0.0200\n",
      "\n"
     ]
    }
   ],
   "source": [
    "for name, metric in zip(('de', 'gnne', 'gm', 'de', 'ig'), \n",
    "                        (de_metrics, gnne_metrics, \n",
    "                        gm_metrics, de_metrics, ig_metrics)):\n",
    "    \n",
    "    print(name + \" softmask:\")\n",
    "    fp, fn = metric['softmask fidelity']\n",
    "    c=  characterization_score(fp, fn) if fp*fn > 0 else 0\n",
    "    print(f' fidelity+ {fp:.4f}\\n fidelity- {fn:.4f}\\n characterisation {c:.4f}\\n')"
   ]
  }
 ],
 "metadata": {
  "kernelspec": {
   "display_name": "venv",
   "language": "python",
   "name": "python3"
  },
  "language_info": {
   "codemirror_mode": {
    "name": "ipython",
    "version": 3
   },
   "file_extension": ".py",
   "mimetype": "text/x-python",
   "name": "python",
   "nbconvert_exporter": "python",
   "pygments_lexer": "ipython3",
   "version": "3.11.2"
  }
 },
 "nbformat": 4,
 "nbformat_minor": 5
}
