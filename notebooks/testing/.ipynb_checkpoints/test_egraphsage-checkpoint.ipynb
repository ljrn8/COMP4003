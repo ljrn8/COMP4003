{
 "cells": [
  {
   "cell_type": "code",
   "execution_count": 9,
   "id": "183ddd9b",
   "metadata": {},
   "outputs": [],
   "source": [
    "from EGraphSAGE import Model, train\n",
    "import pickle\n",
    "import numpy as np\n",
    "import torch.nn as nn\n",
    "import torch as th\n",
    "import torch.nn.functional as F\n",
    "import networkx as nx"
   ]
  },
  {
   "cell_type": "code",
   "execution_count": 11,
   "id": "c944cf19",
   "metadata": {},
   "outputs": [
    {
     "name": "stdout",
     "output_type": "stream",
     "text": [
      "loaded graph\n"
     ]
    }
   ],
   "source": [
    "with open(\"../../interm/NF_unsw_nb15_flowgraph.pkl\", \"rb\") as f:\n",
    "    G = pickle.load(f)\n",
    "    print('loaded graph')"
   ]
  },
  {
   "cell_type": "code",
   "execution_count": null,
   "id": "54244ede-55b3-4bee-b0c6-8cdb461d529a",
   "metadata": {},
   "outputs": [],
   "source": [
    "# TODO: fix dgl for this to work ?\n",
    "from dgl import from_networkx \n",
    "G = from_networkx(G, edge_attrs=['h', 'Attack'])\n",
    "# TODO, reimport as DGL graph not networkx graph\n",
    "\n",
    "# G = G.from_networkx(G, edge_attrs=['h', 'Attack'])"
   ]
  },
  {
   "cell_type": "code",
   "execution_count": 12,
   "id": "718a7355",
   "metadata": {},
   "outputs": [
    {
     "ename": "AttributeError",
     "evalue": "'MultiGraph' object has no attribute 'ndata'",
     "output_type": "error",
     "traceback": [
      "\u001b[31m-------------------------------------------------\u001b[39m",
      "\u001b[31mAttributeError\u001b[39m  Traceback (most recent call last)",
      "\u001b[36mCell\u001b[39m\u001b[36m \u001b[39m\u001b[32mIn[12]\u001b[39m\u001b[32m, line 2\u001b[39m\n\u001b[32m      1\u001b[39m model = Model(\n\u001b[32m----> \u001b[39m\u001b[32m2\u001b[39m     ndim_in=\u001b[43mG\u001b[49m\u001b[43m.\u001b[49m\u001b[43mndata\u001b[49m[\u001b[33m'\u001b[39m\u001b[33mh\u001b[39m\u001b[33m'\u001b[39m].shape[\u001b[32m2\u001b[39m], \n\u001b[32m      3\u001b[39m     ndim_out=\u001b[32m128\u001b[39m, \n\u001b[32m      4\u001b[39m     edim=G.ndata[\u001b[33m'\u001b[39m\u001b[33mh\u001b[39m\u001b[33m'\u001b[39m].shape[\u001b[32m2\u001b[39m], \n\u001b[32m      5\u001b[39m     activation=F.relu, \n\u001b[32m      6\u001b[39m     dropout=\u001b[32m0.2\u001b[39m).cuda()\n\u001b[32m      8\u001b[39m \u001b[38;5;28mprint\u001b[39m(model)\n",
      "\u001b[31mAttributeError\u001b[39m: 'MultiGraph' object has no attribute 'ndata'"
     ]
    }
   ],
   "source": [
    "model = Model(\n",
    "    ndim_in=G.ndata['h'].shape[2], \n",
    "    ndim_out=128, \n",
    "    edim=G.ndata['h'].shape[2], \n",
    "    activation=F.relu, \n",
    "    dropout=0.2).cuda()\n",
    "\n",
    "print(model)"
   ]
  },
  {
   "cell_type": "code",
   "execution_count": null,
   "id": "99ead89f",
   "metadata": {},
   "outputs": [],
   "source": [
    "l = len(G.edges)\n",
    "tr = int(l * 0.8)\n",
    "o = l - tr\n",
    "train_mask = np.concatenate((np.ones(tr), np.zeros(o)))\n",
    "valid = int(o*0.5)\n",
    "valid_mask = np.concatenate((np.zeros(tr), np.ones(valid), np.zeros(o - valid)))\n",
    "\n",
    "train(G, model, train_mask, valid_mask, epochs=2, test_acc=True)"
   ]
  },
  {
   "cell_type": "code",
   "execution_count": null,
   "id": "6400d3d5-1a11-4302-9ddd-9c50e87e32ad",
   "metadata": {},
   "outputs": [],
   "source": []
  }
 ],
 "metadata": {
  "kernelspec": {
   "display_name": "Python 3 (ipykernel)",
   "language": "python",
   "name": "python3"
  },
  "language_info": {
   "codemirror_mode": {
    "name": "ipython",
    "version": 3
   },
   "file_extension": ".py",
   "mimetype": "text/x-python",
   "name": "python",
   "nbconvert_exporter": "python",
   "pygments_lexer": "ipython3",
   "version": "3.12.0"
  }
 },
 "nbformat": 4,
 "nbformat_minor": 5
}
