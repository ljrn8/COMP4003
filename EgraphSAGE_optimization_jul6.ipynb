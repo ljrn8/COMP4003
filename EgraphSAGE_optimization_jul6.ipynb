{
 "cells": [
  {
   "cell_type": "code",
   "execution_count": null,
   "id": "94168971",
   "metadata": {},
   "outputs": [],
   "source": [
    "from EGraphSAGE import Model, compute_accuracy, train\n",
    "import pickle\n",
    "import dgl\n",
    "import torch as th\n",
    "import os\n",
    "from pathlib import Path\n",
    "from tqdm import tqdm\n",
    "import numpy as np\n",
    "import pandas as pd"
   ]
  },
  {
   "cell_type": "code",
   "execution_count": 17,
   "id": "24b6cb8a",
   "metadata": {},
   "outputs": [
    {
     "data": {
      "text/plain": [
       "['IPV4_SRC_ADDR',\n",
       " 'IPV4_DST_ADDR',\n",
       " 'L4_SRC_PORT',\n",
       " 'L4_DST_PORT',\n",
       " 'PROTOCOL',\n",
       " 'L7_PROTO',\n",
       " 'IN_BYTES',\n",
       " 'OUT_BYTES',\n",
       " 'IN_PKTS',\n",
       " 'OUT_PKTS',\n",
       " 'FLOW_DURATION_MILLISECONDS',\n",
       " 'TCP_FLAGS',\n",
       " 'CLIENT_TCP_FLAGS',\n",
       " 'SERVER_TCP_FLAGS',\n",
       " 'DURATION_IN',\n",
       " 'DURATION_OUT',\n",
       " 'MIN_TTL',\n",
       " 'MAX_TTL',\n",
       " 'LONGEST_FLOW_PKT',\n",
       " 'SHORTEST_FLOW_PKT',\n",
       " 'MIN_IP_PKT_LEN',\n",
       " 'MAX_IP_PKT_LEN',\n",
       " 'SRC_TO_DST_SECOND_BYTES',\n",
       " 'DST_TO_SRC_SECOND_BYTES',\n",
       " 'RETRANSMITTED_IN_BYTES',\n",
       " 'RETRANSMITTED_IN_PKTS',\n",
       " 'RETRANSMITTED_OUT_BYTES',\n",
       " 'RETRANSMITTED_OUT_PKTS',\n",
       " 'SRC_TO_DST_AVG_THROUGHPUT',\n",
       " 'DST_TO_SRC_AVG_THROUGHPUT',\n",
       " 'NUM_PKTS_UP_TO_128_BYTES',\n",
       " 'NUM_PKTS_128_TO_256_BYTES',\n",
       " 'NUM_PKTS_256_TO_512_BYTES',\n",
       " 'NUM_PKTS_512_TO_1024_BYTES',\n",
       " 'NUM_PKTS_1024_TO_1514_BYTES',\n",
       " 'TCP_WIN_MAX_IN',\n",
       " 'TCP_WIN_MAX_OUT',\n",
       " 'ICMP_TYPE',\n",
       " 'ICMP_IPV4_TYPE',\n",
       " 'DNS_QUERY_ID',\n",
       " 'DNS_QUERY_TYPE',\n",
       " 'DNS_TTL_ANSWER',\n",
       " 'FTP_COMMAND_RET_CODE',\n",
       " 'FLOW_START_MILLISECONDS',\n",
       " 'FLOW_END_MILLISECONDS',\n",
       " 'SRC_TO_DST_IAT_MIN                ',\n",
       " 'SRC_TO_DST_IAT_MAX                ',\n",
       " 'SRC_TO_DST_IAT_AVG                ',\n",
       " 'SRC_TO_DST_IAT_STDDEV             ',\n",
       " 'DST_TO_SRC_IAT_MIN                ',\n",
       " 'DST_TO_SRC_IAT_MAX                ',\n",
       " 'DST_TO_SRC_IAT_AVG                ',\n",
       " 'DST_TO_SRC_IAT_STDDEV             ']"
      ]
     },
     "execution_count": 17,
     "metadata": {},
     "output_type": "execute_result"
    }
   ],
   "source": [
    "features_df = pd.read_csv('raw/NetFlow_v3_Features.csv')\n",
    "features = list(features_df.Feature)\n",
    "features"
   ]
  },
  {
   "cell_type": "code",
   "execution_count": 18,
   "id": "63916e68",
   "metadata": {},
   "outputs": [],
   "source": [
    "classes = pd.read_csv('raw/NF-ToN-IoT-v3.csv', dtype='category', usecols=['Attack'])"
   ]
  },
  {
   "cell_type": "code",
   "execution_count": 30,
   "id": "0014723a",
   "metadata": {},
   "outputs": [
    {
     "data": {
      "text/plain": [
       "array(['Benign', 'scanning', 'dos', 'injection', 'ddos', 'password',\n",
       "       'xss', 'ransomware', 'Backdoor', 'mitm'], dtype=object)"
      ]
     },
     "execution_count": 30,
     "metadata": {},
     "output_type": "execute_result"
    }
   ],
   "source": [
    "c = classes['Attack']\n",
    "np.array(c.unique())"
   ]
  },
  {
   "cell_type": "code",
   "execution_count": null,
   "id": "42d7ab92",
   "metadata": {},
   "outputs": [],
   "source": [
    "from sklearn.utils import class_weight \n",
    "from torch import nn\n",
    "\n",
    "# weighted cross entropy loss\n",
    "class_weights = class_weight.compute_class_weight(\n",
    "           class_weight= 'balanced',\n",
    "            classes=np.array(c.unique()),\n",
    "            y=c)\n",
    "\n",
    "class_weights = th.FloatTensor(class_weights)\n",
    "criterion = nn.CrossEntropyLoss(weight = class_weights)"
   ]
  },
  {
   "cell_type": "code",
   "execution_count": 49,
   "id": "af917157",
   "metadata": {},
   "outputs": [],
   "source": [
    "def get_edge_masks(l, train_split=0.8, valid_test_split=0.5):\n",
    "    tr = int(l * train_split)\n",
    "    o = l - tr\n",
    "    edge_train_mask = np.concatenate((np.ones(tr), np.zeros(o)))\n",
    "    valid = int(o*valid_test_split)\n",
    "    edge_valid_mask = np.concatenate((np.zeros(tr), np.ones(valid), np.zeros(o - valid)))\n",
    "    edge_test_mask = ~np.array(edge_train_mask + edge_valid_mask, dtype=bool)\n",
    "    return edge_train_mask, edge_valid_mask, edge_test_mask"
   ]
  },
  {
   "cell_type": "code",
   "execution_count": 59,
   "id": "2b0baad9",
   "metadata": {},
   "outputs": [],
   "source": [
    "import torch\n",
    "from torch.utils.data import Dataset\n",
    "import pickle\n",
    "from dgl.dataloading import GraphDataLoader\n",
    "\n",
    "class GraphDataset(Dataset):\n",
    "    def __init__(self, file_paths):\n",
    "        self.file_paths = file_paths\n",
    "\n",
    "    def __len__(self):\n",
    "        # return len(self.file_paths)\n",
    "        return 2 # !\n",
    "\n",
    "    def __getitem__(self, idx):\n",
    "        with open(self.file_paths[idx], 'rb') as f:\n",
    "            data = pickle.load(f)\n",
    "        return data\n",
    "    \n",
    "p =  './interm/NF-IoT flowgraphs/'\n",
    "dataset = GraphDataset([p + f for f in os.listdir(p)])  \n",
    "loader = GraphDataLoader(dataset, batch_size=1, shuffle=True)    "
   ]
  },
  {
   "cell_type": "code",
   "execution_count": null,
   "id": "208f0c5f",
   "metadata": {},
   "outputs": [
    {
     "name": "stderr",
     "output_type": "stream",
     "text": [
      "/home/taznk/NIDS-HPO/venv/lib/python3.11/site-packages/torch/storage.py:414: FutureWarning: You are using `torch.load` with `weights_only=False` (the current default value), which uses the default pickle module implicitly. It is possible to construct malicious pickle data which will execute arbitrary code during unpickling (See https://github.com/pytorch/pytorch/blob/main/SECURITY.md#untrusted-models for more details). In a future release, the default value for `weights_only` will be flipped to `True`. This limits the functions that could be executed during unpickling. Arbitrary objects will no longer be allowed to be loaded via this mode unless they are explicitly allowlisted by the user via `torch.serialization.add_safe_globals`. We recommend you start setting `weights_only=True` for any use case where you don't have full control of the loaded file. Please open an issue on GitHub for any issues related to this experimental feature.\n",
      "  return torch.load(io.BytesIO(b))\n"
     ]
    },
    {
     "name": "stdout",
     "output_type": "stream",
     "text": [
      "epoch 1/2\n"
     ]
    },
    {
     "name": "stderr",
     "output_type": "stream",
     "text": [
      "100%|██████████| 2/2 [00:07<00:00,  3.58s/it]\n"
     ]
    },
    {
     "name": "stdout",
     "output_type": "stream",
     "text": [
      "tensor([0, 0, 1,  ..., 1, 1, 1])\n"
     ]
    },
    {
     "ename": "IndexError",
     "evalue": "tuple index out of range",
     "output_type": "error",
     "traceback": [
      "\u001b[31m---------------------------------------------------------------------------\u001b[39m",
      "\u001b[31mIndexError\u001b[39m                                Traceback (most recent call last)",
      "\u001b[36mCell\u001b[39m\u001b[36m \u001b[39m\u001b[32mIn[63]\u001b[39m\u001b[32m, line 77\u001b[39m\n\u001b[32m     75\u001b[39m \u001b[38;5;28;01mfor\u001b[39;00m epoch \u001b[38;5;129;01min\u001b[39;00m \u001b[38;5;28mrange\u001b[39m(\u001b[32m2\u001b[39m):\n\u001b[32m     76\u001b[39m     \u001b[38;5;28mprint\u001b[39m(\u001b[33mf\u001b[39m\u001b[33m'\u001b[39m\u001b[33mepoch \u001b[39m\u001b[38;5;132;01m{\u001b[39;00mepoch+\u001b[32m1\u001b[39m\u001b[38;5;132;01m}\u001b[39;00m\u001b[33m/2\u001b[39m\u001b[33m'\u001b[39m)\n\u001b[32m---> \u001b[39m\u001b[32m77\u001b[39m     valid_metrics, test_metrics = \u001b[43mtrain_one_epoch\u001b[49m\u001b[43m(\u001b[49m\n\u001b[32m     78\u001b[39m \u001b[43m        \u001b[49m\u001b[43mmodel\u001b[49m\u001b[43m=\u001b[49m\u001b[43mModel\u001b[49m\u001b[43m(\u001b[49m\n\u001b[32m     79\u001b[39m \u001b[43m            \u001b[49m\u001b[43mndim_in\u001b[49m\u001b[43m=\u001b[49m\u001b[43mG\u001b[49m\u001b[43m.\u001b[49m\u001b[43mndata\u001b[49m\u001b[43m[\u001b[49m\u001b[33;43m'\u001b[39;49m\u001b[33;43mh\u001b[39;49m\u001b[33;43m'\u001b[39;49m\u001b[43m]\u001b[49m\u001b[43m.\u001b[49m\u001b[43mshape\u001b[49m\u001b[43m[\u001b[49m\u001b[32;43m2\u001b[39;49m\u001b[43m]\u001b[49m\u001b[43m,\u001b[49m\u001b[43m \u001b[49m\n\u001b[32m     80\u001b[39m \u001b[43m            \u001b[49m\u001b[43mndim_out\u001b[49m\u001b[43m=\u001b[49m\u001b[32;43m128\u001b[39;49m\u001b[43m,\u001b[49m\u001b[43m \u001b[49m\n\u001b[32m     81\u001b[39m \u001b[43m            \u001b[49m\u001b[43medim\u001b[49m\u001b[43m=\u001b[49m\u001b[43mG\u001b[49m\u001b[43m.\u001b[49m\u001b[43mndata\u001b[49m\u001b[43m[\u001b[49m\u001b[33;43m'\u001b[39;49m\u001b[33;43mh\u001b[39;49m\u001b[33;43m'\u001b[39;49m\u001b[43m]\u001b[49m\u001b[43m.\u001b[49m\u001b[43mshape\u001b[49m\u001b[43m[\u001b[49m\u001b[32;43m2\u001b[39;49m\u001b[43m]\u001b[49m\u001b[43m,\u001b[49m\u001b[43m \u001b[49m\n\u001b[32m     82\u001b[39m \u001b[43m            \u001b[49m\u001b[43mactivation\u001b[49m\u001b[43m=\u001b[49m\u001b[43mF\u001b[49m\u001b[43m.\u001b[49m\u001b[43mrelu\u001b[49m\u001b[43m,\u001b[49m\u001b[43m \u001b[49m\n\u001b[32m     83\u001b[39m \u001b[43m            \u001b[49m\u001b[43mdropout\u001b[49m\u001b[43m=\u001b[49m\u001b[32;43m0.2\u001b[39;49m\n\u001b[32m     84\u001b[39m \u001b[43m        \u001b[49m\u001b[43m)\u001b[49m\u001b[43m,\u001b[49m\n\u001b[32m     85\u001b[39m \u001b[43m        \u001b[49m\u001b[43mloader\u001b[49m\u001b[43m=\u001b[49m\u001b[43mloader\u001b[49m\u001b[43m,\u001b[49m\n\u001b[32m     86\u001b[39m \u001b[43m        \u001b[49m\u001b[43mcriterion\u001b[49m\u001b[43m=\u001b[49m\u001b[43mcriterion\u001b[49m\n\u001b[32m     87\u001b[39m \n\u001b[32m     88\u001b[39m \u001b[43m    \u001b[49m\u001b[43m)\u001b[49m\n\u001b[32m     90\u001b[39m     \u001b[38;5;28mprint\u001b[39m(valid_metrics, test_metrics)\n\u001b[32m     93\u001b[39m \u001b[38;5;66;03m# TODO\u001b[39;00m\n\u001b[32m     94\u001b[39m \u001b[38;5;66;03m# need GCP GPU \u001b[39;00m\n",
      "\u001b[36mCell\u001b[39m\u001b[36m \u001b[39m\u001b[32mIn[63]\u001b[39m\u001b[32m, line 53\u001b[39m, in \u001b[36mtrain_one_epoch\u001b[39m\u001b[34m(model, loader, criterion)\u001b[39m\n\u001b[32m     51\u001b[39m \u001b[38;5;28;01mfor\u001b[39;00m i, c \u001b[38;5;129;01min\u001b[39;00m \u001b[38;5;28menumerate\u001b[39m(targets):\n\u001b[32m     52\u001b[39m     \u001b[38;5;28mprint\u001b[39m(all_labels)\n\u001b[32m---> \u001b[39m\u001b[32m53\u001b[39m     \u001b[38;5;28;01massert\u001b[39;00m all_labels.shape[\u001b[32m0\u001b[39m] < \u001b[43mall_labels\u001b[49m\u001b[43m.\u001b[49m\u001b[43mshape\u001b[49m\u001b[43m[\u001b[49m\u001b[32;43m1\u001b[39;49m\u001b[43m]\u001b[49m, \u001b[33m'\u001b[39m\u001b[33mwrong shape\u001b[39m\u001b[33m'\u001b[39m\n\u001b[32m     54\u001b[39m     y_true = all_labels[i, :][mask]\n\u001b[32m     55\u001b[39m     y_pred = all_preds[i, :][mask]\n",
      "\u001b[31mIndexError\u001b[39m: tuple index out of range"
     ]
    }
   ],
   "source": [
    "from sklearn.metrics import precision_recall_fscore_support, accuracy_score\n",
    "import torch.nn.functional as F\n",
    "from tqdm import tqdm\n",
    "\n",
    "def train_one_epoch(model, loader, criterion):\n",
    "    optimizer = th.optim.Adam(model.parameters())\n",
    "    \n",
    "    model.train()\n",
    "    \n",
    "    valid_masks = []\n",
    "    test_masks = []\n",
    "    all_preds = []\n",
    "    all_labels = []\n",
    "\n",
    "    for G in tqdm(loader):\n",
    "        # batch = batch.to(device)\n",
    "        \n",
    "        train_mask, valid_mask, test_mask = get_edge_masks(len(G.edata['h']))\n",
    "        \n",
    "        G.ndata['h'] = th.ones(G.num_nodes(), G.edata['h'].shape[1])\n",
    "        G.ndata['h'] = th.reshape(G.ndata['h'], (G.ndata['h'].shape[0], 1,G.ndata['h'].shape[1]))\n",
    "        G.edata['h'] = th.reshape(G.edata['h'], (G.edata['h'].shape[0], 1,G.edata['h'].shape[1]))\n",
    "        node_features = G.ndata['h']\n",
    "        edge_features = G.edata['h']\n",
    "        edge_label = G.edata['Attack'] # ! label encoded not 1he\n",
    "\n",
    "        optimizer.zero_grad()\n",
    "        pred = model(G, node_features, edge_features)\n",
    "        loss = criterion(pred[train_mask], edge_label[train_mask])\n",
    "        loss.backward()\n",
    "        optimizer.step()\n",
    "\n",
    "        test_masks.append(test_mask)\n",
    "        valid_masks.append(valid_mask)\n",
    "        all_preds.append(pred.cpu())\n",
    "        all_labels.append(edge_label.cpu())\n",
    "\n",
    "\n",
    "    # Metrics\n",
    "    test_masks = np.concatenate(test_masks)\n",
    "    valid_masks = np.concatenate(valid_masks)\n",
    "    all_preds = th.cat(all_preds)\n",
    "    all_labels = th.cat(all_labels)\n",
    "    \n",
    "    validation_m, test_m = {}, {}\n",
    "    targets = list(classes['Attack'].unique())\n",
    "    \n",
    "    for metrics, mask in zip(\n",
    "        (validation_m, test_m), (valid_mask, test_mask)\n",
    "    ):\n",
    "        for i, c in enumerate(targets):\n",
    "            print(all_labels)\n",
    "            assert all_labels.shape[0] < all_labels.shape[1], 'wrong shape'\n",
    "            y_true = all_labels[i, :][mask]\n",
    "            y_pred = all_preds[i, :][mask]\n",
    "            \n",
    "            acc = accuracy_score(y_true, y_pred)\n",
    "            precision, recall, f1, _ = precision_recall_fscore_support(\n",
    "                y_true, y_pred, \n",
    "                # labels=range(10), \n",
    "                zero_division=0)\n",
    "            \n",
    "            metrics[c] = (acc, precision, recall, f1)\n",
    "        \n",
    "    return validation_m, test_m\n",
    "\n",
    "\n",
    "with open('interm/NF-IoT flowgraphs/0.pkl', 'rb') as f:\n",
    "    G = pickle.load(f)      \n",
    "    \n",
    "G.ndata['h'] = th.ones(G.num_nodes(), G.edata['h'].shape[1])\n",
    "G.ndata['h'] = th.reshape(G.ndata['h'], (G.ndata['h'].shape[0], 1,G.ndata['h'].shape[1]))\n",
    "G.edata['h'] = th.reshape(G.edata['h'], (G.edata['h'].shape[0], 1,G.edata['h'].shape[1]))\n",
    "            \n",
    "for epoch in range(2):\n",
    "    print(f'epoch {epoch+1}/2')\n",
    "    valid_metrics, test_metrics = train_one_epoch(\n",
    "        model=Model(\n",
    "            ndim_in=G.ndata['h'].shape[2], \n",
    "            ndim_out=128, \n",
    "            edim=G.ndata['h'].shape[2], \n",
    "            activation=F.relu, \n",
    "            dropout=0.2\n",
    "        ),\n",
    "        loader=loader,\n",
    "        criterion=criterion\n",
    "        \n",
    "    )\n",
    "    \n",
    "    print(valid_metrics, test_metrics)\n",
    "    \n",
    "    \n",
    "# TODO\n",
    "# stop what your doing, expected perfomance on NF-ToN is ~0.99. Why HPO\n",
    "# need GCP GPU "
   ]
  }
 ],
 "metadata": {
  "kernelspec": {
   "display_name": "venv",
   "language": "python",
   "name": "python3"
  },
  "language_info": {
   "codemirror_mode": {
    "name": "ipython",
    "version": 3
   },
   "file_extension": ".py",
   "mimetype": "text/x-python",
   "name": "python",
   "nbconvert_exporter": "python",
   "pygments_lexer": "ipython3",
   "version": "3.11.2"
  }
 },
 "nbformat": 4,
 "nbformat_minor": 5
}
