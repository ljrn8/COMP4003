{
 "cells": [
  {
   "cell_type": "code",
   "execution_count": 1,
   "id": "f4acf858",
   "metadata": {},
   "outputs": [
    {
     "name": "stderr",
     "output_type": "stream",
     "text": [
      "/home/taznk/COMP4003/venv/lib/python3.11/site-packages/tqdm/auto.py:21: TqdmWarning: IProgress not found. Please update jupyter and ipywidgets. See https://ipywidgets.readthedocs.io/en/stable/user_install.html\n",
      "  from .autonotebook import tqdm as notebook_tqdm\n"
     ]
    }
   ],
   "source": [
    "%load_ext autoreload\n",
    "%autoreload 2\n",
    "\n",
    "import pandas as pd\n",
    "import numpy as np\n",
    "import dgl\n",
    "from sklearn.preprocessing import LabelEncoder, StandardScaler\n",
    "import h5py\n",
    "import networkx as nx \n",
    "from torch_geometric.utils.convert import from_dgl\n",
    "import dask.dataframe as dd\n"
   ]
  },
  {
   "cell_type": "code",
   "execution_count": 2,
   "id": "581d1380",
   "metadata": {},
   "outputs": [],
   "source": [
    "import dgl\n",
    "import numpy as np\n",
    "\n",
    "def get_batch(data):\n",
    "    all_data = data.copy()\n",
    "    while len(all_data) > 0:\n",
    "        if len(all_data) >= 5000:\n",
    "            batch = all_data.sample(5000)\n",
    "            all_data = all_data.drop(batch.index)\n",
    "            yield batch\n",
    "        else:\n",
    "            batch = all_data.copy()\n",
    "            all_data = all_data.drop(batch.index)\n",
    "            yield batch\n",
    "            \n",
    "def to_graph(data):\n",
    "    G = nx.from_pandas_edgelist(data, source='src', \n",
    "                                target='dst', \n",
    "                                edge_attr=['x', 'Attack'], \n",
    "                                create_using=nx.MultiGraph())\n",
    "    \n",
    "    G = G.to_directed()\n",
    "    # NOTE paper also uses 'i' index for each node as an identifier\n",
    "    g = dgl.from_networkx(G, edge_attrs=[ 'x', 'Attack'])\n",
    "    g = g.line_graph(shared=True)\n",
    "    return from_dgl(g) "
   ]
  },
  {
   "cell_type": "code",
   "execution_count": 3,
   "id": "9d0d2e90",
   "metadata": {},
   "outputs": [
    {
     "data": {
      "text/plain": [
       "49"
      ]
     },
     "execution_count": 3,
     "metadata": {},
     "output_type": "execute_result"
    }
   ],
   "source": [
    "data = pd.read_csv('interm/BoT-processed_flows.csv')\n",
    "data = data.drop('Unnamed: 0', axis=1)\n",
    "attrs = [c for c in data.columns if c not in (\"src\", \"dst\", \"Attack\", \"x\")]\n",
    "data['x'] = data[attrs].values.tolist()\n",
    "len(data['x'][0])"
   ]
  },
  {
   "cell_type": "code",
   "execution_count": 5,
   "id": "55035f0b",
   "metadata": {},
   "outputs": [
    {
     "data": {
      "text/plain": [
       "(59516, 14880)"
      ]
     },
     "execution_count": 5,
     "metadata": {},
     "output_type": "execute_result"
    }
   ],
   "source": [
    "from sklearn.model_selection import train_test_split\n",
    "\n",
    "train, test = train_test_split(data, train_size=0.8, random_state=0)\n",
    "len(train), len(test)"
   ]
  },
  {
   "cell_type": "code",
   "execution_count": 6,
   "id": "c855b1e2",
   "metadata": {},
   "outputs": [],
   "source": [
    "train.to_csv('interm/BoT_train.csv', index=False)\n",
    "test.to_csv('interm/BoT_test.csv', index=False)"
   ]
  },
  {
   "cell_type": "code",
   "execution_count": null,
   "id": "0703866d",
   "metadata": {},
   "outputs": [
    {
     "name": "stderr",
     "output_type": "stream",
     "text": [
      "0it [00:00, ?it/s]"
     ]
    },
    {
     "name": "stderr",
     "output_type": "stream",
     "text": [
      "15it [00:20,  1.34s/it]\n",
      "3it [00:03,  1.24s/it]\n"
     ]
    },
    {
     "data": {
      "text/plain": [
       "(np.float64(13.967396035790443), tensor(0.6524))"
      ]
     },
     "execution_count": 9,
     "metadata": {},
     "output_type": "execute_result"
    }
   ],
   "source": [
    "import torch\n",
    "import torch.nn.functional as F\n",
    "from tqdm import tqdm\n",
    "from torch_geometric.nn.models.basic_gnn import GraphSAGE\n",
    "\n",
    "device = 'cpu'\n",
    "\n",
    "model = GraphSAGE(\n",
    "    49,\n",
    "    hidden_channels=256,\n",
    "    out_channels=5,\n",
    "    num_layers=3,\n",
    ").to(device)\n",
    "\n",
    "optimizer = torch.optim.Adam(model.parameters(), lr=0.01)\n",
    "\n",
    "def train_epoch(model, train, test):\n",
    "    model.train()\n",
    "    total_loss = 0\n",
    "    for batch in tqdm(get_batch(data)):\n",
    "        G = to_graph(batch)\n",
    "        \n",
    "        optimizer.zero_grad()\n",
    "        G = G.to(device)   \n",
    "        out= model(G.x.to(device), G.edge_index.to(device))\n",
    "        loss = F.cross_entropy(out, G.Attack)\n",
    "        total_loss += loss.item()\n",
    "        loss.backward()\n",
    "        optimizer.step()\n",
    "        \n",
    "    model.eval()\n",
    "    total_test_loss = 0\n",
    "    for batch in tqdm(get_batch(test)):\n",
    "        G = to_graph(batch)\n",
    "        \n",
    "        with torch.no_grad():\n",
    "            out = model(G.x.to(device), G.edge_index.to(device))\n",
    "            total_test_loss += F.cross_entropy(out, G.Attack)\n",
    "        \n",
    "    return total_loss / np.ceil(len(train) / 5000), total_test_loss / np.ceil(len(test) / 5000)\n",
    "\n",
    "\n",
    "loss, test_loss = train_epoch(model, train, test)\n",
    "loss, test_loss"
   ]
  },
  {
   "cell_type": "code",
   "execution_count": 13,
   "id": "a52c0208",
   "metadata": {},
   "outputs": [
    {
     "data": {
      "text/plain": [
       "{'L7_PROTO': LabelEncoder(),\n",
       " 'ICMP_TYPE': LabelEncoder(),\n",
       " 'ICMP_IPV4_TYPE': LabelEncoder(),\n",
       " 'DNS_QUERY_TYPE': LabelEncoder(),\n",
       " 'FTP_COMMAND_RET_CODE': LabelEncoder(),\n",
       " 'Attack': LabelEncoder()}"
      ]
     },
     "execution_count": 13,
     "metadata": {},
     "output_type": "execute_result"
    }
   ],
   "source": [
    "import pickle\n",
    "\n",
    "with open('interm/label_encoders.pkl', 'rb') as f:\n",
    "    encoders = pickle.load(f)\n",
    "    \n",
    "encoders"
   ]
  },
  {
   "cell_type": "code",
   "execution_count": 22,
   "id": "169f8a33",
   "metadata": {},
   "outputs": [
    {
     "name": "stdout",
     "output_type": "stream",
     "text": [
      "epoch: 1\n"
     ]
    },
    {
     "name": "stderr",
     "output_type": "stream",
     "text": [
      "0it [00:00, ?it/s]"
     ]
    },
    {
     "name": "stderr",
     "output_type": "stream",
     "text": [
      "15it [00:20,  1.34s/it]\n",
      "3it [00:03,  1.13s/it]\n"
     ]
    },
    {
     "name": "stdout",
     "output_type": "stream",
     "text": [
      "0.13213601149618626 tensor(0.1074)\n",
      "epoch: 2\n"
     ]
    },
    {
     "name": "stderr",
     "output_type": "stream",
     "text": [
      "15it [00:19,  1.32s/it]\n",
      "3it [00:03,  1.13s/it]\n"
     ]
    },
    {
     "name": "stdout",
     "output_type": "stream",
     "text": [
      "0.13628894835710526 tensor(0.1079)\n",
      "epoch: 3\n"
     ]
    },
    {
     "name": "stderr",
     "output_type": "stream",
     "text": [
      "15it [00:19,  1.32s/it]\n",
      "3it [00:03,  1.15s/it]\n"
     ]
    },
    {
     "name": "stdout",
     "output_type": "stream",
     "text": [
      "0.13566807409127554 tensor(0.1069)\n",
      "epoch: 4\n"
     ]
    },
    {
     "name": "stderr",
     "output_type": "stream",
     "text": [
      "15it [00:19,  1.31s/it]\n",
      "3it [00:03,  1.15s/it]\n"
     ]
    },
    {
     "name": "stdout",
     "output_type": "stream",
     "text": [
      "0.1334626618772745 tensor(0.1098)\n",
      "epoch: 5\n"
     ]
    },
    {
     "name": "stderr",
     "output_type": "stream",
     "text": [
      "15it [00:19,  1.30s/it]\n",
      "3it [00:03,  1.23s/it]\n"
     ]
    },
    {
     "name": "stdout",
     "output_type": "stream",
     "text": [
      "0.13429512021442255 tensor(0.1081)\n",
      "epoch: 6\n"
     ]
    },
    {
     "name": "stderr",
     "output_type": "stream",
     "text": [
      "15it [00:19,  1.31s/it]\n",
      "3it [00:03,  1.14s/it]\n"
     ]
    },
    {
     "name": "stdout",
     "output_type": "stream",
     "text": [
      "0.13289478359123072 tensor(0.1088)\n",
      "epoch: 7\n"
     ]
    },
    {
     "name": "stderr",
     "output_type": "stream",
     "text": [
      "15it [00:19,  1.31s/it]\n",
      "3it [00:03,  1.14s/it]\n"
     ]
    },
    {
     "name": "stdout",
     "output_type": "stream",
     "text": [
      "0.13428361217180887 tensor(0.1101)\n",
      "epoch: 8\n"
     ]
    },
    {
     "name": "stderr",
     "output_type": "stream",
     "text": [
      "15it [00:19,  1.30s/it]\n",
      "3it [00:03,  1.13s/it]\n"
     ]
    },
    {
     "name": "stdout",
     "output_type": "stream",
     "text": [
      "0.1318851305792729 tensor(0.1058)\n",
      "epoch: 9\n"
     ]
    },
    {
     "name": "stderr",
     "output_type": "stream",
     "text": [
      "15it [00:19,  1.31s/it]\n",
      "3it [00:03,  1.14s/it]\n"
     ]
    },
    {
     "name": "stdout",
     "output_type": "stream",
     "text": [
      "0.13067025256653628 tensor(0.1074)\n",
      "epoch: 10\n"
     ]
    },
    {
     "name": "stderr",
     "output_type": "stream",
     "text": [
      "15it [00:19,  1.33s/it]\n",
      "3it [00:03,  1.14s/it]\n"
     ]
    },
    {
     "name": "stdout",
     "output_type": "stream",
     "text": [
      "0.1307088639587164 tensor(0.1070)\n",
      "epoch: 11\n"
     ]
    },
    {
     "name": "stderr",
     "output_type": "stream",
     "text": [
      "15it [00:19,  1.33s/it]\n",
      "3it [00:03,  1.16s/it]\n"
     ]
    },
    {
     "name": "stdout",
     "output_type": "stream",
     "text": [
      "0.1305523787935575 tensor(0.1053)\n",
      "epoch: 12\n"
     ]
    },
    {
     "name": "stderr",
     "output_type": "stream",
     "text": [
      "15it [00:19,  1.32s/it]\n",
      "3it [00:03,  1.14s/it]\n"
     ]
    },
    {
     "name": "stdout",
     "output_type": "stream",
     "text": [
      "0.1311666052788496 tensor(0.1069)\n",
      "epoch: 13\n"
     ]
    },
    {
     "name": "stderr",
     "output_type": "stream",
     "text": [
      "15it [00:19,  1.33s/it]\n",
      "3it [00:03,  1.16s/it]\n"
     ]
    },
    {
     "name": "stdout",
     "output_type": "stream",
     "text": [
      "0.1292426772415638 tensor(0.1046)\n",
      "epoch: 14\n"
     ]
    },
    {
     "name": "stderr",
     "output_type": "stream",
     "text": [
      "15it [00:20,  1.34s/it]\n",
      "3it [00:03,  1.18s/it]\n"
     ]
    },
    {
     "name": "stdout",
     "output_type": "stream",
     "text": [
      "0.12918705493211746 tensor(0.1043)\n",
      "epoch: 15\n"
     ]
    },
    {
     "name": "stderr",
     "output_type": "stream",
     "text": [
      "15it [00:19,  1.31s/it]\n",
      "3it [00:03,  1.15s/it]"
     ]
    },
    {
     "name": "stdout",
     "output_type": "stream",
     "text": [
      "0.12956293486058712 tensor(0.1038)\n"
     ]
    },
    {
     "name": "stderr",
     "output_type": "stream",
     "text": [
      "\n"
     ]
    },
    {
     "data": {
      "image/png": "[encoded data removed]",
      "text/plain": [
       "<Figure size 640x480 with 1 Axes>"
      ]
     },
     "metadata": {},
     "output_type": "display_data"
    }
   ],
   "source": [
    "import matplotlib.pyplot as plt\n",
    "\n",
    "l, tl = [], []\n",
    "for epoch in range(15):\n",
    "    print(f'epoch: {epoch+1}')\n",
    "    loss, test_loss = train_epoch(model, train, test)\n",
    "    l.append(loss)\n",
    "    tl.append(test_loss)\n",
    "    print(loss, test_loss)\n",
    "    \n",
    "plt.plot(l)\n",
    "plt.plot(tl)\n",
    "plt.show()"
   ]
  },
  {
   "cell_type": "code",
   "execution_count": 19,
   "id": "ce7122d2",
   "metadata": {},
   "outputs": [
    {
     "data": {
      "image/png": "[encoded data removed]",
      "text/plain": [
       "<Figure size 640x480 with 1 Axes>"
      ]
     },
     "metadata": {},
     "output_type": "display_data"
    }
   ],
   "source": [
    "plt.plot(l)\n",
    "plt.plot(tl)\n",
    "plt.show()"
   ]
  },
  {
   "cell_type": "code",
   "execution_count": 23,
   "id": "21e23c0e",
   "metadata": {},
   "outputs": [
    {
     "data": {
      "image/png": "[encoded data removed]",
      "text/plain": [
       "<Figure size 640x480 with 1 Axes>"
      ]
     },
     "metadata": {},
     "output_type": "display_data"
    }
   ],
   "source": [
    "plt.plot(l)\n",
    "plt.plot(tl)\n",
    "plt.show()"
   ]
  },
  {
   "cell_type": "code",
   "execution_count": 24,
   "id": "396d363f",
   "metadata": {},
   "outputs": [
    {
     "data": {
      "text/plain": [
       "array(['Benign', 'DDoS', 'DoS', 'Reconnaissance'], dtype=object)"
      ]
     },
     "execution_count": 24,
     "metadata": {},
     "output_type": "execute_result"
    }
   ],
   "source": [
    "le = encoders['Attack']\n",
    "le.inverse_transform(list(range(4)))"
   ]
  },
  {
   "cell_type": "code",
   "execution_count": 25,
   "id": "f0a638e9",
   "metadata": {},
   "outputs": [
    {
     "name": "stderr",
     "output_type": "stream",
     "text": [
      "0it [00:00, ?it/s]"
     ]
    },
    {
     "name": "stderr",
     "output_type": "stream",
     "text": [
      "3it [00:03,  1.14s/it]"
     ]
    },
    {
     "name": "stdout",
     "output_type": "stream",
     "text": [
      "{0: array(['Benign'], dtype=object), 1: array(['DDoS'], dtype=object), 2: array(['DoS'], dtype=object), 3: array(['Reconnaissance'], dtype=object)}\n",
      "\n",
      "🧾 Classification Report:\n",
      "              precision    recall  f1-score   support\n",
      "\n",
      "           0     0.9919    0.9996    0.9957     22668\n",
      "           1     0.7217    0.7904    0.7545      2156\n",
      "           2     0.7626    0.6874    0.7231      2108\n",
      "           3     0.9953    0.9117    0.9517      2096\n",
      "           4     0.9946    0.9973    0.9959       732\n",
      "\n",
      "    accuracy                         0.9561     29760\n",
      "   macro avg     0.8932    0.8773    0.8842     29760\n",
      "weighted avg     0.9564    0.9561    0.9558     29760\n",
      "\n"
     ]
    },
    {
     "name": "stderr",
     "output_type": "stream",
     "text": [
      "\n"
     ]
    }
   ],
   "source": [
    "from sklearn.metrics import classification_report\n",
    "\n",
    "\n",
    "\n",
    "def evaluate(model, test, digits=4):\n",
    "    model.eval()\n",
    "    total_test_loss = 0\n",
    "    y_true = []\n",
    "    y_pred = []\n",
    "\n",
    "    with torch.no_grad():\n",
    "        for batch in tqdm(get_batch(test)):\n",
    "            G = to_graph(batch)\n",
    "        \n",
    "            G = G.to(device)\n",
    "            out = model(G.x, G.edge_index)\n",
    "            preds = out.argmax(dim=1)\n",
    "            \n",
    "            y_true.append(G.Attack.cpu())\n",
    "            y_pred.append(preds.cpu())\n",
    "            \n",
    "            total_test_loss += F.cross_entropy(out, G.Attack).item()\n",
    "            del batch\n",
    "\n",
    "    # Flatten all batches\n",
    "    y_true = torch.cat(y_true).numpy()\n",
    "    y_pred = torch.cat(y_pred).numpy()\n",
    "\n",
    "    return classification_report(y_true, y_pred, digits=digits)\n",
    "\n",
    "\n",
    "cr = evaluate(model, test)\n",
    "print({\n",
    "    d: le.inverse_transform([d])\n",
    "    for d in range(4)\n",
    "})\n",
    "print(\"\\n🧾 Classification Report:\")\n",
    "print(cr)"
   ]
  },
  {
   "cell_type": "code",
   "execution_count": 26,
   "id": "ea49bc0e",
   "metadata": {},
   "outputs": [],
   "source": [
    "import torch as th\n",
    "\n",
    "th.save(model.state_dict(), 'interm/GraphSAGE_BoTIoT.pth')"
   ]
  }
 ],
 "metadata": {
  "kernelspec": {
   "display_name": "venv",
   "language": "python",
   "name": "python3"
  },
  "language_info": {
   "codemirror_mode": {
    "name": "ipython",
    "version": 3
   },
   "file_extension": ".py",
   "mimetype": "text/x-python",
   "name": "python",
   "nbconvert_exporter": "python",
   "pygments_lexer": "ipython3",
   "version": "3.11.2"
  }
 },
 "nbformat": 4,
 "nbformat_minor": 5
}
